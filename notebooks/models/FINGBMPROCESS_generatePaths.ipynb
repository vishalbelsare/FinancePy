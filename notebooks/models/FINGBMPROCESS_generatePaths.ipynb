{
 "cells": [
  {
   "cell_type": "markdown",
   "metadata": {},
   "source": [
    "# MODEL GENERATION OF GBM RANDOM PATHS"
   ]
  },
  {
   "cell_type": "markdown",
   "metadata": {},
   "source": [
    "In this notebook I show how you can generate random paths according to a GBM"
   ]
  },
  {
   "cell_type": "code",
   "execution_count": 8,
   "metadata": {},
   "outputs": [],
   "source": [
    "import numpy as np\n",
    "import matplotlib.pyplot as plt"
   ]
  },
  {
   "cell_type": "code",
   "execution_count": 9,
   "metadata": {},
   "outputs": [],
   "source": [
    "from financepy.models.gbm_process_simulator import *"
   ]
  },
  {
   "cell_type": "markdown",
   "metadata": {},
   "source": [
    "## Single Asset"
   ]
  },
  {
   "cell_type": "markdown",
   "metadata": {},
   "source": [
    "We can generate time series for a single asset over time."
   ]
  },
  {
   "cell_type": "code",
   "execution_count": 11,
   "metadata": {},
   "outputs": [],
   "source": [
    "num_paths = 10000\n",
    "num_time_steps = 2\n",
    "t = 1.0\n",
    "mu = 0.03\n",
    "St=100.0\n",
    "vol = 0.2\n",
    "seed = 1912"
   ]
  },
  {
   "cell_type": "code",
   "execution_count": 12,
   "metadata": {},
   "outputs": [],
   "source": [
    "x = get_paths_times(num_paths,num_time_steps,t,mu,St,vol,seed)"
   ]
  },
  {
   "cell_type": "markdown",
   "metadata": {},
   "source": [
    "This can be plotted"
   ]
  },
  {
   "cell_type": "code",
   "execution_count": 13,
   "metadata": {},
   "outputs": [
    {
     "data": {
      "text/plain": [
       "(20000, 3)"
      ]
     },
     "execution_count": 13,
     "metadata": {},
     "output_type": "execute_result"
    }
   ],
   "source": [
    "x.shape"
   ]
  },
  {
   "cell_type": "markdown",
   "metadata": {},
   "source": [
    "The distribution at time zero is peaked at 100.0"
   ]
  },
  {
   "cell_type": "code",
   "execution_count": 14,
   "metadata": {},
   "outputs": [
    {
     "data": {
      "image/png": "[encoded data removed]",
      "text/plain": [
       "<Figure size 640x480 with 1 Axes>"
      ]
     },
     "metadata": {},
     "output_type": "display_data"
    }
   ],
   "source": [
    "plt.hist(x[:,0], 100);"
   ]
  },
  {
   "cell_type": "markdown",
   "metadata": {},
   "source": [
    "After a year there is a full lognormal distribution"
   ]
  },
  {
   "cell_type": "code",
   "execution_count": 15,
   "metadata": {},
   "outputs": [
    {
     "data": {
      "image/png": "[encoded data removed]",
      "text/plain": [
       "<Figure size 640x480 with 1 Axes>"
      ]
     },
     "metadata": {},
     "output_type": "display_data"
    }
   ],
   "source": [
    "plt.hist(x[:,1], 100);"
   ]
  },
  {
   "cell_type": "markdown",
   "metadata": {},
   "source": [
    "## Multiple Assets One Time"
   ]
  },
  {
   "cell_type": "code",
   "execution_count": 16,
   "metadata": {},
   "outputs": [],
   "source": [
    "num_assets = 2\n",
    "num_paths = 10000\n",
    "num_time_steps = 2\n",
    "t = 1.0\n",
    "mus = 0.03 * np.ones(num_assets)\n",
    "stock_prices = 100.0 * np.ones(num_assets)\n",
    "volatilities = 0.2 * np.ones(num_assets)\n",
    "rho = 0.9999\n",
    "corr_matrix = np.array([[1.0, rho],[rho, 1.0]])\n",
    "seed = 1912"
   ]
  },
  {
   "cell_type": "code",
   "execution_count": 17,
   "metadata": {},
   "outputs": [],
   "source": [
    "x = get_assets_paths(num_assets, num_paths, t,\n",
    "                   mus, stock_prices, volatilities,\n",
    "                   corr_matrix, seed)"
   ]
  },
  {
   "cell_type": "code",
   "execution_count": 18,
   "metadata": {},
   "outputs": [
    {
     "data": {
      "text/plain": [
       "(20000, 2)"
      ]
     },
     "execution_count": 18,
     "metadata": {},
     "output_type": "execute_result"
    }
   ],
   "source": [
    "x.shape"
   ]
  },
  {
   "cell_type": "code",
   "execution_count": 19,
   "metadata": {},
   "outputs": [
    {
     "data": {
      "text/plain": [
       "array([[177.55530639, 178.00024012],\n",
       "       [ 98.01446156,  98.5703073 ],\n",
       "       [122.594059  , 122.28616957],\n",
       "       ...,\n",
       "       [ 81.19405101,  81.2466739 ],\n",
       "       [129.68390628, 129.74501396],\n",
       "       [ 83.74783896,  83.33294683]])"
      ]
     },
     "execution_count": 19,
     "metadata": {},
     "output_type": "execute_result"
    }
   ],
   "source": [
    "x"
   ]
  },
  {
   "cell_type": "markdown",
   "metadata": {},
   "source": [
    "## Multiple Assets and Times"
   ]
  },
  {
   "cell_type": "code",
   "execution_count": 20,
   "metadata": {},
   "outputs": [],
   "source": [
    "num_assets = 2\n",
    "num_paths = 10000\n",
    "num_time_steps = 2\n",
    "t = 1.0\n",
    "mus = 0.03 * np.ones(num_assets)\n",
    "stock_prices = 100.0 * np.ones(num_assets)\n",
    "volatilities = 0.2 * np.ones(num_assets)\n",
    "rho = 0.3\n",
    "corr_matrix = np.array([[1.0, rho],[rho, 1.0]])\n",
    "seed = 1912"
   ]
  },
  {
   "cell_type": "code",
   "execution_count": 21,
   "metadata": {},
   "outputs": [
    {
     "data": {
      "text/plain": [
       "(array([0.03, 0.03]), array([100., 100.]), array([0.2, 0.2]))"
      ]
     },
     "execution_count": 21,
     "metadata": {},
     "output_type": "execute_result"
    }
   ],
   "source": [
    "mus, stock_prices, volatilities"
   ]
  },
  {
   "cell_type": "code",
   "execution_count": 22,
   "metadata": {},
   "outputs": [
    {
     "data": {
      "text/plain": [
       "array([[1. , 0.3],\n",
       "       [0.3, 1. ]])"
      ]
     },
     "execution_count": 22,
     "metadata": {},
     "output_type": "execute_result"
    }
   ],
   "source": [
    "corr_matrix"
   ]
  },
  {
   "cell_type": "code",
   "execution_count": 23,
   "metadata": {},
   "outputs": [],
   "source": [
    "x = get_assets_paths_times(num_assets, num_paths, num_time_steps, t,\n",
    "                   mus, stock_prices, volatilities,\n",
    "                   corr_matrix, seed)"
   ]
  },
  {
   "cell_type": "code",
   "execution_count": 24,
   "metadata": {},
   "outputs": [
    {
     "data": {
      "text/plain": [
       "(20000, 3, 2)"
      ]
     },
     "execution_count": 24,
     "metadata": {},
     "output_type": "execute_result"
    }
   ],
   "source": [
    "x.shape"
   ]
  },
  {
   "cell_type": "code",
   "execution_count": 25,
   "metadata": {},
   "outputs": [
    {
     "data": {
      "text/plain": [
       "array([[[100.        , 100.        ],\n",
       "        [ 98.38791532, 130.76293912],\n",
       "        [113.39649611, 121.56624422]],\n",
       "\n",
       "       [[100.        , 100.        ],\n",
       "        [122.73085817, 103.85874482],\n",
       "        [ 94.80993213,  91.09672743]],\n",
       "\n",
       "       [[100.        , 100.        ],\n",
       "        [ 92.99294116, 104.15982172],\n",
       "        [101.33438841, 103.86885503]],\n",
       "\n",
       "       ...,\n",
       "\n",
       "       [[100.        , 100.        ],\n",
       "        [ 84.43564014, 112.01112396],\n",
       "        [ 80.53857693, 135.91115838]],\n",
       "\n",
       "       [[100.        , 100.        ],\n",
       "        [110.01676438, 115.42047693],\n",
       "        [115.22905479,  99.58218223]],\n",
       "\n",
       "       [[100.        , 100.        ],\n",
       "        [116.01756008,  95.42216717],\n",
       "        [114.06612186, 122.72885293]]])"
      ]
     },
     "execution_count": 25,
     "metadata": {},
     "output_type": "execute_result"
    }
   ],
   "source": [
    "x"
   ]
  },
  {
   "cell_type": "code",
   "execution_count": 26,
   "metadata": {},
   "outputs": [
    {
     "data": {
      "image/png": "[encoded data removed]",
      "text/plain": [
       "<Figure size 640x480 with 1 Axes>"
      ]
     },
     "metadata": {},
     "output_type": "display_data"
    }
   ],
   "source": [
    "plt.hist(x[:,1], 100);"
   ]
  },
  {
   "cell_type": "markdown",
   "metadata": {},
   "source": [
    "Copyright (c) 2019, Dominic O'Kane "
   ]
  }
 ],
 "metadata": {
  "kernelspec": {
   "display_name": "Python 3",
   "language": "python",
   "name": "python3"
  },
  "language_info": {
   "codemirror_mode": {
    "name": "ipython",
    "version": 3
   },
   "file_extension": ".py",
   "mimetype": "text/x-python",
   "name": "python",
   "nbconvert_exporter": "python",
   "pygments_lexer": "ipython3",
   "version": "3.11.5"
  }
 },
 "nbformat": 4,
 "nbformat_minor": 2
}
