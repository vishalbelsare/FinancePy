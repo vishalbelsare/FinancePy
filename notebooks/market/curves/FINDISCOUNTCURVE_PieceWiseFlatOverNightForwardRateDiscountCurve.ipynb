{
 "cells": [
  {
   "cell_type": "markdown",
   "metadata": {},
   "source": [
    "# Examine the piecewise flat instantaneous (overnight, or ON) forward rate discount curve"
   ]
  },
  {
   "cell_type": "code",
   "execution_count": null,
   "metadata": {},
   "outputs": [],
   "source": [
    "%load_ext autoreload\n",
    "%autoreload 2"
   ]
  },
  {
   "cell_type": "code",
   "execution_count": null,
   "metadata": {},
   "outputs": [],
   "source": [
    "import numpy as np\n",
    "import matplotlib.pyplot as plt"
   ]
  },
  {
   "cell_type": "code",
   "execution_count": null,
   "metadata": {
    "tags": []
   },
   "outputs": [],
   "source": [
    "from financepy.utils import *\n",
    "from financepy.products.rates import *\n",
    "from financepy.market.curves import *\n",
    "from financepy.market.curves.discount_curve_pwf_onf import DiscountCurvePWFONF\n",
    "from financepy.market.curves.composite_discount_curve import CompositeDiscountCurve"
   ]
  },
  {
   "cell_type": "code",
   "execution_count": null,
   "metadata": {},
   "outputs": [],
   "source": [
    "valuation_date = Date(1, 1, 2015)"
   ]
  },
  {
   "cell_type": "markdown",
   "metadata": {},
   "source": [
    "We have a vector of dates and on fwd rates"
   ]
  },
  {
   "cell_type": "code",
   "execution_count": null,
   "metadata": {},
   "outputs": [],
   "source": [
    "knot_dates = [Date(1, 1, 2015), Date(1, 6, 2016), Date(1, 12, 2017), Date(1, 4, 2018), Date(1, 8, 2019)]\n",
    "knot_years = [DayCount(DayCountTypes.SIMPLE).year_frac(valuation_date, d)[0] for d in knot_dates]\n",
    "ondfwd_rates = [0, 0.02, 0.04, 0.06, 0.08]\n",
    "disc_curve = DiscountCurvePWFONF(valuation_date, knot_dates, ondfwd_rates)"
   ]
  },
  {
   "cell_type": "code",
   "execution_count": null,
   "metadata": {
    "tags": []
   },
   "outputs": [],
   "source": [
    "print(disc_curve)"
   ]
  },
  {
   "cell_type": "code",
   "execution_count": null,
   "metadata": {
    "tags": []
   },
   "outputs": [],
   "source": [
    "for dt in knot_dates:\n",
    "    df = disc_curve.df(dt)\n",
    "    print(dt, df)"
   ]
  },
  {
   "cell_type": "code",
   "execution_count": null,
   "metadata": {},
   "outputs": [],
   "source": [
    "%matplotlib widget\n",
    "\n",
    "tInterpValues = np.linspace(1/365, 5.0, int(5*365))\n",
    "interpDates = valuation_date.add_years(tInterpValues)\n",
    "fwdInterpValues = disc_curve.fwd(interpDates)\n",
    "zerosInterpValues = disc_curve.zero_rate(interpDates)\n",
    "\n",
    "\n",
    "plt.figure(figsize=(8, 6))\n",
    "plt.plot(knot_years, ondfwd_rates, 'o', label=\"Input onfwd rates\")\n",
    "plt.plot(tInterpValues, fwdInterpValues, color='r', label=\"Curve onfwd rates\")\n",
    "plt.plot(tInterpValues, zerosInterpValues, label=\"Curve zero rates\")\n",
    "plt.legend(loc = 'best')\n",
    "plt.show()"
   ]
  },
  {
   "cell_type": "markdown",
   "metadata": {},
   "source": [
    "### Create a bump curve and apply to the base curve"
   ]
  },
  {
   "cell_type": "markdown",
   "metadata": {},
   "source": [
    "First create a bump"
   ]
  },
  {
   "cell_type": "code",
   "execution_count": null,
   "metadata": {},
   "outputs": [],
   "source": [
    "bump_dates = [Date(1, 6, 2017), Date(1, 6, 2018), Date(2, 6, 2018)]\n",
    "# bump_years = [DayCount(DayCountTypes.SIMPLE).year_frac(valuation_date, d)[0] for d in bump_dates]\n",
    "bump_onfwd_rates = [0.0, 0.01, 0.00]\n",
    "bump_curve = DiscountCurvePWFONF(valuation_date, bump_dates, bump_onfwd_rates)"
   ]
  },
  {
   "cell_type": "markdown",
   "metadata": {},
   "source": [
    "Next apply the bump"
   ]
  },
  {
   "cell_type": "code",
   "execution_count": null,
   "metadata": {},
   "outputs": [],
   "source": [
    "bumped_curve = CompositeDiscountCurve([disc_curve, bump_curve])"
   ]
  },
  {
   "cell_type": "markdown",
   "metadata": {},
   "source": [
    "Now plot base and bumped"
   ]
  },
  {
   "cell_type": "code",
   "execution_count": null,
   "metadata": {},
   "outputs": [],
   "source": [
    "%matplotlib widget\n",
    "\n",
    "tInterpValues = np.linspace(1/365, 5.0, int(5*365))\n",
    "interpDates = valuation_date.add_years(tInterpValues)\n",
    "base_onfwd_rates = disc_curve.fwd(interpDates)\n",
    "base_zero_rates = disc_curve.zero_rate(interpDates)\n",
    "\n",
    "bump_onfwd_rates = bump_curve.fwd(interpDates)\n",
    "\n",
    "bumped_onfwd_rates = bumped_curve.fwd(interpDates)\n",
    "bumped_zero_rates = bumped_curve.zero_rate(interpDates)\n",
    "\n",
    "plt.figure(figsize=(8, 6))\n",
    "plt.plot(tInterpValues, base_onfwd_rates, label=\"Base onfwd rates\")\n",
    "plt.plot(tInterpValues, base_zero_rates, label=\"Base zero rates\")\n",
    "\n",
    "plt.plot(tInterpValues, bump_onfwd_rates, label=\"Bump to onfwd rates\")\n",
    "plt.plot(tInterpValues, bumped_onfwd_rates, label=\"Bumped onfwd rates\")\n",
    "plt.plot(tInterpValues, bumped_zero_rates, label=\"Bumped zero rates\")\n",
    "\n",
    "plt.legend(loc = 'best')\n",
    "plt.show()"
   ]
  },
  {
   "cell_type": "code",
   "execution_count": null,
   "metadata": {},
   "outputs": [],
   "source": []
  }
 ],
 "metadata": {
  "kernelspec": {
   "display_name": "Python 3.8.8 ('base')",
   "language": "python",
   "name": "python3"
  },
  "language_info": {
   "codemirror_mode": {
    "name": "ipython",
    "version": 3
   },
   "file_extension": ".py",
   "mimetype": "text/x-python",
   "name": "python",
   "nbconvert_exporter": "python",
   "pygments_lexer": "ipython3",
   "version": "3.8.10"
  },
  "vscode": {
   "interpreter": {
    "hash": "884e84ff39d63fe0ace972cf9e1d3c4cdda6aeb2574d79c9ad7eb0401c2936b7"
   }
  }
 },
 "nbformat": 4,
 "nbformat_minor": 4
}
