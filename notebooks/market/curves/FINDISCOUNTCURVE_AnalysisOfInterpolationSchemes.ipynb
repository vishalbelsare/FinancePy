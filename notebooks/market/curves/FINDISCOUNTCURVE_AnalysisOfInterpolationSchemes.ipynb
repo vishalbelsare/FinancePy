{
      "cells": [
            {
                  "cell_type": "markdown",
                  "metadata": {},
                  "source": [
                        "# Examination of Discount Curve Interpolation Schemes"
                  ]
            },
            {
                  "cell_type": "code",
                  "execution_count": null,
                  "metadata": {},
                  "outputs": [],
                  "source": [
                        "import numpy as np\n",
                        "import matplotlib.pyplot as plt"
                  ]
            },
            {
                  "cell_type": "code",
                  "execution_count": null,
                  "metadata": {},
                  "outputs": [],
                  "source": [
                        "from financepy.utils.date import Date\n",
                        "from financepy.market.curves.interpolator import interpolate, InterpTypes\n",
                        "from financepy.market.curves.discount_curve import DiscountCurve"
                  ]
            },
            {
                  "cell_type": "code",
                  "execution_count": null,
                  "metadata": {},
                  "outputs": [],
                  "source": [
                        "tValues = np.array([0.01, 3.0, 5.0, 10.0]) \n",
                        "rValues = np.array([0.04, 0.07, 0.08, 0.09])\n",
                        "df_values = np.exp(-tValues*rValues)\n",
                        "tInterpValues = np.linspace(0.01, 12.0, 200)"
                  ]
            },
            {
                  "cell_type": "code",
                  "execution_count": null,
                  "metadata": {},
                  "outputs": [],
                  "source": [
                        "print(tValues)\n",
                        "print(rValues)\n",
                        "print(df_values)"
                  ]
            },
            {
                  "cell_type": "code",
                  "execution_count": null,
                  "metadata": {},
                  "outputs": [],
                  "source": [
                        "curve_dt = Date(3, 1, 2019)\n",
                        "dates = curve_dt.add_years(tValues)\n",
                        "interpDates = curve_dt.add_years(tInterpValues)"
                  ]
            },
            {
                  "cell_type": "code",
                  "execution_count": null,
                  "metadata": {
                        "scrolled": false
                  },
                  "outputs": [],
                  "source": [
                        "for method in InterpTypes:\n",
                        "\n",
                        "    discount_curve = DiscountCurve(curve_dt, dates, df_values, method)\n",
                        "\n",
                        "    dfInterpValues = discount_curve.df(interpDates)\n",
                        "    fwdInterpValues = discount_curve.fwd(interpDates)\n",
                        "    zeroInterpValues = discount_curve.zero_rate(interpDates)\n",
                        "    \n",
                        "    plt.figure(figsize=(8, 6))\n",
                        "    plt.plot(tValues, df_values, 'o', color='g', label=\"DFS:\")\n",
                        "    plt.plot(tInterpValues, dfInterpValues, color='r', label=\"DF:\" + str(method))\n",
                        "    plt.legend()\n",
                        "\n",
                        "    plt.figure(figsize=(8, 6))\n",
                        "    plt.plot(tInterpValues, fwdInterpValues, color='r', label=\"FWD:\" + str(method))\n",
                        "    plt.plot(tInterpValues, zeroInterpValues, color='b', label=\"ZERO:\" + str(method))\n",
                        "    plt.plot(tValues, rValues, 'o', color='g',  label=\"ZERO RATES\")\n",
                        "    plt.legend()"
                  ]
            },
            {
                  "cell_type": "markdown",
                  "metadata": {},
                  "source": [
                        "Copyright (c) 2020 Dominic O'Kane"
                  ]
            },
            {
                  "cell_type": "code",
                  "execution_count": null,
                  "metadata": {},
                  "outputs": [],
                  "source": []
            }
      ],
      "metadata": {
            "kernelspec": {
                  "display_name": "Python 3.8.8 ('base')",
                  "language": "python",
                  "name": "python3"
            },
            "language_info": {
                  "codemirror_mode": {
                        "name": "ipython",
                        "version": 3
                  },
                  "file_extension": ".py",
                  "mimetype": "text/x-python",
                  "name": "python",
                  "nbconvert_exporter": "python",
                  "pygments_lexer": "ipython3",
                  "version": "3.8.10"
            },
            "vscode": {
                  "interpreter": {
                        "hash": "884e84ff39d63fe0ace972cf9e1d3c4cdda6aeb2574d79c9ad7eb0401c2936b7"
                  }
            }
      },
      "nbformat": 4,
      "nbformat_minor": 4
}
