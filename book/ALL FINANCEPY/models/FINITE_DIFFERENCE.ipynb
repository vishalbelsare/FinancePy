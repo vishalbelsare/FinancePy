{
 "cells": [
  {
   "cell_type": "markdown",
   "id": "f8e495bf",
   "metadata": {},
   "source": [
    "# Finite Difference Model"
   ]
  },
  {
   "cell_type": "markdown",
   "id": "54906ae9",
   "metadata": {},
   "source": [
    "Use Finite Difference method to value an option.\n",
    "\n",
    "The underlying code used is based on the fd_runner method [here](https://github.com/domokane/CompFin/blob/main/Week%204/xladdin/Utility/kBlack.cpp)"
   ]
  },
  {
   "cell_type": "code",
   "execution_count": 1,
   "id": "97541141",
   "metadata": {},
   "outputs": [
    {
     "name": "stdout",
     "output_type": "stream",
     "text": [
      "####################################################################\n",
      "# FINANCEPY BETA Version 0.33 - This build:  11 Nov 2023 at 07:07 #\n",
      "#     This software is distributed FREE AND WITHOUT ANY WARRANTY   #\n",
      "#  Report bugs as issues at https://github.com/domokane/FinancePy  #\n",
      "####################################################################\n",
      "\n"
     ]
    }
   ],
   "source": [
    "from copy import copy\n",
    "\n",
    "import numpy as np\n",
    "import matplotlib.pyplot as plt\n",
    "\n",
    "from financepy.models.finite_difference import (\n",
    "    dx, dxx, fd_roll_backwards, fd_roll_forwards, black_scholes_fd)\n",
    "from financepy.utils.math import band_matrix_multiplication, solve_tridiagonal_matrix\n",
    "from financepy.utils.date import Date\n",
    "from financepy.utils.global_types import OptionTypes\n",
    "from financepy.products.equity.equity_vanilla_option import EquityVanillaOption\n",
    "from financepy.market.curves.discount_curve_flat import DiscountCurveFlat"
   ]
  },
  {
   "cell_type": "code",
   "execution_count": 2,
   "id": "e3b3231a",
   "metadata": {},
   "outputs": [],
   "source": [
    "expiry_dt = Date(1, 7, 2015)\n",
    "strike_price = 100.0\n",
    "option_type = OptionTypes.EUROPEAN_CALL\n",
    "call_option = EquityVanillaOption(\n",
    "    expiry_dt, strike_price, option_type)\n",
    "\n",
    "value_dt = Date(1, 1, 2015)\n",
    "stock_price = 100\n",
    "volatility = 0.30\n",
    "interest_rate = 0.05\n",
    "dividend_yield = 0.01\n",
    "discount_curve = DiscountCurveFlat(value_dt, interest_rate)\n",
    "dividend_curve = DiscountCurveFlat(value_dt, dividend_yield)\n",
    "\n",
    "num_std = 5\n",
    "num_samples = 200\n",
    "num_steps = 50"
   ]
  },
  {
   "cell_type": "code",
   "execution_count": 3,
   "id": "aa1c317e",
   "metadata": {},
   "outputs": [
    {
     "ename": "TypeError",
     "evalue": "black_scholes_fd() got an unexpected keyword argument 'stock_price'",
     "output_type": "error",
     "traceback": [
      "\u001b[1;31m---------------------------------------------------------------------------\u001b[0m",
      "\u001b[1;31mTypeError\u001b[0m                                 Traceback (most recent call last)",
      "\u001b[1;32mc:\\Users\\Dominic\\Dropbox\\Desktop\\RESEARCH_DB\\FinancePy\\Code\\financepy-git\\notebooks\\models\\FINITE_DIFFERENCE.ipynb Cell 5\u001b[0m line \u001b[0;36m1\n\u001b[1;32m----> <a href='vscode-notebook-cell:/c%3A/Users/Dominic/Dropbox/Desktop/RESEARCH_DB/FinancePy/Code/financepy-git/notebooks/models/FINITE_DIFFERENCE.ipynb#W4sZmlsZQ%3D%3D?line=0'>1</a>\u001b[0m res, v \u001b[39m=\u001b[39m black_scholes_fd(stock_price\u001b[39m=\u001b[39;49mstock_price, sigma\u001b[39m=\u001b[39;49mvolatility,\n\u001b[0;32m      <a href='vscode-notebook-cell:/c%3A/Users/Dominic/Dropbox/Desktop/RESEARCH_DB/FinancePy/Code/financepy-git/notebooks/models/FINITE_DIFFERENCE.ipynb#W4sZmlsZQ%3D%3D?line=1'>2</a>\u001b[0m                                          expiry_dt\u001b[39m=\u001b[39;49mexpiry_dt, value_dt\u001b[39m=\u001b[39;49mvalue_dt,\n\u001b[0;32m      <a href='vscode-notebook-cell:/c%3A/Users/Dominic/Dropbox/Desktop/RESEARCH_DB/FinancePy/Code/financepy-git/notebooks/models/FINITE_DIFFERENCE.ipynb#W4sZmlsZQ%3D%3D?line=2'>3</a>\u001b[0m                                          strike_price\u001b[39m=\u001b[39;49m\u001b[39m100.0\u001b[39;49m, discount_curve\u001b[39m=\u001b[39;49mdiscount_curve,\n\u001b[0;32m      <a href='vscode-notebook-cell:/c%3A/Users/Dominic/Dropbox/Desktop/RESEARCH_DB/FinancePy/Code/financepy-git/notebooks/models/FINITE_DIFFERENCE.ipynb#W4sZmlsZQ%3D%3D?line=3'>4</a>\u001b[0m                                          dividend_curve\u001b[39m=\u001b[39;49mdividend_curve, digital\u001b[39m=\u001b[39;49m\u001b[39m0\u001b[39;49m,\n\u001b[0;32m      <a href='vscode-notebook-cell:/c%3A/Users/Dominic/Dropbox/Desktop/RESEARCH_DB/FinancePy/Code/financepy-git/notebooks/models/FINITE_DIFFERENCE.ipynb#W4sZmlsZQ%3D%3D?line=4'>5</a>\u001b[0m                                          option_type\u001b[39m=\u001b[39;49moption_type, smooth\u001b[39m=\u001b[39;49m\u001b[39m0\u001b[39;49m, theta\u001b[39m=\u001b[39;49m\u001b[39m0.5\u001b[39;49m, wind\u001b[39m=\u001b[39;49m\u001b[39m0\u001b[39;49m,\n\u001b[0;32m      <a href='vscode-notebook-cell:/c%3A/Users/Dominic/Dropbox/Desktop/RESEARCH_DB/FinancePy/Code/financepy-git/notebooks/models/FINITE_DIFFERENCE.ipynb#W4sZmlsZQ%3D%3D?line=5'>6</a>\u001b[0m                                          num_std\u001b[39m=\u001b[39;49mnum_std, num_steps\u001b[39m=\u001b[39;49mnum_steps, num_samples\u001b[39m=\u001b[39;49mnum_samples,\n\u001b[0;32m      <a href='vscode-notebook-cell:/c%3A/Users/Dominic/Dropbox/Desktop/RESEARCH_DB/FinancePy/Code/financepy-git/notebooks/models/FINITE_DIFFERENCE.ipynb#W4sZmlsZQ%3D%3D?line=6'>7</a>\u001b[0m                                          update\u001b[39m=\u001b[39;49m\u001b[39mFalse\u001b[39;49;00m)\n",
      "\u001b[1;31mTypeError\u001b[0m: black_scholes_fd() got an unexpected keyword argument 'stock_price'"
     ]
    }
   ],
   "source": [
    "res, v = black_scholes_fd(stock_price=stock_price, sigma=volatility,\n",
    "                                         expiry_dt=expiry_dt, value_dt=value_dt,\n",
    "                                         strike_price=100.0, discount_curve=discount_curve,\n",
    "                                         dividend_curve=dividend_curve, digital=0,\n",
    "                                         option_type=option_type, smooth=0, theta=0.5, wind=0,\n",
    "                                         num_std=num_std, num_steps=num_steps, num_samples=num_samples,\n",
    "                                         update=False)"
   ]
  },
  {
   "cell_type": "code",
   "execution_count": null,
   "id": "f38c2c20",
   "metadata": {},
   "outputs": [],
   "source": [
    "# Create samples (this is done in black_scholes_fd\n",
    "# but we do it here for plotting)\n",
    "time_to_expiry = (expiry_dt - value_dt) / 365\n",
    "std = volatility * (time_to_expiry ** 0.5)\n",
    "xl = -num_std * std\n",
    "xu = num_std * std\n",
    "d_x = (xu - xl) / max(1, num_samples)\n",
    "num_samples = 1 if num_samples <= 0 or xl == xu else num_samples + 1\n",
    "s = np.zeros(num_samples)\n",
    "s[0] = stock_price * np.exp(xl)\n",
    "ds = np.exp(d_x)\n",
    "for i in range(1, num_samples):\n",
    "    s[i] = s[i - 1] * ds"
   ]
  },
  {
   "cell_type": "code",
   "execution_count": null,
   "id": "fef7463a",
   "metadata": {},
   "outputs": [
    {
     "data": {
      "image/png": "[encoded data removed]",
      "text/plain": [
       "<Figure size 640x480 with 1 Axes>"
      ]
     },
     "metadata": {},
     "output_type": "display_data"
    }
   ],
   "source": [
    "plt.plot(s, res)\n",
    "plt.plot(s[len(s)//2], v, \"*\")\n",
    "plt.hlines(v, 0, s[-1],\"g\", \"dashed\")\n",
    "plt.xlabel(\"X\")\n",
    "plt.ylabel(\"Price\")\n",
    "plt.xlim((s[0], s[-1]))\n",
    "plt.grid()"
   ]
  },
  {
   "cell_type": "code",
   "execution_count": null,
   "id": "58875619",
   "metadata": {},
   "outputs": [
    {
     "name": "stdout",
     "output_type": "stream",
     "text": [
      "Option value is $9.30\n"
     ]
    }
   ],
   "source": [
    "print(f\"Option value is ${v:.2f}\")"
   ]
  },
  {
   "cell_type": "code",
   "execution_count": null,
   "id": "8e12327e",
   "metadata": {},
   "outputs": [],
   "source": []
  }
 ],
 "metadata": {
  "kernelspec": {
   "display_name": "Python 3 (ipykernel)",
   "language": "python",
   "name": "python3"
  },
  "language_info": {
   "codemirror_mode": {
    "name": "ipython",
    "version": 3
   },
   "file_extension": ".py",
   "mimetype": "text/x-python",
   "name": "python",
   "nbconvert_exporter": "python",
   "pygments_lexer": "ipython3",
   "version": "3.10.13"
  }
 },
 "nbformat": 4,
 "nbformat_minor": 5
}
