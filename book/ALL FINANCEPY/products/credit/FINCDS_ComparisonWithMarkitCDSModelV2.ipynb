{
 "cells": [
  {
   "attachments": {},
   "cell_type": "markdown",
   "metadata": {},
   "source": [
    "# Creating and Valuing a CDS Contract"
   ]
  },
  {
   "attachments": {},
   "cell_type": "markdown",
   "metadata": {},
   "source": [
    "Replicating Markit Pricing on 20 Aug 2020"
   ]
  },
  {
   "cell_type": "code",
   "execution_count": 1,
   "metadata": {
    "execution": {
     "iopub.execute_input": "2024-04-30T20:01:36.037535Z",
     "iopub.status.busy": "2024-04-30T20:01:36.036016Z",
     "iopub.status.idle": "2024-04-30T20:01:36.732223Z",
     "shell.execute_reply": "2024-04-30T20:01:36.731635Z"
    }
   },
   "outputs": [],
   "source": [
    "import numpy as np\n",
    "import matplotlib.pyplot as plt"
   ]
  },
  {
   "cell_type": "code",
   "execution_count": 2,
   "metadata": {
    "execution": {
     "iopub.execute_input": "2024-04-30T20:01:36.734252Z",
     "iopub.status.busy": "2024-04-30T20:01:36.734252Z",
     "iopub.status.idle": "2024-04-30T20:01:38.975883Z",
     "shell.execute_reply": "2024-04-30T20:01:38.975883Z"
    }
   },
   "outputs": [
    {
     "name": "stdout",
     "output_type": "stream",
     "text": [
      "####################################################################\n",
      "#  FINANCEPY BETA Version 0.350 - This build: 30 Apr 2024 at 21:20 #\n",
      "#     This software is distributed FREE AND WITHOUT ANY WARRANTY   #\n",
      "#  Report bugs as issues at https://github.com/domokane/FinancePy  #\n",
      "####################################################################\n",
      "\n"
     ]
    }
   ],
   "source": [
    "from financepy.utils import *\n",
    "from financepy.products.rates import *\n",
    "from financepy.products.credit import *"
   ]
  },
  {
   "cell_type": "code",
   "execution_count": 3,
   "metadata": {
    "execution": {
     "iopub.execute_input": "2024-04-30T20:01:38.978564Z",
     "iopub.status.busy": "2024-04-30T20:01:38.978564Z",
     "iopub.status.idle": "2024-04-30T20:01:38.998719Z",
     "shell.execute_reply": "2024-04-30T20:01:38.998194Z"
    }
   },
   "outputs": [],
   "source": [
    "value_dt = Date(20, 8, 2020)"
   ]
  },
  {
   "attachments": {},
   "cell_type": "markdown",
   "metadata": {},
   "source": [
    "## Build Ibor Curve"
   ]
  },
  {
   "cell_type": "code",
   "execution_count": 4,
   "metadata": {
    "execution": {
     "iopub.execute_input": "2024-04-30T20:01:39.001288Z",
     "iopub.status.busy": "2024-04-30T20:01:39.001288Z",
     "iopub.status.idle": "2024-04-30T20:01:39.004437Z",
     "shell.execute_reply": "2024-04-30T20:01:39.004437Z"
    }
   },
   "outputs": [],
   "source": [
    "settle_dt = Date(24, 8, 2020)\n"
   ]
  },
  {
   "cell_type": "code",
   "execution_count": 5,
   "metadata": {
    "execution": {
     "iopub.execute_input": "2024-04-30T20:01:39.006471Z",
     "iopub.status.busy": "2024-04-30T20:01:39.006471Z",
     "iopub.status.idle": "2024-04-30T20:01:39.055884Z",
     "shell.execute_reply": "2024-04-30T20:01:39.055164Z"
    }
   },
   "outputs": [],
   "source": [
    "dc_type = DayCountTypes.ACT_360\n",
    "depo1 = IborDeposit(settle_dt, \"1M\", 0.001709, dc_type)\n",
    "depo2 = IborDeposit(settle_dt, \"2M\", 0.002123, dc_type)\n",
    "depo3 = IborDeposit(settle_dt, \"3M\", 0.002469, dc_type)\n",
    "depo4 = IborDeposit(settle_dt, \"6M\", 0.003045, dc_type)\n",
    "depo5 = IborDeposit(settle_dt, \"12M\", 0.004449, dc_type)\n",
    "depos = [depo1,depo2,depo3,depo4,depo5]\n",
    "\n",
    "swap_type = SwapTypes.PAY\n",
    "dc_type = DayCountTypes.THIRTY_E_360_ISDA\n",
    "fixed_freq = FrequencyTypes.SEMI_ANNUAL\n",
    "swap1 = IborSwap(settle_dt,\"2Y\", swap_type, 0.002155,fixed_freq,dc_type)\n",
    "swap2 = IborSwap(settle_dt,\"3Y\", swap_type, 0.002305,fixed_freq,dc_type)\n",
    "swap3 = IborSwap(settle_dt,\"4Y\", swap_type, 0.002665,fixed_freq,dc_type)\n",
    "swap4 = IborSwap(settle_dt,\"5Y\", swap_type, 0.003290,fixed_freq,dc_type)\n",
    "swap5 = IborSwap(settle_dt,\"6Y\", swap_type, 0.004025,fixed_freq,dc_type)\n",
    "swap6 = IborSwap(settle_dt,\"7Y\", swap_type, 0.004725,fixed_freq,dc_type)\n",
    "swap7 = IborSwap(settle_dt,\"8Y\", swap_type, 0.005430,fixed_freq,dc_type)\n",
    "swap8 = IborSwap(settle_dt,\"9Y\", swap_type, 0.006075,fixed_freq,dc_type)\n",
    "swap9 = IborSwap(settle_dt,\"10Y\", swap_type, 0.006640,fixed_freq,dc_type)\n",
    "swaps = [swap1,swap2,swap3,swap4,swap5,swap6,swap7,swap8,swap9]\n",
    "\n",
    "libor_curve = IborSingleCurve(value_dt, depos, [], swaps)"
   ]
  },
  {
   "attachments": {},
   "cell_type": "markdown",
   "metadata": {},
   "source": [
    "## Creating a CDS Contract"
   ]
  },
  {
   "cell_type": "code",
   "execution_count": 6,
   "metadata": {
    "execution": {
     "iopub.execute_input": "2024-04-30T20:01:39.057883Z",
     "iopub.status.busy": "2024-04-30T20:01:39.057883Z",
     "iopub.status.idle": "2024-04-30T20:01:39.061379Z",
     "shell.execute_reply": "2024-04-30T20:01:39.061379Z"
    }
   },
   "outputs": [],
   "source": [
    "effective_dt = Date(20, 6, 2018)\n",
    "maturity_dt = Date(20, 6, 2025)\n",
    "running_cpn = 0.05\n",
    "notional = ONE_MILLION\n",
    "long_protection = True"
   ]
  },
  {
   "cell_type": "code",
   "execution_count": 7,
   "metadata": {
    "execution": {
     "iopub.execute_input": "2024-04-30T20:01:39.064407Z",
     "iopub.status.busy": "2024-04-30T20:01:39.064407Z",
     "iopub.status.idle": "2024-04-30T20:01:39.067867Z",
     "shell.execute_reply": "2024-04-30T20:01:39.067867Z"
    }
   },
   "outputs": [],
   "source": [
    "cds_contract = CDS(effective_dt, maturity_dt, running_cpn, notional, long_protection)"
   ]
  },
  {
   "cell_type": "code",
   "execution_count": 8,
   "metadata": {
    "execution": {
     "iopub.execute_input": "2024-04-30T20:01:39.069870Z",
     "iopub.status.busy": "2024-04-30T20:01:39.069870Z",
     "iopub.status.idle": "2024-04-30T20:01:39.073515Z",
     "shell.execute_reply": "2024-04-30T20:01:39.073515Z"
    }
   },
   "outputs": [
    {
     "name": "stdout",
     "output_type": "stream",
     "text": [
      "OBJECT TYPE: CDS\n",
      "STEP-IN DATE: 20-JUN-2018\n",
      "MATURITY: 20-JUN-2025\n",
      "NOTIONAL: 1000000\n",
      "RUN COUPON: 500.0bp\n",
      "DAYCOUNT: DayCountTypes.ACT_360\n",
      "FREQUENCY: FrequencyTypes.QUARTERLY\n",
      "CALENDAR: CalendarTypes.WEEKEND\n",
      "BUSDAYRULE: BusDayAdjustTypes.FOLLOWING\n",
      "DATEGENRULE: DateGenRuleTypes.BACKWARD\n",
      "ACCRUED DAYS: 0.0\n",
      "PAYMENT_dt, YEAR_FRAC, ACCRUAL_START, ACCRUAL_END, FLOW\n",
      "20-SEP-2018,     0.255556, 20-JUN-2018, 19-SEP-2018, 12777.777778\n",
      "20-DEC-2018,     0.252778, 20-SEP-2018, 19-DEC-2018, 12638.888889\n",
      "20-MAR-2019,     0.250000, 20-DEC-2018, 19-MAR-2019, 12500.000000\n",
      "20-JUN-2019,     0.255556, 20-MAR-2019, 19-JUN-2019, 12777.777778\n",
      "20-SEP-2019,     0.255556, 20-JUN-2019, 19-SEP-2019, 12777.777778\n",
      "20-DEC-2019,     0.252778, 20-SEP-2019, 19-DEC-2019, 12638.888889\n",
      "20-MAR-2020,     0.252778, 20-DEC-2019, 19-MAR-2020, 12638.888889\n",
      "22-JUN-2020,     0.261111, 20-MAR-2020, 21-JUN-2020, 13055.555556\n",
      "21-SEP-2020,     0.252778, 22-JUN-2020, 20-SEP-2020, 12638.888889\n",
      "21-DEC-2020,     0.252778, 21-SEP-2020, 20-DEC-2020, 12638.888889\n",
      "22-MAR-2021,     0.252778, 21-DEC-2020, 21-MAR-2021, 12638.888889\n",
      "21-JUN-2021,     0.252778, 22-MAR-2021, 20-JUN-2021, 12638.888889\n",
      "20-SEP-2021,     0.252778, 21-JUN-2021, 19-SEP-2021, 12638.888889\n",
      "20-DEC-2021,     0.252778, 20-SEP-2021, 19-DEC-2021, 12638.888889\n",
      "21-MAR-2022,     0.252778, 20-DEC-2021, 20-MAR-2022, 12638.888889\n",
      "20-JUN-2022,     0.252778, 21-MAR-2022, 19-JUN-2022, 12638.888889\n",
      "20-SEP-2022,     0.255556, 20-JUN-2022, 19-SEP-2022, 12777.777778\n",
      "20-DEC-2022,     0.252778, 20-SEP-2022, 19-DEC-2022, 12638.888889\n",
      "20-MAR-2023,     0.250000, 20-DEC-2022, 19-MAR-2023, 12500.000000\n",
      "20-JUN-2023,     0.255556, 20-MAR-2023, 19-JUN-2023, 12777.777778\n",
      "20-SEP-2023,     0.255556, 20-JUN-2023, 19-SEP-2023, 12777.777778\n",
      "20-DEC-2023,     0.252778, 20-SEP-2023, 19-DEC-2023, 12638.888889\n",
      "20-MAR-2024,     0.252778, 20-DEC-2023, 19-MAR-2024, 12638.888889\n",
      "20-JUN-2024,     0.255556, 20-MAR-2024, 19-JUN-2024, 12777.777778\n",
      "20-SEP-2024,     0.255556, 20-JUN-2024, 19-SEP-2024, 12777.777778\n",
      "20-DEC-2024,     0.252778, 20-SEP-2024, 19-DEC-2024, 12638.888889\n",
      "20-MAR-2025,     0.250000, 20-DEC-2024, 19-MAR-2025, 12500.000000\n",
      "20-JUN-2025,     0.258333, 20-MAR-2025, 20-JUN-2025, 12916.666667\n"
     ]
    }
   ],
   "source": [
    "print(cds_contract)"
   ]
  },
  {
   "attachments": {},
   "cell_type": "markdown",
   "metadata": {},
   "source": [
    "# Build a CDS Curve"
   ]
  },
  {
   "cell_type": "code",
   "execution_count": 9,
   "metadata": {
    "execution": {
     "iopub.execute_input": "2024-04-30T20:01:39.075517Z",
     "iopub.status.busy": "2024-04-30T20:01:39.075517Z",
     "iopub.status.idle": "2024-04-30T20:01:39.078418Z",
     "shell.execute_reply": "2024-04-30T20:01:39.078418Z"
    }
   },
   "outputs": [],
   "source": [
    "cdsSpread = 0.01"
   ]
  },
  {
   "cell_type": "code",
   "execution_count": 10,
   "metadata": {
    "execution": {
     "iopub.execute_input": "2024-04-30T20:01:39.080452Z",
     "iopub.status.busy": "2024-04-30T20:01:39.080452Z",
     "iopub.status.idle": "2024-04-30T20:01:39.087085Z",
     "shell.execute_reply": "2024-04-30T20:01:39.087085Z"
    }
   },
   "outputs": [],
   "source": [
    "cds1 = CDS(settle_dt, \"6M\", cdsSpread)\n",
    "cds2 = CDS(settle_dt, \"1Y\", cdsSpread)\n",
    "cds3 = CDS(settle_dt, \"2Y\", cdsSpread)\n",
    "cds4 = CDS(settle_dt, \"3Y\", cdsSpread)\n",
    "cds5 = CDS(settle_dt, \"4Y\", cdsSpread)\n",
    "cds6 = CDS(settle_dt, \"5Y\", cdsSpread)\n",
    "cds7 = CDS(settle_dt, \"7Y\", cdsSpread)\n",
    "cds8 = CDS(settle_dt, \"10Y\", cdsSpread)"
   ]
  },
  {
   "cell_type": "code",
   "execution_count": 11,
   "metadata": {
    "execution": {
     "iopub.execute_input": "2024-04-30T20:01:39.090085Z",
     "iopub.status.busy": "2024-04-30T20:01:39.089116Z",
     "iopub.status.idle": "2024-04-30T20:01:39.093885Z",
     "shell.execute_reply": "2024-04-30T20:01:39.092884Z"
    }
   },
   "outputs": [],
   "source": [
    "cdss = [cds1, cds2, cds3] #, cds4, cds5, cds6, cds7, cds8]"
   ]
  },
  {
   "cell_type": "code",
   "execution_count": 12,
   "metadata": {
    "execution": {
     "iopub.execute_input": "2024-04-30T20:01:39.095911Z",
     "iopub.status.busy": "2024-04-30T20:01:39.095911Z",
     "iopub.status.idle": "2024-04-30T20:01:39.099569Z",
     "shell.execute_reply": "2024-04-30T20:01:39.099332Z"
    }
   },
   "outputs": [
    {
     "name": "stdout",
     "output_type": "stream",
     "text": [
      "OBJECT TYPE: CDS\n",
      "STEP-IN DATE: 24-AUG-2020\n",
      "MATURITY: 20-SEP-2022\n",
      "NOTIONAL: 1000000\n",
      "RUN COUPON: 100.0bp\n",
      "DAYCOUNT: DayCountTypes.ACT_360\n",
      "FREQUENCY: FrequencyTypes.QUARTERLY\n",
      "CALENDAR: CalendarTypes.WEEKEND\n",
      "BUSDAYRULE: BusDayAdjustTypes.FOLLOWING\n",
      "DATEGENRULE: DateGenRuleTypes.BACKWARD\n",
      "ACCRUED DAYS: 63.0\n",
      "PAYMENT_dt, YEAR_FRAC, ACCRUAL_START, ACCRUAL_END, FLOW\n",
      "21-SEP-2020,     0.252778, 22-JUN-2020, 20-SEP-2020,  2527.777778\n",
      "21-DEC-2020,     0.252778, 21-SEP-2020, 20-DEC-2020,  2527.777778\n",
      "22-MAR-2021,     0.252778, 21-DEC-2020, 21-MAR-2021,  2527.777778\n",
      "21-JUN-2021,     0.252778, 22-MAR-2021, 20-JUN-2021,  2527.777778\n",
      "20-SEP-2021,     0.252778, 21-JUN-2021, 19-SEP-2021,  2527.777778\n",
      "20-DEC-2021,     0.252778, 20-SEP-2021, 19-DEC-2021,  2527.777778\n",
      "21-MAR-2022,     0.252778, 20-DEC-2021, 20-MAR-2022,  2527.777778\n",
      "20-JUN-2022,     0.252778, 21-MAR-2022, 19-JUN-2022,  2527.777778\n",
      "20-SEP-2022,     0.258333, 20-JUN-2022, 20-SEP-2022,  2583.333333\n"
     ]
    }
   ],
   "source": [
    "print(cds3)"
   ]
  },
  {
   "cell_type": "code",
   "execution_count": 13,
   "metadata": {
    "execution": {
     "iopub.execute_input": "2024-04-30T20:01:39.102103Z",
     "iopub.status.busy": "2024-04-30T20:01:39.101569Z",
     "iopub.status.idle": "2024-04-30T20:01:39.104413Z",
     "shell.execute_reply": "2024-04-30T20:01:39.104180Z"
    }
   },
   "outputs": [],
   "source": [
    "recovery_rate = 0.40"
   ]
  },
  {
   "cell_type": "code",
   "execution_count": 14,
   "metadata": {
    "execution": {
     "iopub.execute_input": "2024-04-30T20:01:39.106412Z",
     "iopub.status.busy": "2024-04-30T20:01:39.106412Z",
     "iopub.status.idle": "2024-04-30T20:01:39.110512Z",
     "shell.execute_reply": "2024-04-30T20:01:39.110512Z"
    }
   },
   "outputs": [],
   "source": [
    "issuer_curve = CDSCurve(value_dt, cdss, libor_curve, recovery_rate)"
   ]
  },
  {
   "cell_type": "code",
   "execution_count": 15,
   "metadata": {
    "execution": {
     "iopub.execute_input": "2024-04-30T20:01:39.113129Z",
     "iopub.status.busy": "2024-04-30T20:01:39.113129Z",
     "iopub.status.idle": "2024-04-30T20:01:39.115895Z",
     "shell.execute_reply": "2024-04-30T20:01:39.115895Z"
    }
   },
   "outputs": [
    {
     "name": "stdout",
     "output_type": "stream",
     "text": [
      "OBJECT TYPE: CDSCurve\n",
      "TIME,SURVIVAL_PROBABILITY\n",
      " 0.0000000,  1.0000000\n",
      " 0.5808219,  0.9901922\n",
      " 1.0849315,  0.9817979\n",
      " 2.0849315,  0.9986272\n"
     ]
    }
   ],
   "source": [
    "print(issuer_curve)"
   ]
  },
  {
   "cell_type": "code",
   "execution_count": 16,
   "metadata": {
    "execution": {
     "iopub.execute_input": "2024-04-30T20:01:39.117897Z",
     "iopub.status.busy": "2024-04-30T20:01:39.117897Z",
     "iopub.status.idle": "2024-04-30T20:01:39.121860Z",
     "shell.execute_reply": "2024-04-30T20:01:39.121860Z"
    }
   },
   "outputs": [
    {
     "name": "stdout",
     "output_type": "stream",
     "text": [
      "PAYMENT_dt      YEAR_FRAC      FLOW           DF       SURV_PROB      NPV\n",
      "    21-SEP-2020   0.252778     12638.89     0.999848     0.998513     12618.18\n",
      "    21-DEC-2020   0.252778     12638.89     0.999079     0.994298     12555.25\n",
      "    22-MAR-2021   0.252778     12638.89     0.998005     0.990101     12488.80\n",
      "    21-JUN-2021   0.252778     12638.89     0.996528     0.985941     12417.93\n",
      "    20-SEP-2021   0.252778     12638.89     0.995505     0.981798     12353.06\n",
      "    20-DEC-2021   0.252778     12638.89     0.995554     0.985967     12406.12\n",
      "    21-MAR-2022   0.252778     12638.89     0.995603     0.990154     12459.42\n",
      "    20-JUN-2022   0.252778     12638.89     0.995652     0.994358     12512.94\n",
      "    20-SEP-2022   0.255556     12777.78     0.995495     0.998627     12702.75\n",
      "    20-DEC-2022   0.252778     12638.89     0.994848     1.002868     12609.84\n",
      "    20-MAR-2023   0.250000     12500.00     0.994209     1.007079     12515.59\n",
      "    20-JUN-2023   0.255556     12777.78     0.993556     1.011403     12840.20\n",
      "    20-SEP-2023   0.255556     12777.78     0.992820     1.015745     12885.78\n",
      "    20-DEC-2023   0.252778     12638.89     0.991895     1.020058     12787.91\n",
      "    20-MAR-2024   0.252778     12638.89     0.990971     1.024390     12830.25\n",
      "    20-JUN-2024   0.255556     12777.78     0.990038     1.028787     13014.66\n",
      "    20-SEP-2024   0.255556     12777.78     0.988964     1.033204     13056.35\n",
      "    20-DEC-2024   0.252778     12638.89     0.987528     1.037592     12950.45\n",
      "    20-MAR-2025   0.250000     12500.00     0.986110     1.041949     12843.46\n",
      "    20-JUN-2025   0.258333     12916.67     0.984663     1.046422     13308.99\n"
     ]
    }
   ],
   "source": [
    "cds_contract.print_payments(value_dt, issuer_curve)"
   ]
  },
  {
   "attachments": {},
   "cell_type": "markdown",
   "metadata": {},
   "source": [
    "# Valuation"
   ]
  },
  {
   "cell_type": "code",
   "execution_count": 17,
   "metadata": {
    "execution": {
     "iopub.execute_input": "2024-04-30T20:01:39.124494Z",
     "iopub.status.busy": "2024-04-30T20:01:39.124494Z",
     "iopub.status.idle": "2024-04-30T20:01:39.128862Z",
     "shell.execute_reply": "2024-04-30T20:01:39.128280Z"
    }
   },
   "outputs": [
    {
     "name": "stdout",
     "output_type": "stream",
     "text": [
      "FAIR CDS SPREAD   98.06982 bp\n"
     ]
    }
   ],
   "source": [
    "spd = cds_contract.par_spread(settle_dt, issuer_curve, recovery_rate) * 10000.0\n",
    "print(\"FAIR CDS SPREAD %10.5f bp\"% spd)"
   ]
  },
  {
   "cell_type": "code",
   "execution_count": 18,
   "metadata": {
    "execution": {
     "iopub.execute_input": "2024-04-30T20:01:39.130891Z",
     "iopub.status.busy": "2024-04-30T20:01:39.130891Z",
     "iopub.status.idle": "2024-04-30T20:01:39.136135Z",
     "shell.execute_reply": "2024-04-30T20:01:39.136135Z"
    }
   },
   "outputs": [
    {
     "data": {
      "text/plain": [
       "(-277643.4680973297, -277643.4680973297, 739.3620553330984, 34.348535622586496)"
      ]
     },
     "execution_count": 18,
     "metadata": {},
     "output_type": "execute_result"
    }
   ],
   "source": [
    "cds_contract.value_fast_approx(settle_dt, 0.004, 0.01, 0.40, 0.40)"
   ]
  },
  {
   "cell_type": "code",
   "execution_count": 19,
   "metadata": {
    "execution": {
     "iopub.execute_input": "2024-04-30T20:01:39.138167Z",
     "iopub.status.busy": "2024-04-30T20:01:39.138167Z",
     "iopub.status.idle": "2024-04-30T20:01:39.141261Z",
     "shell.execute_reply": "2024-04-30T20:01:39.141261Z"
    }
   },
   "outputs": [],
   "source": [
    "v = cds_contract.value(settle_dt, issuer_curve, recovery_rate)"
   ]
  },
  {
   "cell_type": "code",
   "execution_count": 20,
   "metadata": {
    "execution": {
     "iopub.execute_input": "2024-04-30T20:01:39.144259Z",
     "iopub.status.busy": "2024-04-30T20:01:39.143297Z",
     "iopub.status.idle": "2024-04-30T20:01:39.147554Z",
     "shell.execute_reply": "2024-04-30T20:01:39.146874Z"
    }
   },
   "outputs": [],
   "source": [
    "dirty_pv = v['dirty_pv'] \n",
    "clean_pv = v['clean_pv']"
   ]
  },
  {
   "cell_type": "code",
   "execution_count": 21,
   "metadata": {
    "execution": {
     "iopub.execute_input": "2024-04-30T20:01:39.149591Z",
     "iopub.status.busy": "2024-04-30T20:01:39.149591Z",
     "iopub.status.idle": "2024-04-30T20:01:39.152894Z",
     "shell.execute_reply": "2024-04-30T20:01:39.152894Z"
    }
   },
   "outputs": [
    {
     "name": "stdout",
     "output_type": "stream",
     "text": [
      "DIRTY VALUE   -204055.93\n",
      "CLEAN VALUE   -204055.93\n"
     ]
    }
   ],
   "source": [
    "print(\"DIRTY VALUE %12.2f\"% dirty_pv)\n",
    "print(\"CLEAN VALUE %12.2f\"% clean_pv)"
   ]
  },
  {
   "cell_type": "code",
   "execution_count": 22,
   "metadata": {
    "execution": {
     "iopub.execute_input": "2024-04-30T20:01:39.155522Z",
     "iopub.status.busy": "2024-04-30T20:01:39.155522Z",
     "iopub.status.idle": "2024-04-30T20:01:39.158653Z",
     "shell.execute_reply": "2024-04-30T20:01:39.158653Z"
    }
   },
   "outputs": [
    {
     "name": "stdout",
     "output_type": "stream",
     "text": [
      "CLEAN PRICE   120.405593\n"
     ]
    }
   ],
   "source": [
    "cleanp = cds_contract.clean_price(settle_dt, issuer_curve, recovery_rate)\n",
    "print(\"CLEAN PRICE %12.6f\"% cleanp)"
   ]
  },
  {
   "cell_type": "code",
   "execution_count": 23,
   "metadata": {
    "execution": {
     "iopub.execute_input": "2024-04-30T20:01:39.161681Z",
     "iopub.status.busy": "2024-04-30T20:01:39.161681Z",
     "iopub.status.idle": "2024-04-30T20:01:39.164644Z",
     "shell.execute_reply": "2024-04-30T20:01:39.164644Z"
    }
   },
   "outputs": [
    {
     "name": "stdout",
     "output_type": "stream",
     "text": [
      "ACCRUED_DAYS 0.0\n"
     ]
    }
   ],
   "source": [
    "accrued_days = cds_contract.accrued_days()\n",
    "print(\"ACCRUED_DAYS\", accrued_days)"
   ]
  },
  {
   "cell_type": "code",
   "execution_count": 24,
   "metadata": {
    "execution": {
     "iopub.execute_input": "2024-04-30T20:01:39.166915Z",
     "iopub.status.busy": "2024-04-30T20:01:39.166915Z",
     "iopub.status.idle": "2024-04-30T20:01:39.169944Z",
     "shell.execute_reply": "2024-04-30T20:01:39.169944Z"
    }
   },
   "outputs": [
    {
     "name": "stdout",
     "output_type": "stream",
     "text": [
      "ACCRUED_COUPON -0.0\n"
     ]
    }
   ],
   "source": [
    "accrued_interest = cds_contract.accrued_interest()\n",
    "print(\"ACCRUED_COUPON\", accrued_interest)"
   ]
  },
  {
   "cell_type": "code",
   "execution_count": 25,
   "metadata": {
    "execution": {
     "iopub.execute_input": "2024-04-30T20:01:39.171947Z",
     "iopub.status.busy": "2024-04-30T20:01:39.171947Z",
     "iopub.status.idle": "2024-04-30T20:01:39.175806Z",
     "shell.execute_reply": "2024-04-30T20:01:39.175586Z"
    }
   },
   "outputs": [
    {
     "name": "stdout",
     "output_type": "stream",
     "text": [
      "prot_PV 49789.06933833722\n"
     ]
    }
   ],
   "source": [
    "prot_pv = cds_contract.prot_leg_pv(settle_dt, issuer_curve, recovery_rate)\n",
    "print(\"prot_PV\", prot_pv)"
   ]
  },
  {
   "cell_type": "code",
   "execution_count": 26,
   "metadata": {
    "execution": {
     "iopub.execute_input": "2024-04-30T20:01:39.177841Z",
     "iopub.status.busy": "2024-04-30T20:01:39.177841Z",
     "iopub.status.idle": "2024-04-30T20:01:39.180825Z",
     "shell.execute_reply": "2024-04-30T20:01:39.180825Z"
    }
   },
   "outputs": [
    {
     "name": "stdout",
     "output_type": "stream",
     "text": [
      "PREMIUM_PV 253845.00353326576\n"
     ]
    }
   ],
   "source": [
    "premPV = cds_contract.premium_leg_pv(settle_dt, issuer_curve, recovery_rate)\n",
    "print(\"PREMIUM_PV\", premPV)"
   ]
  },
  {
   "cell_type": "code",
   "execution_count": 27,
   "metadata": {
    "execution": {
     "iopub.execute_input": "2024-04-30T20:01:39.182854Z",
     "iopub.status.busy": "2024-04-30T20:01:39.182854Z",
     "iopub.status.idle": "2024-04-30T20:01:39.186709Z",
     "shell.execute_reply": "2024-04-30T20:01:39.186709Z"
    }
   },
   "outputs": [
    {
     "data": {
      "text/plain": [
       "{'dirty_rpv01': 5.076900070665315, 'clean_rpv01': 5.076900070665315}"
      ]
     },
     "execution_count": 27,
     "metadata": {},
     "output_type": "execute_result"
    }
   ],
   "source": [
    "cds_contract.risky_pv01(settle_dt, issuer_curve)"
   ]
  },
  {
   "attachments": {},
   "cell_type": "markdown",
   "metadata": {},
   "source": [
    "## Risk Measures"
   ]
  },
  {
   "cell_type": "code",
   "execution_count": 28,
   "metadata": {
    "execution": {
     "iopub.execute_input": "2024-04-30T20:01:39.188741Z",
     "iopub.status.busy": "2024-04-30T20:01:39.188741Z",
     "iopub.status.idle": "2024-04-30T20:01:39.200340Z",
     "shell.execute_reply": "2024-04-30T20:01:39.200340Z"
    }
   },
   "outputs": [
    {
     "data": {
      "text/plain": [
       "481.2001519136247"
      ]
     },
     "execution_count": 28,
     "metadata": {},
     "output_type": "execute_result"
    }
   ],
   "source": [
    "cds_contract.credit_dv01(settle_dt, issuer_curve, recovery_rate)"
   ]
  },
  {
   "cell_type": "code",
   "execution_count": 29,
   "metadata": {
    "execution": {
     "iopub.execute_input": "2024-04-30T20:01:39.202897Z",
     "iopub.status.busy": "2024-04-30T20:01:39.202897Z",
     "iopub.status.idle": "2024-04-30T20:01:39.246220Z",
     "shell.execute_reply": "2024-04-30T20:01:39.246220Z"
    }
   },
   "outputs": [
    {
     "data": {
      "text/plain": [
       "50.165265313815325"
      ]
     },
     "execution_count": 29,
     "metadata": {},
     "output_type": "execute_result"
    }
   ],
   "source": [
    "cds_contract.interest_dv01(settle_dt, issuer_curve, recovery_rate)"
   ]
  },
  {
   "attachments": {},
   "cell_type": "markdown",
   "metadata": {},
   "source": [
    "Copyright (c) 2020 Dominic O'Kane"
   ]
  },
  {
   "attachments": {},
   "cell_type": "markdown",
   "metadata": {},
   "source": []
  }
 ],
 "metadata": {
  "kernelspec": {
   "display_name": "Python 3",
   "language": "python",
   "name": "python3"
  },
  "language_info": {
   "codemirror_mode": {
    "name": "ipython",
    "version": 3
   },
   "file_extension": ".py",
   "mimetype": "text/x-python",
   "name": "python",
   "nbconvert_exporter": "python",
   "pygments_lexer": "ipython3",
   "version": "3.11.5"
  }
 },
 "nbformat": 4,
 "nbformat_minor": 2
}
