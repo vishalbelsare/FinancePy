{
 "cells": [
  {
   "cell_type": "markdown",
   "metadata": {},
   "source": [
    "# Creating and Valuing a CDS Option"
   ]
  },
  {
   "cell_type": "markdown",
   "metadata": {},
   "source": [
    "Example CDS Valuation and comparison with market standard ISDA model on Markit website"
   ]
  },
  {
   "cell_type": "code",
   "execution_count": 1,
   "metadata": {
    "execution": {
     "iopub.execute_input": "2024-04-30T20:01:16.857570Z",
     "iopub.status.busy": "2024-04-30T20:01:16.856574Z",
     "iopub.status.idle": "2024-04-30T20:01:17.464910Z",
     "shell.execute_reply": "2024-04-30T20:01:17.464910Z"
    }
   },
   "outputs": [],
   "source": [
    "import numpy as np\n",
    "import matplotlib.pyplot as plt"
   ]
  },
  {
   "cell_type": "code",
   "execution_count": 2,
   "metadata": {
    "execution": {
     "iopub.execute_input": "2024-04-30T20:01:17.467496Z",
     "iopub.status.busy": "2024-04-30T20:01:17.467496Z",
     "iopub.status.idle": "2024-04-30T20:01:19.761037Z",
     "shell.execute_reply": "2024-04-30T20:01:19.761037Z"
    }
   },
   "outputs": [
    {
     "name": "stdout",
     "output_type": "stream",
     "text": [
      "####################################################################\n",
      "#  FINANCEPY BETA Version 0.350 - This build: 30 Apr 2024 at 21:20 #\n",
      "#     This software is distributed FREE AND WITHOUT ANY WARRANTY   #\n",
      "#  Report bugs as issues at https://github.com/domokane/FinancePy  #\n",
      "####################################################################\n",
      "\n"
     ]
    }
   ],
   "source": [
    "from financepy.utils import *\n",
    "from financepy.products.rates import *\n",
    "from financepy.products.credit import *"
   ]
  },
  {
   "cell_type": "markdown",
   "metadata": {},
   "source": [
    "Set the trade date and settlement date one day later"
   ]
  },
  {
   "cell_type": "code",
   "execution_count": 3,
   "metadata": {
    "execution": {
     "iopub.execute_input": "2024-04-30T20:01:19.764633Z",
     "iopub.status.busy": "2024-04-30T20:01:19.763068Z",
     "iopub.status.idle": "2024-04-30T20:01:19.788751Z",
     "shell.execute_reply": "2024-04-30T20:01:19.788466Z"
    }
   },
   "outputs": [],
   "source": [
    "value_dt = Date(5, 2, 2014)\n",
    "settle_dt = value_dt.add_days(1)"
   ]
  },
  {
   "cell_type": "markdown",
   "metadata": {},
   "source": [
    "## Build Ibor Curve"
   ]
  },
  {
   "cell_type": "code",
   "execution_count": 4,
   "metadata": {
    "execution": {
     "iopub.execute_input": "2024-04-30T20:01:19.791747Z",
     "iopub.status.busy": "2024-04-30T20:01:19.790788Z",
     "iopub.status.idle": "2024-04-30T20:01:19.811440Z",
     "shell.execute_reply": "2024-04-30T20:01:19.811440Z"
    }
   },
   "outputs": [],
   "source": [
    "dc_type = DayCountTypes.THIRTY_E_360\n",
    "depo = IborDeposit(settle_dt, \"1D\", 0.0502, dc_type)\n",
    "depos = [depo]\n",
    "fixed_freq = FrequencyTypes.SEMI_ANNUAL\n",
    "swap_type = SwapTypes.PAY\n",
    "swap1 = IborSwap(settle_dt,\"1Y\",swap_type,0.0502,fixed_freq,dc_type)\n",
    "swap2 = IborSwap(settle_dt,\"2Y\",swap_type,0.0502,fixed_freq,dc_type)\n",
    "swap3 = IborSwap(settle_dt,\"3Y\",swap_type,0.0501,fixed_freq,dc_type)\n",
    "swap4 = IborSwap(settle_dt,\"4Y\",swap_type,0.0502,fixed_freq,dc_type)\n",
    "swap5 = IborSwap(settle_dt,\"5Y\",swap_type,0.0501,fixed_freq,dc_type)\n",
    "swaps = [swap1,swap2,swap3,swap4,swap5]\n",
    "\n",
    "libor_curve = IborSingleCurve(value_dt, depos, [], swaps)"
   ]
  },
  {
   "cell_type": "markdown",
   "metadata": {},
   "source": [
    "## Build a CDS Curve"
   ]
  },
  {
   "cell_type": "code",
   "execution_count": 5,
   "metadata": {
    "execution": {
     "iopub.execute_input": "2024-04-30T20:01:19.814456Z",
     "iopub.status.busy": "2024-04-30T20:01:19.814456Z",
     "iopub.status.idle": "2024-04-30T20:01:19.818646Z",
     "shell.execute_reply": "2024-04-30T20:01:19.818039Z"
    }
   },
   "outputs": [],
   "source": [
    "cdsFlatSpread = 0.0100"
   ]
  },
  {
   "cell_type": "code",
   "execution_count": 6,
   "metadata": {
    "execution": {
     "iopub.execute_input": "2024-04-30T20:01:19.820673Z",
     "iopub.status.busy": "2024-04-30T20:01:19.820673Z",
     "iopub.status.idle": "2024-04-30T20:01:19.828829Z",
     "shell.execute_reply": "2024-04-30T20:01:19.828829Z"
    }
   },
   "outputs": [],
   "source": [
    "cds1 = CDS(settle_dt, \"1Y\", cdsFlatSpread)\n",
    "cds2 = CDS(settle_dt, \"2Y\", cdsFlatSpread)\n",
    "cds3 = CDS(settle_dt, \"3Y\", cdsFlatSpread)\n",
    "cds4 = CDS(settle_dt, \"4Y\", cdsFlatSpread)\n",
    "cds5 = CDS(settle_dt, \"5Y\", cdsFlatSpread)\n",
    "cds6 = CDS(settle_dt, \"7Y\", cdsFlatSpread)\n",
    "cds7 = CDS(settle_dt, \"10Y\", cdsFlatSpread)\n",
    "cds8 = CDS(settle_dt, \"15Y\", cdsFlatSpread)"
   ]
  },
  {
   "cell_type": "code",
   "execution_count": 7,
   "metadata": {
    "execution": {
     "iopub.execute_input": "2024-04-30T20:01:19.831824Z",
     "iopub.status.busy": "2024-04-30T20:01:19.831824Z",
     "iopub.status.idle": "2024-04-30T20:01:19.834949Z",
     "shell.execute_reply": "2024-04-30T20:01:19.834637Z"
    }
   },
   "outputs": [],
   "source": [
    "cdss = [cds1, cds2, cds3, cds4, cds5, cds6, cds7, cds8]"
   ]
  },
  {
   "cell_type": "code",
   "execution_count": 8,
   "metadata": {
    "execution": {
     "iopub.execute_input": "2024-04-30T20:01:19.837517Z",
     "iopub.status.busy": "2024-04-30T20:01:19.837517Z",
     "iopub.status.idle": "2024-04-30T20:01:19.840882Z",
     "shell.execute_reply": "2024-04-30T20:01:19.840286Z"
    }
   },
   "outputs": [],
   "source": [
    "recovery_rate = 0.40"
   ]
  },
  {
   "cell_type": "code",
   "execution_count": 9,
   "metadata": {
    "execution": {
     "iopub.execute_input": "2024-04-30T20:01:19.842909Z",
     "iopub.status.busy": "2024-04-30T20:01:19.842909Z",
     "iopub.status.idle": "2024-04-30T20:01:19.850649Z",
     "shell.execute_reply": "2024-04-30T20:01:19.849920Z"
    }
   },
   "outputs": [],
   "source": [
    "issuer_curve = CDSCurve(value_dt, cdss, libor_curve, recovery_rate)"
   ]
  },
  {
   "cell_type": "markdown",
   "metadata": {},
   "source": [
    "## CDS Option"
   ]
  },
  {
   "cell_type": "code",
   "execution_count": 10,
   "metadata": {
    "execution": {
     "iopub.execute_input": "2024-04-30T20:01:19.852648Z",
     "iopub.status.busy": "2024-04-30T20:01:19.852648Z",
     "iopub.status.idle": "2024-04-30T20:01:19.856388Z",
     "shell.execute_reply": "2024-04-30T20:01:19.856388Z"
    }
   },
   "outputs": [],
   "source": [
    "step_in_dt = value_dt.add_days(1)\n",
    "expiry_dt = Date(20, 3, 2014)\n",
    "maturity_dt = Date(20, 6, 2019)    "
   ]
  },
  {
   "cell_type": "code",
   "execution_count": 11,
   "metadata": {
    "execution": {
     "iopub.execute_input": "2024-04-30T20:01:19.859996Z",
     "iopub.status.busy": "2024-04-30T20:01:19.859996Z",
     "iopub.status.idle": "2024-04-30T20:01:19.863054Z",
     "shell.execute_reply": "2024-04-30T20:01:19.862808Z"
    }
   },
   "outputs": [],
   "source": [
    "cds_cpn = 0.01\n",
    "volatility = 0.3    \n",
    "notional = ONE_MILLION\n",
    "long_protection = True"
   ]
  },
  {
   "cell_type": "code",
   "execution_count": 12,
   "metadata": {
    "execution": {
     "iopub.execute_input": "2024-04-30T20:01:19.865053Z",
     "iopub.status.busy": "2024-04-30T20:01:19.865053Z",
     "iopub.status.idle": "2024-04-30T20:01:19.889060Z",
     "shell.execute_reply": "2024-04-30T20:01:19.889060Z"
    }
   },
   "outputs": [],
   "source": [
    "strikes = np.linspace(80,120,21)/10000\n",
    "longValues = []\n",
    "shortValues = []\n",
    "\n",
    "# Long Protection\n",
    "for strike in strikes:\n",
    "    cdsOption = CDSOption(expiry_dt, maturity_dt, strike, notional, True)\n",
    "    v = cdsOption.value(value_dt, issuer_curve, volatility)\n",
    "    longValues.append(v)\n",
    "    \n",
    "# Short Protection\n",
    "for strike in strikes:\n",
    "    cdsOption = CDSOption(expiry_dt, maturity_dt, strike, notional, False)\n",
    "    v = cdsOption.value(value_dt, issuer_curve, volatility)\n",
    "    shortValues.append(v)\n",
    "    "
   ]
  },
  {
   "cell_type": "code",
   "execution_count": 13,
   "metadata": {
    "execution": {
     "iopub.execute_input": "2024-04-30T20:01:19.892093Z",
     "iopub.status.busy": "2024-04-30T20:01:19.892093Z",
     "iopub.status.idle": "2024-04-30T20:01:20.101234Z",
     "shell.execute_reply": "2024-04-30T20:01:20.101234Z"
    }
   },
   "outputs": [
    {
     "data": {
      "image/png": "[encoded data removed]",
      "text/plain": [
       "<Figure size 640x480 with 1 Axes>"
      ]
     },
     "metadata": {},
     "output_type": "display_data"
    }
   ],
   "source": [
    "plt.plot(strikes*10000, longValues, label=\"Long Protection\")\n",
    "plt.plot(strikes*10000, shortValues, label=\"Short Protection\")\n",
    "plt.xlabel(\"Strike (bp)\")\n",
    "plt.ylabel(\"Value (USD)\")\n",
    "plt.legend();"
   ]
  },
  {
   "cell_type": "markdown",
   "metadata": {},
   "source": [
    "## Put Call Parity"
   ]
  },
  {
   "cell_type": "markdown",
   "metadata": {},
   "source": [
    "Check that put-call parity holds by comparing a long protection minus a short protection option to a forward starting long protection CDS"
   ]
  },
  {
   "cell_type": "code",
   "execution_count": 14,
   "metadata": {
    "execution": {
     "iopub.execute_input": "2024-04-30T20:01:20.104260Z",
     "iopub.status.busy": "2024-04-30T20:01:20.103266Z",
     "iopub.status.idle": "2024-04-30T20:01:20.116030Z",
     "shell.execute_reply": "2024-04-30T20:01:20.116030Z"
    }
   },
   "outputs": [],
   "source": [
    "fwd_values = []\n",
    "\n",
    "for strike in strikes:\n",
    "    fwdCDSContract = CDS(expiry_dt, maturity_dt, strike, notional, True)\n",
    "    v = fwdCDSContract.value(value_dt, issuer_curve, recovery_rate)\n",
    "    fwd_values.append(v['dirty_pv'])"
   ]
  },
  {
   "cell_type": "code",
   "execution_count": 15,
   "metadata": {
    "execution": {
     "iopub.execute_input": "2024-04-30T20:01:20.118707Z",
     "iopub.status.busy": "2024-04-30T20:01:20.118707Z",
     "iopub.status.idle": "2024-04-30T20:01:20.121419Z",
     "shell.execute_reply": "2024-04-30T20:01:20.121419Z"
    }
   },
   "outputs": [],
   "source": [
    "callMinusPut = np.array(longValues) - np.array(shortValues)"
   ]
  },
  {
   "cell_type": "code",
   "execution_count": 16,
   "metadata": {
    "execution": {
     "iopub.execute_input": "2024-04-30T20:01:20.124452Z",
     "iopub.status.busy": "2024-04-30T20:01:20.123449Z",
     "iopub.status.idle": "2024-04-30T20:01:20.294303Z",
     "shell.execute_reply": "2024-04-30T20:01:20.294303Z"
    }
   },
   "outputs": [
    {
     "data": {
      "image/png": "[encoded data removed]",
      "text/plain": [
       "<Figure size 640x480 with 1 Axes>"
      ]
     },
     "metadata": {},
     "output_type": "display_data"
    }
   ],
   "source": [
    "plt.plot(strikes*10000, fwd_values, label=\"Forward Values\")\n",
    "plt.plot(strikes*10000, callMinusPut, label=\"Long minus short\")\n",
    "plt.xlabel(\"Strike (bp)\")\n",
    "plt.ylabel(\"Value (USD)\")\n",
    "plt.legend();"
   ]
  },
  {
   "cell_type": "markdown",
   "metadata": {},
   "source": [
    "## Implied Volatility"
   ]
  },
  {
   "cell_type": "markdown",
   "metadata": {},
   "source": [
    "Let us just check that we can recover the input volatility"
   ]
  },
  {
   "cell_type": "code",
   "execution_count": 17,
   "metadata": {
    "execution": {
     "iopub.execute_input": "2024-04-30T20:01:20.297301Z",
     "iopub.status.busy": "2024-04-30T20:01:20.297301Z",
     "iopub.status.idle": "2024-04-30T20:01:20.340295Z",
     "shell.execute_reply": "2024-04-30T20:01:20.340295Z"
    }
   },
   "outputs": [
    {
     "name": "stdout",
     "output_type": "stream",
     "text": [
      "       100   1829.55743  30.00000000%\n",
      "       105   3193.75808  30.00000000%\n",
      "       110   4911.11646  30.00000000%\n",
      "       115   6871.65771  30.00000000%\n",
      "       120   8973.35932  30.00000000%\n",
      "       125  11145.62429  30.00000000%\n",
      "       130  13348.83063  30.00000000%\n",
      "       135  15564.12776  30.00000000%\n",
      "       140  17783.69318  30.00000000%\n",
      "       145  20004.63617  30.00000000%\n",
      "       150  22225.98988  30.00000000%\n",
      "       155  24447.45776  30.00000000%\n",
      "       160  26668.95546  30.00000000%\n",
      "       165  28890.46054  30.00000000%\n",
      "       170  31111.96736  30.00000000%\n",
      "       175  33333.47457  30.00000000%\n",
      "       180  35554.98186  30.00000000%\n",
      "       185  37776.48917  30.00000000%\n",
      "       190  39997.99649  30.00000000%\n",
      "       195  42219.50381  30.00000000%\n",
      "       200  44441.01112  30.00000000%\n"
     ]
    }
   ],
   "source": [
    "for strike in np.linspace(100, 200, 21):\n",
    "    cdsOption = CDSOption(expiry_dt, maturity_dt, strike / 10000.0,  notional, False)\n",
    "    v = cdsOption.value(value_dt, issuer_curve, volatility)\n",
    "    vol = cdsOption.implied_volatility(value_dt, issuer_curve, v)\n",
    "    print(\"%10d %12.5f %12.8f%%\" %(strike, v, vol*100))"
   ]
  },
  {
   "cell_type": "markdown",
   "metadata": {},
   "source": [
    "We recovery the used volatility as required."
   ]
  },
  {
   "cell_type": "markdown",
   "metadata": {},
   "source": [
    "Copyright (c) 2020 Dominic O'Kane"
   ]
  }
 ],
 "metadata": {
  "kernelspec": {
   "display_name": "Python 3",
   "language": "python",
   "name": "python3"
  },
  "language_info": {
   "codemirror_mode": {
    "name": "ipython",
    "version": 3
   },
   "file_extension": ".py",
   "mimetype": "text/x-python",
   "name": "python",
   "nbconvert_exporter": "python",
   "pygments_lexer": "ipython3",
   "version": "3.11.5"
  }
 },
 "nbformat": 4,
 "nbformat_minor": 2
}
