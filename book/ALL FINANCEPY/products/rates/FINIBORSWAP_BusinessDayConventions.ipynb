{
 "cells": [
  {
   "cell_type": "markdown",
   "metadata": {},
   "source": [
    "# Building a Libor Curve - Business Day Conventions"
   ]
  },
  {
   "cell_type": "markdown",
   "metadata": {},
   "source": [
    "Examining role of conventions in determining swap flowsm"
   ]
  },
  {
   "cell_type": "code",
   "execution_count": 1,
   "metadata": {
    "execution": {
     "iopub.execute_input": "2024-04-30T20:34:07.845012Z",
     "iopub.status.busy": "2024-04-30T20:34:07.844014Z",
     "iopub.status.idle": "2024-04-30T20:34:08.455729Z",
     "shell.execute_reply": "2024-04-30T20:34:08.455729Z"
    }
   },
   "outputs": [],
   "source": [
    "import numpy as np\n",
    "import matplotlib.pyplot as plt"
   ]
  },
  {
   "cell_type": "code",
   "execution_count": 2,
   "metadata": {
    "execution": {
     "iopub.execute_input": "2024-04-30T20:34:08.458758Z",
     "iopub.status.busy": "2024-04-30T20:34:08.457732Z",
     "iopub.status.idle": "2024-04-30T20:34:09.872769Z",
     "shell.execute_reply": "2024-04-30T20:34:09.872769Z"
    }
   },
   "outputs": [
    {
     "name": "stdout",
     "output_type": "stream",
     "text": [
      "####################################################################\n",
      "#  FINANCEPY BETA Version 0.350 - This build: 30 Apr 2024 at 22:32 #\n",
      "#     This software is distributed FREE AND WITHOUT ANY WARRANTY   #\n",
      "#  Report bugs as issues at https://github.com/domokane/FinancePy  #\n",
      "####################################################################\n",
      "\n"
     ]
    }
   ],
   "source": [
    "from financepy.utils import *\n",
    "from financepy.products.rates import *"
   ]
  },
  {
   "cell_type": "markdown",
   "metadata": {},
   "source": [
    "## Creating the Swap"
   ]
  },
  {
   "cell_type": "code",
   "execution_count": 3,
   "metadata": {
    "execution": {
     "iopub.execute_input": "2024-04-30T20:34:09.875815Z",
     "iopub.status.busy": "2024-04-30T20:34:09.875815Z",
     "iopub.status.idle": "2024-04-30T20:34:09.894628Z",
     "shell.execute_reply": "2024-04-30T20:34:09.894628Z"
    }
   },
   "outputs": [],
   "source": [
    "value_dt = Date(26, 2, 2008)"
   ]
  },
  {
   "cell_type": "code",
   "execution_count": 4,
   "metadata": {
    "execution": {
     "iopub.execute_input": "2024-04-30T20:34:09.896663Z",
     "iopub.status.busy": "2024-04-30T20:34:09.896663Z",
     "iopub.status.idle": "2024-04-30T20:34:09.899514Z",
     "shell.execute_reply": "2024-04-30T20:34:09.899514Z"
    }
   },
   "outputs": [],
   "source": [
    "swap_type = SwapTypes.PAY"
   ]
  },
  {
   "cell_type": "code",
   "execution_count": 5,
   "metadata": {
    "execution": {
     "iopub.execute_input": "2024-04-30T20:34:09.902077Z",
     "iopub.status.busy": "2024-04-30T20:34:09.902077Z",
     "iopub.status.idle": "2024-04-30T20:34:09.904447Z",
     "shell.execute_reply": "2024-04-30T20:34:09.904447Z"
    }
   },
   "outputs": [],
   "source": [
    "spot_days = 2"
   ]
  },
  {
   "cell_type": "code",
   "execution_count": 6,
   "metadata": {
    "execution": {
     "iopub.execute_input": "2024-04-30T20:34:09.906494Z",
     "iopub.status.busy": "2024-04-30T20:34:09.906494Z",
     "iopub.status.idle": "2024-04-30T20:34:09.914445Z",
     "shell.execute_reply": "2024-04-30T20:34:09.914445Z"
    }
   },
   "outputs": [],
   "source": [
    "effective_dt = value_dt.add_weekdays(spot_days)"
   ]
  },
  {
   "cell_type": "code",
   "execution_count": 7,
   "metadata": {
    "execution": {
     "iopub.execute_input": "2024-04-30T20:34:09.916495Z",
     "iopub.status.busy": "2024-04-30T20:34:09.916495Z",
     "iopub.status.idle": "2024-04-30T20:34:09.919539Z",
     "shell.execute_reply": "2024-04-30T20:34:09.919539Z"
    }
   },
   "outputs": [],
   "source": [
    "maturity_dt = Date(28, 2, 2011)"
   ]
  },
  {
   "cell_type": "code",
   "execution_count": 8,
   "metadata": {
    "execution": {
     "iopub.execute_input": "2024-04-30T20:34:09.921569Z",
     "iopub.status.busy": "2024-04-30T20:34:09.921569Z",
     "iopub.status.idle": "2024-04-30T20:34:09.924893Z",
     "shell.execute_reply": "2024-04-30T20:34:09.924395Z"
    }
   },
   "outputs": [],
   "source": [
    "swap_rate = 0.050"
   ]
  },
  {
   "cell_type": "markdown",
   "metadata": {},
   "source": [
    "### Calendar Types is NONE"
   ]
  },
  {
   "cell_type": "code",
   "execution_count": 9,
   "metadata": {
    "execution": {
     "iopub.execute_input": "2024-04-30T20:34:09.926891Z",
     "iopub.status.busy": "2024-04-30T20:34:09.926891Z",
     "iopub.status.idle": "2024-04-30T20:34:09.930322Z",
     "shell.execute_reply": "2024-04-30T20:34:09.930322Z"
    }
   },
   "outputs": [],
   "source": [
    "swap = IborSwap(effective_dt, \n",
    "                    maturity_dt, \n",
    "                    swap_type,\n",
    "                    swap_rate, \n",
    "                    fixed_freq_type=FrequencyTypes.SEMI_ANNUAL, \n",
    "                    fixed_dc_type= DayCountTypes.ACT_360,\n",
    "                    cal_type = CalendarTypes.NONE, \n",
    "                    bd_type=BusDayAdjustTypes.MODIFIED_FOLLOWING)"
   ]
  },
  {
   "cell_type": "code",
   "execution_count": 10,
   "metadata": {
    "execution": {
     "iopub.execute_input": "2024-04-30T20:34:09.932864Z",
     "iopub.status.busy": "2024-04-30T20:34:09.932864Z",
     "iopub.status.idle": "2024-04-30T20:34:09.939304Z",
     "shell.execute_reply": "2024-04-30T20:34:09.938851Z"
    }
   },
   "outputs": [
    {
     "name": "stdout",
     "output_type": "stream",
     "text": [
      "START DATE: 28-FEB-2008\n",
      "MATURITY DATE: 28-FEB-2011\n",
      "COUPON (%): 5.0\n",
      "FREQUENCY: FrequencyTypes.SEMI_ANNUAL\n",
      "DAY COUNT: DayCountTypes.ACT_360\n",
      "\n",
      "PAYMENTS SCHEDULE:\n",
      "+---------+-------------+-------------+-------------+-------+----------+------+----------+\n",
      "| PAY_NUM |    PAY_dt   |  ACCR_START |   ACCR_END  |  DAYS | YEARFRAC | RATE |   PMNT   |\n",
      "+---------+-------------+-------------+-------------+-------+----------+------+----------+\n",
      "|    1    | 28-AUG-2008 | 28-FEB-2008 | 28-AUG-2008 | 182.0 |  0.5056  | 5.0  | 25277.78 |\n",
      "|    2    | 28-FEB-2009 | 28-AUG-2008 | 28-FEB-2009 | 184.0 |  0.5111  | 5.0  | 25555.56 |\n",
      "|    3    | 28-AUG-2009 | 28-FEB-2009 | 28-AUG-2009 | 181.0 |  0.5028  | 5.0  | 25138.89 |\n",
      "|    4    | 28-FEB-2010 | 28-AUG-2009 | 28-FEB-2010 | 184.0 |  0.5111  | 5.0  | 25555.56 |\n",
      "|    5    | 28-AUG-2010 | 28-FEB-2010 | 28-AUG-2010 | 181.0 |  0.5028  | 5.0  | 25138.89 |\n",
      "|    6    | 28-FEB-2011 | 28-AUG-2010 | 28-FEB-2011 | 184.0 |  0.5111  | 5.0  | 25555.56 |\n",
      "+---------+-------------+-------------+-------------+-------+----------+------+----------+\n",
      "START DATE: 28-FEB-2008\n",
      "MATURITY DATE: 28-FEB-2011\n",
      "SPREAD (bp): 0.0\n",
      "FREQUENCY: FrequencyTypes.QUARTERLY\n",
      "DAY COUNT: DayCountTypes.THIRTY_E_360\n",
      "\n",
      "PAYMENTS SCHEDULE:\n",
      "+---------+-------------+-------------+-------------+------+----------+\n",
      "| PAY_NUM |    PAY_dt   |  ACCR_START |   ACCR_END  | DAYS | YEARFRAC |\n",
      "+---------+-------------+-------------+-------------+------+----------+\n",
      "|    1    | 28-MAY-2008 | 28-FEB-2008 | 28-MAY-2008 |  90  |   0.25   |\n",
      "|    2    | 28-AUG-2008 | 28-MAY-2008 | 28-AUG-2008 |  90  |   0.25   |\n",
      "|    3    | 28-NOV-2008 | 28-AUG-2008 | 28-NOV-2008 |  90  |   0.25   |\n",
      "|    4    | 28-FEB-2009 | 28-NOV-2008 | 28-FEB-2009 |  90  |   0.25   |\n",
      "|    5    | 28-MAY-2009 | 28-FEB-2009 | 28-MAY-2009 |  90  |   0.25   |\n",
      "|    6    | 28-AUG-2009 | 28-MAY-2009 | 28-AUG-2009 |  90  |   0.25   |\n",
      "|    7    | 28-NOV-2009 | 28-AUG-2009 | 28-NOV-2009 |  90  |   0.25   |\n",
      "|    8    | 28-FEB-2010 | 28-NOV-2009 | 28-FEB-2010 |  90  |   0.25   |\n",
      "|    9    | 28-MAY-2010 | 28-FEB-2010 | 28-MAY-2010 |  90  |   0.25   |\n",
      "|    10   | 28-AUG-2010 | 28-MAY-2010 | 28-AUG-2010 |  90  |   0.25   |\n",
      "|    11   | 28-NOV-2010 | 28-AUG-2010 | 28-NOV-2010 |  90  |   0.25   |\n",
      "|    12   | 28-FEB-2011 | 28-NOV-2010 | 28-FEB-2011 |  90  |   0.25   |\n",
      "+---------+-------------+-------------+-------------+------+----------+\n"
     ]
    }
   ],
   "source": [
    "swap.print_payments()"
   ]
  },
  {
   "cell_type": "markdown",
   "metadata": {},
   "source": [
    "### Calendar Types is WEEKEND and Adjustment is MODIFIED FOLLOWING"
   ]
  },
  {
   "cell_type": "code",
   "execution_count": 11,
   "metadata": {
    "execution": {
     "iopub.execute_input": "2024-04-30T20:34:09.941331Z",
     "iopub.status.busy": "2024-04-30T20:34:09.941331Z",
     "iopub.status.idle": "2024-04-30T20:34:09.945569Z",
     "shell.execute_reply": "2024-04-30T20:34:09.944908Z"
    }
   },
   "outputs": [],
   "source": [
    "swap = IborSwap(effective_dt, \n",
    "                    maturity_dt,\n",
    "                    swap_type,\n",
    "                    swap_rate,\n",
    "                    fixed_freq_type=FrequencyTypes.SEMI_ANNUAL, \n",
    "                    fixed_dc_type= DayCountTypes.ACT_360,\n",
    "                    cal_type = CalendarTypes.WEEKEND, \n",
    "                    bd_type=BusDayAdjustTypes.MODIFIED_FOLLOWING)"
   ]
  },
  {
   "cell_type": "code",
   "execution_count": 12,
   "metadata": {
    "execution": {
     "iopub.execute_input": "2024-04-30T20:34:09.947596Z",
     "iopub.status.busy": "2024-04-30T20:34:09.947596Z",
     "iopub.status.idle": "2024-04-30T20:34:09.953581Z",
     "shell.execute_reply": "2024-04-30T20:34:09.953581Z"
    }
   },
   "outputs": [
    {
     "name": "stdout",
     "output_type": "stream",
     "text": [
      "START DATE: 28-FEB-2008\n",
      "MATURITY DATE: 28-FEB-2011\n",
      "COUPON (%): 5.0\n",
      "FREQUENCY: FrequencyTypes.SEMI_ANNUAL\n",
      "DAY COUNT: DayCountTypes.ACT_360\n",
      "\n",
      "PAYMENTS SCHEDULE:\n",
      "+---------+-------------+-------------+-------------+-------+----------+------+----------+\n",
      "| PAY_NUM |    PAY_dt   |  ACCR_START |   ACCR_END  |  DAYS | YEARFRAC | RATE |   PMNT   |\n",
      "+---------+-------------+-------------+-------------+-------+----------+------+----------+\n",
      "|    1    | 28-AUG-2008 | 28-FEB-2008 | 28-AUG-2008 | 182.0 |  0.5056  | 5.0  | 25277.78 |\n",
      "|    2    | 27-FEB-2009 | 28-AUG-2008 | 27-FEB-2009 | 183.0 |  0.5083  | 5.0  | 25416.67 |\n",
      "|    3    | 28-AUG-2009 | 27-FEB-2009 | 28-AUG-2009 | 182.0 |  0.5056  | 5.0  | 25277.78 |\n",
      "|    4    | 26-FEB-2010 | 28-AUG-2009 | 26-FEB-2010 | 182.0 |  0.5056  | 5.0  | 25277.78 |\n",
      "|    5    | 30-AUG-2010 | 26-FEB-2010 | 30-AUG-2010 | 185.0 |  0.5139  | 5.0  | 25694.44 |\n",
      "|    6    | 28-FEB-2011 | 30-AUG-2010 | 28-FEB-2011 | 182.0 |  0.5056  | 5.0  | 25277.78 |\n",
      "+---------+-------------+-------------+-------------+-------+----------+------+----------+\n",
      "START DATE: 28-FEB-2008\n",
      "MATURITY DATE: 28-FEB-2011\n",
      "SPREAD (bp): 0.0\n",
      "FREQUENCY: FrequencyTypes.QUARTERLY\n",
      "DAY COUNT: DayCountTypes.THIRTY_E_360\n",
      "\n",
      "PAYMENTS SCHEDULE:\n",
      "+---------+-------------+-------------+-------------+------+----------+\n",
      "| PAY_NUM |    PAY_dt   |  ACCR_START |   ACCR_END  | DAYS | YEARFRAC |\n",
      "+---------+-------------+-------------+-------------+------+----------+\n",
      "|    1    | 28-MAY-2008 | 28-FEB-2008 | 28-MAY-2008 |  90  |   0.25   |\n",
      "|    2    | 28-AUG-2008 | 28-MAY-2008 | 28-AUG-2008 |  90  |   0.25   |\n",
      "|    3    | 28-NOV-2008 | 28-AUG-2008 | 28-NOV-2008 |  90  |   0.25   |\n",
      "|    4    | 27-FEB-2009 | 28-NOV-2008 | 27-FEB-2009 |  89  |  0.2472  |\n",
      "|    5    | 28-MAY-2009 | 27-FEB-2009 | 28-MAY-2009 |  91  |  0.2528  |\n",
      "|    6    | 28-AUG-2009 | 28-MAY-2009 | 28-AUG-2009 |  90  |   0.25   |\n",
      "|    7    | 30-NOV-2009 | 28-AUG-2009 | 30-NOV-2009 |  92  |  0.2556  |\n",
      "|    8    | 26-FEB-2010 | 30-NOV-2009 | 26-FEB-2010 |  86  |  0.2389  |\n",
      "|    9    | 28-MAY-2010 | 26-FEB-2010 | 28-MAY-2010 |  92  |  0.2556  |\n",
      "|    10   | 30-AUG-2010 | 28-MAY-2010 | 30-AUG-2010 |  92  |  0.2556  |\n",
      "|    11   | 29-NOV-2010 | 30-AUG-2010 | 29-NOV-2010 |  89  |  0.2472  |\n",
      "|    12   | 28-FEB-2011 | 29-NOV-2010 | 28-FEB-2011 |  89  |  0.2472  |\n",
      "+---------+-------------+-------------+-------------+------+----------+\n"
     ]
    }
   ],
   "source": [
    "swap.print_payments()"
   ]
  },
  {
   "cell_type": "markdown",
   "metadata": {},
   "source": [
    "Copyright (c) 2020 Dominic O'Kane"
   ]
  }
 ],
 "metadata": {
  "kernelspec": {
   "display_name": "Python 3",
   "language": "python",
   "name": "python3"
  },
  "language_info": {
   "codemirror_mode": {
    "name": "ipython",
    "version": 3
   },
   "file_extension": ".py",
   "mimetype": "text/x-python",
   "name": "python",
   "nbconvert_exporter": "python",
   "pygments_lexer": "ipython3",
   "version": "3.11.5"
  }
 },
 "nbformat": 4,
 "nbformat_minor": 4
}
