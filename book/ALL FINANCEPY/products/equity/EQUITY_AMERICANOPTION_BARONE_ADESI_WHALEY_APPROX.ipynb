{
 "cells": [
  {
   "cell_type": "markdown",
   "metadata": {},
   "source": [
    "# EQUITY AMERICAN OPTION - BAW APPROXIMATION"
   ]
  },
  {
   "cell_type": "markdown",
   "metadata": {},
   "source": [
    "Valuation and Risk of American-style options on equity using BAW approximation"
   ]
  },
  {
   "cell_type": "code",
   "execution_count": 1,
   "metadata": {
    "execution": {
     "iopub.execute_input": "2024-04-30T20:02:03.300462Z",
     "iopub.status.busy": "2024-04-30T20:02:03.299467Z",
     "iopub.status.idle": "2024-04-30T20:02:03.922565Z",
     "shell.execute_reply": "2024-04-30T20:02:03.922565Z"
    }
   },
   "outputs": [],
   "source": [
    "import numpy as np\n",
    "import matplotlib.pyplot as plt"
   ]
  },
  {
   "cell_type": "code",
   "execution_count": 2,
   "metadata": {
    "execution": {
     "iopub.execute_input": "2024-04-30T20:02:03.925592Z",
     "iopub.status.busy": "2024-04-30T20:02:03.925592Z",
     "iopub.status.idle": "2024-04-30T20:02:10.532955Z",
     "shell.execute_reply": "2024-04-30T20:02:10.532955Z"
    }
   },
   "outputs": [
    {
     "name": "stdout",
     "output_type": "stream",
     "text": [
      "####################################################################\n",
      "#  FINANCEPY BETA Version 0.350 - This build: 30 Apr 2024 at 21:20 #\n",
      "#     This software is distributed FREE AND WITHOUT ANY WARRANTY   #\n",
      "#  Report bugs as issues at https://github.com/domokane/FinancePy  #\n",
      "####################################################################\n",
      "\n"
     ]
    }
   ],
   "source": [
    "from financepy.utils import *\n",
    "from financepy.market.curves.discount_curve_flat import *\n",
    "from financepy.products.equity import *\n",
    "from financepy.models.black_scholes import *"
   ]
  },
  {
   "cell_type": "markdown",
   "metadata": {},
   "source": [
    "# Define the Call and Put Options"
   ]
  },
  {
   "cell_type": "code",
   "execution_count": 3,
   "metadata": {
    "execution": {
     "iopub.execute_input": "2024-04-30T20:02:10.535984Z",
     "iopub.status.busy": "2024-04-30T20:02:10.535984Z",
     "iopub.status.idle": "2024-04-30T20:02:10.555477Z",
     "shell.execute_reply": "2024-04-30T20:02:10.555477Z"
    }
   },
   "outputs": [],
   "source": [
    "value_dt = Date(8, 5, 2015)"
   ]
  },
  {
   "cell_type": "code",
   "execution_count": 4,
   "metadata": {
    "execution": {
     "iopub.execute_input": "2024-04-30T20:02:10.558475Z",
     "iopub.status.busy": "2024-04-30T20:02:10.557510Z",
     "iopub.status.idle": "2024-04-30T20:02:10.560491Z",
     "shell.execute_reply": "2024-04-30T20:02:10.560491Z"
    }
   },
   "outputs": [],
   "source": [
    "expiry_dt = Date(15, 1, 2016)"
   ]
  },
  {
   "cell_type": "code",
   "execution_count": 5,
   "metadata": {
    "execution": {
     "iopub.execute_input": "2024-04-30T20:02:10.563147Z",
     "iopub.status.busy": "2024-04-30T20:02:10.563147Z",
     "iopub.status.idle": "2024-04-30T20:02:10.565737Z",
     "shell.execute_reply": "2024-04-30T20:02:10.565737Z"
    }
   },
   "outputs": [],
   "source": [
    "strike_price = 130"
   ]
  },
  {
   "cell_type": "markdown",
   "metadata": {},
   "source": [
    "Create the call Option"
   ]
  },
  {
   "cell_type": "code",
   "execution_count": 6,
   "metadata": {
    "execution": {
     "iopub.execute_input": "2024-04-30T20:02:10.568766Z",
     "iopub.status.busy": "2024-04-30T20:02:10.567738Z",
     "iopub.status.idle": "2024-04-30T20:02:10.570945Z",
     "shell.execute_reply": "2024-04-30T20:02:10.570945Z"
    }
   },
   "outputs": [],
   "source": [
    "amCallOption = EquityAmericanOption(expiry_dt, strike_price, OptionTypes.AMERICAN_CALL)"
   ]
  },
  {
   "cell_type": "code",
   "execution_count": 7,
   "metadata": {
    "execution": {
     "iopub.execute_input": "2024-04-30T20:02:10.573553Z",
     "iopub.status.busy": "2024-04-30T20:02:10.572523Z",
     "iopub.status.idle": "2024-04-30T20:02:10.576032Z",
     "shell.execute_reply": "2024-04-30T20:02:10.576032Z"
    }
   },
   "outputs": [
    {
     "name": "stdout",
     "output_type": "stream",
     "text": [
      "OBJECT TYPE: EquityAmericanOption\n",
      "EXPIRY DATE: 15-JAN-2016\n",
      "STRIKE PRICE: 130\n",
      "OPTION TYPE: OptionTypes.AMERICAN_CALL\n",
      "NUMBER: 1.0\n"
     ]
    }
   ],
   "source": [
    "print(amCallOption)"
   ]
  },
  {
   "cell_type": "markdown",
   "metadata": {},
   "source": [
    "We can also define an American option with a European payoff - this way we will use the same CRR tree for the pricing."
   ]
  },
  {
   "cell_type": "code",
   "execution_count": 8,
   "metadata": {
    "execution": {
     "iopub.execute_input": "2024-04-30T20:02:10.578062Z",
     "iopub.status.busy": "2024-04-30T20:02:10.578062Z",
     "iopub.status.idle": "2024-04-30T20:02:10.581375Z",
     "shell.execute_reply": "2024-04-30T20:02:10.581375Z"
    }
   },
   "outputs": [],
   "source": [
    "euCallOption = EquityAmericanOption(expiry_dt, strike_price, OptionTypes.EUROPEAN_CALL)"
   ]
  },
  {
   "cell_type": "markdown",
   "metadata": {},
   "source": [
    "We can also define an actual vanilla call option which will be priced using Black Scholes."
   ]
  },
  {
   "cell_type": "code",
   "execution_count": 9,
   "metadata": {
    "execution": {
     "iopub.execute_input": "2024-04-30T20:02:10.584044Z",
     "iopub.status.busy": "2024-04-30T20:02:10.584044Z",
     "iopub.status.idle": "2024-04-30T20:02:10.586402Z",
     "shell.execute_reply": "2024-04-30T20:02:10.586402Z"
    }
   },
   "outputs": [],
   "source": [
    "call_option = EquityVanillaOption(expiry_dt, strike_price, OptionTypes.EUROPEAN_CALL)"
   ]
  },
  {
   "cell_type": "markdown",
   "metadata": {},
   "source": [
    "Now we can explore the pricing of all three to check for consistency and tree convergence."
   ]
  },
  {
   "cell_type": "markdown",
   "metadata": {},
   "source": [
    "## Valuation"
   ]
  },
  {
   "cell_type": "code",
   "execution_count": 10,
   "metadata": {
    "execution": {
     "iopub.execute_input": "2024-04-30T20:02:10.588433Z",
     "iopub.status.busy": "2024-04-30T20:02:10.588433Z",
     "iopub.status.idle": "2024-04-30T20:02:10.591398Z",
     "shell.execute_reply": "2024-04-30T20:02:10.591398Z"
    }
   },
   "outputs": [],
   "source": [
    "stock_price = 127.62\n",
    "volatility = 0.20\n",
    "interest_rate = 0.001\n",
    "dividend_yield = 0.0163"
   ]
  },
  {
   "cell_type": "code",
   "execution_count": 11,
   "metadata": {
    "execution": {
     "iopub.execute_input": "2024-04-30T20:02:10.593398Z",
     "iopub.status.busy": "2024-04-30T20:02:10.593398Z",
     "iopub.status.idle": "2024-04-30T20:02:10.602092Z",
     "shell.execute_reply": "2024-04-30T20:02:10.602092Z"
    }
   },
   "outputs": [],
   "source": [
    "discount_curve = DiscountCurveFlat(value_dt, interest_rate,\n",
    "                                     FrequencyTypes.CONTINUOUS, \n",
    "                                     DayCountTypes.ACT_365F)"
   ]
  },
  {
   "cell_type": "code",
   "execution_count": 12,
   "metadata": {
    "execution": {
     "iopub.execute_input": "2024-04-30T20:02:10.604756Z",
     "iopub.status.busy": "2024-04-30T20:02:10.604756Z",
     "iopub.status.idle": "2024-04-30T20:02:10.608324Z",
     "shell.execute_reply": "2024-04-30T20:02:10.608324Z"
    }
   },
   "outputs": [],
   "source": [
    "dividend_curve = DiscountCurveFlat(value_dt, dividend_yield)"
   ]
  },
  {
   "cell_type": "markdown",
   "metadata": {},
   "source": [
    "We now define the model. This is Black-Scholes. We can also specify the number of steps to use on the tree,"
   ]
  },
  {
   "cell_type": "code",
   "execution_count": 13,
   "metadata": {
    "execution": {
     "iopub.execute_input": "2024-04-30T20:02:10.610354Z",
     "iopub.status.busy": "2024-04-30T20:02:10.610354Z",
     "iopub.status.idle": "2024-04-30T20:02:10.613151Z",
     "shell.execute_reply": "2024-04-30T20:02:10.613151Z"
    }
   },
   "outputs": [],
   "source": [
    "num_steps_per_year = 400"
   ]
  },
  {
   "cell_type": "code",
   "execution_count": 14,
   "metadata": {
    "execution": {
     "iopub.execute_input": "2024-04-30T20:02:10.615601Z",
     "iopub.status.busy": "2024-04-30T20:02:10.615601Z",
     "iopub.status.idle": "2024-04-30T20:02:10.618110Z",
     "shell.execute_reply": "2024-04-30T20:02:10.618110Z"
    }
   },
   "outputs": [],
   "source": [
    "modelTree = BlackScholes(volatility, \n",
    "                                 BlackScholesTypes.CRR_TREE, \n",
    "                                 num_steps_per_year )"
   ]
  },
  {
   "cell_type": "code",
   "execution_count": 15,
   "metadata": {
    "execution": {
     "iopub.execute_input": "2024-04-30T20:02:10.620140Z",
     "iopub.status.busy": "2024-04-30T20:02:10.620140Z",
     "iopub.status.idle": "2024-04-30T20:02:10.627722Z",
     "shell.execute_reply": "2024-04-30T20:02:10.627722Z"
    }
   },
   "outputs": [
    {
     "data": {
      "text/plain": [
       "6.8391380697921615"
      ]
     },
     "execution_count": 15,
     "metadata": {},
     "output_type": "execute_result"
    }
   ],
   "source": [
    "amCallOption.value(value_dt, stock_price, discount_curve, dividend_curve, modelTree)"
   ]
  },
  {
   "cell_type": "code",
   "execution_count": 16,
   "metadata": {
    "execution": {
     "iopub.execute_input": "2024-04-30T20:02:10.630287Z",
     "iopub.status.busy": "2024-04-30T20:02:10.630287Z",
     "iopub.status.idle": "2024-04-30T20:02:10.632831Z",
     "shell.execute_reply": "2024-04-30T20:02:10.632831Z"
    }
   },
   "outputs": [],
   "source": [
    "modelApprox = BlackScholes(volatility, BlackScholesTypes.BARONE_ADESI)"
   ]
  },
  {
   "cell_type": "code",
   "execution_count": 17,
   "metadata": {
    "execution": {
     "iopub.execute_input": "2024-04-30T20:02:10.634861Z",
     "iopub.status.busy": "2024-04-30T20:02:10.634861Z",
     "iopub.status.idle": "2024-04-30T20:02:11.723987Z",
     "shell.execute_reply": "2024-04-30T20:02:11.723987Z"
    }
   },
   "outputs": [
    {
     "data": {
      "text/plain": [
       "6.8277535971580585"
      ]
     },
     "execution_count": 17,
     "metadata": {},
     "output_type": "execute_result"
    }
   ],
   "source": [
    "amCallOption.value(value_dt, stock_price, discount_curve, dividend_curve, modelApprox)"
   ]
  },
  {
   "cell_type": "markdown",
   "metadata": {},
   "source": [
    "Compare it to European using same tree"
   ]
  },
  {
   "cell_type": "code",
   "execution_count": 18,
   "metadata": {
    "execution": {
     "iopub.execute_input": "2024-04-30T20:02:11.727018Z",
     "iopub.status.busy": "2024-04-30T20:02:11.726018Z",
     "iopub.status.idle": "2024-04-30T20:02:11.732678Z",
     "shell.execute_reply": "2024-04-30T20:02:11.732060Z"
    }
   },
   "outputs": [
    {
     "data": {
      "text/plain": [
       "6.751136062156512"
      ]
     },
     "execution_count": 18,
     "metadata": {},
     "output_type": "execute_result"
    }
   ],
   "source": [
    "euCallOption.value(value_dt, stock_price, discount_curve, dividend_curve, modelTree)"
   ]
  },
  {
   "cell_type": "markdown",
   "metadata": {},
   "source": [
    "This is lower as we would expect due to the lack of early exercise. Let's check this against the Black Scholes model analytical form."
   ]
  },
  {
   "cell_type": "code",
   "execution_count": 19,
   "metadata": {
    "execution": {
     "iopub.execute_input": "2024-04-30T20:02:11.734691Z",
     "iopub.status.busy": "2024-04-30T20:02:11.734691Z",
     "iopub.status.idle": "2024-04-30T20:02:11.737392Z",
     "shell.execute_reply": "2024-04-30T20:02:11.737392Z"
    }
   },
   "outputs": [],
   "source": [
    "modelAnal = BlackScholes(volatility, BlackScholesTypes.ANALYTICAL)"
   ]
  },
  {
   "cell_type": "code",
   "execution_count": 20,
   "metadata": {
    "execution": {
     "iopub.execute_input": "2024-04-30T20:02:11.739393Z",
     "iopub.status.busy": "2024-04-30T20:02:11.739393Z",
     "iopub.status.idle": "2024-04-30T20:02:11.744052Z",
     "shell.execute_reply": "2024-04-30T20:02:11.744052Z"
    }
   },
   "outputs": [
    {
     "data": {
      "text/plain": [
       "6.74935662387659"
      ]
     },
     "execution_count": 20,
     "metadata": {},
     "output_type": "execute_result"
    }
   ],
   "source": [
    "call_option.value(value_dt, stock_price, discount_curve, dividend_curve, modelAnal)"
   ]
  },
  {
   "cell_type": "markdown",
   "metadata": {},
   "source": [
    "The price is close to the 6.74927 found by QL - see http://gouthamanbalaraman.com/blog/european-option-binomial-tree-quantlib-python.html. Differences with QL could be due to differences in time calculations. It is also different from the Tree value but that is a tree convergence issue. Let's see how good convergence is."
   ]
  },
  {
   "cell_type": "markdown",
   "metadata": {},
   "source": [
    "## Tree Convergence"
   ]
  },
  {
   "cell_type": "code",
   "execution_count": 21,
   "metadata": {
    "execution": {
     "iopub.execute_input": "2024-04-30T20:02:11.747058Z",
     "iopub.status.busy": "2024-04-30T20:02:11.747058Z",
     "iopub.status.idle": "2024-04-30T20:02:11.749526Z",
     "shell.execute_reply": "2024-04-30T20:02:11.749526Z"
    }
   },
   "outputs": [],
   "source": [
    "num_steps_per_year = range(5, 200, 1)"
   ]
  },
  {
   "cell_type": "code",
   "execution_count": 22,
   "metadata": {
    "execution": {
     "iopub.execute_input": "2024-04-30T20:02:11.751528Z",
     "iopub.status.busy": "2024-04-30T20:02:11.751528Z",
     "iopub.status.idle": "2024-04-30T20:02:11.843456Z",
     "shell.execute_reply": "2024-04-30T20:02:11.843456Z"
    }
   },
   "outputs": [],
   "source": [
    "amTreeValue = []\n",
    "amBAWValue = []\n",
    "euTreeValue = []\n",
    "euAnalValue = []\n",
    "\n",
    "volatility = 0.20\n",
    "\n",
    "for num_steps in num_steps_per_year:\n",
    "\n",
    "    modelTree = BlackScholes(volatility,\n",
    "                                     BlackScholesTypes.CRR_TREE,\n",
    "                                     num_steps)\n",
    "\n",
    "    modelAnal = BlackScholes(volatility, \n",
    "                                     BlackScholesTypes.ANALYTICAL)\n",
    "\n",
    "    modelBAW = BlackScholes(volatility, \n",
    "                                    BlackScholesTypes.BARONE_ADESI)\n",
    "\n",
    "    v_am = amCallOption.value(value_dt, stock_price, discount_curve, dividend_curve, modelTree)\n",
    "    v_eu = euCallOption.value(value_dt, stock_price, discount_curve, dividend_curve, modelTree)\n",
    "    v_bs = call_option.value(value_dt, stock_price, discount_curve, dividend_curve, modelAnal)\n",
    "    v_am_baw = amCallOption.value(value_dt, stock_price, discount_curve, dividend_curve, modelBAW)\n",
    "\n",
    "    amTreeValue.append(v_am)\n",
    "    euTreeValue.append(v_eu)\n",
    "    euAnalValue.append(v_bs)\n",
    "    amBAWValue.append(v_am_baw)\n"
   ]
  },
  {
   "cell_type": "code",
   "execution_count": 23,
   "metadata": {
    "execution": {
     "iopub.execute_input": "2024-04-30T20:02:11.846995Z",
     "iopub.status.busy": "2024-04-30T20:02:11.845961Z",
     "iopub.status.idle": "2024-04-30T20:02:12.108041Z",
     "shell.execute_reply": "2024-04-30T20:02:12.108041Z"
    }
   },
   "outputs": [
    {
     "data": {
      "image/png": "[encoded data removed]",
      "text/plain": [
       "<Figure size 640x480 with 1 Axes>"
      ]
     },
     "metadata": {},
     "output_type": "display_data"
    }
   ],
   "source": [
    "plt.title(\"American Option Price Convergence Analysis\")\n",
    "plt.plot(num_steps_per_year, amTreeValue, label=\"American Tree\")\n",
    "plt.plot(num_steps_per_year, amBAWValue, label=\"American BAW\")\n",
    "plt.plot(num_steps_per_year, euTreeValue, label=\"European Tree\")\n",
    "plt.plot(num_steps_per_year, euAnalValue, label=\"European Anal\", lw =2)\n",
    "plt.xlabel(\"NumSteps\")\n",
    "plt.ylabel(\"Value\")\n",
    "plt.legend();"
   ]
  },
  {
   "cell_type": "markdown",
   "metadata": {},
   "source": [
    "Agreement with QL is very good and tree convergence appears much better - probably assisted by fact that I average even and odd numbers of steps internally."
   ]
  },
  {
   "cell_type": "markdown",
   "metadata": {},
   "source": [
    "Copyright (c) 2020 Dominic O'Kane"
   ]
  }
 ],
 "metadata": {
  "kernelspec": {
   "display_name": "Python 3 (ipykernel)",
   "language": "python",
   "name": "python3"
  },
  "language_info": {
   "codemirror_mode": {
    "name": "ipython",
    "version": 3
   },
   "file_extension": ".py",
   "mimetype": "text/x-python",
   "name": "python",
   "nbconvert_exporter": "python",
   "pygments_lexer": "ipython3",
   "version": "3.11.5"
  }
 },
 "nbformat": 4,
 "nbformat_minor": 2
}
