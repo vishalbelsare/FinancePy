{
 "cells": [
  {
   "cell_type": "markdown",
   "metadata": {},
   "source": [
    "# EQUITY VANILLA EUROPEAN-STYLE OPTIONS"
   ]
  },
  {
   "cell_type": "markdown",
   "metadata": {},
   "source": [
    "Valuation and Risk of a simple Vanilla Equity Option"
   ]
  },
  {
   "cell_type": "code",
   "execution_count": 1,
   "metadata": {
    "execution": {
     "iopub.execute_input": "2024-04-30T20:06:27.904887Z",
     "iopub.status.busy": "2024-04-30T20:06:27.903897Z",
     "iopub.status.idle": "2024-04-30T20:06:28.495969Z",
     "shell.execute_reply": "2024-04-30T20:06:28.495969Z"
    }
   },
   "outputs": [],
   "source": [
    "import numpy as np\n",
    "import matplotlib.pyplot as plt"
   ]
  },
  {
   "cell_type": "code",
   "execution_count": 2,
   "metadata": {
    "execution": {
     "iopub.execute_input": "2024-04-30T20:06:28.497970Z",
     "iopub.status.busy": "2024-04-30T20:06:28.497970Z",
     "iopub.status.idle": "2024-04-30T20:06:35.214208Z",
     "shell.execute_reply": "2024-04-30T20:06:35.213592Z"
    }
   },
   "outputs": [
    {
     "name": "stdout",
     "output_type": "stream",
     "text": [
      "####################################################################\n",
      "#  FINANCEPY BETA Version 0.350 - This build: 30 Apr 2024 at 21:20 #\n",
      "#     This software is distributed FREE AND WITHOUT ANY WARRANTY   #\n",
      "#  Report bugs as issues at https://github.com/domokane/FinancePy  #\n",
      "####################################################################\n",
      "\n"
     ]
    }
   ],
   "source": [
    "from financepy.utils import *\n",
    "from financepy.products.equity import *"
   ]
  },
  {
   "cell_type": "markdown",
   "metadata": {},
   "source": [
    "# Define the Call and Put Options"
   ]
  },
  {
   "cell_type": "code",
   "execution_count": 3,
   "metadata": {
    "execution": {
     "iopub.execute_input": "2024-04-30T20:06:35.216205Z",
     "iopub.status.busy": "2024-04-30T20:06:35.216205Z",
     "iopub.status.idle": "2024-04-30T20:06:35.235983Z",
     "shell.execute_reply": "2024-04-30T20:06:35.235983Z"
    }
   },
   "outputs": [],
   "source": [
    "value_dt = Date(1, 1, 2015)"
   ]
  },
  {
   "cell_type": "code",
   "execution_count": 4,
   "metadata": {
    "execution": {
     "iopub.execute_input": "2024-04-30T20:06:35.238032Z",
     "iopub.status.busy": "2024-04-30T20:06:35.238032Z",
     "iopub.status.idle": "2024-04-30T20:06:35.246089Z",
     "shell.execute_reply": "2024-04-30T20:06:35.246089Z"
    }
   },
   "outputs": [],
   "source": [
    "expiry_dt = value_dt.add_years(0.5)"
   ]
  },
  {
   "cell_type": "code",
   "execution_count": 5,
   "metadata": {
    "execution": {
     "iopub.execute_input": "2024-04-30T20:06:35.248121Z",
     "iopub.status.busy": "2024-04-30T20:06:35.248121Z",
     "iopub.status.idle": "2024-04-30T20:06:35.253604Z",
     "shell.execute_reply": "2024-04-30T20:06:35.253604Z"
    }
   },
   "outputs": [
    {
     "data": {
      "text/plain": [
       "01-JUL-2015"
      ]
     },
     "execution_count": 5,
     "metadata": {},
     "output_type": "execute_result"
    }
   ],
   "source": [
    "expiry_dt"
   ]
  },
  {
   "cell_type": "code",
   "execution_count": 6,
   "metadata": {
    "execution": {
     "iopub.execute_input": "2024-04-30T20:06:35.255258Z",
     "iopub.status.busy": "2024-04-30T20:06:35.255258Z",
     "iopub.status.idle": "2024-04-30T20:06:35.259072Z",
     "shell.execute_reply": "2024-04-30T20:06:35.258479Z"
    }
   },
   "outputs": [],
   "source": [
    "strike_price = 50.0"
   ]
  },
  {
   "cell_type": "code",
   "execution_count": 7,
   "metadata": {
    "execution": {
     "iopub.execute_input": "2024-04-30T20:06:35.261070Z",
     "iopub.status.busy": "2024-04-30T20:06:35.261070Z",
     "iopub.status.idle": "2024-04-30T20:06:35.264228Z",
     "shell.execute_reply": "2024-04-30T20:06:35.264228Z"
    }
   },
   "outputs": [],
   "source": [
    "call_option = EquityVanillaOption(expiry_dt, strike_price, OptionTypes.EUROPEAN_CALL)"
   ]
  },
  {
   "cell_type": "code",
   "execution_count": 8,
   "metadata": {
    "execution": {
     "iopub.execute_input": "2024-04-30T20:06:35.266361Z",
     "iopub.status.busy": "2024-04-30T20:06:35.266361Z",
     "iopub.status.idle": "2024-04-30T20:06:35.269315Z",
     "shell.execute_reply": "2024-04-30T20:06:35.269315Z"
    }
   },
   "outputs": [],
   "source": [
    "put_option = EquityVanillaOption(expiry_dt, strike_price, OptionTypes.EUROPEAN_PUT)"
   ]
  },
  {
   "cell_type": "code",
   "execution_count": 9,
   "metadata": {
    "execution": {
     "iopub.execute_input": "2024-04-30T20:06:35.271344Z",
     "iopub.status.busy": "2024-04-30T20:06:35.271344Z",
     "iopub.status.idle": "2024-04-30T20:06:35.275305Z",
     "shell.execute_reply": "2024-04-30T20:06:35.275305Z"
    }
   },
   "outputs": [
    {
     "data": {
      "text/plain": [
       "45.241870901797974"
      ]
     },
     "execution_count": 9,
     "metadata": {},
     "output_type": "execute_result"
    }
   ],
   "source": [
    "50.0*exp(-0.20*0.5)"
   ]
  },
  {
   "cell_type": "code",
   "execution_count": 10,
   "metadata": {
    "execution": {
     "iopub.execute_input": "2024-04-30T20:06:35.277578Z",
     "iopub.status.busy": "2024-04-30T20:06:35.277578Z",
     "iopub.status.idle": "2024-04-30T20:06:35.281148Z",
     "shell.execute_reply": "2024-04-30T20:06:35.280446Z"
    }
   },
   "outputs": [],
   "source": [
    "stock_price = 50\n",
    "volatility = 0.20\n",
    "interest_rate = 0.05\n",
    "dividend_yield = 0.05"
   ]
  },
  {
   "cell_type": "code",
   "execution_count": 11,
   "metadata": {
    "execution": {
     "iopub.execute_input": "2024-04-30T20:06:35.283179Z",
     "iopub.status.busy": "2024-04-30T20:06:35.283179Z",
     "iopub.status.idle": "2024-04-30T20:06:35.288489Z",
     "shell.execute_reply": "2024-04-30T20:06:35.287900Z"
    }
   },
   "outputs": [],
   "source": [
    "discount_curve = DiscountCurveFlat(value_dt, interest_rate, FrequencyTypes.CONTINUOUS)"
   ]
  },
  {
   "cell_type": "code",
   "execution_count": 12,
   "metadata": {
    "execution": {
     "iopub.execute_input": "2024-04-30T20:06:35.290537Z",
     "iopub.status.busy": "2024-04-30T20:06:35.290537Z",
     "iopub.status.idle": "2024-04-30T20:06:35.294392Z",
     "shell.execute_reply": "2024-04-30T20:06:35.294392Z"
    }
   },
   "outputs": [],
   "source": [
    "dividend_curve = DiscountCurveFlat(value_dt, dividend_yield)"
   ]
  },
  {
   "cell_type": "code",
   "execution_count": 13,
   "metadata": {
    "execution": {
     "iopub.execute_input": "2024-04-30T20:06:35.296954Z",
     "iopub.status.busy": "2024-04-30T20:06:35.296954Z",
     "iopub.status.idle": "2024-04-30T20:06:35.300389Z",
     "shell.execute_reply": "2024-04-30T20:06:35.300389Z"
    }
   },
   "outputs": [],
   "source": [
    "volatility = np.linspace(0,100.0,100)"
   ]
  },
  {
   "cell_type": "code",
   "execution_count": 14,
   "metadata": {
    "execution": {
     "iopub.execute_input": "2024-04-30T20:06:35.303385Z",
     "iopub.status.busy": "2024-04-30T20:06:35.303385Z",
     "iopub.status.idle": "2024-04-30T20:06:35.307258Z",
     "shell.execute_reply": "2024-04-30T20:06:35.306495Z"
    }
   },
   "outputs": [],
   "source": [
    "model = BlackScholes(volatility)"
   ]
  },
  {
   "cell_type": "code",
   "execution_count": 15,
   "metadata": {
    "execution": {
     "iopub.execute_input": "2024-04-30T20:06:35.309284Z",
     "iopub.status.busy": "2024-04-30T20:06:35.309284Z",
     "iopub.status.idle": "2024-04-30T20:06:35.314006Z",
     "shell.execute_reply": "2024-04-30T20:06:35.313121Z"
    }
   },
   "outputs": [],
   "source": [
    "call_values = call_option.value(value_dt, stock_price, discount_curve, dividend_curve, model)"
   ]
  },
  {
   "cell_type": "code",
   "execution_count": 16,
   "metadata": {
    "execution": {
     "iopub.execute_input": "2024-04-30T20:06:35.316025Z",
     "iopub.status.busy": "2024-04-30T20:06:35.316025Z",
     "iopub.status.idle": "2024-04-30T20:06:35.319716Z",
     "shell.execute_reply": "2024-04-30T20:06:35.319195Z"
    }
   },
   "outputs": [],
   "source": [
    "put_values = put_option.value(value_dt, stock_price, discount_curve, dividend_curve, model)"
   ]
  },
  {
   "cell_type": "code",
   "execution_count": 17,
   "metadata": {
    "execution": {
     "iopub.execute_input": "2024-04-30T20:06:35.321757Z",
     "iopub.status.busy": "2024-04-30T20:06:35.321757Z",
     "iopub.status.idle": "2024-04-30T20:06:35.326447Z",
     "shell.execute_reply": "2024-04-30T20:06:35.326447Z"
    }
   },
   "outputs": [
    {
     "data": {
      "text/plain": [
       "array([5.12093137e-08, 1.35547241e+01, 2.55148007e+01, 3.48262511e+01,\n",
       "       4.12227438e+01, 4.50998211e+01, 4.71732950e+01, 4.81517017e+01,\n",
       "       4.85590493e+01, 4.87086854e+01, 4.87571846e+01, 4.87710540e+01,\n",
       "       4.87745536e+01, 4.87753327e+01, 4.87754857e+01, 4.87755123e+01,\n",
       "       4.87755163e+01, 4.87755169e+01, 4.87755169e+01, 4.87755169e+01,\n",
       "       4.87755169e+01, 4.87755169e+01, 4.87755169e+01, 4.87755169e+01,\n",
       "       4.87755169e+01, 4.87755169e+01, 4.87755169e+01, 4.87755169e+01,\n",
       "       4.87755169e+01, 4.87755169e+01, 4.87755169e+01, 4.87755169e+01,\n",
       "       4.87755169e+01, 4.87755169e+01, 4.87755169e+01, 4.87755169e+01,\n",
       "       4.87755169e+01, 4.87755169e+01, 4.87755169e+01, 4.87755169e+01,\n",
       "       4.87755169e+01, 4.87755169e+01, 4.87755169e+01, 4.87755169e+01,\n",
       "       4.87755169e+01, 4.87755169e+01, 4.87755169e+01, 4.87755169e+01,\n",
       "       4.87755169e+01, 4.87755169e+01, 4.87755169e+01, 4.87755169e+01,\n",
       "       4.87755169e+01, 4.87755169e+01, 4.87755169e+01, 4.87755169e+01,\n",
       "       4.87755169e+01, 4.87755169e+01, 4.87755169e+01, 4.87755169e+01,\n",
       "       4.87755169e+01, 4.87755169e+01, 4.87755169e+01, 4.87755169e+01,\n",
       "       4.87755169e+01, 4.87755169e+01, 4.87755169e+01, 4.87755169e+01,\n",
       "       4.87755169e+01, 4.87755169e+01, 4.87755169e+01, 4.87755169e+01,\n",
       "       4.87755169e+01, 4.87755169e+01, 4.87755169e+01, 4.87755169e+01,\n",
       "       4.87755169e+01, 4.87755169e+01, 4.87755169e+01, 4.87755169e+01,\n",
       "       4.87755169e+01, 4.87755169e+01, 4.87755169e+01, 4.87755169e+01,\n",
       "       4.87755169e+01, 4.87755169e+01, 4.87755169e+01, 4.87755169e+01,\n",
       "       4.87755169e+01, 4.87755169e+01, 4.87755169e+01, 4.87755169e+01,\n",
       "       4.87755169e+01, 4.87755169e+01, 4.87755169e+01, 4.87755169e+01,\n",
       "       4.87755169e+01, 4.87755169e+01, 4.87755169e+01, 4.87755169e+01])"
      ]
     },
     "execution_count": 17,
     "metadata": {},
     "output_type": "execute_result"
    }
   ],
   "source": [
    "call_values"
   ]
  },
  {
   "cell_type": "code",
   "execution_count": 18,
   "metadata": {
    "execution": {
     "iopub.execute_input": "2024-04-30T20:06:35.328622Z",
     "iopub.status.busy": "2024-04-30T20:06:35.328622Z",
     "iopub.status.idle": "2024-04-30T20:06:35.333236Z",
     "shell.execute_reply": "2024-04-30T20:06:35.333236Z"
    }
   },
   "outputs": [
    {
     "data": {
      "text/plain": [
       "array([5.12093137e-08, 1.35547241e+01, 2.55148007e+01, 3.48262511e+01,\n",
       "       4.12227438e+01, 4.50998211e+01, 4.71732950e+01, 4.81517017e+01,\n",
       "       4.85590493e+01, 4.87086854e+01, 4.87571846e+01, 4.87710540e+01,\n",
       "       4.87745536e+01, 4.87753327e+01, 4.87754857e+01, 4.87755123e+01,\n",
       "       4.87755163e+01, 4.87755169e+01, 4.87755169e+01, 4.87755169e+01,\n",
       "       4.87755169e+01, 4.87755169e+01, 4.87755169e+01, 4.87755169e+01,\n",
       "       4.87755169e+01, 4.87755169e+01, 4.87755169e+01, 4.87755169e+01,\n",
       "       4.87755169e+01, 4.87755169e+01, 4.87755169e+01, 4.87755169e+01,\n",
       "       4.87755169e+01, 4.87755169e+01, 4.87755169e+01, 4.87755169e+01,\n",
       "       4.87755169e+01, 4.87755169e+01, 4.87755169e+01, 4.87755169e+01,\n",
       "       4.87755169e+01, 4.87755169e+01, 4.87755169e+01, 4.87755169e+01,\n",
       "       4.87755169e+01, 4.87755169e+01, 4.87755169e+01, 4.87755169e+01,\n",
       "       4.87755169e+01, 4.87755169e+01, 4.87755169e+01, 4.87755169e+01,\n",
       "       4.87755169e+01, 4.87755169e+01, 4.87755169e+01, 4.87755169e+01,\n",
       "       4.87755169e+01, 4.87755169e+01, 4.87755169e+01, 4.87755169e+01,\n",
       "       4.87755169e+01, 4.87755169e+01, 4.87755169e+01, 4.87755169e+01,\n",
       "       4.87755169e+01, 4.87755169e+01, 4.87755169e+01, 4.87755169e+01,\n",
       "       4.87755169e+01, 4.87755169e+01, 4.87755169e+01, 4.87755169e+01,\n",
       "       4.87755169e+01, 4.87755169e+01, 4.87755169e+01, 4.87755169e+01,\n",
       "       4.87755169e+01, 4.87755169e+01, 4.87755169e+01, 4.87755169e+01,\n",
       "       4.87755169e+01, 4.87755169e+01, 4.87755169e+01, 4.87755169e+01,\n",
       "       4.87755169e+01, 4.87755169e+01, 4.87755169e+01, 4.87755169e+01,\n",
       "       4.87755169e+01, 4.87755169e+01, 4.87755169e+01, 4.87755169e+01,\n",
       "       4.87755169e+01, 4.87755169e+01, 4.87755169e+01, 4.87755169e+01,\n",
       "       4.87755169e+01, 4.87755169e+01, 4.87755169e+01, 4.87755169e+01])"
      ]
     },
     "execution_count": 18,
     "metadata": {},
     "output_type": "execute_result"
    }
   ],
   "source": [
    "put_values"
   ]
  },
  {
   "cell_type": "code",
   "execution_count": 19,
   "metadata": {
    "execution": {
     "iopub.execute_input": "2024-04-30T20:06:35.335237Z",
     "iopub.status.busy": "2024-04-30T20:06:35.335237Z",
     "iopub.status.idle": "2024-04-30T20:06:35.518768Z",
     "shell.execute_reply": "2024-04-30T20:06:35.518768Z"
    }
   },
   "outputs": [
    {
     "data": {
      "text/plain": [
       "<matplotlib.legend.Legend at 0x20f59bbb010>"
      ]
     },
     "execution_count": 19,
     "metadata": {},
     "output_type": "execute_result"
    },
    {
     "data": {
      "image/png": "[encoded data removed]",
      "text/plain": [
       "<Figure size 640x480 with 1 Axes>"
      ]
     },
     "metadata": {},
     "output_type": "display_data"
    }
   ],
   "source": [
    "plt.plot(volatility, call_values, label=\"Call Value\")\n",
    "plt.plot(volatility, put_values, label=\"Put Value\")\n",
    "plt.legend()"
   ]
  },
  {
   "cell_type": "code",
   "execution_count": null,
   "metadata": {},
   "outputs": [],
   "source": []
  }
 ],
 "metadata": {
  "kernelspec": {
   "display_name": "Python 3",
   "language": "python",
   "name": "python3"
  },
  "language_info": {
   "codemirror_mode": {
    "name": "ipython",
    "version": 3
   },
   "file_extension": ".py",
   "mimetype": "text/x-python",
   "name": "python",
   "nbconvert_exporter": "python",
   "pygments_lexer": "ipython3",
   "version": "3.11.5"
  }
 },
 "nbformat": 4,
 "nbformat_minor": 2
}
