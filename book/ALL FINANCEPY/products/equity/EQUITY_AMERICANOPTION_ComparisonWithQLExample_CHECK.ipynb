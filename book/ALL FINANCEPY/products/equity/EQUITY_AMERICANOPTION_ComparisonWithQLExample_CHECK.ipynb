{
 "cells": [
  {
   "cell_type": "markdown",
   "metadata": {},
   "source": [
    "# EQUITY AMERICAN OPTION - QL COMPARISON"
   ]
  },
  {
   "cell_type": "markdown",
   "metadata": {},
   "source": [
    "Valuation and Risk of American-style options on equity compared with example at\n",
    "http://gouthamanbalaraman.com/blog/american-option-pricing-quantlib-python.html"
   ]
  },
  {
   "cell_type": "code",
   "execution_count": 1,
   "metadata": {
    "execution": {
     "iopub.execute_input": "2024-04-30T20:02:37.938756Z",
     "iopub.status.busy": "2024-04-30T20:02:37.937780Z",
     "iopub.status.idle": "2024-04-30T20:02:38.683487Z",
     "shell.execute_reply": "2024-04-30T20:02:38.683487Z"
    }
   },
   "outputs": [],
   "source": [
    "import numpy as np\n",
    "import matplotlib.pyplot as plt"
   ]
  },
  {
   "cell_type": "code",
   "execution_count": 2,
   "metadata": {
    "execution": {
     "iopub.execute_input": "2024-04-30T20:02:38.686520Z",
     "iopub.status.busy": "2024-04-30T20:02:38.686520Z",
     "iopub.status.idle": "2024-04-30T20:02:45.332081Z",
     "shell.execute_reply": "2024-04-30T20:02:45.332081Z"
    }
   },
   "outputs": [
    {
     "name": "stdout",
     "output_type": "stream",
     "text": [
      "####################################################################\n",
      "#  FINANCEPY BETA Version 0.350 - This build: 30 Apr 2024 at 21:20 #\n",
      "#     This software is distributed FREE AND WITHOUT ANY WARRANTY   #\n",
      "#  Report bugs as issues at https://github.com/domokane/FinancePy  #\n",
      "####################################################################\n",
      "\n"
     ]
    }
   ],
   "source": [
    "from financepy.utils import *\n",
    "from financepy.market.curves.discount_curve_flat import *\n",
    "from financepy.products.equity import *\n",
    "from financepy.models.black_scholes import *"
   ]
  },
  {
   "cell_type": "markdown",
   "metadata": {},
   "source": [
    "# Define the Call and Put Options"
   ]
  },
  {
   "cell_type": "code",
   "execution_count": 3,
   "metadata": {
    "execution": {
     "iopub.execute_input": "2024-04-30T20:02:45.335108Z",
     "iopub.status.busy": "2024-04-30T20:02:45.335108Z",
     "iopub.status.idle": "2024-04-30T20:02:45.355908Z",
     "shell.execute_reply": "2024-04-30T20:02:45.355073Z"
    }
   },
   "outputs": [],
   "source": [
    "value_dt = Date(8, 5, 2015)"
   ]
  },
  {
   "cell_type": "code",
   "execution_count": 4,
   "metadata": {
    "execution": {
     "iopub.execute_input": "2024-04-30T20:02:45.357906Z",
     "iopub.status.busy": "2024-04-30T20:02:45.357906Z",
     "iopub.status.idle": "2024-04-30T20:02:45.361548Z",
     "shell.execute_reply": "2024-04-30T20:02:45.361011Z"
    }
   },
   "outputs": [],
   "source": [
    "expiry_dt = Date(15, 1, 2016)"
   ]
  },
  {
   "cell_type": "code",
   "execution_count": 5,
   "metadata": {
    "execution": {
     "iopub.execute_input": "2024-04-30T20:02:45.364542Z",
     "iopub.status.busy": "2024-04-30T20:02:45.363574Z",
     "iopub.status.idle": "2024-04-30T20:02:45.367202Z",
     "shell.execute_reply": "2024-04-30T20:02:45.367202Z"
    }
   },
   "outputs": [],
   "source": [
    "strike_price = 130"
   ]
  },
  {
   "cell_type": "markdown",
   "metadata": {},
   "source": [
    "Create the call Option"
   ]
  },
  {
   "cell_type": "code",
   "execution_count": 6,
   "metadata": {
    "execution": {
     "iopub.execute_input": "2024-04-30T20:02:45.370198Z",
     "iopub.status.busy": "2024-04-30T20:02:45.370198Z",
     "iopub.status.idle": "2024-04-30T20:02:45.373867Z",
     "shell.execute_reply": "2024-04-30T20:02:45.373383Z"
    }
   },
   "outputs": [],
   "source": [
    "amCallOption = EquityAmericanOption(expiry_dt, strike_price, OptionTypes.AMERICAN_CALL)"
   ]
  },
  {
   "cell_type": "code",
   "execution_count": 7,
   "metadata": {
    "execution": {
     "iopub.execute_input": "2024-04-30T20:02:45.375871Z",
     "iopub.status.busy": "2024-04-30T20:02:45.375871Z",
     "iopub.status.idle": "2024-04-30T20:02:45.379248Z",
     "shell.execute_reply": "2024-04-30T20:02:45.379248Z"
    }
   },
   "outputs": [
    {
     "name": "stdout",
     "output_type": "stream",
     "text": [
      "OBJECT TYPE: EquityAmericanOption\n",
      "EXPIRY DATE: 15-JAN-2016\n",
      "STRIKE PRICE: 130\n",
      "OPTION TYPE: OptionTypes.AMERICAN_CALL\n",
      "NUMBER: 1.0\n"
     ]
    }
   ],
   "source": [
    "print(amCallOption)"
   ]
  },
  {
   "cell_type": "markdown",
   "metadata": {},
   "source": [
    "We can also define an American option with a European payoff - this way we will use the same CRR tree for the pricing."
   ]
  },
  {
   "cell_type": "code",
   "execution_count": 8,
   "metadata": {
    "execution": {
     "iopub.execute_input": "2024-04-30T20:02:45.381861Z",
     "iopub.status.busy": "2024-04-30T20:02:45.381861Z",
     "iopub.status.idle": "2024-04-30T20:02:45.384916Z",
     "shell.execute_reply": "2024-04-30T20:02:45.384659Z"
    }
   },
   "outputs": [],
   "source": [
    "euCallOption = EquityAmericanOption(expiry_dt, strike_price, OptionTypes.EUROPEAN_CALL)"
   ]
  },
  {
   "cell_type": "code",
   "execution_count": 9,
   "metadata": {
    "execution": {
     "iopub.execute_input": "2024-04-30T20:02:45.386943Z",
     "iopub.status.busy": "2024-04-30T20:02:45.386943Z",
     "iopub.status.idle": "2024-04-30T20:02:45.390015Z",
     "shell.execute_reply": "2024-04-30T20:02:45.390015Z"
    }
   },
   "outputs": [
    {
     "name": "stdout",
     "output_type": "stream",
     "text": [
      "OBJECT TYPE: EquityAmericanOption\n",
      "EXPIRY DATE: 15-JAN-2016\n",
      "STRIKE PRICE: 130\n",
      "OPTION TYPE: OptionTypes.EUROPEAN_CALL\n",
      "NUMBER: 1.0\n"
     ]
    }
   ],
   "source": [
    "print(euCallOption)"
   ]
  },
  {
   "cell_type": "markdown",
   "metadata": {},
   "source": [
    "We can also define an actual vanilla call option which will be priced using Black Scholes."
   ]
  },
  {
   "cell_type": "code",
   "execution_count": 10,
   "metadata": {
    "execution": {
     "iopub.execute_input": "2024-04-30T20:02:45.392125Z",
     "iopub.status.busy": "2024-04-30T20:02:45.392125Z",
     "iopub.status.idle": "2024-04-30T20:02:45.395844Z",
     "shell.execute_reply": "2024-04-30T20:02:45.395203Z"
    }
   },
   "outputs": [],
   "source": [
    "call_option = EquityVanillaOption(expiry_dt, strike_price, OptionTypes.EUROPEAN_CALL)"
   ]
  },
  {
   "cell_type": "code",
   "execution_count": 11,
   "metadata": {
    "execution": {
     "iopub.execute_input": "2024-04-30T20:02:45.397841Z",
     "iopub.status.busy": "2024-04-30T20:02:45.397841Z",
     "iopub.status.idle": "2024-04-30T20:02:45.400637Z",
     "shell.execute_reply": "2024-04-30T20:02:45.400637Z"
    }
   },
   "outputs": [
    {
     "name": "stdout",
     "output_type": "stream",
     "text": [
      "OBJECT TYPE: EquityVanillaOption\n",
      "EXPIRY DATE: 15-JAN-2016\n",
      "STRIKE PRICE: 130\n",
      "OPTION TYPE VALUE: OptionTypes.EUROPEAN_CALL\n",
      "NUMBER: 1.0\n"
     ]
    }
   ],
   "source": [
    "print(call_option)"
   ]
  },
  {
   "cell_type": "markdown",
   "metadata": {},
   "source": [
    "Now we can explore the pricing of all three to check for consistency and tree convergence."
   ]
  },
  {
   "cell_type": "markdown",
   "metadata": {},
   "source": [
    "## Valuation"
   ]
  },
  {
   "cell_type": "code",
   "execution_count": 12,
   "metadata": {
    "execution": {
     "iopub.execute_input": "2024-04-30T20:02:45.403299Z",
     "iopub.status.busy": "2024-04-30T20:02:45.403299Z",
     "iopub.status.idle": "2024-04-30T20:02:45.406142Z",
     "shell.execute_reply": "2024-04-30T20:02:45.406142Z"
    }
   },
   "outputs": [],
   "source": [
    "stock_price = 127.62\n",
    "volatility = 0.20\n",
    "interest_rate = 0.001\n",
    "dividend_yield = 0.0163"
   ]
  },
  {
   "cell_type": "code",
   "execution_count": 13,
   "metadata": {
    "execution": {
     "iopub.execute_input": "2024-04-30T20:02:45.408173Z",
     "iopub.status.busy": "2024-04-30T20:02:45.408173Z",
     "iopub.status.idle": "2024-04-30T20:02:45.417602Z",
     "shell.execute_reply": "2024-04-30T20:02:45.417006Z"
    }
   },
   "outputs": [],
   "source": [
    "discount_curve = DiscountCurveFlat(value_dt, interest_rate,\n",
    "                                     FrequencyTypes.CONTINUOUS, DayCountTypes.ACT_365F)"
   ]
  },
  {
   "cell_type": "code",
   "execution_count": 14,
   "metadata": {
    "execution": {
     "iopub.execute_input": "2024-04-30T20:02:45.419601Z",
     "iopub.status.busy": "2024-04-30T20:02:45.419601Z",
     "iopub.status.idle": "2024-04-30T20:02:45.423761Z",
     "shell.execute_reply": "2024-04-30T20:02:45.423761Z"
    }
   },
   "outputs": [],
   "source": [
    "dividend_curve = DiscountCurveFlat(value_dt, dividend_yield)"
   ]
  },
  {
   "cell_type": "markdown",
   "metadata": {},
   "source": [
    "We now define the model. This is Black-Scholes. We can also specify the number of steps to use on the tree,"
   ]
  },
  {
   "cell_type": "code",
   "execution_count": 15,
   "metadata": {
    "execution": {
     "iopub.execute_input": "2024-04-30T20:02:45.426791Z",
     "iopub.status.busy": "2024-04-30T20:02:45.426791Z",
     "iopub.status.idle": "2024-04-30T20:02:45.429846Z",
     "shell.execute_reply": "2024-04-30T20:02:45.429607Z"
    }
   },
   "outputs": [],
   "source": [
    "num_steps_per_year = 400"
   ]
  },
  {
   "cell_type": "code",
   "execution_count": 16,
   "metadata": {
    "execution": {
     "iopub.execute_input": "2024-04-30T20:02:45.431844Z",
     "iopub.status.busy": "2024-04-30T20:02:45.431844Z",
     "iopub.status.idle": "2024-04-30T20:02:45.434676Z",
     "shell.execute_reply": "2024-04-30T20:02:45.434676Z"
    }
   },
   "outputs": [],
   "source": [
    "model = BlackScholes(volatility, BlackScholesTypes.DEFAULT, num_steps_per_year)"
   ]
  },
  {
   "cell_type": "code",
   "execution_count": 17,
   "metadata": {
    "execution": {
     "iopub.execute_input": "2024-04-30T20:02:45.437702Z",
     "iopub.status.busy": "2024-04-30T20:02:45.437702Z",
     "iopub.status.idle": "2024-04-30T20:02:45.445431Z",
     "shell.execute_reply": "2024-04-30T20:02:45.445431Z"
    }
   },
   "outputs": [
    {
     "data": {
      "text/plain": [
       "6.8391380697921615"
      ]
     },
     "execution_count": 17,
     "metadata": {},
     "output_type": "execute_result"
    }
   ],
   "source": [
    "amCallOption.value(value_dt, stock_price, discount_curve, dividend_curve, model)"
   ]
  },
  {
   "cell_type": "markdown",
   "metadata": {},
   "source": [
    "Compare it to European using same tree"
   ]
  },
  {
   "cell_type": "code",
   "execution_count": 18,
   "metadata": {
    "execution": {
     "iopub.execute_input": "2024-04-30T20:02:45.448429Z",
     "iopub.status.busy": "2024-04-30T20:02:45.447433Z",
     "iopub.status.idle": "2024-04-30T20:02:45.452635Z",
     "shell.execute_reply": "2024-04-30T20:02:45.452635Z"
    }
   },
   "outputs": [
    {
     "data": {
      "text/plain": [
       "6.751136062156512"
      ]
     },
     "execution_count": 18,
     "metadata": {},
     "output_type": "execute_result"
    }
   ],
   "source": [
    "euCallOption.value(value_dt, stock_price, discount_curve, dividend_curve, model)"
   ]
  },
  {
   "cell_type": "markdown",
   "metadata": {},
   "source": [
    "This is lower as we would expect due to the lack of early exercise. Let's check this against the Black Scholes model analytical form."
   ]
  },
  {
   "cell_type": "code",
   "execution_count": 19,
   "metadata": {
    "execution": {
     "iopub.execute_input": "2024-04-30T20:02:45.455281Z",
     "iopub.status.busy": "2024-04-30T20:02:45.455281Z",
     "iopub.status.idle": "2024-04-30T20:02:45.459161Z",
     "shell.execute_reply": "2024-04-30T20:02:45.459161Z"
    }
   },
   "outputs": [
    {
     "data": {
      "text/plain": [
       "6.74935662387659"
      ]
     },
     "execution_count": 19,
     "metadata": {},
     "output_type": "execute_result"
    }
   ],
   "source": [
    "call_option.value(value_dt, stock_price, discount_curve, dividend_curve, model)"
   ]
  },
  {
   "cell_type": "markdown",
   "metadata": {},
   "source": [
    "The price is close to the 6.74927 found by QL - see http://gouthamanbalaraman.com/blog/european-option-binomial-tree-quantlib-python.html. Differences with QL could be due to differences in time calculations. It is also different from the Tree value but that is a tree convergence issue. Let's see how good convergence is."
   ]
  },
  {
   "cell_type": "markdown",
   "metadata": {},
   "source": [
    "## Tree Convergence"
   ]
  },
  {
   "cell_type": "code",
   "execution_count": 20,
   "metadata": {
    "execution": {
     "iopub.execute_input": "2024-04-30T20:02:45.462189Z",
     "iopub.status.busy": "2024-04-30T20:02:45.462189Z",
     "iopub.status.idle": "2024-04-30T20:02:45.465053Z",
     "shell.execute_reply": "2024-04-30T20:02:45.465053Z"
    }
   },
   "outputs": [],
   "source": [
    "num_steps_per_year = range(5, 200, 1)"
   ]
  },
  {
   "cell_type": "code",
   "execution_count": 21,
   "metadata": {
    "execution": {
     "iopub.execute_input": "2024-04-30T20:02:45.467618Z",
     "iopub.status.busy": "2024-04-30T20:02:45.467618Z",
     "iopub.status.idle": "2024-04-30T20:02:45.541017Z",
     "shell.execute_reply": "2024-04-30T20:02:45.540718Z"
    }
   },
   "outputs": [],
   "source": [
    "amTreeValue = []\n",
    "euTreeValue = []\n",
    "euAnalValue = []\n",
    "volatility = 0.20\n",
    "\n",
    "for num_steps in num_steps_per_year:\n",
    "    model = BlackScholes(volatility, BlackScholesTypes.DEFAULT, num_steps)\n",
    "    v_am = amCallOption.value(value_dt, stock_price, discount_curve, dividend_curve, model)\n",
    "    v_eu = euCallOption.value(value_dt, stock_price, discount_curve, dividend_curve, model)\n",
    "    v_bs = call_option.value(value_dt, stock_price, discount_curve, dividend_curve, model)\n",
    "    \n",
    "    amTreeValue.append(v_am)\n",
    "    euTreeValue.append(v_eu)\n",
    "    euAnalValue.append(v_bs)"
   ]
  },
  {
   "cell_type": "code",
   "execution_count": 22,
   "metadata": {
    "execution": {
     "iopub.execute_input": "2024-04-30T20:02:45.543044Z",
     "iopub.status.busy": "2024-04-30T20:02:45.543044Z",
     "iopub.status.idle": "2024-04-30T20:02:45.795871Z",
     "shell.execute_reply": "2024-04-30T20:02:45.795871Z"
    }
   },
   "outputs": [
    {
     "data": {
      "image/png": "[encoded data removed]",
      "text/plain": [
       "<Figure size 640x480 with 1 Axes>"
      ]
     },
     "metadata": {},
     "output_type": "display_data"
    }
   ],
   "source": [
    "plt.title(\"American Option Price Convergence Analysis\")\n",
    "plt.plot(num_steps_per_year, amTreeValue, label=\"American Tree\")\n",
    "plt.plot(num_steps_per_year, euTreeValue, label=\"European Tree\")\n",
    "plt.plot(num_steps_per_year, euAnalValue, label=\"European Anal\", lw =2)\n",
    "plt.xlabel(\"NumSteps\")\n",
    "plt.ylabel(\"Value\")\n",
    "plt.legend();"
   ]
  },
  {
   "cell_type": "markdown",
   "metadata": {},
   "source": [
    "Agreement with QL is very good and tree convergence appears much better - probably assisted by fact that I average even and odd numbers of steps internally."
   ]
  },
  {
   "cell_type": "markdown",
   "metadata": {},
   "source": [
    "Copyright (c) 2020 Dominic O'Kane"
   ]
  }
 ],
 "metadata": {
  "kernelspec": {
   "display_name": "Python 3",
   "language": "python",
   "name": "python3"
  },
  "language_info": {
   "codemirror_mode": {
    "name": "ipython",
    "version": 3
   },
   "file_extension": ".py",
   "mimetype": "text/x-python",
   "name": "python",
   "nbconvert_exporter": "python",
   "pygments_lexer": "ipython3",
   "version": "3.11.5"
  }
 },
 "nbformat": 4,
 "nbformat_minor": 2
}
