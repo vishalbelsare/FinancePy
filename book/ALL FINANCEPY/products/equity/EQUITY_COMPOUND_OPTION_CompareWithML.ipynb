{
 "cells": [
  {
   "cell_type": "markdown",
   "metadata": {},
   "source": [
    "# EQUITY COMPOUND OPTIONS - VALUATION AND RISK ANALYSIS"
   ]
  },
  {
   "cell_type": "markdown",
   "metadata": {},
   "source": [
    "Valuation and Risk of an Option on an Option following example in https://fr.mathworks.com/help/fininst/compoundbycrr.html"
   ]
  },
  {
   "cell_type": "code",
   "execution_count": 1,
   "metadata": {
    "execution": {
     "iopub.execute_input": "2024-04-30T20:04:12.818219Z",
     "iopub.status.busy": "2024-04-30T20:04:12.818219Z",
     "iopub.status.idle": "2024-04-30T20:04:13.383652Z",
     "shell.execute_reply": "2024-04-30T20:04:13.383652Z"
    }
   },
   "outputs": [],
   "source": [
    "import numpy as np\n",
    "import matplotlib.pyplot as plt"
   ]
  },
  {
   "cell_type": "code",
   "execution_count": 2,
   "metadata": {
    "execution": {
     "iopub.execute_input": "2024-04-30T20:04:13.385670Z",
     "iopub.status.busy": "2024-04-30T20:04:13.385670Z",
     "iopub.status.idle": "2024-04-30T20:04:19.986278Z",
     "shell.execute_reply": "2024-04-30T20:04:19.986278Z"
    }
   },
   "outputs": [
    {
     "name": "stdout",
     "output_type": "stream",
     "text": [
      "####################################################################\n",
      "#  FINANCEPY BETA Version 0.350 - This build: 30 Apr 2024 at 21:20 #\n",
      "#     This software is distributed FREE AND WITHOUT ANY WARRANTY   #\n",
      "#  Report bugs as issues at https://github.com/domokane/FinancePy  #\n",
      "####################################################################\n",
      "\n"
     ]
    }
   ],
   "source": [
    "from financepy.utils import *\n",
    "from financepy.market.curves import *\n",
    "from financepy.products.equity import *"
   ]
  },
  {
   "cell_type": "markdown",
   "metadata": {},
   "source": [
    "# Compound Option"
   ]
  },
  {
   "cell_type": "markdown",
   "metadata": {},
   "source": [
    "The underlying option is a call"
   ]
  },
  {
   "cell_type": "code",
   "execution_count": 3,
   "metadata": {
    "execution": {
     "iopub.execute_input": "2024-04-30T20:04:19.989429Z",
     "iopub.status.busy": "2024-04-30T20:04:19.989429Z",
     "iopub.status.idle": "2024-04-30T20:04:20.009994Z",
     "shell.execute_reply": "2024-04-30T20:04:20.009994Z"
    }
   },
   "outputs": [],
   "source": [
    "uExpiryDate = Date(1, 1, 2006)\n",
    "uStrikePrice = 130.0\n",
    "uOptionType = OptionTypes.AMERICAN_CALL"
   ]
  },
  {
   "cell_type": "markdown",
   "metadata": {},
   "source": [
    "The compound option is a put on this call"
   ]
  },
  {
   "cell_type": "code",
   "execution_count": 4,
   "metadata": {
    "execution": {
     "iopub.execute_input": "2024-04-30T20:04:20.012989Z",
     "iopub.status.busy": "2024-04-30T20:04:20.012989Z",
     "iopub.status.idle": "2024-04-30T20:04:20.016708Z",
     "shell.execute_reply": "2024-04-30T20:04:20.016004Z"
    }
   },
   "outputs": [],
   "source": [
    "cExpiryDate = Date(1, 1, 2005)\n",
    "cStrikePrice = 5.0\n",
    "cOptionType = OptionTypes.EUROPEAN_PUT"
   ]
  },
  {
   "cell_type": "markdown",
   "metadata": {},
   "source": [
    "We create the compound option"
   ]
  },
  {
   "cell_type": "code",
   "execution_count": 5,
   "metadata": {
    "execution": {
     "iopub.execute_input": "2024-04-30T20:04:20.019324Z",
     "iopub.status.busy": "2024-04-30T20:04:20.019324Z",
     "iopub.status.idle": "2024-04-30T20:04:20.022239Z",
     "shell.execute_reply": "2024-04-30T20:04:20.022239Z"
    }
   },
   "outputs": [],
   "source": [
    "cmpdOption = EquityCompoundOption(cExpiryDate, cOptionType, cStrikePrice, \n",
    "                                     uExpiryDate, uOptionType, uStrikePrice)"
   ]
  },
  {
   "cell_type": "code",
   "execution_count": 6,
   "metadata": {
    "execution": {
     "iopub.execute_input": "2024-04-30T20:04:20.025277Z",
     "iopub.status.busy": "2024-04-30T20:04:20.025277Z",
     "iopub.status.idle": "2024-04-30T20:04:20.028888Z",
     "shell.execute_reply": "2024-04-30T20:04:20.028796Z"
    }
   },
   "outputs": [
    {
     "name": "stdout",
     "output_type": "stream",
     "text": [
      "OBJECT TYPE: EquityCompoundOption\n",
      "CPD EXPIRY DATE: 01-JAN-2005\n",
      "CPD STRIKE PRICE: 5.0\n",
      "CPD OPTION TYPE: OptionTypes.EUROPEAN_PUT\n",
      "UND EXPIRY DATE: 01-JAN-2006\n",
      "UND STRIKE PRICE: 130.0\n",
      "UND OPTION TYPE: OptionTypes.AMERICAN_CALL\n",
      "\n"
     ]
    }
   ],
   "source": [
    "print(cmpdOption)"
   ]
  },
  {
   "cell_type": "markdown",
   "metadata": {},
   "source": [
    "## Valuation"
   ]
  },
  {
   "cell_type": "code",
   "execution_count": 7,
   "metadata": {
    "execution": {
     "iopub.execute_input": "2024-04-30T20:04:20.030908Z",
     "iopub.status.busy": "2024-04-30T20:04:20.030908Z",
     "iopub.status.idle": "2024-04-30T20:04:20.034873Z",
     "shell.execute_reply": "2024-04-30T20:04:20.034029Z"
    }
   },
   "outputs": [],
   "source": [
    "value_dt = Date(1, 1, 2003)"
   ]
  },
  {
   "cell_type": "code",
   "execution_count": 8,
   "metadata": {
    "execution": {
     "iopub.execute_input": "2024-04-30T20:04:20.036884Z",
     "iopub.status.busy": "2024-04-30T20:04:20.036884Z",
     "iopub.status.idle": "2024-04-30T20:04:20.040167Z",
     "shell.execute_reply": "2024-04-30T20:04:20.039525Z"
    }
   },
   "outputs": [],
   "source": [
    "stock_price = 50.0\n",
    "volatility = 0.20"
   ]
  },
  {
   "cell_type": "code",
   "execution_count": 9,
   "metadata": {
    "execution": {
     "iopub.execute_input": "2024-04-30T20:04:20.042164Z",
     "iopub.status.busy": "2024-04-30T20:04:20.042164Z",
     "iopub.status.idle": "2024-04-30T20:04:20.050876Z",
     "shell.execute_reply": "2024-04-30T20:04:20.050876Z"
    }
   },
   "outputs": [],
   "source": [
    "interest_rate = 0.05\n",
    "discount_curve = DiscountCurveFlat(value_dt, interest_rate, FrequencyTypes.ANNUAL)"
   ]
  },
  {
   "cell_type": "code",
   "execution_count": 10,
   "metadata": {
    "execution": {
     "iopub.execute_input": "2024-04-30T20:04:20.053909Z",
     "iopub.status.busy": "2024-04-30T20:04:20.053909Z",
     "iopub.status.idle": "2024-04-30T20:04:20.057331Z",
     "shell.execute_reply": "2024-04-30T20:04:20.057331Z"
    }
   },
   "outputs": [],
   "source": [
    "dividend_yield = 0.03\n",
    "dividend_curve = DiscountCurveFlat(value_dt, dividend_yield)"
   ]
  },
  {
   "cell_type": "code",
   "execution_count": 11,
   "metadata": {
    "execution": {
     "iopub.execute_input": "2024-04-30T20:04:20.060722Z",
     "iopub.status.busy": "2024-04-30T20:04:20.059366Z",
     "iopub.status.idle": "2024-04-30T20:04:20.063708Z",
     "shell.execute_reply": "2024-04-30T20:04:20.063019Z"
    }
   },
   "outputs": [],
   "source": [
    "model = BlackScholes(volatility)"
   ]
  },
  {
   "cell_type": "code",
   "execution_count": 12,
   "metadata": {
    "execution": {
     "iopub.execute_input": "2024-04-30T20:04:20.065734Z",
     "iopub.status.busy": "2024-04-30T20:04:20.065734Z",
     "iopub.status.idle": "2024-04-30T20:04:21.360612Z",
     "shell.execute_reply": "2024-04-30T20:04:21.360612Z"
    }
   },
   "outputs": [
    {
     "data": {
      "text/plain": [
       "4.511907150641089"
      ]
     },
     "execution_count": 12,
     "metadata": {},
     "output_type": "execute_result"
    }
   ],
   "source": [
    "cmpdOption.value(value_dt, stock_price, discount_curve, dividend_curve, model, 1000)"
   ]
  },
  {
   "cell_type": "markdown",
   "metadata": {},
   "source": [
    "ML finds 2.8482. However it is not possible to reconcile with ML as they do not provide full details on the CRR tree."
   ]
  },
  {
   "cell_type": "markdown",
   "metadata": {},
   "source": [
    "Copyright (c) 2020 Dominic O'Kane"
   ]
  }
 ],
 "metadata": {
  "kernelspec": {
   "display_name": "Python 3",
   "language": "python",
   "name": "python3"
  },
  "language_info": {
   "codemirror_mode": {
    "name": "ipython",
    "version": 3
   },
   "file_extension": ".py",
   "mimetype": "text/x-python",
   "name": "python",
   "nbconvert_exporter": "python",
   "pygments_lexer": "ipython3",
   "version": "3.11.5"
  }
 },
 "nbformat": 4,
 "nbformat_minor": 2
}
