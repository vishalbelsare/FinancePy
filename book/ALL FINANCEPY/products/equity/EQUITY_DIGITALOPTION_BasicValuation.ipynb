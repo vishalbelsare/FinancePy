{
 "cells": [
  {
   "cell_type": "markdown",
   "metadata": {},
   "source": [
    "# EQUITY DIGITAL ASSET-OR-NOTHING EUROPEAN OPTION"
   ]
  },
  {
   "cell_type": "markdown",
   "metadata": {},
   "source": [
    "Valuation and Risk of Equity Digital Options that have their barrier observed at expiry only."
   ]
  },
  {
   "cell_type": "code",
   "execution_count": 1,
   "metadata": {
    "execution": {
     "iopub.execute_input": "2024-04-30T20:04:23.730802Z",
     "iopub.status.busy": "2024-04-30T20:04:23.729853Z",
     "iopub.status.idle": "2024-04-30T20:04:24.385482Z",
     "shell.execute_reply": "2024-04-30T20:04:24.385482Z"
    }
   },
   "outputs": [],
   "source": [
    "import numpy as np\n",
    "import matplotlib.pyplot as plt"
   ]
  },
  {
   "cell_type": "code",
   "execution_count": 2,
   "metadata": {
    "execution": {
     "iopub.execute_input": "2024-04-30T20:04:24.388479Z",
     "iopub.status.busy": "2024-04-30T20:04:24.388479Z",
     "iopub.status.idle": "2024-04-30T20:04:30.908963Z",
     "shell.execute_reply": "2024-04-30T20:04:30.908963Z"
    }
   },
   "outputs": [
    {
     "name": "stdout",
     "output_type": "stream",
     "text": [
      "####################################################################\n",
      "#  FINANCEPY BETA Version 0.350 - This build: 30 Apr 2024 at 21:20 #\n",
      "#     This software is distributed FREE AND WITHOUT ANY WARRANTY   #\n",
      "#  Report bugs as issues at https://github.com/domokane/FinancePy  #\n",
      "####################################################################\n",
      "\n"
     ]
    }
   ],
   "source": [
    "from financepy.utils import *\n",
    "from financepy.market.curves import *\n",
    "from financepy.products.equity import *"
   ]
  },
  {
   "cell_type": "markdown",
   "metadata": {},
   "source": [
    "# Asset-or-Nothing Digital Option"
   ]
  },
  {
   "cell_type": "markdown",
   "metadata": {},
   "source": [
    "I define a digital call and a digital put option."
   ]
  },
  {
   "cell_type": "code",
   "execution_count": 3,
   "metadata": {
    "execution": {
     "iopub.execute_input": "2024-04-30T20:04:30.911993Z",
     "iopub.status.busy": "2024-04-30T20:04:30.911993Z",
     "iopub.status.idle": "2024-04-30T20:04:30.915348Z",
     "shell.execute_reply": "2024-04-30T20:04:30.915114Z"
    }
   },
   "outputs": [],
   "source": [
    "underlying_type = FinDigitalOptionTypes.ASSET_OR_NOTHING"
   ]
  },
  {
   "cell_type": "code",
   "execution_count": 4,
   "metadata": {
    "execution": {
     "iopub.execute_input": "2024-04-30T20:04:30.917876Z",
     "iopub.status.busy": "2024-04-30T20:04:30.916853Z",
     "iopub.status.idle": "2024-04-30T20:04:30.938080Z",
     "shell.execute_reply": "2024-04-30T20:04:30.937042Z"
    }
   },
   "outputs": [],
   "source": [
    "expiry_dt = Date(1, 1, 2008)"
   ]
  },
  {
   "cell_type": "code",
   "execution_count": 5,
   "metadata": {
    "execution": {
     "iopub.execute_input": "2024-04-30T20:04:30.945747Z",
     "iopub.status.busy": "2024-04-30T20:04:30.944713Z",
     "iopub.status.idle": "2024-04-30T20:04:30.953106Z",
     "shell.execute_reply": "2024-04-30T20:04:30.952072Z"
    }
   },
   "outputs": [],
   "source": [
    "strike_price = 65.0"
   ]
  },
  {
   "cell_type": "code",
   "execution_count": 6,
   "metadata": {
    "execution": {
     "iopub.execute_input": "2024-04-30T20:04:30.960576Z",
     "iopub.status.busy": "2024-04-30T20:04:30.959579Z",
     "iopub.status.idle": "2024-04-30T20:04:30.968100Z",
     "shell.execute_reply": "2024-04-30T20:04:30.967049Z"
    }
   },
   "outputs": [],
   "source": [
    "digitalCall = EquityDigitalOption(expiry_dt, strike_price, OptionTypes.EUROPEAN_CALL, underlying_type)"
   ]
  },
  {
   "cell_type": "code",
   "execution_count": 7,
   "metadata": {
    "execution": {
     "iopub.execute_input": "2024-04-30T20:04:30.975692Z",
     "iopub.status.busy": "2024-04-30T20:04:30.974693Z",
     "iopub.status.idle": "2024-04-30T20:04:30.982280Z",
     "shell.execute_reply": "2024-04-30T20:04:30.981230Z"
    }
   },
   "outputs": [],
   "source": [
    "digitalPut = EquityDigitalOption(expiry_dt, strike_price, OptionTypes.EUROPEAN_PUT, underlying_type)"
   ]
  },
  {
   "cell_type": "code",
   "execution_count": 8,
   "metadata": {
    "execution": {
     "iopub.execute_input": "2024-04-30T20:04:30.989004Z",
     "iopub.status.busy": "2024-04-30T20:04:30.989004Z",
     "iopub.status.idle": "2024-04-30T20:04:30.997652Z",
     "shell.execute_reply": "2024-04-30T20:04:30.996602Z"
    }
   },
   "outputs": [
    {
     "name": "stdout",
     "output_type": "stream",
     "text": [
      "OBJECT TYPE: EquityDigitalOption\n",
      "EXPIRY DATE: 01-JAN-2008\n",
      "BARRIER LEVEL: 65.0\n",
      "CALL-PUT TYPE: OptionTypes.EUROPEAN_CALL\n",
      "DIGITAL TYPE: FinDigitalOptionTypes.ASSET_OR_NOTHING\n"
     ]
    }
   ],
   "source": [
    "print(digitalCall)"
   ]
  },
  {
   "cell_type": "code",
   "execution_count": 9,
   "metadata": {
    "execution": {
     "iopub.execute_input": "2024-04-30T20:04:31.004633Z",
     "iopub.status.busy": "2024-04-30T20:04:31.004633Z",
     "iopub.status.idle": "2024-04-30T20:04:31.012814Z",
     "shell.execute_reply": "2024-04-30T20:04:31.011761Z"
    }
   },
   "outputs": [
    {
     "name": "stdout",
     "output_type": "stream",
     "text": [
      "OBJECT TYPE: EquityDigitalOption\n",
      "EXPIRY DATE: 01-JAN-2008\n",
      "BARRIER LEVEL: 65.0\n",
      "CALL-PUT TYPE: OptionTypes.EUROPEAN_PUT\n",
      "DIGITAL TYPE: FinDigitalOptionTypes.ASSET_OR_NOTHING\n"
     ]
    }
   ],
   "source": [
    "print(digitalPut)"
   ]
  },
  {
   "cell_type": "markdown",
   "metadata": {},
   "source": [
    "## Valuation"
   ]
  },
  {
   "cell_type": "code",
   "execution_count": 10,
   "metadata": {
    "execution": {
     "iopub.execute_input": "2024-04-30T20:04:31.020518Z",
     "iopub.status.busy": "2024-04-30T20:04:31.019525Z",
     "iopub.status.idle": "2024-04-30T20:04:31.028053Z",
     "shell.execute_reply": "2024-04-30T20:04:31.026469Z"
    }
   },
   "outputs": [],
   "source": [
    "value_dt = Date(1, 7, 2007)"
   ]
  },
  {
   "cell_type": "code",
   "execution_count": 11,
   "metadata": {
    "execution": {
     "iopub.execute_input": "2024-04-30T20:04:31.034586Z",
     "iopub.status.busy": "2024-04-30T20:04:31.034586Z",
     "iopub.status.idle": "2024-04-30T20:04:31.040001Z",
     "shell.execute_reply": "2024-04-30T20:04:31.040001Z"
    }
   },
   "outputs": [],
   "source": [
    "interest_rate = 0.07"
   ]
  },
  {
   "cell_type": "code",
   "execution_count": 12,
   "metadata": {
    "execution": {
     "iopub.execute_input": "2024-04-30T20:04:31.042002Z",
     "iopub.status.busy": "2024-04-30T20:04:31.042002Z",
     "iopub.status.idle": "2024-04-30T20:04:31.051316Z",
     "shell.execute_reply": "2024-04-30T20:04:31.051316Z"
    }
   },
   "outputs": [],
   "source": [
    "discount_curve = DiscountCurveFlat(value_dt, interest_rate)"
   ]
  },
  {
   "cell_type": "code",
   "execution_count": 13,
   "metadata": {
    "execution": {
     "iopub.execute_input": "2024-04-30T20:04:31.053363Z",
     "iopub.status.busy": "2024-04-30T20:04:31.053363Z",
     "iopub.status.idle": "2024-04-30T20:04:31.056043Z",
     "shell.execute_reply": "2024-04-30T20:04:31.056043Z"
    }
   },
   "outputs": [],
   "source": [
    "volatility = 0.27"
   ]
  },
  {
   "cell_type": "code",
   "execution_count": 14,
   "metadata": {
    "execution": {
     "iopub.execute_input": "2024-04-30T20:04:31.058659Z",
     "iopub.status.busy": "2024-04-30T20:04:31.057661Z",
     "iopub.status.idle": "2024-04-30T20:04:31.060602Z",
     "shell.execute_reply": "2024-04-30T20:04:31.060602Z"
    }
   },
   "outputs": [],
   "source": [
    "model = BlackScholes(volatility)"
   ]
  },
  {
   "cell_type": "code",
   "execution_count": 15,
   "metadata": {
    "execution": {
     "iopub.execute_input": "2024-04-30T20:04:31.062604Z",
     "iopub.status.busy": "2024-04-30T20:04:31.062604Z",
     "iopub.status.idle": "2024-04-30T20:04:31.065392Z",
     "shell.execute_reply": "2024-04-30T20:04:31.065392Z"
    }
   },
   "outputs": [],
   "source": [
    "stock_price = 70.0\n",
    "dividend_yield = 0.05"
   ]
  },
  {
   "cell_type": "code",
   "execution_count": 16,
   "metadata": {
    "execution": {
     "iopub.execute_input": "2024-04-30T20:04:31.067933Z",
     "iopub.status.busy": "2024-04-30T20:04:31.067933Z",
     "iopub.status.idle": "2024-04-30T20:04:31.070906Z",
     "shell.execute_reply": "2024-04-30T20:04:31.070906Z"
    }
   },
   "outputs": [],
   "source": [
    "dividend_curve = DiscountCurveFlat(value_dt, dividend_yield)"
   ]
  },
  {
   "cell_type": "code",
   "execution_count": 17,
   "metadata": {
    "execution": {
     "iopub.execute_input": "2024-04-30T20:04:31.072954Z",
     "iopub.status.busy": "2024-04-30T20:04:31.072954Z",
     "iopub.status.idle": "2024-04-30T20:04:31.079425Z",
     "shell.execute_reply": "2024-04-30T20:04:31.079425Z"
    }
   },
   "outputs": [
    {
     "data": {
      "text/plain": [
       "48.03177217466735"
      ]
     },
     "execution_count": 17,
     "metadata": {},
     "output_type": "execute_result"
    }
   ],
   "source": [
    "digitalCall.value(value_dt, stock_price, discount_curve, dividend_curve, model)"
   ]
  },
  {
   "cell_type": "code",
   "execution_count": 18,
   "metadata": {
    "execution": {
     "iopub.execute_input": "2024-04-30T20:04:31.081426Z",
     "iopub.status.busy": "2024-04-30T20:04:31.081426Z",
     "iopub.status.idle": "2024-04-30T20:04:31.085279Z",
     "shell.execute_reply": "2024-04-30T20:04:31.085279Z"
    }
   },
   "outputs": [
    {
     "data": {
      "text/plain": [
       "20.2258946782528"
      ]
     },
     "execution_count": 18,
     "metadata": {},
     "output_type": "execute_result"
    }
   ],
   "source": [
    "digitalPut.value(value_dt, stock_price, discount_curve, dividend_curve, model)"
   ]
  },
  {
   "cell_type": "markdown",
   "metadata": {},
   "source": [
    "## Check Monte-Carlo"
   ]
  },
  {
   "cell_type": "code",
   "execution_count": 19,
   "metadata": {
    "execution": {
     "iopub.execute_input": "2024-04-30T20:04:31.087281Z",
     "iopub.status.busy": "2024-04-30T20:04:31.087281Z",
     "iopub.status.idle": "2024-04-30T20:04:31.093917Z",
     "shell.execute_reply": "2024-04-30T20:04:31.093917Z"
    }
   },
   "outputs": [
    {
     "data": {
      "text/plain": [
       "48.072486273604504"
      ]
     },
     "execution_count": 19,
     "metadata": {},
     "output_type": "execute_result"
    }
   ],
   "source": [
    "digitalCall.value_mc(value_dt, stock_price, discount_curve, dividend_curve, model, 50000)"
   ]
  },
  {
   "cell_type": "code",
   "execution_count": 20,
   "metadata": {
    "execution": {
     "iopub.execute_input": "2024-04-30T20:04:31.095952Z",
     "iopub.status.busy": "2024-04-30T20:04:31.095952Z",
     "iopub.status.idle": "2024-04-30T20:04:31.102246Z",
     "shell.execute_reply": "2024-04-30T20:04:31.102246Z"
    }
   },
   "outputs": [
    {
     "data": {
      "text/plain": [
       "20.186613355023177"
      ]
     },
     "execution_count": 20,
     "metadata": {},
     "output_type": "execute_result"
    }
   ],
   "source": [
    "digitalPut.value_mc(value_dt, stock_price, discount_curve, dividend_curve, model, 50000)"
   ]
  },
  {
   "cell_type": "markdown",
   "metadata": {},
   "source": [
    "## Vectorisations"
   ]
  },
  {
   "cell_type": "code",
   "execution_count": 21,
   "metadata": {
    "execution": {
     "iopub.execute_input": "2024-04-30T20:04:31.104278Z",
     "iopub.status.busy": "2024-04-30T20:04:31.104278Z",
     "iopub.status.idle": "2024-04-30T20:04:31.255510Z",
     "shell.execute_reply": "2024-04-30T20:04:31.255510Z"
    }
   },
   "outputs": [
    {
     "data": {
      "image/png": "[encoded data removed]",
      "text/plain": [
       "<Figure size 640x480 with 1 Axes>"
      ]
     },
     "metadata": {},
     "output_type": "display_data"
    }
   ],
   "source": [
    "stock_prices = np.linspace(50,150,100)\n",
    "v = digitalCall.value(value_dt, stock_prices, discount_curve, dividend_curve, model)\n",
    "plt.plot(stock_prices, v);"
   ]
  },
  {
   "cell_type": "markdown",
   "metadata": {},
   "source": [
    "And we can do the same to the option delta."
   ]
  },
  {
   "cell_type": "code",
   "execution_count": 22,
   "metadata": {
    "execution": {
     "iopub.execute_input": "2024-04-30T20:04:31.258508Z",
     "iopub.status.busy": "2024-04-30T20:04:31.257543Z",
     "iopub.status.idle": "2024-04-30T20:04:31.387767Z",
     "shell.execute_reply": "2024-04-30T20:04:31.387767Z"
    }
   },
   "outputs": [
    {
     "data": {
      "image/png": "[encoded data removed]",
      "text/plain": [
       "<Figure size 640x480 with 1 Axes>"
      ]
     },
     "metadata": {},
     "output_type": "display_data"
    }
   ],
   "source": [
    "stock_prices = np.linspace(50,150,100)\n",
    "v = digitalCall.delta(value_dt, stock_prices, discount_curve, dividend_curve, model)\n",
    "plt.plot(stock_prices, v);"
   ]
  },
  {
   "cell_type": "markdown",
   "metadata": {},
   "source": [
    "## Risk Analysis"
   ]
  },
  {
   "cell_type": "markdown",
   "metadata": {},
   "source": [
    "The analytical model produced the following sensitivities"
   ]
  },
  {
   "cell_type": "code",
   "execution_count": 23,
   "metadata": {
    "execution": {
     "iopub.execute_input": "2024-04-30T20:04:31.390387Z",
     "iopub.status.busy": "2024-04-30T20:04:31.390387Z",
     "iopub.status.idle": "2024-04-30T20:04:31.393975Z",
     "shell.execute_reply": "2024-04-30T20:04:31.393975Z"
    }
   },
   "outputs": [
    {
     "data": {
      "text/plain": [
       "2.4448160559842336"
      ]
     },
     "execution_count": 23,
     "metadata": {},
     "output_type": "execute_result"
    }
   ],
   "source": [
    "digitalCall.delta(value_dt, stock_price, discount_curve, dividend_curve, model)"
   ]
  },
  {
   "cell_type": "code",
   "execution_count": 24,
   "metadata": {
    "execution": {
     "iopub.execute_input": "2024-04-30T20:04:31.396005Z",
     "iopub.status.busy": "2024-04-30T20:04:31.396005Z",
     "iopub.status.idle": "2024-04-30T20:04:31.399804Z",
     "shell.execute_reply": "2024-04-30T20:04:31.399804Z"
    }
   },
   "outputs": [
    {
     "data": {
      "text/plain": [
       "-0.044994408199272584"
      ]
     },
     "execution_count": 24,
     "metadata": {},
     "output_type": "execute_result"
    }
   ],
   "source": [
    "digitalCall.gamma(value_dt, stock_price, discount_curve, dividend_curve, model)"
   ]
  },
  {
   "cell_type": "code",
   "execution_count": 25,
   "metadata": {
    "execution": {
     "iopub.execute_input": "2024-04-30T20:04:31.402365Z",
     "iopub.status.busy": "2024-04-30T20:04:31.401337Z",
     "iopub.status.idle": "2024-04-30T20:04:31.405487Z",
     "shell.execute_reply": "2024-04-30T20:04:31.405487Z"
    }
   },
   "outputs": [
    {
     "data": {
      "text/plain": [
       "8.007935522136407"
      ]
     },
     "execution_count": 25,
     "metadata": {},
     "output_type": "execute_result"
    }
   ],
   "source": [
    "digitalCall.theta(value_dt, stock_price, discount_curve, dividend_curve, model)"
   ]
  },
  {
   "cell_type": "code",
   "execution_count": 26,
   "metadata": {
    "execution": {
     "iopub.execute_input": "2024-04-30T20:04:31.407522Z",
     "iopub.status.busy": "2024-04-30T20:04:31.407522Z",
     "iopub.status.idle": "2024-04-30T20:04:31.411635Z",
     "shell.execute_reply": "2024-04-30T20:04:31.411635Z"
    }
   },
   "outputs": [
    {
     "data": {
      "text/plain": [
       "-0.2872979823385293"
      ]
     },
     "execution_count": 26,
     "metadata": {},
     "output_type": "execute_result"
    }
   ],
   "source": [
    "digitalCall.vega(value_dt, stock_price, discount_curve, dividend_curve, model)"
   ]
  },
  {
   "cell_type": "code",
   "execution_count": 27,
   "metadata": {
    "execution": {
     "iopub.execute_input": "2024-04-30T20:04:31.413661Z",
     "iopub.status.busy": "2024-04-30T20:04:31.413661Z",
     "iopub.status.idle": "2024-04-30T20:04:31.418444Z",
     "shell.execute_reply": "2024-04-30T20:04:31.418444Z"
    }
   },
   "outputs": [
    {
     "data": {
      "text/plain": [
       "62.05430152036229"
      ]
     },
     "execution_count": 27,
     "metadata": {},
     "output_type": "execute_result"
    }
   ],
   "source": [
    "digitalCall.rho(value_dt, stock_price, discount_curve, dividend_curve, model)"
   ]
  },
  {
   "cell_type": "markdown",
   "metadata": {},
   "source": [
    "Copyright (c) 2020 Dominic O'Kane"
   ]
  }
 ],
 "metadata": {
  "kernelspec": {
   "display_name": "Python 3",
   "language": "python",
   "name": "python3"
  },
  "language_info": {
   "codemirror_mode": {
    "name": "ipython",
    "version": 3
   },
   "file_extension": ".py",
   "mimetype": "text/x-python",
   "name": "python",
   "nbconvert_exporter": "python",
   "pygments_lexer": "ipython3",
   "version": "3.11.5"
  }
 },
 "nbformat": 4,
 "nbformat_minor": 2
}
