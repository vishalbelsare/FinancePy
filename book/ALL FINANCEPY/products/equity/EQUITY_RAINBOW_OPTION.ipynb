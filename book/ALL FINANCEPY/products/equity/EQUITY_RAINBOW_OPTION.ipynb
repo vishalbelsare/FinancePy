{
 "cells": [
  {
   "cell_type": "markdown",
   "metadata": {},
   "source": [
    "# EQUITY RAINBOW OPTION"
   ]
  },
  {
   "cell_type": "markdown",
   "metadata": {},
   "source": [
    "Valuation and Risk of Equity Rainbow Options - options on the best, worst and n-th best or worst performance in a basket of equities."
   ]
  },
  {
   "cell_type": "code",
   "execution_count": 1,
   "metadata": {
    "execution": {
     "iopub.execute_input": "2024-04-30T20:05:34.520780Z",
     "iopub.status.busy": "2024-04-30T20:05:34.519824Z",
     "iopub.status.idle": "2024-04-30T20:05:35.207668Z",
     "shell.execute_reply": "2024-04-30T20:05:35.207668Z"
    }
   },
   "outputs": [],
   "source": [
    "import numpy as np\n",
    "import matplotlib.pyplot as plt"
   ]
  },
  {
   "cell_type": "code",
   "execution_count": 2,
   "metadata": {
    "execution": {
     "iopub.execute_input": "2024-04-30T20:05:35.210665Z",
     "iopub.status.busy": "2024-04-30T20:05:35.210665Z",
     "iopub.status.idle": "2024-04-30T20:05:41.690841Z",
     "shell.execute_reply": "2024-04-30T20:05:41.690841Z"
    }
   },
   "outputs": [
    {
     "name": "stdout",
     "output_type": "stream",
     "text": [
      "####################################################################\n",
      "#  FINANCEPY BETA Version 0.350 - This build: 30 Apr 2024 at 21:20 #\n",
      "#     This software is distributed FREE AND WITHOUT ANY WARRANTY   #\n",
      "#  Report bugs as issues at https://github.com/domokane/FinancePy  #\n",
      "####################################################################\n",
      "\n"
     ]
    }
   ],
   "source": [
    "from financepy.utils import *\n",
    "from financepy.market.curves import *\n",
    "from financepy.products.equity import *"
   ]
  },
  {
   "cell_type": "markdown",
   "metadata": {},
   "source": [
    "# Rainbow Options"
   ]
  },
  {
   "cell_type": "markdown",
   "metadata": {},
   "source": [
    "We can handle a range of payoff types"
   ]
  },
  {
   "cell_type": "code",
   "execution_count": 3,
   "metadata": {
    "execution": {
     "iopub.execute_input": "2024-04-30T20:05:41.693885Z",
     "iopub.status.busy": "2024-04-30T20:05:41.693885Z",
     "iopub.status.idle": "2024-04-30T20:05:41.696951Z",
     "shell.execute_reply": "2024-04-30T20:05:41.696951Z"
    }
   },
   "outputs": [
    {
     "name": "stdout",
     "output_type": "stream",
     "text": [
      "EquityRainbowOptionTypes.CALL_ON_MAXIMUM\n",
      "EquityRainbowOptionTypes.PUT_ON_MAXIMUM\n",
      "EquityRainbowOptionTypes.CALL_ON_MINIMUM\n",
      "EquityRainbowOptionTypes.PUT_ON_MINIMUM\n",
      "EquityRainbowOptionTypes.CALL_ON_NTH\n",
      "EquityRainbowOptionTypes.PUT_ON_NTH\n"
     ]
    }
   ],
   "source": [
    "for payoff in EquityRainbowOptionTypes:\n",
    "    print(payoff)"
   ]
  },
  {
   "cell_type": "markdown",
   "metadata": {},
   "source": [
    "Each type has a different set of parameters which are entered as a vector"
   ]
  },
  {
   "cell_type": "markdown",
   "metadata": {},
   "source": [
    "## CALL ON MAXIMUM"
   ]
  },
  {
   "cell_type": "code",
   "execution_count": 4,
   "metadata": {
    "execution": {
     "iopub.execute_input": "2024-04-30T20:05:41.699584Z",
     "iopub.status.busy": "2024-04-30T20:05:41.699584Z",
     "iopub.status.idle": "2024-04-30T20:05:41.719709Z",
     "shell.execute_reply": "2024-04-30T20:05:41.719145Z"
    }
   },
   "outputs": [],
   "source": [
    "expiry_dt = Date(1, 1, 2016)"
   ]
  },
  {
   "cell_type": "code",
   "execution_count": 5,
   "metadata": {
    "execution": {
     "iopub.execute_input": "2024-04-30T20:05:41.721814Z",
     "iopub.status.busy": "2024-04-30T20:05:41.721814Z",
     "iopub.status.idle": "2024-04-30T20:05:41.724823Z",
     "shell.execute_reply": "2024-04-30T20:05:41.724579Z"
    }
   },
   "outputs": [],
   "source": [
    "strike_price = 105.0"
   ]
  },
  {
   "cell_type": "code",
   "execution_count": 6,
   "metadata": {
    "execution": {
     "iopub.execute_input": "2024-04-30T20:05:41.726822Z",
     "iopub.status.busy": "2024-04-30T20:05:41.726822Z",
     "iopub.status.idle": "2024-04-30T20:05:41.730904Z",
     "shell.execute_reply": "2024-04-30T20:05:41.729927Z"
    }
   },
   "outputs": [],
   "source": [
    "callPayoffType = EquityRainbowOptionTypes.CALL_ON_MAXIMUM\n",
    "putPayoffType = EquityRainbowOptionTypes.PUT_ON_MAXIMUM"
   ]
  },
  {
   "cell_type": "code",
   "execution_count": 7,
   "metadata": {
    "execution": {
     "iopub.execute_input": "2024-04-30T20:05:41.732922Z",
     "iopub.status.busy": "2024-04-30T20:05:41.732922Z",
     "iopub.status.idle": "2024-04-30T20:05:41.735663Z",
     "shell.execute_reply": "2024-04-30T20:05:41.735663Z"
    }
   },
   "outputs": [],
   "source": [
    "payoff_params = [strike_price]"
   ]
  },
  {
   "cell_type": "code",
   "execution_count": 8,
   "metadata": {
    "execution": {
     "iopub.execute_input": "2024-04-30T20:05:41.738660Z",
     "iopub.status.busy": "2024-04-30T20:05:41.737664Z",
     "iopub.status.idle": "2024-04-30T20:05:41.740844Z",
     "shell.execute_reply": "2024-04-30T20:05:41.740844Z"
    }
   },
   "outputs": [],
   "source": [
    "num_assets = 2"
   ]
  },
  {
   "cell_type": "code",
   "execution_count": 9,
   "metadata": {
    "execution": {
     "iopub.execute_input": "2024-04-30T20:05:41.743842Z",
     "iopub.status.busy": "2024-04-30T20:05:41.742845Z",
     "iopub.status.idle": "2024-04-30T20:05:41.746715Z",
     "shell.execute_reply": "2024-04-30T20:05:41.746715Z"
    }
   },
   "outputs": [],
   "source": [
    "callRainbowOption = EquityRainbowOption(expiry_dt, callPayoffType, payoff_params, num_assets)\n",
    "putRainbowOption = EquityRainbowOption(expiry_dt, putPayoffType, payoff_params, num_assets)"
   ]
  },
  {
   "cell_type": "code",
   "execution_count": 10,
   "metadata": {
    "execution": {
     "iopub.execute_input": "2024-04-30T20:05:41.749713Z",
     "iopub.status.busy": "2024-04-30T20:05:41.748715Z",
     "iopub.status.idle": "2024-04-30T20:05:41.752601Z",
     "shell.execute_reply": "2024-04-30T20:05:41.752601Z"
    }
   },
   "outputs": [
    {
     "name": "stdout",
     "output_type": "stream",
     "text": [
      "OBJECT TYPE: EquityRainbowOption\n",
      "EXPIRY DATE: 01-JAN-2016\n",
      "PAYOFF TYPE: EquityRainbowOptionTypes.CALL_ON_MAXIMUM\n",
      "PAYOFF PARAMS: [105.0]\n",
      "NUM ASSETS TYPE: 2\n"
     ]
    }
   ],
   "source": [
    "print(callRainbowOption)"
   ]
  },
  {
   "cell_type": "code",
   "execution_count": 11,
   "metadata": {
    "execution": {
     "iopub.execute_input": "2024-04-30T20:05:41.755599Z",
     "iopub.status.busy": "2024-04-30T20:05:41.755599Z",
     "iopub.status.idle": "2024-04-30T20:05:41.758175Z",
     "shell.execute_reply": "2024-04-30T20:05:41.758175Z"
    }
   },
   "outputs": [
    {
     "name": "stdout",
     "output_type": "stream",
     "text": [
      "OBJECT TYPE: EquityRainbowOption\n",
      "EXPIRY DATE: 01-JAN-2016\n",
      "PAYOFF TYPE: EquityRainbowOptionTypes.PUT_ON_MAXIMUM\n",
      "PAYOFF PARAMS: [105.0]\n",
      "NUM ASSETS TYPE: 2\n"
     ]
    }
   ],
   "source": [
    "print(putRainbowOption)"
   ]
  },
  {
   "cell_type": "markdown",
   "metadata": {},
   "source": [
    "## Valuation"
   ]
  },
  {
   "cell_type": "code",
   "execution_count": 12,
   "metadata": {
    "execution": {
     "iopub.execute_input": "2024-04-30T20:05:41.761173Z",
     "iopub.status.busy": "2024-04-30T20:05:41.761173Z",
     "iopub.status.idle": "2024-04-30T20:05:41.763736Z",
     "shell.execute_reply": "2024-04-30T20:05:41.763736Z"
    }
   },
   "outputs": [],
   "source": [
    "value_dt = Date(1, 1, 2015)"
   ]
  },
  {
   "cell_type": "code",
   "execution_count": 13,
   "metadata": {
    "execution": {
     "iopub.execute_input": "2024-04-30T20:05:41.766734Z",
     "iopub.status.busy": "2024-04-30T20:05:41.766734Z",
     "iopub.status.idle": "2024-04-30T20:05:41.769264Z",
     "shell.execute_reply": "2024-04-30T20:05:41.769264Z"
    }
   },
   "outputs": [],
   "source": [
    "interest_rate = 0.10"
   ]
  },
  {
   "cell_type": "code",
   "execution_count": 14,
   "metadata": {
    "execution": {
     "iopub.execute_input": "2024-04-30T20:05:41.771300Z",
     "iopub.status.busy": "2024-04-30T20:05:41.771300Z",
     "iopub.status.idle": "2024-04-30T20:05:41.781722Z",
     "shell.execute_reply": "2024-04-30T20:05:41.781148Z"
    }
   },
   "outputs": [],
   "source": [
    "discount_curve = DiscountCurveFlat(value_dt, interest_rate)"
   ]
  },
  {
   "cell_type": "code",
   "execution_count": 15,
   "metadata": {
    "execution": {
     "iopub.execute_input": "2024-04-30T20:05:41.784746Z",
     "iopub.status.busy": "2024-04-30T20:05:41.784746Z",
     "iopub.status.idle": "2024-04-30T20:05:41.787745Z",
     "shell.execute_reply": "2024-04-30T20:05:41.787226Z"
    }
   },
   "outputs": [],
   "source": [
    "num_assets = 2"
   ]
  },
  {
   "cell_type": "code",
   "execution_count": 16,
   "metadata": {
    "execution": {
     "iopub.execute_input": "2024-04-30T20:05:41.789744Z",
     "iopub.status.busy": "2024-04-30T20:05:41.789744Z",
     "iopub.status.idle": "2024-04-30T20:05:41.794606Z",
     "shell.execute_reply": "2024-04-30T20:05:41.793659Z"
    }
   },
   "outputs": [],
   "source": [
    "stock_prices = np.ones(num_assets) * 100\n",
    "dividend_yields = np.ones(num_assets) * 0.01\n",
    "volatilities = np.ones(num_assets) * 0.3    "
   ]
  },
  {
   "cell_type": "code",
   "execution_count": 17,
   "metadata": {
    "execution": {
     "iopub.execute_input": "2024-04-30T20:05:41.796604Z",
     "iopub.status.busy": "2024-04-30T20:05:41.796604Z",
     "iopub.status.idle": "2024-04-30T20:05:41.802299Z",
     "shell.execute_reply": "2024-04-30T20:05:41.802213Z"
    }
   },
   "outputs": [],
   "source": [
    "dividend_curves = []\n",
    "for dividend_yield in dividend_yields:\n",
    "    dividend_curves.append(DiscountCurveFlat(value_dt, dividend_yield))"
   ]
  },
  {
   "cell_type": "code",
   "execution_count": 18,
   "metadata": {
    "execution": {
     "iopub.execute_input": "2024-04-30T20:05:41.805323Z",
     "iopub.status.busy": "2024-04-30T20:05:41.805323Z",
     "iopub.status.idle": "2024-04-30T20:05:41.809364Z",
     "shell.execute_reply": "2024-04-30T20:05:41.808597Z"
    }
   },
   "outputs": [],
   "source": [
    "correlation = 0.50\n",
    "betas = np.ones(num_assets) * np.sqrt(correlation)\n",
    "corr_matrix = beta_vector_to_corr_matrix(betas)"
   ]
  },
  {
   "cell_type": "code",
   "execution_count": 19,
   "metadata": {
    "execution": {
     "iopub.execute_input": "2024-04-30T20:05:41.811362Z",
     "iopub.status.busy": "2024-04-30T20:05:41.811362Z",
     "iopub.status.idle": "2024-04-30T20:05:41.827478Z",
     "shell.execute_reply": "2024-04-30T20:05:41.826772Z"
    }
   },
   "outputs": [
    {
     "data": {
      "text/plain": [
       "20.774501479227084"
      ]
     },
     "execution_count": 19,
     "metadata": {},
     "output_type": "execute_result"
    }
   ],
   "source": [
    "callRainbowOption.value(value_dt, stock_prices, discount_curve, dividend_curves, volatilities, corr_matrix)"
   ]
  },
  {
   "cell_type": "code",
   "execution_count": 20,
   "metadata": {
    "execution": {
     "iopub.execute_input": "2024-04-30T20:05:41.829476Z",
     "iopub.status.busy": "2024-04-30T20:05:41.829476Z",
     "iopub.status.idle": "2024-04-30T20:05:41.834130Z",
     "shell.execute_reply": "2024-04-30T20:05:41.834130Z"
    }
   },
   "outputs": [
    {
     "data": {
      "text/plain": [
       "5.0876023539087925"
      ]
     },
     "execution_count": 20,
     "metadata": {},
     "output_type": "execute_result"
    }
   ],
   "source": [
    "putRainbowOption.value(value_dt, stock_prices, discount_curve, dividend_curves, volatilities, corr_matrix)"
   ]
  },
  {
   "cell_type": "code",
   "execution_count": 21,
   "metadata": {
    "execution": {
     "iopub.execute_input": "2024-04-30T20:05:41.837128Z",
     "iopub.status.busy": "2024-04-30T20:05:41.836157Z",
     "iopub.status.idle": "2024-04-30T20:05:42.743057Z",
     "shell.execute_reply": "2024-04-30T20:05:42.742271Z"
    }
   },
   "outputs": [
    {
     "data": {
      "text/plain": [
       "20.983505548283595"
      ]
     },
     "execution_count": 21,
     "metadata": {},
     "output_type": "execute_result"
    }
   ],
   "source": [
    "callRainbowOption.value_mc(value_dt, stock_prices, discount_curve, dividend_curves, volatilities, corr_matrix)"
   ]
  },
  {
   "cell_type": "code",
   "execution_count": 22,
   "metadata": {
    "execution": {
     "iopub.execute_input": "2024-04-30T20:05:42.744083Z",
     "iopub.status.busy": "2024-04-30T20:05:42.744083Z",
     "iopub.status.idle": "2024-04-30T20:05:42.751124Z",
     "shell.execute_reply": "2024-04-30T20:05:42.750395Z"
    }
   },
   "outputs": [
    {
     "data": {
      "text/plain": [
       "5.106781221618383"
      ]
     },
     "execution_count": 22,
     "metadata": {},
     "output_type": "execute_result"
    }
   ],
   "source": [
    "putRainbowOption.value_mc(value_dt, stock_prices, discount_curve, dividend_curves, volatilities, corr_matrix)"
   ]
  },
  {
   "cell_type": "markdown",
   "metadata": {},
   "source": [
    "## CALL ON MINIMUM"
   ]
  },
  {
   "cell_type": "code",
   "execution_count": 23,
   "metadata": {
    "execution": {
     "iopub.execute_input": "2024-04-30T20:05:42.753107Z",
     "iopub.status.busy": "2024-04-30T20:05:42.753107Z",
     "iopub.status.idle": "2024-04-30T20:05:42.757187Z",
     "shell.execute_reply": "2024-04-30T20:05:42.756216Z"
    }
   },
   "outputs": [],
   "source": [
    "strike_price = 105.0"
   ]
  },
  {
   "cell_type": "code",
   "execution_count": 24,
   "metadata": {
    "execution": {
     "iopub.execute_input": "2024-04-30T20:05:42.759214Z",
     "iopub.status.busy": "2024-04-30T20:05:42.759214Z",
     "iopub.status.idle": "2024-04-30T20:05:42.763232Z",
     "shell.execute_reply": "2024-04-30T20:05:42.762298Z"
    }
   },
   "outputs": [],
   "source": [
    "callPayoffType = EquityRainbowOptionTypes.CALL_ON_MINIMUM\n",
    "putPayoffType = EquityRainbowOptionTypes.PUT_ON_MINIMUM"
   ]
  },
  {
   "cell_type": "code",
   "execution_count": 25,
   "metadata": {
    "execution": {
     "iopub.execute_input": "2024-04-30T20:05:42.765269Z",
     "iopub.status.busy": "2024-04-30T20:05:42.765269Z",
     "iopub.status.idle": "2024-04-30T20:05:42.768786Z",
     "shell.execute_reply": "2024-04-30T20:05:42.768336Z"
    }
   },
   "outputs": [],
   "source": [
    "payoff_params = [strike_price]"
   ]
  },
  {
   "cell_type": "code",
   "execution_count": 26,
   "metadata": {
    "execution": {
     "iopub.execute_input": "2024-04-30T20:05:42.770812Z",
     "iopub.status.busy": "2024-04-30T20:05:42.770812Z",
     "iopub.status.idle": "2024-04-30T20:05:42.774868Z",
     "shell.execute_reply": "2024-04-30T20:05:42.773919Z"
    }
   },
   "outputs": [],
   "source": [
    "callRainbowOption = EquityRainbowOption(expiry_dt, callPayoffType, payoff_params, num_assets)\n",
    "putRainbowOption = EquityRainbowOption(expiry_dt, putPayoffType, payoff_params, num_assets)"
   ]
  },
  {
   "cell_type": "code",
   "execution_count": 27,
   "metadata": {
    "execution": {
     "iopub.execute_input": "2024-04-30T20:05:42.777399Z",
     "iopub.status.busy": "2024-04-30T20:05:42.776896Z",
     "iopub.status.idle": "2024-04-30T20:05:42.781082Z",
     "shell.execute_reply": "2024-04-30T20:05:42.780354Z"
    }
   },
   "outputs": [
    {
     "name": "stdout",
     "output_type": "stream",
     "text": [
      "OBJECT TYPE: EquityRainbowOption\n",
      "EXPIRY DATE: 01-JAN-2016\n",
      "PAYOFF TYPE: EquityRainbowOptionTypes.CALL_ON_MINIMUM\n",
      "PAYOFF PARAMS: [105.0]\n",
      "NUM ASSETS TYPE: 2\n"
     ]
    }
   ],
   "source": [
    "print(callRainbowOption)"
   ]
  },
  {
   "cell_type": "code",
   "execution_count": 28,
   "metadata": {
    "execution": {
     "iopub.execute_input": "2024-04-30T20:05:42.783079Z",
     "iopub.status.busy": "2024-04-30T20:05:42.783079Z",
     "iopub.status.idle": "2024-04-30T20:05:42.785886Z",
     "shell.execute_reply": "2024-04-30T20:05:42.785886Z"
    }
   },
   "outputs": [
    {
     "name": "stdout",
     "output_type": "stream",
     "text": [
      "OBJECT TYPE: EquityRainbowOption\n",
      "EXPIRY DATE: 01-JAN-2016\n",
      "PAYOFF TYPE: EquityRainbowOptionTypes.PUT_ON_MINIMUM\n",
      "PAYOFF PARAMS: [105.0]\n",
      "NUM ASSETS TYPE: 2\n"
     ]
    }
   ],
   "source": [
    "print(putRainbowOption)"
   ]
  },
  {
   "cell_type": "markdown",
   "metadata": {},
   "source": [
    "## Valuation"
   ]
  },
  {
   "cell_type": "code",
   "execution_count": 29,
   "metadata": {
    "execution": {
     "iopub.execute_input": "2024-04-30T20:05:42.788505Z",
     "iopub.status.busy": "2024-04-30T20:05:42.788505Z",
     "iopub.status.idle": "2024-04-30T20:05:42.793130Z",
     "shell.execute_reply": "2024-04-30T20:05:42.792622Z"
    }
   },
   "outputs": [
    {
     "data": {
      "text/plain": [
       "6.459895781588113"
      ]
     },
     "execution_count": 29,
     "metadata": {},
     "output_type": "execute_result"
    }
   ],
   "source": [
    "callRainbowOption.value(value_dt, stock_prices, discount_curve, dividend_curves, volatilities, corr_matrix)"
   ]
  },
  {
   "cell_type": "code",
   "execution_count": 30,
   "metadata": {
    "execution": {
     "iopub.execute_input": "2024-04-30T20:05:42.795157Z",
     "iopub.status.busy": "2024-04-30T20:05:42.795157Z",
     "iopub.status.idle": "2024-04-30T20:05:42.799649Z",
     "shell.execute_reply": "2024-04-30T20:05:42.799157Z"
    }
   },
   "outputs": [
    {
     "data": {
      "text/plain": [
       "14.38603349546592"
      ]
     },
     "execution_count": 30,
     "metadata": {},
     "output_type": "execute_result"
    }
   ],
   "source": [
    "putRainbowOption.value(value_dt, stock_prices, discount_curve, dividend_curves, volatilities, corr_matrix)"
   ]
  },
  {
   "cell_type": "code",
   "execution_count": 31,
   "metadata": {
    "execution": {
     "iopub.execute_input": "2024-04-30T20:05:42.801676Z",
     "iopub.status.busy": "2024-04-30T20:05:42.801676Z",
     "iopub.status.idle": "2024-04-30T20:05:42.806730Z",
     "shell.execute_reply": "2024-04-30T20:05:42.806730Z"
    }
   },
   "outputs": [
    {
     "data": {
      "text/plain": [
       "6.594270985668491"
      ]
     },
     "execution_count": 31,
     "metadata": {},
     "output_type": "execute_result"
    }
   ],
   "source": [
    "callRainbowOption.value_mc(value_dt, stock_prices, discount_curve, dividend_curves, volatilities, corr_matrix)"
   ]
  },
  {
   "cell_type": "code",
   "execution_count": 32,
   "metadata": {
    "execution": {
     "iopub.execute_input": "2024-04-30T20:05:42.809237Z",
     "iopub.status.busy": "2024-04-30T20:05:42.809237Z",
     "iopub.status.idle": "2024-04-30T20:05:42.815584Z",
     "shell.execute_reply": "2024-04-30T20:05:42.814905Z"
    }
   },
   "outputs": [
    {
     "data": {
      "text/plain": [
       "14.34909797048692"
      ]
     },
     "execution_count": 32,
     "metadata": {},
     "output_type": "execute_result"
    }
   ],
   "source": [
    "putRainbowOption.value_mc(value_dt, stock_prices, discount_curve, dividend_curves, volatilities, corr_matrix)"
   ]
  },
  {
   "cell_type": "markdown",
   "metadata": {},
   "source": [
    "## CALL ON Nth"
   ]
  },
  {
   "cell_type": "code",
   "execution_count": 33,
   "metadata": {
    "execution": {
     "iopub.execute_input": "2024-04-30T20:05:42.816609Z",
     "iopub.status.busy": "2024-04-30T20:05:42.816609Z",
     "iopub.status.idle": "2024-04-30T20:05:42.820590Z",
     "shell.execute_reply": "2024-04-30T20:05:42.820590Z"
    }
   },
   "outputs": [],
   "source": [
    "payoff_type = EquityRainbowOptionTypes.CALL_ON_NTH"
   ]
  },
  {
   "cell_type": "code",
   "execution_count": 34,
   "metadata": {
    "execution": {
     "iopub.execute_input": "2024-04-30T20:05:42.823615Z",
     "iopub.status.busy": "2024-04-30T20:05:42.823615Z",
     "iopub.status.idle": "2024-04-30T20:05:42.826262Z",
     "shell.execute_reply": "2024-04-30T20:05:42.826262Z"
    }
   },
   "outputs": [],
   "source": [
    "num_assets = 5"
   ]
  },
  {
   "cell_type": "code",
   "execution_count": 35,
   "metadata": {
    "execution": {
     "iopub.execute_input": "2024-04-30T20:05:42.828846Z",
     "iopub.status.busy": "2024-04-30T20:05:42.828846Z",
     "iopub.status.idle": "2024-04-30T20:05:42.833021Z",
     "shell.execute_reply": "2024-04-30T20:05:42.832506Z"
    }
   },
   "outputs": [],
   "source": [
    "stock_prices = np.ones(num_assets) * 100\n",
    "dividend_yields = np.ones(num_assets) * 0.01\n",
    "volatilities = np.ones(num_assets) * 0.3    "
   ]
  },
  {
   "cell_type": "code",
   "execution_count": 36,
   "metadata": {
    "execution": {
     "iopub.execute_input": "2024-04-30T20:05:42.835018Z",
     "iopub.status.busy": "2024-04-30T20:05:42.835018Z",
     "iopub.status.idle": "2024-04-30T20:05:42.842015Z",
     "shell.execute_reply": "2024-04-30T20:05:42.842015Z"
    }
   },
   "outputs": [],
   "source": [
    "dividend_curves = []\n",
    "for dividend_yield in dividend_yields:\n",
    "    dividend_curves.append(DiscountCurveFlat(value_dt, dividend_yield))"
   ]
  },
  {
   "cell_type": "code",
   "execution_count": 37,
   "metadata": {
    "execution": {
     "iopub.execute_input": "2024-04-30T20:05:42.845011Z",
     "iopub.status.busy": "2024-04-30T20:05:42.845011Z",
     "iopub.status.idle": "2024-04-30T20:05:42.849411Z",
     "shell.execute_reply": "2024-04-30T20:05:42.849411Z"
    }
   },
   "outputs": [],
   "source": [
    "correlation = 0.50\n",
    "betas = np.ones(num_assets) * np.sqrt(correlation)\n",
    "corr_matrix = beta_vector_to_corr_matrix(betas)"
   ]
  },
  {
   "cell_type": "code",
   "execution_count": 38,
   "metadata": {
    "execution": {
     "iopub.execute_input": "2024-04-30T20:05:42.852406Z",
     "iopub.status.busy": "2024-04-30T20:05:42.852406Z",
     "iopub.status.idle": "2024-04-30T20:05:42.870558Z",
     "shell.execute_reply": "2024-04-30T20:05:42.870558Z"
    }
   },
   "outputs": [
    {
     "name": "stdout",
     "output_type": "stream",
     "text": [
      "1 32.10817511366191\n",
      "2 17.841397411308602\n",
      "3 10.416341514124234\n",
      "4 5.644773129050261\n",
      "5 2.287825332442905\n"
     ]
    }
   ],
   "source": [
    "for n in range(0, num_assets):\n",
    "    payoff_params = [n+1, strike_price]\n",
    "    nthRainbowOption = EquityRainbowOption(expiry_dt, payoff_type, payoff_params, num_assets)\n",
    "    v_mc = nthRainbowOption.value_mc(value_dt, stock_prices, discount_curve, dividend_curves, volatilities, corr_matrix)\n",
    "    print(n+1, v_mc)"
   ]
  },
  {
   "cell_type": "markdown",
   "metadata": {},
   "source": [
    "## PUT ON Nth\n"
   ]
  },
  {
   "cell_type": "code",
   "execution_count": 39,
   "metadata": {
    "execution": {
     "iopub.execute_input": "2024-04-30T20:05:42.873587Z",
     "iopub.status.busy": "2024-04-30T20:05:42.872559Z",
     "iopub.status.idle": "2024-04-30T20:05:42.875975Z",
     "shell.execute_reply": "2024-04-30T20:05:42.875975Z"
    }
   },
   "outputs": [],
   "source": [
    "payoff_type = EquityRainbowOptionTypes.PUT_ON_NTH"
   ]
  },
  {
   "cell_type": "code",
   "execution_count": 40,
   "metadata": {
    "execution": {
     "iopub.execute_input": "2024-04-30T20:05:42.879016Z",
     "iopub.status.busy": "2024-04-30T20:05:42.878005Z",
     "iopub.status.idle": "2024-04-30T20:05:42.896507Z",
     "shell.execute_reply": "2024-04-30T20:05:42.895805Z"
    }
   },
   "outputs": [
    {
     "name": "stdout",
     "output_type": "stream",
     "text": [
      "1 1.9257053041219017\n",
      "2 4.549727220075345\n",
      "3 8.016189556719699\n",
      "4 12.92162110363357\n",
      "5 20.930923494487654\n"
     ]
    }
   ],
   "source": [
    "for n in range(0, num_assets):\n",
    "    payoff_type = EquityRainbowOptionTypes.PUT_ON_NTH\n",
    "    payoff_params = [n+1, strike_price]\n",
    "    nthRainbowOption = EquityRainbowOption(expiry_dt, payoff_type, payoff_params, num_assets)\n",
    "    v_mc = nthRainbowOption.value_mc(value_dt, stock_prices, discount_curve, dividend_curves, volatilities, corr_matrix)\n",
    "    print(n+1, v_mc)"
   ]
  },
  {
   "cell_type": "markdown",
   "metadata": {},
   "source": [
    "Copyright (c) 2020 Dominic O'Kane"
   ]
  }
 ],
 "metadata": {
  "kernelspec": {
   "display_name": "Python 3",
   "language": "python",
   "name": "python3"
  },
  "language_info": {
   "codemirror_mode": {
    "name": "ipython",
    "version": 3
   },
   "file_extension": ".py",
   "mimetype": "text/x-python",
   "name": "python",
   "nbconvert_exporter": "python",
   "pygments_lexer": "ipython3",
   "version": "3.11.5"
  }
 },
 "nbformat": 4,
 "nbformat_minor": 2
}
