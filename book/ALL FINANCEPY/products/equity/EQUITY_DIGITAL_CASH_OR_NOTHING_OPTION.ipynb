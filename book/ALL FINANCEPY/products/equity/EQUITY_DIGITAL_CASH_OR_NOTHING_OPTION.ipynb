{
 "cells": [
  {
   "cell_type": "markdown",
   "metadata": {},
   "source": [
    "# EQUITY DIGITAL OPTION CASH-OR-NOTHING OPTION"
   ]
  },
  {
   "cell_type": "markdown",
   "metadata": {},
   "source": [
    "Valuation and Risk of Equity Digital Options"
   ]
  },
  {
   "cell_type": "code",
   "execution_count": 1,
   "metadata": {
    "execution": {
     "iopub.execute_input": "2024-04-30T20:04:33.798555Z",
     "iopub.status.busy": "2024-04-30T20:04:33.798555Z",
     "iopub.status.idle": "2024-04-30T20:04:34.424677Z",
     "shell.execute_reply": "2024-04-30T20:04:34.424677Z"
    }
   },
   "outputs": [],
   "source": [
    "import numpy as np\n",
    "import matplotlib.pyplot as plt"
   ]
  },
  {
   "cell_type": "code",
   "execution_count": 2,
   "metadata": {
    "execution": {
     "iopub.execute_input": "2024-04-30T20:04:34.427694Z",
     "iopub.status.busy": "2024-04-30T20:04:34.427694Z",
     "iopub.status.idle": "2024-04-30T20:04:41.004327Z",
     "shell.execute_reply": "2024-04-30T20:04:41.004327Z"
    }
   },
   "outputs": [
    {
     "name": "stdout",
     "output_type": "stream",
     "text": [
      "####################################################################\n",
      "#  FINANCEPY BETA Version 0.350 - This build: 30 Apr 2024 at 21:20 #\n",
      "#     This software is distributed FREE AND WITHOUT ANY WARRANTY   #\n",
      "#  Report bugs as issues at https://github.com/domokane/FinancePy  #\n",
      "####################################################################\n",
      "\n"
     ]
    }
   ],
   "source": [
    "from financepy.utils import *\n",
    "from financepy.market.curves import *\n",
    "from financepy.products.equity import *"
   ]
  },
  {
   "cell_type": "markdown",
   "metadata": {},
   "source": [
    "# Cash-or-Nothing Digital Option"
   ]
  },
  {
   "cell_type": "markdown",
   "metadata": {},
   "source": [
    "I define a digital call and a digital put option."
   ]
  },
  {
   "cell_type": "code",
   "execution_count": 3,
   "metadata": {
    "execution": {
     "iopub.execute_input": "2024-04-30T20:04:41.007364Z",
     "iopub.status.busy": "2024-04-30T20:04:41.007364Z",
     "iopub.status.idle": "2024-04-30T20:04:41.009828Z",
     "shell.execute_reply": "2024-04-30T20:04:41.009828Z"
    }
   },
   "outputs": [],
   "source": [
    "underlying_type = FinDigitalOptionTypes.CASH_OR_NOTHING"
   ]
  },
  {
   "cell_type": "code",
   "execution_count": 4,
   "metadata": {
    "execution": {
     "iopub.execute_input": "2024-04-30T20:04:41.011866Z",
     "iopub.status.busy": "2024-04-30T20:04:41.011866Z",
     "iopub.status.idle": "2024-04-30T20:04:41.031754Z",
     "shell.execute_reply": "2024-04-30T20:04:41.031754Z"
    }
   },
   "outputs": [],
   "source": [
    "expiry_dt = Date(1, 10, 2008)"
   ]
  },
  {
   "cell_type": "code",
   "execution_count": 5,
   "metadata": {
    "execution": {
     "iopub.execute_input": "2024-04-30T20:04:41.034318Z",
     "iopub.status.busy": "2024-04-30T20:04:41.034318Z",
     "iopub.status.idle": "2024-04-30T20:04:41.036564Z",
     "shell.execute_reply": "2024-04-30T20:04:41.036564Z"
    }
   },
   "outputs": [],
   "source": [
    "strike_price = 90.0"
   ]
  },
  {
   "cell_type": "code",
   "execution_count": 6,
   "metadata": {
    "execution": {
     "iopub.execute_input": "2024-04-30T20:04:41.038594Z",
     "iopub.status.busy": "2024-04-30T20:04:41.038594Z",
     "iopub.status.idle": "2024-04-30T20:04:41.041577Z",
     "shell.execute_reply": "2024-04-30T20:04:41.041577Z"
    }
   },
   "outputs": [],
   "source": [
    "digitalCall = EquityDigitalOption(expiry_dt, strike_price, OptionTypes.EUROPEAN_CALL, underlying_type)"
   ]
  },
  {
   "cell_type": "code",
   "execution_count": 7,
   "metadata": {
    "execution": {
     "iopub.execute_input": "2024-04-30T20:04:41.044236Z",
     "iopub.status.busy": "2024-04-30T20:04:41.042611Z",
     "iopub.status.idle": "2024-04-30T20:04:41.046347Z",
     "shell.execute_reply": "2024-04-30T20:04:41.046347Z"
    }
   },
   "outputs": [],
   "source": [
    "digitalPut = EquityDigitalOption(expiry_dt, strike_price, OptionTypes.EUROPEAN_PUT, underlying_type)"
   ]
  },
  {
   "cell_type": "code",
   "execution_count": 8,
   "metadata": {
    "execution": {
     "iopub.execute_input": "2024-04-30T20:04:41.048378Z",
     "iopub.status.busy": "2024-04-30T20:04:41.048378Z",
     "iopub.status.idle": "2024-04-30T20:04:41.051241Z",
     "shell.execute_reply": "2024-04-30T20:04:41.051241Z"
    }
   },
   "outputs": [
    {
     "name": "stdout",
     "output_type": "stream",
     "text": [
      "OBJECT TYPE: EquityDigitalOption\n",
      "EXPIRY DATE: 01-OCT-2008\n",
      "BARRIER LEVEL: 90.0\n",
      "CALL-PUT TYPE: OptionTypes.EUROPEAN_CALL\n",
      "DIGITAL TYPE: FinDigitalOptionTypes.CASH_OR_NOTHING\n"
     ]
    }
   ],
   "source": [
    "print(digitalCall)"
   ]
  },
  {
   "cell_type": "code",
   "execution_count": 9,
   "metadata": {
    "execution": {
     "iopub.execute_input": "2024-04-30T20:04:41.053271Z",
     "iopub.status.busy": "2024-04-30T20:04:41.053271Z",
     "iopub.status.idle": "2024-04-30T20:04:41.056112Z",
     "shell.execute_reply": "2024-04-30T20:04:41.056112Z"
    }
   },
   "outputs": [
    {
     "name": "stdout",
     "output_type": "stream",
     "text": [
      "OBJECT TYPE: EquityDigitalOption\n",
      "EXPIRY DATE: 01-OCT-2008\n",
      "BARRIER LEVEL: 90.0\n",
      "CALL-PUT TYPE: OptionTypes.EUROPEAN_PUT\n",
      "DIGITAL TYPE: FinDigitalOptionTypes.CASH_OR_NOTHING\n"
     ]
    }
   ],
   "source": [
    "print(digitalPut)"
   ]
  },
  {
   "cell_type": "markdown",
   "metadata": {},
   "source": [
    "## Valuation"
   ]
  },
  {
   "cell_type": "code",
   "execution_count": 10,
   "metadata": {
    "execution": {
     "iopub.execute_input": "2024-04-30T20:04:41.058142Z",
     "iopub.status.busy": "2024-04-30T20:04:41.058142Z",
     "iopub.status.idle": "2024-04-30T20:04:41.061391Z",
     "shell.execute_reply": "2024-04-30T20:04:41.060939Z"
    }
   },
   "outputs": [],
   "source": [
    "value_dt = Date(1, 1, 2008)"
   ]
  },
  {
   "cell_type": "code",
   "execution_count": 11,
   "metadata": {
    "execution": {
     "iopub.execute_input": "2024-04-30T20:04:41.062898Z",
     "iopub.status.busy": "2024-04-30T20:04:41.062898Z",
     "iopub.status.idle": "2024-04-30T20:04:41.065976Z",
     "shell.execute_reply": "2024-04-30T20:04:41.065751Z"
    }
   },
   "outputs": [],
   "source": [
    "interest_rate = 0.045"
   ]
  },
  {
   "cell_type": "code",
   "execution_count": 12,
   "metadata": {
    "execution": {
     "iopub.execute_input": "2024-04-30T20:04:41.067974Z",
     "iopub.status.busy": "2024-04-30T20:04:41.067974Z",
     "iopub.status.idle": "2024-04-30T20:04:41.077682Z",
     "shell.execute_reply": "2024-04-30T20:04:41.077029Z"
    }
   },
   "outputs": [],
   "source": [
    "discount_curve = DiscountCurveFlat(value_dt, interest_rate)"
   ]
  },
  {
   "cell_type": "code",
   "execution_count": 13,
   "metadata": {
    "execution": {
     "iopub.execute_input": "2024-04-30T20:04:41.079710Z",
     "iopub.status.busy": "2024-04-30T20:04:41.079710Z",
     "iopub.status.idle": "2024-04-30T20:04:41.083274Z",
     "shell.execute_reply": "2024-04-30T20:04:41.082676Z"
    }
   },
   "outputs": [],
   "source": [
    "volatility = 0.25"
   ]
  },
  {
   "cell_type": "code",
   "execution_count": 14,
   "metadata": {
    "execution": {
     "iopub.execute_input": "2024-04-30T20:04:41.085318Z",
     "iopub.status.busy": "2024-04-30T20:04:41.085318Z",
     "iopub.status.idle": "2024-04-30T20:04:41.088317Z",
     "shell.execute_reply": "2024-04-30T20:04:41.088317Z"
    }
   },
   "outputs": [],
   "source": [
    "model = BlackScholes(volatility)"
   ]
  },
  {
   "cell_type": "code",
   "execution_count": 15,
   "metadata": {
    "execution": {
     "iopub.execute_input": "2024-04-30T20:04:41.091341Z",
     "iopub.status.busy": "2024-04-30T20:04:41.091341Z",
     "iopub.status.idle": "2024-04-30T20:04:41.094000Z",
     "shell.execute_reply": "2024-04-30T20:04:41.094000Z"
    }
   },
   "outputs": [],
   "source": [
    "stock_price = 110.0\n",
    "dividend_yield = 0.045"
   ]
  },
  {
   "cell_type": "code",
   "execution_count": 16,
   "metadata": {
    "execution": {
     "iopub.execute_input": "2024-04-30T20:04:41.097569Z",
     "iopub.status.busy": "2024-04-30T20:04:41.096576Z",
     "iopub.status.idle": "2024-04-30T20:04:41.101610Z",
     "shell.execute_reply": "2024-04-30T20:04:41.100579Z"
    }
   },
   "outputs": [],
   "source": [
    "dividend_curve = DiscountCurveFlat(value_dt, dividend_yield)"
   ]
  },
  {
   "cell_type": "code",
   "execution_count": 17,
   "metadata": {
    "execution": {
     "iopub.execute_input": "2024-04-30T20:04:41.103618Z",
     "iopub.status.busy": "2024-04-30T20:04:41.103618Z",
     "iopub.status.idle": "2024-04-30T20:04:41.110066Z",
     "shell.execute_reply": "2024-04-30T20:04:41.110066Z"
    }
   },
   "outputs": [
    {
     "data": {
      "text/plain": [
       "0.76707743371463"
      ]
     },
     "execution_count": 17,
     "metadata": {},
     "output_type": "execute_result"
    }
   ],
   "source": [
    "digitalCall.value(value_dt, stock_price, discount_curve, dividend_curve, model)"
   ]
  },
  {
   "cell_type": "code",
   "execution_count": 18,
   "metadata": {
    "execution": {
     "iopub.execute_input": "2024-04-30T20:04:41.112096Z",
     "iopub.status.busy": "2024-04-30T20:04:41.112096Z",
     "iopub.status.idle": "2024-04-30T20:04:41.116276Z",
     "shell.execute_reply": "2024-04-30T20:04:41.116276Z"
    }
   },
   "outputs": [
    {
     "data": {
      "text/plain": [
       "0.19979518107018837"
      ]
     },
     "execution_count": 18,
     "metadata": {},
     "output_type": "execute_result"
    }
   ],
   "source": [
    "digitalPut.value(value_dt, stock_price, discount_curve, dividend_curve, model)"
   ]
  },
  {
   "cell_type": "markdown",
   "metadata": {},
   "source": [
    "## Check Monte-Carlo"
   ]
  },
  {
   "cell_type": "code",
   "execution_count": 19,
   "metadata": {
    "execution": {
     "iopub.execute_input": "2024-04-30T20:04:41.118274Z",
     "iopub.status.busy": "2024-04-30T20:04:41.118274Z",
     "iopub.status.idle": "2024-04-30T20:04:41.122955Z",
     "shell.execute_reply": "2024-04-30T20:04:41.122955Z"
    }
   },
   "outputs": [
    {
     "data": {
      "text/plain": [
       "0.7696789449994546"
      ]
     },
     "execution_count": 19,
     "metadata": {},
     "output_type": "execute_result"
    }
   ],
   "source": [
    "digitalCall.value_mc(value_dt, stock_price, discount_curve, dividend_curve, model)"
   ]
  },
  {
   "cell_type": "code",
   "execution_count": 20,
   "metadata": {
    "execution": {
     "iopub.execute_input": "2024-04-30T20:04:41.124955Z",
     "iopub.status.busy": "2024-04-30T20:04:41.124955Z",
     "iopub.status.idle": "2024-04-30T20:04:41.129175Z",
     "shell.execute_reply": "2024-04-30T20:04:41.129175Z"
    }
   },
   "outputs": [
    {
     "data": {
      "text/plain": [
       "0.1971936697853637"
      ]
     },
     "execution_count": 20,
     "metadata": {},
     "output_type": "execute_result"
    }
   ],
   "source": [
    "digitalPut.value_mc(value_dt, stock_price, discount_curve, dividend_curve, model)"
   ]
  },
  {
   "cell_type": "markdown",
   "metadata": {},
   "source": [
    "## Vectorisations"
   ]
  },
  {
   "cell_type": "code",
   "execution_count": 21,
   "metadata": {
    "execution": {
     "iopub.execute_input": "2024-04-30T20:04:41.131205Z",
     "iopub.status.busy": "2024-04-30T20:04:41.131205Z",
     "iopub.status.idle": "2024-04-30T20:04:41.278143Z",
     "shell.execute_reply": "2024-04-30T20:04:41.278143Z"
    }
   },
   "outputs": [
    {
     "data": {
      "image/png": "[encoded data removed]",
      "text/plain": [
       "<Figure size 640x480 with 1 Axes>"
      ]
     },
     "metadata": {},
     "output_type": "display_data"
    }
   ],
   "source": [
    "stock_prices = np.linspace(50,150,100)\n",
    "v = digitalCall.value(value_dt, stock_prices, discount_curve, dividend_curve, model)\n",
    "plt.plot(stock_prices, v);"
   ]
  },
  {
   "cell_type": "markdown",
   "metadata": {},
   "source": [
    "We can vectorise two things at the same time as long as they have the same length"
   ]
  },
  {
   "cell_type": "markdown",
   "metadata": {},
   "source": [
    "## Risk Analysis"
   ]
  },
  {
   "cell_type": "markdown",
   "metadata": {},
   "source": [
    "The analytical model produced the following sensitivities"
   ]
  },
  {
   "cell_type": "code",
   "execution_count": 22,
   "metadata": {
    "execution": {
     "iopub.execute_input": "2024-04-30T20:04:41.280147Z",
     "iopub.status.busy": "2024-04-30T20:04:41.280147Z",
     "iopub.status.idle": "2024-04-30T20:04:41.285842Z",
     "shell.execute_reply": "2024-04-30T20:04:41.285300Z"
    }
   },
   "outputs": [
    {
     "data": {
      "text/plain": [
       "0.011584328476477168"
      ]
     },
     "execution_count": 22,
     "metadata": {},
     "output_type": "execute_result"
    }
   ],
   "source": [
    "digitalCall.delta(value_dt, stock_price, discount_curve, dividend_curve, model)"
   ]
  },
  {
   "cell_type": "code",
   "execution_count": 23,
   "metadata": {
    "execution": {
     "iopub.execute_input": "2024-04-30T20:04:41.287844Z",
     "iopub.status.busy": "2024-04-30T20:04:41.287844Z",
     "iopub.status.idle": "2024-04-30T20:04:41.293354Z",
     "shell.execute_reply": "2024-04-30T20:04:41.292946Z"
    }
   },
   "outputs": [
    {
     "data": {
      "text/plain": [
       "-0.0005031197680693822"
      ]
     },
     "execution_count": 23,
     "metadata": {},
     "output_type": "execute_result"
    }
   ],
   "source": [
    "digitalCall.gamma(value_dt, stock_price, discount_curve, dividend_curve, model)"
   ]
  },
  {
   "cell_type": "code",
   "execution_count": 24,
   "metadata": {
    "execution": {
     "iopub.execute_input": "2024-04-30T20:04:41.296350Z",
     "iopub.status.busy": "2024-04-30T20:04:41.295388Z",
     "iopub.status.idle": "2024-04-30T20:04:41.299699Z",
     "shell.execute_reply": "2024-04-30T20:04:41.299699Z"
    }
   },
   "outputs": [
    {
     "data": {
      "text/plain": [
       "0.22501650587903932"
      ]
     },
     "execution_count": 24,
     "metadata": {},
     "output_type": "execute_result"
    }
   ],
   "source": [
    "digitalCall.theta(value_dt, stock_price, discount_curve, dividend_curve, model)"
   ]
  },
  {
   "cell_type": "code",
   "execution_count": 25,
   "metadata": {
    "execution": {
     "iopub.execute_input": "2024-04-30T20:04:41.302356Z",
     "iopub.status.busy": "2024-04-30T20:04:41.302249Z",
     "iopub.status.idle": "2024-04-30T20:04:41.306107Z",
     "shell.execute_reply": "2024-04-30T20:04:41.305882Z"
    }
   },
   "outputs": [
    {
     "data": {
      "text/plain": [
       "-0.011210049840873149"
      ]
     },
     "execution_count": 25,
     "metadata": {},
     "output_type": "execute_result"
    }
   ],
   "source": [
    "digitalCall.vega(value_dt, stock_price, discount_curve, dividend_curve, model)"
   ]
  },
  {
   "cell_type": "code",
   "execution_count": 26,
   "metadata": {
    "execution": {
     "iopub.execute_input": "2024-04-30T20:04:41.308135Z",
     "iopub.status.busy": "2024-04-30T20:04:41.308135Z",
     "iopub.status.idle": "2024-04-30T20:04:41.312721Z",
     "shell.execute_reply": "2024-04-30T20:04:41.312631Z"
    }
   },
   "outputs": [
    {
     "data": {
      "text/plain": [
       "0.37952340999347633"
      ]
     },
     "execution_count": 26,
     "metadata": {},
     "output_type": "execute_result"
    }
   ],
   "source": [
    "digitalCall.rho(value_dt, stock_price, discount_curve, dividend_curve, model)"
   ]
  },
  {
   "cell_type": "markdown",
   "metadata": {},
   "source": [
    "Copyright (c) 2020 Dominic O'Kane"
   ]
  }
 ],
 "metadata": {
  "kernelspec": {
   "display_name": "Python 3",
   "language": "python",
   "name": "python3"
  },
  "language_info": {
   "codemirror_mode": {
    "name": "ipython",
    "version": 3
   },
   "file_extension": ".py",
   "mimetype": "text/x-python",
   "name": "python",
   "nbconvert_exporter": "python",
   "pygments_lexer": "ipython3",
   "version": "3.11.5"
  }
 },
 "nbformat": 4,
 "nbformat_minor": 2
}
