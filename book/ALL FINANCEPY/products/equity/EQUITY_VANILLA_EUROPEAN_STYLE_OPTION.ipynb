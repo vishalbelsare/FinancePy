{
 "cells": [
  {
   "cell_type": "markdown",
   "metadata": {},
   "source": [
    "# EQUITY VANILLA EUROPEAN-STYLE OPTIONS"
   ]
  },
  {
   "cell_type": "markdown",
   "metadata": {},
   "source": [
    "Valuation and Risk of a simple Vanilla Equity Option"
   ]
  },
  {
   "cell_type": "code",
   "execution_count": 1,
   "metadata": {
    "execution": {
     "iopub.execute_input": "2024-04-30T20:06:38.025388Z",
     "iopub.status.busy": "2024-04-30T20:06:38.024848Z",
     "iopub.status.idle": "2024-04-30T20:06:38.558596Z",
     "shell.execute_reply": "2024-04-30T20:06:38.558596Z"
    }
   },
   "outputs": [],
   "source": [
    "import numpy as np\n",
    "import matplotlib.pyplot as plt"
   ]
  },
  {
   "cell_type": "code",
   "execution_count": 2,
   "metadata": {
    "execution": {
     "iopub.execute_input": "2024-04-30T20:06:38.561281Z",
     "iopub.status.busy": "2024-04-30T20:06:38.561281Z",
     "iopub.status.idle": "2024-04-30T20:06:45.135531Z",
     "shell.execute_reply": "2024-04-30T20:06:45.135531Z"
    }
   },
   "outputs": [
    {
     "name": "stdout",
     "output_type": "stream",
     "text": [
      "####################################################################\n",
      "#  FINANCEPY BETA Version 0.350 - This build: 30 Apr 2024 at 21:20 #\n",
      "#     This software is distributed FREE AND WITHOUT ANY WARRANTY   #\n",
      "#  Report bugs as issues at https://github.com/domokane/FinancePy  #\n",
      "####################################################################\n",
      "\n"
     ]
    }
   ],
   "source": [
    "from financepy.utils import *\n",
    "from financepy.products.equity import *"
   ]
  },
  {
   "cell_type": "markdown",
   "metadata": {},
   "source": [
    "# Define the Call and Put Options"
   ]
  },
  {
   "cell_type": "code",
   "execution_count": 3,
   "metadata": {
    "execution": {
     "iopub.execute_input": "2024-04-30T20:06:45.138577Z",
     "iopub.status.busy": "2024-04-30T20:06:45.138577Z",
     "iopub.status.idle": "2024-04-30T20:06:45.158231Z",
     "shell.execute_reply": "2024-04-30T20:06:45.158231Z"
    }
   },
   "outputs": [],
   "source": [
    "value_dt = Date(1, 1, 2015)"
   ]
  },
  {
   "cell_type": "code",
   "execution_count": 4,
   "metadata": {
    "execution": {
     "iopub.execute_input": "2024-04-30T20:06:45.161275Z",
     "iopub.status.busy": "2024-04-30T20:06:45.160250Z",
     "iopub.status.idle": "2024-04-30T20:06:45.168302Z",
     "shell.execute_reply": "2024-04-30T20:06:45.168302Z"
    }
   },
   "outputs": [],
   "source": [
    "expiry_dt = value_dt.add_years(0.5)"
   ]
  },
  {
   "cell_type": "code",
   "execution_count": 5,
   "metadata": {
    "execution": {
     "iopub.execute_input": "2024-04-30T20:06:45.170351Z",
     "iopub.status.busy": "2024-04-30T20:06:45.170351Z",
     "iopub.status.idle": "2024-04-30T20:06:45.175877Z",
     "shell.execute_reply": "2024-04-30T20:06:45.175877Z"
    }
   },
   "outputs": [
    {
     "data": {
      "text/plain": [
       "01-JUL-2015"
      ]
     },
     "execution_count": 5,
     "metadata": {},
     "output_type": "execute_result"
    }
   ],
   "source": [
    "expiry_dt"
   ]
  },
  {
   "cell_type": "code",
   "execution_count": 6,
   "metadata": {
    "execution": {
     "iopub.execute_input": "2024-04-30T20:06:45.177910Z",
     "iopub.status.busy": "2024-04-30T20:06:45.177910Z",
     "iopub.status.idle": "2024-04-30T20:06:45.180850Z",
     "shell.execute_reply": "2024-04-30T20:06:45.180850Z"
    }
   },
   "outputs": [],
   "source": [
    "strike_price = 50.0"
   ]
  },
  {
   "cell_type": "code",
   "execution_count": 7,
   "metadata": {
    "execution": {
     "iopub.execute_input": "2024-04-30T20:06:45.183846Z",
     "iopub.status.busy": "2024-04-30T20:06:45.183846Z",
     "iopub.status.idle": "2024-04-30T20:06:45.186771Z",
     "shell.execute_reply": "2024-04-30T20:06:45.186771Z"
    }
   },
   "outputs": [],
   "source": [
    "call_option = EquityVanillaOption(expiry_dt, strike_price, OptionTypes.EUROPEAN_CALL)"
   ]
  },
  {
   "cell_type": "code",
   "execution_count": 8,
   "metadata": {
    "execution": {
     "iopub.execute_input": "2024-04-30T20:06:45.189790Z",
     "iopub.status.busy": "2024-04-30T20:06:45.189790Z",
     "iopub.status.idle": "2024-04-30T20:06:45.192835Z",
     "shell.execute_reply": "2024-04-30T20:06:45.192596Z"
    }
   },
   "outputs": [],
   "source": [
    "put_option = EquityVanillaOption(expiry_dt, strike_price, OptionTypes.EUROPEAN_PUT)"
   ]
  },
  {
   "cell_type": "code",
   "execution_count": 9,
   "metadata": {
    "execution": {
     "iopub.execute_input": "2024-04-30T20:06:45.194832Z",
     "iopub.status.busy": "2024-04-30T20:06:45.194832Z",
     "iopub.status.idle": "2024-04-30T20:06:45.197765Z",
     "shell.execute_reply": "2024-04-30T20:06:45.197765Z"
    }
   },
   "outputs": [],
   "source": [
    "stock_price = 50.0\n",
    "volatility = 0.20\n",
    "interest_rate = 0.05\n",
    "dividend_yield = 0.0"
   ]
  },
  {
   "cell_type": "code",
   "execution_count": 10,
   "metadata": {
    "execution": {
     "iopub.execute_input": "2024-04-30T20:06:45.199792Z",
     "iopub.status.busy": "2024-04-30T20:06:45.199792Z",
     "iopub.status.idle": "2024-04-30T20:06:45.204315Z",
     "shell.execute_reply": "2024-04-30T20:06:45.204315Z"
    }
   },
   "outputs": [],
   "source": [
    "discount_curve = DiscountCurveFlat(value_dt, interest_rate, FrequencyTypes.CONTINUOUS)"
   ]
  },
  {
   "cell_type": "code",
   "execution_count": 11,
   "metadata": {
    "execution": {
     "iopub.execute_input": "2024-04-30T20:06:45.206856Z",
     "iopub.status.busy": "2024-04-30T20:06:45.206856Z",
     "iopub.status.idle": "2024-04-30T20:06:45.210805Z",
     "shell.execute_reply": "2024-04-30T20:06:45.210213Z"
    }
   },
   "outputs": [],
   "source": [
    "dividend_curve = DiscountCurveFlat(value_dt, dividend_yield)"
   ]
  },
  {
   "cell_type": "code",
   "execution_count": 12,
   "metadata": {
    "execution": {
     "iopub.execute_input": "2024-04-30T20:06:45.212342Z",
     "iopub.status.busy": "2024-04-30T20:06:45.212342Z",
     "iopub.status.idle": "2024-04-30T20:06:45.215675Z",
     "shell.execute_reply": "2024-04-30T20:06:45.215675Z"
    }
   },
   "outputs": [],
   "source": [
    "model = BlackScholes(volatility)"
   ]
  },
  {
   "cell_type": "code",
   "execution_count": 13,
   "metadata": {
    "execution": {
     "iopub.execute_input": "2024-04-30T20:06:45.218342Z",
     "iopub.status.busy": "2024-04-30T20:06:45.217313Z",
     "iopub.status.idle": "2024-04-30T20:06:45.222252Z",
     "shell.execute_reply": "2024-04-30T20:06:45.222252Z"
    }
   },
   "outputs": [
    {
     "data": {
      "text/plain": [
       "3.4276581469416914"
      ]
     },
     "execution_count": 13,
     "metadata": {},
     "output_type": "execute_result"
    }
   ],
   "source": [
    "call_option.value(value_dt, stock_price, discount_curve, dividend_curve, model)"
   ]
  },
  {
   "cell_type": "code",
   "execution_count": 14,
   "metadata": {
    "execution": {
     "iopub.execute_input": "2024-04-30T20:06:45.224254Z",
     "iopub.status.busy": "2024-04-30T20:06:45.224254Z",
     "iopub.status.idle": "2024-04-30T20:06:45.228797Z",
     "shell.execute_reply": "2024-04-30T20:06:45.228565Z"
    }
   },
   "outputs": [
    {
     "data": {
      "text/plain": [
       "2.2031750852278296"
      ]
     },
     "execution_count": 14,
     "metadata": {},
     "output_type": "execute_result"
    }
   ],
   "source": [
    "put_option.value(value_dt, stock_price, discount_curve, dividend_curve, model)"
   ]
  },
  {
   "cell_type": "code",
   "execution_count": 15,
   "metadata": {
    "execution": {
     "iopub.execute_input": "2024-04-30T20:06:45.230829Z",
     "iopub.status.busy": "2024-04-30T20:06:45.230829Z",
     "iopub.status.idle": "2024-04-30T20:06:45.233862Z",
     "shell.execute_reply": "2024-04-30T20:06:45.233862Z"
    }
   },
   "outputs": [
    {
     "name": "stdout",
     "output_type": "stream",
     "text": [
      "OBJECT TYPE: EquityVanillaOption\n",
      "EXPIRY DATE: 01-JUL-2015\n",
      "STRIKE PRICE: 50.0\n",
      "OPTION TYPE VALUE: OptionTypes.EUROPEAN_CALL\n",
      "NUMBER: 1.0\n"
     ]
    }
   ],
   "source": [
    "print(call_option)"
   ]
  },
  {
   "cell_type": "code",
   "execution_count": 16,
   "metadata": {
    "execution": {
     "iopub.execute_input": "2024-04-30T20:06:45.235907Z",
     "iopub.status.busy": "2024-04-30T20:06:45.235907Z",
     "iopub.status.idle": "2024-04-30T20:06:45.239200Z",
     "shell.execute_reply": "2024-04-30T20:06:45.239200Z"
    }
   },
   "outputs": [
    {
     "name": "stdout",
     "output_type": "stream",
     "text": [
      "OBJECT TYPE: EquityVanillaOption\n",
      "EXPIRY DATE: 01-JUL-2015\n",
      "STRIKE PRICE: 50.0\n",
      "OPTION TYPE VALUE: OptionTypes.EUROPEAN_PUT\n",
      "NUMBER: 1.0\n"
     ]
    }
   ],
   "source": [
    "print(put_option)"
   ]
  },
  {
   "cell_type": "markdown",
   "metadata": {},
   "source": [
    "## Risk Measures"
   ]
  },
  {
   "cell_type": "markdown",
   "metadata": {},
   "source": [
    "You can calculate the risk measures using the exact formulae (x risks) or using perturbatory analysis"
   ]
  },
  {
   "cell_type": "code",
   "execution_count": 17,
   "metadata": {
    "execution": {
     "iopub.execute_input": "2024-04-30T20:06:45.242198Z",
     "iopub.status.busy": "2024-04-30T20:06:45.241202Z",
     "iopub.status.idle": "2024-04-30T20:06:45.245681Z",
     "shell.execute_reply": "2024-04-30T20:06:45.245681Z"
    }
   },
   "outputs": [
    {
     "data": {
      "text/plain": [
       "0.5973400425924884"
      ]
     },
     "execution_count": 17,
     "metadata": {},
     "output_type": "execute_result"
    }
   ],
   "source": [
    "call_option.delta(value_dt, stock_price, discount_curve, dividend_curve, model)"
   ]
  },
  {
   "cell_type": "code",
   "execution_count": 18,
   "metadata": {
    "execution": {
     "iopub.execute_input": "2024-04-30T20:06:45.248297Z",
     "iopub.status.busy": "2024-04-30T20:06:45.248297Z",
     "iopub.status.idle": "2024-04-30T20:06:45.252253Z",
     "shell.execute_reply": "2024-04-30T20:06:45.252032Z"
    }
   },
   "outputs": [
    {
     "data": {
      "text/plain": [
       "0.0549574102554861"
      ]
     },
     "execution_count": 18,
     "metadata": {},
     "output_type": "execute_result"
    }
   ],
   "source": [
    "call_option.gamma(value_dt, stock_price, discount_curve, dividend_curve, model)"
   ]
  },
  {
   "cell_type": "code",
   "execution_count": 19,
   "metadata": {
    "execution": {
     "iopub.execute_input": "2024-04-30T20:06:45.254280Z",
     "iopub.status.busy": "2024-04-30T20:06:45.254280Z",
     "iopub.status.idle": "2024-04-30T20:06:45.258515Z",
     "shell.execute_reply": "2024-04-30T20:06:45.258007Z"
    }
   },
   "outputs": [
    {
     "data": {
      "text/plain": [
       "-4.0698377119084395"
      ]
     },
     "execution_count": 19,
     "metadata": {},
     "output_type": "execute_result"
    }
   ],
   "source": [
    "call_option.theta(value_dt, stock_price, discount_curve, dividend_curve, model)"
   ]
  },
  {
   "cell_type": "code",
   "execution_count": 20,
   "metadata": {
    "execution": {
     "iopub.execute_input": "2024-04-30T20:06:45.260616Z",
     "iopub.status.busy": "2024-04-30T20:06:45.260616Z",
     "iopub.status.idle": "2024-04-30T20:06:45.264165Z",
     "shell.execute_reply": "2024-04-30T20:06:45.264165Z"
    }
   },
   "outputs": [
    {
     "data": {
      "text/plain": [
       "13.111017153056368"
      ]
     },
     "execution_count": 20,
     "metadata": {},
     "output_type": "execute_result"
    }
   ],
   "source": [
    "call_option.rho(value_dt, stock_price, discount_curve, dividend_curve, model)"
   ]
  },
  {
   "cell_type": "code",
   "execution_count": 21,
   "metadata": {
    "execution": {
     "iopub.execute_input": "2024-04-30T20:06:45.266194Z",
     "iopub.status.busy": "2024-04-30T20:06:45.266194Z",
     "iopub.status.idle": "2024-04-30T20:06:45.270496Z",
     "shell.execute_reply": "2024-04-30T20:06:45.270264Z"
    }
   },
   "outputs": [
    {
     "data": {
      "text/plain": [
       "13.626426378415045"
      ]
     },
     "execution_count": 21,
     "metadata": {},
     "output_type": "execute_result"
    }
   ],
   "source": [
    "call_option.vega(value_dt, stock_price, discount_curve, dividend_curve, model)"
   ]
  },
  {
   "cell_type": "markdown",
   "metadata": {},
   "source": [
    "## Vectorisation"
   ]
  },
  {
   "cell_type": "code",
   "execution_count": 22,
   "metadata": {
    "execution": {
     "iopub.execute_input": "2024-04-30T20:06:45.272527Z",
     "iopub.status.busy": "2024-04-30T20:06:45.272527Z",
     "iopub.status.idle": "2024-04-30T20:06:45.275355Z",
     "shell.execute_reply": "2024-04-30T20:06:45.275355Z"
    }
   },
   "outputs": [],
   "source": [
    "stock_prices = np.linspace(20,80,100)"
   ]
  },
  {
   "cell_type": "code",
   "execution_count": 23,
   "metadata": {
    "execution": {
     "iopub.execute_input": "2024-04-30T20:06:45.277387Z",
     "iopub.status.busy": "2024-04-30T20:06:45.277387Z",
     "iopub.status.idle": "2024-04-30T20:06:45.280784Z",
     "shell.execute_reply": "2024-04-30T20:06:45.280784Z"
    }
   },
   "outputs": [],
   "source": [
    "value = call_option.value(value_dt, stock_prices, discount_curve, dividend_curve, model)"
   ]
  },
  {
   "cell_type": "code",
   "execution_count": 24,
   "metadata": {
    "execution": {
     "iopub.execute_input": "2024-04-30T20:06:45.283839Z",
     "iopub.status.busy": "2024-04-30T20:06:45.283839Z",
     "iopub.status.idle": "2024-04-30T20:06:45.451427Z",
     "shell.execute_reply": "2024-04-30T20:06:45.451427Z"
    }
   },
   "outputs": [
    {
     "data": {
      "text/plain": [
       "Text(0, 0.5, 'Option Premium')"
      ]
     },
     "execution_count": 24,
     "metadata": {},
     "output_type": "execute_result"
    },
    {
     "data": {
      "image/png": "[encoded data removed]",
      "text/plain": [
       "<Figure size 640x480 with 1 Axes>"
      ]
     },
     "metadata": {},
     "output_type": "display_data"
    }
   ],
   "source": [
    "plt.plot(stock_prices, value)\n",
    "plt.xlabel(\"Stock Price\")\n",
    "plt.ylabel(\"Option Premium\")"
   ]
  },
  {
   "cell_type": "markdown",
   "metadata": {},
   "source": [
    "## Risk Measures using Vectorisations"
   ]
  },
  {
   "cell_type": "code",
   "execution_count": 25,
   "metadata": {
    "execution": {
     "iopub.execute_input": "2024-04-30T20:06:45.454424Z",
     "iopub.status.busy": "2024-04-30T20:06:45.454424Z",
     "iopub.status.idle": "2024-04-30T20:06:45.457696Z",
     "shell.execute_reply": "2024-04-30T20:06:45.457093Z"
    }
   },
   "outputs": [],
   "source": [
    "deltas = call_option.delta(value_dt, stock_prices, discount_curve, dividend_curve, model)"
   ]
  },
  {
   "cell_type": "code",
   "execution_count": 26,
   "metadata": {
    "execution": {
     "iopub.execute_input": "2024-04-30T20:06:45.459694Z",
     "iopub.status.busy": "2024-04-30T20:06:45.459694Z",
     "iopub.status.idle": "2024-04-30T20:06:45.591659Z",
     "shell.execute_reply": "2024-04-30T20:06:45.591659Z"
    }
   },
   "outputs": [
    {
     "data": {
      "text/plain": [
       "Text(0, 0.5, 'Option Deltas')"
      ]
     },
     "execution_count": 26,
     "metadata": {},
     "output_type": "execute_result"
    },
    {
     "data": {
      "image/png": "[encoded data removed]",
      "text/plain": [
       "<Figure size 640x480 with 1 Axes>"
      ]
     },
     "metadata": {},
     "output_type": "display_data"
    }
   ],
   "source": [
    "plt.plot(stock_prices, deltas)\n",
    "plt.xlabel(\"Stock Prices\")\n",
    "plt.ylabel(\"Option Deltas\")"
   ]
  },
  {
   "cell_type": "code",
   "execution_count": 27,
   "metadata": {
    "execution": {
     "iopub.execute_input": "2024-04-30T20:06:45.594657Z",
     "iopub.status.busy": "2024-04-30T20:06:45.593689Z",
     "iopub.status.idle": "2024-04-30T20:06:45.597284Z",
     "shell.execute_reply": "2024-04-30T20:06:45.597284Z"
    }
   },
   "outputs": [],
   "source": [
    "gammas = call_option.gamma(value_dt, stock_prices, discount_curve, dividend_curve, model)"
   ]
  },
  {
   "cell_type": "code",
   "execution_count": 28,
   "metadata": {
    "execution": {
     "iopub.execute_input": "2024-04-30T20:06:45.600316Z",
     "iopub.status.busy": "2024-04-30T20:06:45.599316Z",
     "iopub.status.idle": "2024-04-30T20:06:45.737512Z",
     "shell.execute_reply": "2024-04-30T20:06:45.737512Z"
    }
   },
   "outputs": [
    {
     "data": {
      "text/plain": [
       "Text(0, 0.5, 'Option Gamma')"
      ]
     },
     "execution_count": 28,
     "metadata": {},
     "output_type": "execute_result"
    },
    {
     "data": {
      "image/png": "[encoded data removed]",
      "text/plain": [
       "<Figure size 640x480 with 1 Axes>"
      ]
     },
     "metadata": {},
     "output_type": "display_data"
    }
   ],
   "source": [
    "plt.plot(stock_prices, gammas)\n",
    "plt.xlabel(\"Stock Prices\")\n",
    "plt.ylabel(\"Option Gamma\")"
   ]
  },
  {
   "cell_type": "code",
   "execution_count": 29,
   "metadata": {
    "execution": {
     "iopub.execute_input": "2024-04-30T20:06:45.739542Z",
     "iopub.status.busy": "2024-04-30T20:06:45.739542Z",
     "iopub.status.idle": "2024-04-30T20:06:45.742811Z",
     "shell.execute_reply": "2024-04-30T20:06:45.742811Z"
    }
   },
   "outputs": [],
   "source": [
    "thetas = call_option.theta(value_dt, stock_prices, discount_curve, dividend_curve, model)"
   ]
  },
  {
   "cell_type": "code",
   "execution_count": 30,
   "metadata": {
    "execution": {
     "iopub.execute_input": "2024-04-30T20:06:45.744858Z",
     "iopub.status.busy": "2024-04-30T20:06:45.744858Z",
     "iopub.status.idle": "2024-04-30T20:06:45.887170Z",
     "shell.execute_reply": "2024-04-30T20:06:45.887170Z"
    }
   },
   "outputs": [
    {
     "data": {
      "text/plain": [
       "<matplotlib.legend.Legend at 0x2215767f6d0>"
      ]
     },
     "execution_count": 30,
     "metadata": {},
     "output_type": "execute_result"
    },
    {
     "data": {
      "image/png": "[encoded data removed]",
      "text/plain": [
       "<Figure size 640x480 with 1 Axes>"
      ]
     },
     "metadata": {},
     "output_type": "display_data"
    }
   ],
   "source": [
    "plt.plot(stock_prices, thetas, label=\"Thetas\")\n",
    "plt.xlabel(\"Stock Prices\")\n",
    "plt.ylabel(\"Option Theta\")\n",
    "plt.legend()"
   ]
  },
  {
   "cell_type": "code",
   "execution_count": 31,
   "metadata": {
    "execution": {
     "iopub.execute_input": "2024-04-30T20:06:45.889201Z",
     "iopub.status.busy": "2024-04-30T20:06:45.889201Z",
     "iopub.status.idle": "2024-04-30T20:06:45.892426Z",
     "shell.execute_reply": "2024-04-30T20:06:45.892426Z"
    }
   },
   "outputs": [],
   "source": [
    "rhos = call_option.rho(value_dt, stock_prices, discount_curve, dividend_curve, model)"
   ]
  },
  {
   "cell_type": "code",
   "execution_count": 32,
   "metadata": {
    "execution": {
     "iopub.execute_input": "2024-04-30T20:06:45.894484Z",
     "iopub.status.busy": "2024-04-30T20:06:45.894484Z",
     "iopub.status.idle": "2024-04-30T20:06:46.121041Z",
     "shell.execute_reply": "2024-04-30T20:06:46.121041Z"
    }
   },
   "outputs": [
    {
     "data": {
      "text/plain": [
       "Text(0, 0.5, 'Option Rho')"
      ]
     },
     "execution_count": 32,
     "metadata": {},
     "output_type": "execute_result"
    },
    {
     "data": {
      "image/png": "[encoded data removed]",
      "text/plain": [
       "<Figure size 640x480 with 1 Axes>"
      ]
     },
     "metadata": {},
     "output_type": "display_data"
    }
   ],
   "source": [
    "plt.plot(stock_prices, rhos)\n",
    "plt.xlabel(\"Stock Prices\")\n",
    "plt.ylabel(\"Option Rho\")"
   ]
  },
  {
   "cell_type": "markdown",
   "metadata": {},
   "source": [
    "Copyright (c) 2020 Dominic O'Kane"
   ]
  }
 ],
 "metadata": {
  "kernelspec": {
   "display_name": "Python 3 (ipykernel)",
   "language": "python",
   "name": "python3"
  },
  "language_info": {
   "codemirror_mode": {
    "name": "ipython",
    "version": 3
   },
   "file_extension": ".py",
   "mimetype": "text/x-python",
   "name": "python",
   "nbconvert_exporter": "python",
   "pygments_lexer": "ipython3",
   "version": "3.11.5"
  }
 },
 "nbformat": 4,
 "nbformat_minor": 2
}
