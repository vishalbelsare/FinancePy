{
 "cells": [
  {
   "cell_type": "markdown",
   "metadata": {},
   "source": [
    "# EQUITY AMERICAN OPTION - QL COMPARISON"
   ]
  },
  {
   "cell_type": "markdown",
   "metadata": {},
   "source": [
    "Valuation and Risk of American-style options on equity compared with example at\n",
    "http://gouthamanbalaraman.com/blog/american-option-pricing-quantlib-python.html"
   ]
  },
  {
   "cell_type": "code",
   "execution_count": 1,
   "metadata": {
    "execution": {
     "iopub.execute_input": "2024-04-30T20:02:27.541524Z",
     "iopub.status.busy": "2024-04-30T20:02:27.541524Z",
     "iopub.status.idle": "2024-04-30T20:02:28.164531Z",
     "shell.execute_reply": "2024-04-30T20:02:28.164531Z"
    }
   },
   "outputs": [],
   "source": [
    "import numpy as np\n",
    "import matplotlib.pyplot as plt"
   ]
  },
  {
   "cell_type": "code",
   "execution_count": 2,
   "metadata": {
    "execution": {
     "iopub.execute_input": "2024-04-30T20:02:28.167564Z",
     "iopub.status.busy": "2024-04-30T20:02:28.167564Z",
     "iopub.status.idle": "2024-04-30T20:02:34.920693Z",
     "shell.execute_reply": "2024-04-30T20:02:34.920693Z"
    }
   },
   "outputs": [
    {
     "name": "stdout",
     "output_type": "stream",
     "text": [
      "####################################################################\n",
      "#  FINANCEPY BETA Version 0.350 - This build: 30 Apr 2024 at 21:20 #\n",
      "#     This software is distributed FREE AND WITHOUT ANY WARRANTY   #\n",
      "#  Report bugs as issues at https://github.com/domokane/FinancePy  #\n",
      "####################################################################\n",
      "\n"
     ]
    }
   ],
   "source": [
    "from financepy.utils import *\n",
    "from financepy.market.curves.discount_curve_flat import *\n",
    "from financepy.products.equity import *\n",
    "from financepy.models.black_scholes import *"
   ]
  },
  {
   "cell_type": "markdown",
   "metadata": {},
   "source": [
    "# Define the Call and Put Options"
   ]
  },
  {
   "cell_type": "code",
   "execution_count": 3,
   "metadata": {
    "execution": {
     "iopub.execute_input": "2024-04-30T20:02:34.923071Z",
     "iopub.status.busy": "2024-04-30T20:02:34.923071Z",
     "iopub.status.idle": "2024-04-30T20:02:34.943957Z",
     "shell.execute_reply": "2024-04-30T20:02:34.943957Z"
    }
   },
   "outputs": [],
   "source": [
    "value_dt = Date(8, 5, 2015)"
   ]
  },
  {
   "cell_type": "code",
   "execution_count": 4,
   "metadata": {
    "execution": {
     "iopub.execute_input": "2024-04-30T20:02:34.946984Z",
     "iopub.status.busy": "2024-04-30T20:02:34.945989Z",
     "iopub.status.idle": "2024-04-30T20:02:34.949261Z",
     "shell.execute_reply": "2024-04-30T20:02:34.949261Z"
    }
   },
   "outputs": [],
   "source": [
    "expiry_dt = Date(15, 1, 2016)"
   ]
  },
  {
   "cell_type": "code",
   "execution_count": 5,
   "metadata": {
    "execution": {
     "iopub.execute_input": "2024-04-30T20:02:34.951803Z",
     "iopub.status.busy": "2024-04-30T20:02:34.951803Z",
     "iopub.status.idle": "2024-04-30T20:02:34.954205Z",
     "shell.execute_reply": "2024-04-30T20:02:34.954205Z"
    }
   },
   "outputs": [],
   "source": [
    "strike_price = 130"
   ]
  },
  {
   "cell_type": "markdown",
   "metadata": {},
   "source": [
    "Create the call Option"
   ]
  },
  {
   "cell_type": "code",
   "execution_count": 6,
   "metadata": {
    "execution": {
     "iopub.execute_input": "2024-04-30T20:02:34.956741Z",
     "iopub.status.busy": "2024-04-30T20:02:34.956741Z",
     "iopub.status.idle": "2024-04-30T20:02:34.959556Z",
     "shell.execute_reply": "2024-04-30T20:02:34.959556Z"
    }
   },
   "outputs": [],
   "source": [
    "amCallOption = EquityAmericanOption(expiry_dt, strike_price, OptionTypes.AMERICAN_CALL)"
   ]
  },
  {
   "cell_type": "code",
   "execution_count": 7,
   "metadata": {
    "execution": {
     "iopub.execute_input": "2024-04-30T20:02:34.962180Z",
     "iopub.status.busy": "2024-04-30T20:02:34.962180Z",
     "iopub.status.idle": "2024-04-30T20:02:34.964509Z",
     "shell.execute_reply": "2024-04-30T20:02:34.964509Z"
    }
   },
   "outputs": [
    {
     "name": "stdout",
     "output_type": "stream",
     "text": [
      "OBJECT TYPE: EquityAmericanOption\n",
      "EXPIRY DATE: 15-JAN-2016\n",
      "STRIKE PRICE: 130\n",
      "OPTION TYPE: OptionTypes.AMERICAN_CALL\n",
      "NUMBER: 1.0\n"
     ]
    }
   ],
   "source": [
    "print(amCallOption)"
   ]
  },
  {
   "cell_type": "markdown",
   "metadata": {},
   "source": [
    "We can also define an American option with a European payoff - this way we will use the same CRR tree for the pricing."
   ]
  },
  {
   "cell_type": "code",
   "execution_count": 8,
   "metadata": {
    "execution": {
     "iopub.execute_input": "2024-04-30T20:02:34.966541Z",
     "iopub.status.busy": "2024-04-30T20:02:34.966541Z",
     "iopub.status.idle": "2024-04-30T20:02:34.969624Z",
     "shell.execute_reply": "2024-04-30T20:02:34.969624Z"
    }
   },
   "outputs": [],
   "source": [
    "euCallOption = EquityAmericanOption(expiry_dt, strike_price, OptionTypes.EUROPEAN_CALL)"
   ]
  },
  {
   "cell_type": "code",
   "execution_count": 9,
   "metadata": {
    "execution": {
     "iopub.execute_input": "2024-04-30T20:02:34.972250Z",
     "iopub.status.busy": "2024-04-30T20:02:34.972250Z",
     "iopub.status.idle": "2024-04-30T20:02:34.975165Z",
     "shell.execute_reply": "2024-04-30T20:02:34.975165Z"
    }
   },
   "outputs": [
    {
     "name": "stdout",
     "output_type": "stream",
     "text": [
      "OBJECT TYPE: EquityAmericanOption\n",
      "EXPIRY DATE: 15-JAN-2016\n",
      "STRIKE PRICE: 130\n",
      "OPTION TYPE: OptionTypes.EUROPEAN_CALL\n",
      "NUMBER: 1.0\n"
     ]
    }
   ],
   "source": [
    "print(euCallOption)"
   ]
  },
  {
   "cell_type": "markdown",
   "metadata": {},
   "source": [
    "We can also define an actual vanilla call option which will be priced using Black Scholes."
   ]
  },
  {
   "cell_type": "code",
   "execution_count": 10,
   "metadata": {
    "execution": {
     "iopub.execute_input": "2024-04-30T20:02:34.977196Z",
     "iopub.status.busy": "2024-04-30T20:02:34.977196Z",
     "iopub.status.idle": "2024-04-30T20:02:34.980158Z",
     "shell.execute_reply": "2024-04-30T20:02:34.980158Z"
    }
   },
   "outputs": [],
   "source": [
    "call_option = EquityVanillaOption(expiry_dt, strike_price, OptionTypes.EUROPEAN_CALL)"
   ]
  },
  {
   "cell_type": "code",
   "execution_count": 11,
   "metadata": {
    "execution": {
     "iopub.execute_input": "2024-04-30T20:02:34.982774Z",
     "iopub.status.busy": "2024-04-30T20:02:34.982774Z",
     "iopub.status.idle": "2024-04-30T20:02:34.985294Z",
     "shell.execute_reply": "2024-04-30T20:02:34.985294Z"
    }
   },
   "outputs": [
    {
     "name": "stdout",
     "output_type": "stream",
     "text": [
      "OBJECT TYPE: EquityVanillaOption\n",
      "EXPIRY DATE: 15-JAN-2016\n",
      "STRIKE PRICE: 130\n",
      "OPTION TYPE VALUE: OptionTypes.EUROPEAN_CALL\n",
      "NUMBER: 1.0\n"
     ]
    }
   ],
   "source": [
    "print(call_option)"
   ]
  },
  {
   "cell_type": "markdown",
   "metadata": {},
   "source": [
    "Now we can explore the pricing of all three to check for consistency and tree convergence."
   ]
  },
  {
   "cell_type": "markdown",
   "metadata": {},
   "source": [
    "## Valuation"
   ]
  },
  {
   "cell_type": "code",
   "execution_count": 12,
   "metadata": {
    "execution": {
     "iopub.execute_input": "2024-04-30T20:02:34.987297Z",
     "iopub.status.busy": "2024-04-30T20:02:34.987297Z",
     "iopub.status.idle": "2024-04-30T20:02:34.990358Z",
     "shell.execute_reply": "2024-04-30T20:02:34.990358Z"
    }
   },
   "outputs": [],
   "source": [
    "stock_price = 127.62\n",
    "volatility = 0.20\n",
    "interest_rate = 0.001\n",
    "dividend_yield = 0.0163"
   ]
  },
  {
   "cell_type": "code",
   "execution_count": 13,
   "metadata": {
    "execution": {
     "iopub.execute_input": "2024-04-30T20:02:34.992993Z",
     "iopub.status.busy": "2024-04-30T20:02:34.991361Z",
     "iopub.status.idle": "2024-04-30T20:02:35.001432Z",
     "shell.execute_reply": "2024-04-30T20:02:35.001432Z"
    }
   },
   "outputs": [],
   "source": [
    "discount_curve = DiscountCurveFlat(value_dt, interest_rate)"
   ]
  },
  {
   "cell_type": "code",
   "execution_count": 14,
   "metadata": {
    "execution": {
     "iopub.execute_input": "2024-04-30T20:02:35.003434Z",
     "iopub.status.busy": "2024-04-30T20:02:35.003434Z",
     "iopub.status.idle": "2024-04-30T20:02:35.007509Z",
     "shell.execute_reply": "2024-04-30T20:02:35.007509Z"
    }
   },
   "outputs": [],
   "source": [
    "dividend_curve = DiscountCurveFlat(value_dt, dividend_yield)"
   ]
  },
  {
   "cell_type": "markdown",
   "metadata": {},
   "source": [
    "We now define the model. This is Black-Scholes. We can also specify the number of steps to use on the tree,"
   ]
  },
  {
   "cell_type": "code",
   "execution_count": 15,
   "metadata": {
    "execution": {
     "iopub.execute_input": "2024-04-30T20:02:35.009557Z",
     "iopub.status.busy": "2024-04-30T20:02:35.009557Z",
     "iopub.status.idle": "2024-04-30T20:02:35.012327Z",
     "shell.execute_reply": "2024-04-30T20:02:35.012327Z"
    }
   },
   "outputs": [],
   "source": [
    "num_steps_per_year = 400"
   ]
  },
  {
   "cell_type": "code",
   "execution_count": 16,
   "metadata": {
    "execution": {
     "iopub.execute_input": "2024-04-30T20:02:35.014991Z",
     "iopub.status.busy": "2024-04-30T20:02:35.013952Z",
     "iopub.status.idle": "2024-04-30T20:02:35.016978Z",
     "shell.execute_reply": "2024-04-30T20:02:35.016978Z"
    }
   },
   "outputs": [],
   "source": [
    "bsType = BlackScholesTypes.CRR_TREE"
   ]
  },
  {
   "cell_type": "code",
   "execution_count": 17,
   "metadata": {
    "execution": {
     "iopub.execute_input": "2024-04-30T20:02:35.019008Z",
     "iopub.status.busy": "2024-04-30T20:02:35.019008Z",
     "iopub.status.idle": "2024-04-30T20:02:35.022215Z",
     "shell.execute_reply": "2024-04-30T20:02:35.022215Z"
    }
   },
   "outputs": [],
   "source": [
    "model = BlackScholes(volatility, bsType, num_steps_per_year)"
   ]
  },
  {
   "cell_type": "code",
   "execution_count": 18,
   "metadata": {
    "execution": {
     "iopub.execute_input": "2024-04-30T20:02:35.024717Z",
     "iopub.status.busy": "2024-04-30T20:02:35.024717Z",
     "iopub.status.idle": "2024-04-30T20:02:35.032977Z",
     "shell.execute_reply": "2024-04-30T20:02:35.032977Z"
    }
   },
   "outputs": [
    {
     "data": {
      "text/plain": [
       "6.839133503553418"
      ]
     },
     "execution_count": 18,
     "metadata": {},
     "output_type": "execute_result"
    }
   ],
   "source": [
    "amCallOption.value(value_dt, stock_price, discount_curve, dividend_curve, model)"
   ]
  },
  {
   "cell_type": "markdown",
   "metadata": {},
   "source": [
    "Compare it to European using same tree"
   ]
  },
  {
   "cell_type": "code",
   "execution_count": 19,
   "metadata": {
    "execution": {
     "iopub.execute_input": "2024-04-30T20:02:35.035635Z",
     "iopub.status.busy": "2024-04-30T20:02:35.035635Z",
     "iopub.status.idle": "2024-04-30T20:02:35.040602Z",
     "shell.execute_reply": "2024-04-30T20:02:35.040602Z"
    }
   },
   "outputs": [
    {
     "data": {
      "text/plain": [
       "6.7511306397034225"
      ]
     },
     "execution_count": 19,
     "metadata": {},
     "output_type": "execute_result"
    }
   ],
   "source": [
    "euCallOption.value(value_dt, stock_price, discount_curve, dividend_curve, model)"
   ]
  },
  {
   "cell_type": "markdown",
   "metadata": {},
   "source": [
    "This is lower as we would expect due to the lack of early exercise. Let's check this against the Black Scholes model analytical form."
   ]
  },
  {
   "cell_type": "code",
   "execution_count": 20,
   "metadata": {
    "execution": {
     "iopub.execute_input": "2024-04-30T20:02:35.043644Z",
     "iopub.status.busy": "2024-04-30T20:02:35.042635Z",
     "iopub.status.idle": "2024-04-30T20:02:35.046978Z",
     "shell.execute_reply": "2024-04-30T20:02:35.046978Z"
    }
   },
   "outputs": [
    {
     "data": {
      "text/plain": [
       "6.749351201717856"
      ]
     },
     "execution_count": 20,
     "metadata": {},
     "output_type": "execute_result"
    }
   ],
   "source": [
    "call_option.value(value_dt, stock_price, discount_curve, dividend_curve, model)"
   ]
  },
  {
   "cell_type": "markdown",
   "metadata": {},
   "source": [
    "The price is close to the 6.74927 found by QL - see http://gouthamanbalaraman.com/blog/european-option-binomial-tree-quantlib-python.html. Differences with QL could be due to differences in time calculations. It is also different from the Tree value but that is a tree convergence issue. Let's see how good convergence is."
   ]
  },
  {
   "cell_type": "markdown",
   "metadata": {},
   "source": [
    "## Tree Convergence"
   ]
  },
  {
   "cell_type": "code",
   "execution_count": 21,
   "metadata": {
    "execution": {
     "iopub.execute_input": "2024-04-30T20:02:35.050028Z",
     "iopub.status.busy": "2024-04-30T20:02:35.050028Z",
     "iopub.status.idle": "2024-04-30T20:02:35.052734Z",
     "shell.execute_reply": "2024-04-30T20:02:35.052734Z"
    }
   },
   "outputs": [],
   "source": [
    "num_steps_per_year = range(5, 200, 1)"
   ]
  },
  {
   "cell_type": "code",
   "execution_count": 22,
   "metadata": {
    "execution": {
     "iopub.execute_input": "2024-04-30T20:02:35.055798Z",
     "iopub.status.busy": "2024-04-30T20:02:35.055798Z",
     "iopub.status.idle": "2024-04-30T20:02:35.131149Z",
     "shell.execute_reply": "2024-04-30T20:02:35.130551Z"
    }
   },
   "outputs": [],
   "source": [
    "amTreeValue = []\n",
    "euTreeValue = []\n",
    "euAnalValue = []\n",
    "volatility = 0.20\n",
    "\n",
    "for num_steps in num_steps_per_year:\n",
    "    model = BlackScholes(volatility, BlackScholesTypes.CRR_TREE, num_steps)\n",
    "    v_am = amCallOption.value(value_dt, stock_price, discount_curve, dividend_curve, model)\n",
    "    v_eu = euCallOption.value(value_dt, stock_price, discount_curve, dividend_curve, model)\n",
    "    v_bs = call_option.value(value_dt, stock_price, discount_curve, dividend_curve, model)\n",
    "    \n",
    "    amTreeValue.append(v_am)\n",
    "    euTreeValue.append(v_eu)\n",
    "    euAnalValue.append(v_bs)"
   ]
  },
  {
   "cell_type": "code",
   "execution_count": 23,
   "metadata": {
    "execution": {
     "iopub.execute_input": "2024-04-30T20:02:35.133176Z",
     "iopub.status.busy": "2024-04-30T20:02:35.133176Z",
     "iopub.status.idle": "2024-04-30T20:02:35.379448Z",
     "shell.execute_reply": "2024-04-30T20:02:35.379448Z"
    }
   },
   "outputs": [
    {
     "data": {
      "image/png": "[encoded data removed]",
      "text/plain": [
       "<Figure size 640x480 with 1 Axes>"
      ]
     },
     "metadata": {},
     "output_type": "display_data"
    }
   ],
   "source": [
    "plt.title(\"American Option Price Convergence Analysis\")\n",
    "plt.plot(num_steps_per_year, amTreeValue, label=\"American Tree\")\n",
    "plt.plot(num_steps_per_year, euTreeValue, label=\"European Tree\")\n",
    "plt.plot(num_steps_per_year, euAnalValue, label=\"European Anal\", lw =2)\n",
    "plt.xlabel(\"NumSteps\")\n",
    "plt.ylabel(\"Value\")\n",
    "plt.legend();"
   ]
  },
  {
   "cell_type": "markdown",
   "metadata": {},
   "source": [
    "Agreement with QL is very good and tree convergence appears much better - probably assisted by fact that I average even and odd numbers of steps internally."
   ]
  },
  {
   "cell_type": "markdown",
   "metadata": {},
   "source": [
    "Copyright (c) 2020 Dominic O'Kane"
   ]
  }
 ],
 "metadata": {
  "kernelspec": {
   "display_name": "Python 3",
   "language": "python",
   "name": "python3"
  },
  "language_info": {
   "codemirror_mode": {
    "name": "ipython",
    "version": 3
   },
   "file_extension": ".py",
   "mimetype": "text/x-python",
   "name": "python",
   "nbconvert_exporter": "python",
   "pygments_lexer": "ipython3",
   "version": "3.11.5"
  }
 },
 "nbformat": 4,
 "nbformat_minor": 2
}
