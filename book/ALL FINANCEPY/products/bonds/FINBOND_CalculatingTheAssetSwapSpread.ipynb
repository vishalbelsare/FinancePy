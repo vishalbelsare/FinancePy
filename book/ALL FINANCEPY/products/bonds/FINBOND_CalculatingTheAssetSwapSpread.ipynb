{
 "cells": [
  {
   "cell_type": "markdown",
   "metadata": {},
   "source": [
    "# Calculating the Asset Swap Spread"
   ]
  },
  {
   "cell_type": "markdown",
   "metadata": {},
   "source": [
    "The asset swap spread is widely used as measures of pure credit risk. In this notebook I calculate these quantities."
   ]
  },
  {
   "cell_type": "code",
   "execution_count": 1,
   "metadata": {
    "execution": {
     "iopub.execute_input": "2024-04-30T19:50:14.968780Z",
     "iopub.status.busy": "2024-04-30T19:50:14.968780Z",
     "iopub.status.idle": "2024-04-30T19:50:15.581090Z",
     "shell.execute_reply": "2024-04-30T19:50:15.580480Z"
    }
   },
   "outputs": [],
   "source": [
    "import numpy as np\n",
    "import matplotlib.pyplot as plt"
   ]
  },
  {
   "cell_type": "code",
   "execution_count": 2,
   "metadata": {
    "execution": {
     "iopub.execute_input": "2024-04-30T19:50:15.584085Z",
     "iopub.status.busy": "2024-04-30T19:50:15.583117Z",
     "iopub.status.idle": "2024-04-30T19:50:16.785677Z",
     "shell.execute_reply": "2024-04-30T19:50:16.785677Z"
    }
   },
   "outputs": [
    {
     "name": "stdout",
     "output_type": "stream",
     "text": [
      "####################################################################\n",
      "#  FINANCEPY BETA Version 0.350 - This build: 30 Apr 2024 at 21:20 #\n",
      "#     This software is distributed FREE AND WITHOUT ANY WARRANTY   #\n",
      "#  Report bugs as issues at https://github.com/domokane/FinancePy  #\n",
      "####################################################################\n",
      "\n"
     ]
    }
   ],
   "source": [
    "from financepy.utils import *\n",
    "from financepy.products.bonds import *"
   ]
  },
  {
   "cell_type": "code",
   "execution_count": 3,
   "metadata": {
    "execution": {
     "iopub.execute_input": "2024-04-30T19:50:16.788704Z",
     "iopub.status.busy": "2024-04-30T19:50:16.788704Z",
     "iopub.status.idle": "2024-04-30T19:50:16.807759Z",
     "shell.execute_reply": "2024-04-30T19:50:16.807759Z"
    }
   },
   "outputs": [],
   "source": [
    "issue_dt = Date(15, 5, 2000)\n",
    "maturity_dt = Date(15, 5, 2027)\n",
    "coupon = 0.02375\n",
    "freq_type = FrequencyTypes.SEMI_ANNUAL\n",
    "dc_type = DayCountTypes.ACT_ACT_ICMA\n",
    "face_amount = 100.0 "
   ]
  },
  {
   "cell_type": "code",
   "execution_count": 4,
   "metadata": {
    "execution": {
     "iopub.execute_input": "2024-04-30T19:50:16.809789Z",
     "iopub.status.busy": "2024-04-30T19:50:16.809789Z",
     "iopub.status.idle": "2024-04-30T19:50:16.813669Z",
     "shell.execute_reply": "2024-04-30T19:50:16.813669Z"
    }
   },
   "outputs": [],
   "source": [
    "bond = Bond(issue_dt, maturity_dt, coupon, freq_type, dc_type)"
   ]
  },
  {
   "cell_type": "code",
   "execution_count": 5,
   "metadata": {
    "execution": {
     "iopub.execute_input": "2024-04-30T19:50:16.816234Z",
     "iopub.status.busy": "2024-04-30T19:50:16.816234Z",
     "iopub.status.idle": "2024-04-30T19:50:16.818860Z",
     "shell.execute_reply": "2024-04-30T19:50:16.818860Z"
    }
   },
   "outputs": [
    {
     "name": "stdout",
     "output_type": "stream",
     "text": [
      "OBJECT TYPE: Bond\n",
      "ISSUE DATE: 15-MAY-2000\n",
      "MATURITY DATE: 15-MAY-2027\n",
      "COUPON (%): 2.375\n",
      "FREQUENCY: FrequencyTypes.SEMI_ANNUAL\n",
      "DAY COUNT TYPE: DayCountTypes.ACT_ACT_ICMA\n",
      "EX_DIV DAYS: 0\n"
     ]
    }
   ],
   "source": [
    "print(bond)"
   ]
  },
  {
   "cell_type": "markdown",
   "metadata": {},
   "source": [
    "## Asset Swap Spread"
   ]
  },
  {
   "cell_type": "markdown",
   "metadata": {},
   "source": [
    "To calculate the asset swap spread we need a Libor reference curve. I just create a simple flat curve."
   ]
  },
  {
   "cell_type": "code",
   "execution_count": 6,
   "metadata": {
    "execution": {
     "iopub.execute_input": "2024-04-30T19:50:16.820892Z",
     "iopub.status.busy": "2024-04-30T19:50:16.820892Z",
     "iopub.status.idle": "2024-04-30T19:50:16.823839Z",
     "shell.execute_reply": "2024-04-30T19:50:16.823839Z"
    }
   },
   "outputs": [],
   "source": [
    "from financepy.market.curves.discount_curve_flat import DiscountCurveFlat"
   ]
  },
  {
   "cell_type": "code",
   "execution_count": 7,
   "metadata": {
    "execution": {
     "iopub.execute_input": "2024-04-30T19:50:16.825862Z",
     "iopub.status.busy": "2024-04-30T19:50:16.825862Z",
     "iopub.status.idle": "2024-04-30T19:50:16.828427Z",
     "shell.execute_reply": "2024-04-30T19:50:16.828427Z"
    }
   },
   "outputs": [],
   "source": [
    "liborFlatRate = 0.0275"
   ]
  },
  {
   "cell_type": "code",
   "execution_count": 8,
   "metadata": {
    "execution": {
     "iopub.execute_input": "2024-04-30T19:50:16.830458Z",
     "iopub.status.busy": "2024-04-30T19:50:16.830458Z",
     "iopub.status.idle": "2024-04-30T19:50:16.833204Z",
     "shell.execute_reply": "2024-04-30T19:50:16.833204Z"
    }
   },
   "outputs": [],
   "source": [
    "settle_dt = Date(21, 7, 2017)"
   ]
  },
  {
   "cell_type": "code",
   "execution_count": 9,
   "metadata": {
    "execution": {
     "iopub.execute_input": "2024-04-30T19:50:16.835234Z",
     "iopub.status.busy": "2024-04-30T19:50:16.835234Z",
     "iopub.status.idle": "2024-04-30T19:50:16.843594Z",
     "shell.execute_reply": "2024-04-30T19:50:16.843594Z"
    }
   },
   "outputs": [],
   "source": [
    "liborFlatCurve = DiscountCurveFlat(settle_dt, liborFlatRate, FrequencyTypes.SEMI_ANNUAL)"
   ]
  },
  {
   "cell_type": "code",
   "execution_count": 10,
   "metadata": {
    "execution": {
     "iopub.execute_input": "2024-04-30T19:50:16.845642Z",
     "iopub.status.busy": "2024-04-30T19:50:16.845642Z",
     "iopub.status.idle": "2024-04-30T19:50:16.848546Z",
     "shell.execute_reply": "2024-04-30T19:50:16.848546Z"
    }
   },
   "outputs": [
    {
     "name": "stdout",
     "output_type": "stream",
     "text": [
      "OBJECT TYPE: DiscountCurveFlat\n",
      "VALUE DATE: 21-JUL-2017\n",
      "FLAT RATE: 0.0275\n",
      "FREQUENCY: FrequencyTypes.SEMI_ANNUAL\n",
      "DAY COUNT: DayCountTypes.ACT_ACT_ISDA\n",
      "\n"
     ]
    }
   ],
   "source": [
    "print(liborFlatCurve)"
   ]
  },
  {
   "cell_type": "markdown",
   "metadata": {},
   "source": [
    "To caluclate the ASW I need to know the clean price of the bond"
   ]
  },
  {
   "cell_type": "code",
   "execution_count": 11,
   "metadata": {
    "execution": {
     "iopub.execute_input": "2024-04-30T19:50:16.850576Z",
     "iopub.status.busy": "2024-04-30T19:50:16.850576Z",
     "iopub.status.idle": "2024-04-30T19:50:16.853516Z",
     "shell.execute_reply": "2024-04-30T19:50:16.853516Z"
    }
   },
   "outputs": [],
   "source": [
    "clean_price = 99.780842  # I specified face to be 100 - if face is 1 then this must be 0.99780842"
   ]
  },
  {
   "cell_type": "markdown",
   "metadata": {},
   "source": [
    "I then call a function passing in the date, price and curve"
   ]
  },
  {
   "cell_type": "code",
   "execution_count": 12,
   "metadata": {
    "execution": {
     "iopub.execute_input": "2024-04-30T19:50:16.855543Z",
     "iopub.status.busy": "2024-04-30T19:50:16.855543Z",
     "iopub.status.idle": "2024-04-30T19:50:16.862964Z",
     "shell.execute_reply": "2024-04-30T19:50:16.862964Z"
    }
   },
   "outputs": [
    {
     "data": {
      "text/plain": [
       "-33.69913338080966"
      ]
     },
     "execution_count": 12,
     "metadata": {},
     "output_type": "execute_result"
    }
   ],
   "source": [
    "bond.asset_swap_spread(settle_dt, clean_price, liborFlatCurve) * 10000"
   ]
  },
  {
   "cell_type": "markdown",
   "metadata": {},
   "source": [
    "The bond ASW is negative so it is trading tighter than the Libor curve. I need to cheapen the bond to make the ASW positive."
   ]
  },
  {
   "cell_type": "code",
   "execution_count": 13,
   "metadata": {
    "execution": {
     "iopub.execute_input": "2024-04-30T19:50:16.865008Z",
     "iopub.status.busy": "2024-04-30T19:50:16.865008Z",
     "iopub.status.idle": "2024-04-30T19:50:16.868293Z",
     "shell.execute_reply": "2024-04-30T19:50:16.868053Z"
    }
   },
   "outputs": [],
   "source": [
    "clean_price = 93.382  # I specified face to be 100 "
   ]
  },
  {
   "cell_type": "code",
   "execution_count": 14,
   "metadata": {
    "execution": {
     "iopub.execute_input": "2024-04-30T19:50:16.870292Z",
     "iopub.status.busy": "2024-04-30T19:50:16.870292Z",
     "iopub.status.idle": "2024-04-30T19:50:16.874828Z",
     "shell.execute_reply": "2024-04-30T19:50:16.874828Z"
    }
   },
   "outputs": [
    {
     "data": {
      "text/plain": [
       "38.48148022319349"
      ]
     },
     "execution_count": 14,
     "metadata": {},
     "output_type": "execute_result"
    }
   ],
   "source": [
    "bond.asset_swap_spread(settle_dt, clean_price, liborFlatCurve) * 10000"
   ]
  },
  {
   "cell_type": "markdown",
   "metadata": {},
   "source": [
    "To get date functionality you import Date"
   ]
  },
  {
   "cell_type": "markdown",
   "metadata": {},
   "source": [
    "## Analysis of the Asset Swap Spread"
   ]
  },
  {
   "cell_type": "markdown",
   "metadata": {},
   "source": [
    "We can use the vectorisations to do some basic analysis. First generate a vector of prices from 90 to 110 with 20 steps."
   ]
  },
  {
   "cell_type": "code",
   "execution_count": 15,
   "metadata": {
    "execution": {
     "iopub.execute_input": "2024-04-30T19:50:16.876862Z",
     "iopub.status.busy": "2024-04-30T19:50:16.876862Z",
     "iopub.status.idle": "2024-04-30T19:50:16.879762Z",
     "shell.execute_reply": "2024-04-30T19:50:16.879762Z"
    }
   },
   "outputs": [],
   "source": [
    "clean_prices = np.linspace(75,125,20)"
   ]
  },
  {
   "cell_type": "code",
   "execution_count": 16,
   "metadata": {
    "execution": {
     "iopub.execute_input": "2024-04-30T19:50:16.881765Z",
     "iopub.status.busy": "2024-04-30T19:50:16.881765Z",
     "iopub.status.idle": "2024-04-30T19:50:16.885724Z",
     "shell.execute_reply": "2024-04-30T19:50:16.885724Z"
    }
   },
   "outputs": [],
   "source": [
    "asws = bond.asset_swap_spread(settle_dt, clean_prices, liborFlatCurve)"
   ]
  },
  {
   "cell_type": "markdown",
   "metadata": {},
   "source": [
    "We can now plot the relationship."
   ]
  },
  {
   "cell_type": "code",
   "execution_count": 17,
   "metadata": {
    "execution": {
     "iopub.execute_input": "2024-04-30T19:50:16.888338Z",
     "iopub.status.busy": "2024-04-30T19:50:16.888338Z",
     "iopub.status.idle": "2024-04-30T19:50:17.048332Z",
     "shell.execute_reply": "2024-04-30T19:50:17.047668Z"
    }
   },
   "outputs": [
    {
     "data": {
      "text/plain": [
       "Text(0, 0.5, 'Asset Swap Spread (bp)')"
      ]
     },
     "execution_count": 17,
     "metadata": {},
     "output_type": "execute_result"
    },
    {
     "data": {
      "image/png": "[encoded data removed]",
      "text/plain": [
       "<Figure size 640x480 with 1 Axes>"
      ]
     },
     "metadata": {},
     "output_type": "display_data"
    }
   ],
   "source": [
    "plt.plot(clean_prices,asws*10000)\n",
    "plt.xlabel(\"Bond Clean Price\")\n",
    "plt.ylabel(\"Asset Swap Spread (bp)\")"
   ]
  },
  {
   "cell_type": "markdown",
   "metadata": {},
   "source": [
    "This is nicely linear and decreasing - the higher the bond price the better its implied credit risk versus Libor discounting so the lower its asset swap spread."
   ]
  },
  {
   "cell_type": "markdown",
   "metadata": {},
   "source": [
    "Copyright (c) 2020 Dominic O'Kane"
   ]
  }
 ],
 "metadata": {
  "kernelspec": {
   "display_name": "Python 3",
   "language": "python",
   "name": "python3"
  },
  "language_info": {
   "codemirror_mode": {
    "name": "ipython",
    "version": 3
   },
   "file_extension": ".py",
   "mimetype": "text/x-python",
   "name": "python",
   "nbconvert_exporter": "python",
   "pygments_lexer": "ipython3",
   "version": "3.11.5"
  }
 },
 "nbformat": 4,
 "nbformat_minor": 2
}
