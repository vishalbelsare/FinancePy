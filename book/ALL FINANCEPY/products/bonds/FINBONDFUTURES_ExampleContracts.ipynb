{
 "cells": [
  {
   "cell_type": "markdown",
   "metadata": {},
   "source": [
    "# ANALYSING BOND FUTURES CONTRACTS"
   ]
  },
  {
   "cell_type": "markdown",
   "metadata": {},
   "source": [
    "In this notebook I analyse a CME bond futures contract"
   ]
  },
  {
   "cell_type": "code",
   "execution_count": 1,
   "metadata": {
    "execution": {
     "iopub.execute_input": "2024-04-30T19:43:21.488671Z",
     "iopub.status.busy": "2024-04-30T19:43:21.488671Z",
     "iopub.status.idle": "2024-04-30T19:43:21.500105Z",
     "shell.execute_reply": "2024-04-30T19:43:21.499104Z"
    }
   },
   "outputs": [],
   "source": [
    "import datetime as dt"
   ]
  },
  {
   "cell_type": "code",
   "execution_count": 2,
   "metadata": {
    "execution": {
     "iopub.execute_input": "2024-04-30T19:43:21.504641Z",
     "iopub.status.busy": "2024-04-30T19:43:21.503645Z",
     "iopub.status.idle": "2024-04-30T19:43:23.448678Z",
     "shell.execute_reply": "2024-04-30T19:43:23.448678Z"
    }
   },
   "outputs": [
    {
     "name": "stdout",
     "output_type": "stream",
     "text": [
      "####################################################################\n",
      "#  FINANCEPY BETA Version 0.350 - This build: 30 Apr 2024 at 21:20 #\n",
      "#     This software is distributed FREE AND WITHOUT ANY WARRANTY   #\n",
      "#  Report bugs as issues at https://github.com/domokane/FinancePy  #\n",
      "####################################################################\n",
      "\n"
     ]
    }
   ],
   "source": [
    "from financepy.products.bonds import *\n",
    "from financepy.utils import *"
   ]
  },
  {
   "cell_type": "markdown",
   "metadata": {},
   "source": [
    "## Example from CME"
   ]
  },
  {
   "cell_type": "markdown",
   "metadata": {},
   "source": [
    "https://www.cmegroup.com/education/files/understanding-treasury-futures.pdf"
   ]
  },
  {
   "cell_type": "code",
   "execution_count": 3,
   "metadata": {
    "execution": {
     "iopub.execute_input": "2024-04-30T19:43:23.451272Z",
     "iopub.status.busy": "2024-04-30T19:43:23.451272Z",
     "iopub.status.idle": "2024-04-30T19:43:23.471379Z",
     "shell.execute_reply": "2024-04-30T19:43:23.471379Z"
    }
   },
   "outputs": [],
   "source": [
    "first_delivery_dt = Date(1, 12, 2017)\n",
    "last_delivery_dt = Date(28, 12, 2017)\n",
    "\n",
    "contract_size = 100000\n",
    "contractCoupon = 0.06\n",
    "\n",
    "bondFutureContract = BondFuture(\"TYZ7\", first_delivery_dt, last_delivery_dt,\n",
    "                                   contract_size, contractCoupon)"
   ]
  },
  {
   "cell_type": "code",
   "execution_count": 4,
   "metadata": {
    "execution": {
     "iopub.execute_input": "2024-04-30T19:43:23.474401Z",
     "iopub.status.busy": "2024-04-30T19:43:23.473403Z",
     "iopub.status.idle": "2024-04-30T19:43:23.476783Z",
     "shell.execute_reply": "2024-04-30T19:43:23.476783Z"
    }
   },
   "outputs": [
    {
     "name": "stdout",
     "output_type": "stream",
     "text": [
      "OBJECT TYPE: BondFuture\n",
      "TICKER NAME: TYZ7\n",
      "FIRST DELIVERY DATE: 01-DEC-2017\n",
      "LAST DELIVERY DATE: 28-DEC-2017\n",
      "CONTRACT SIZE: 100000\n",
      "COUPON: 0.06\n",
      "\n"
     ]
    }
   ],
   "source": [
    "print(bondFutureContract)"
   ]
  },
  {
   "cell_type": "code",
   "execution_count": 5,
   "metadata": {
    "execution": {
     "iopub.execute_input": "2024-04-30T19:43:23.478815Z",
     "iopub.status.busy": "2024-04-30T19:43:23.478815Z",
     "iopub.status.idle": "2024-04-30T19:43:23.481968Z",
     "shell.execute_reply": "2024-04-30T19:43:23.481968Z"
    }
   },
   "outputs": [],
   "source": [
    "freq = FrequencyTypes.SEMI_ANNUAL\n",
    "basis = DayCountTypes.ACT_ACT_ICMA\n",
    "settle_dt = Date(10, 10, 2017)\n",
    "issue_dt = Date(1, 1, 2000) # Dummy"
   ]
  },
  {
   "cell_type": "code",
   "execution_count": 6,
   "metadata": {
    "execution": {
     "iopub.execute_input": "2024-04-30T19:43:23.484001Z",
     "iopub.status.busy": "2024-04-30T19:43:23.484001Z",
     "iopub.status.idle": "2024-04-30T19:43:23.504779Z",
     "shell.execute_reply": "2024-04-30T19:43:23.504779Z"
    }
   },
   "outputs": [],
   "source": [
    "bonds = []\n",
    "prices = []\n",
    "bond = Bond(issue_dt, Date(15, 8, 2027), 0.0225, freq, basis); bonds.append(bond); prices.append(99 + 1 / 32)\n",
    "bond = Bond(issue_dt, Date(15, 5, 2027), 0.02375, freq, basis); bonds.append(bond); prices.append(100 + 5 / 32 + 1 / 64)\n",
    "bond = Bond(issue_dt, Date(15, 2, 2027), 0.0225, freq, basis); bonds.append(bond); prices.append(99 + 5 / 32 + 1 / 64)\n",
    "bond = Bond(issue_dt, Date(15, 11, 2026), 0.02, freq, basis); bonds.append(bond); prices.append(97 + 7 / 32 + 1 / 64)\n",
    "bond = Bond(issue_dt, Date(5, 8, 2026), 0.015, freq, basis); bonds.append(bond); prices.append(93 + 14 / 32)\n",
    "bond = Bond(issue_dt, Date(15, 5, 2026), 0.01625, freq, basis); bonds.append(bond); prices.append(94 + 21 / 32 + 1 / 64)\n",
    "bond = Bond(issue_dt, Date(15, 2, 2026), 0.01625, freq, basis); bonds.append(bond); prices.append(94 + 29 / 32)\n",
    "bond = Bond(issue_dt, Date(15, 11, 2025), 0.0225, freq, basis); bonds.append(bond); prices.append(99 + 25 / 32)\n",
    "bond = Bond(issue_dt, Date(15, 8, 2025), 0.02, freq, basis); bonds.append(bond); prices.append(98 + 3 / 32)\n",
    "bond = Bond(issue_dt, Date(15, 5, 2025), 0.02125, freq, basis); bonds.append(bond); prices.append(99 + 5 / 32 + 1 / 64)\n",
    "bond = Bond(issue_dt, Date(15, 2, 2025), 0.02, freq, basis); bonds.append(bond); prices.append(98 + 14 / 32 + 1 / 64)\n",
    "bond = Bond(issue_dt, Date(15, 11, 2024), 0.0225, freq, basis); bonds.append(bond); prices.append(100 + 9 / 32 + 1 / 64)\n",
    "bond = Bond(issue_dt, Date(15, 8, 2024), 0.02375, freq, basis); bonds.append(bond); prices.append(101 + 7 / 32 + 1 / 64)\n",
    "bond = Bond(issue_dt, Date(15, 8, 2024), 0.01875, freq, basis); bonds.append(bond); prices.append(98 + 1 / 32 + 0/64) #TYPO IN REPT"
   ]
  },
  {
   "cell_type": "markdown",
   "metadata": {},
   "source": [
    "Calculate the bond yield"
   ]
  },
  {
   "cell_type": "code",
   "execution_count": 7,
   "metadata": {
    "execution": {
     "iopub.execute_input": "2024-04-30T19:43:23.506811Z",
     "iopub.status.busy": "2024-04-30T19:43:23.506811Z",
     "iopub.status.idle": "2024-04-30T19:43:23.520930Z",
     "shell.execute_reply": "2024-04-30T19:43:23.520930Z"
    }
   },
   "outputs": [
    {
     "name": "stdout",
     "output_type": "stream",
     "text": [
      "     Bond Maturity    Coupon        Yield\n",
      "       15-AUG-2027   2.25000   2.36049984\n",
      "       15-MAY-2027   2.37500   2.35463188\n",
      "       15-FEB-2027   2.25000   2.34885040\n",
      "       15-NOV-2026   2.00000   2.33900466\n",
      "       05-AUG-2026   1.50000   2.32695325\n",
      "       15-MAY-2026   1.62500   2.31166907\n",
      "       15-FEB-2026   1.62500   2.29879314\n",
      "       15-NOV-2025   2.25000   2.27946129\n",
      "       15-AUG-2025   2.00000   2.26615960\n",
      "       15-MAY-2025   2.12500   2.24388311\n",
      "       15-FEB-2025   2.00000   2.22903638\n",
      "       15-NOV-2024   2.25000   2.20429165\n",
      "       15-AUG-2024   2.37500   2.17956249\n",
      "       15-AUG-2024   1.87500   2.18575341\n"
     ]
    }
   ],
   "source": [
    "print(\"%18s %9s %12s\" % (\"Bond Maturity\", \"Coupon\", \"Yield\"))\n",
    "for bond, clean_price in zip(bonds, prices):\n",
    "    yld = bond.yield_to_maturity(settle_dt, clean_price)\n",
    "    dt = bond.maturity_dt\n",
    "    print(\"%18s %9.5f %12.8f\"% (dt, bond.cpn * 100, yld*100))"
   ]
  },
  {
   "cell_type": "markdown",
   "metadata": {},
   "source": [
    "Get the conversion factors"
   ]
  },
  {
   "cell_type": "code",
   "execution_count": 8,
   "metadata": {
    "execution": {
     "iopub.execute_input": "2024-04-30T19:43:23.523536Z",
     "iopub.status.busy": "2024-04-30T19:43:23.523536Z",
     "iopub.status.idle": "2024-04-30T19:43:23.536844Z",
     "shell.execute_reply": "2024-04-30T19:43:23.536844Z"
    }
   },
   "outputs": [
    {
     "name": "stdout",
     "output_type": "stream",
     "text": [
      "     Bond Maturity    Coupon    Conv Fact\n",
      "       15-AUG-2027   2.25000  73.14290000\n",
      "       15-MAY-2027   2.37500  74.54960000\n",
      "       15-FEB-2027   2.25000  74.21220000\n",
      "       15-NOV-2026   2.00000  73.07560000\n",
      "       05-AUG-2026   1.50000  70.37620000\n",
      "       15-MAY-2026   1.62500  71.85660000\n",
      "       15-FEB-2026   1.62500  72.52260000\n",
      "       15-NOV-2025   2.25000  77.02690000\n",
      "       15-AUG-2025   2.00000  76.12410000\n",
      "       15-MAY-2025   2.12500  77.48700000\n",
      "       15-FEB-2025   2.00000  77.40790000\n",
      "       15-NOV-2024   2.25000  79.43430000\n",
      "       15-AUG-2024   2.37500  80.72410000\n",
      "       15-AUG-2024   1.87500  78.06540000\n"
     ]
    }
   ],
   "source": [
    "print(\"%18s %9s %12s\" % (\"Bond Maturity\", \"Coupon\", \"Conv Fact\"))\n",
    "for bond in bonds:\n",
    "    cf = bondFutureContract.conversion_factor(bond)\n",
    "    dt = bond.maturity_dt\n",
    "    print(\"%18s %9.5f %12.8f\"% (dt, bond.cpn * 100, cf))"
   ]
  },
  {
   "cell_type": "code",
   "execution_count": 9,
   "metadata": {
    "execution": {
     "iopub.execute_input": "2024-04-30T19:43:23.538874Z",
     "iopub.status.busy": "2024-04-30T19:43:23.538874Z",
     "iopub.status.idle": "2024-04-30T19:43:23.542526Z",
     "shell.execute_reply": "2024-04-30T19:43:23.542002Z"
    }
   },
   "outputs": [],
   "source": [
    "# Get the Invoice Prices\n",
    "futures_price = 125 + 8/32 + 1/64"
   ]
  },
  {
   "cell_type": "code",
   "execution_count": 10,
   "metadata": {
    "execution": {
     "iopub.execute_input": "2024-04-30T19:43:23.544629Z",
     "iopub.status.busy": "2024-04-30T19:43:23.543631Z",
     "iopub.status.idle": "2024-04-30T19:43:23.549282Z",
     "shell.execute_reply": "2024-04-30T19:43:23.549282Z"
    }
   },
   "outputs": [
    {
     "data": {
      "text/plain": [
       "125.265625"
      ]
     },
     "execution_count": 10,
     "metadata": {},
     "output_type": "execute_result"
    }
   ],
   "source": [
    "futures_price"
   ]
  },
  {
   "cell_type": "code",
   "execution_count": 11,
   "metadata": {
    "execution": {
     "iopub.execute_input": "2024-04-30T19:43:23.551312Z",
     "iopub.status.busy": "2024-04-30T19:43:23.551312Z",
     "iopub.status.idle": "2024-04-30T19:43:23.565188Z",
     "shell.execute_reply": "2024-04-30T19:43:23.565188Z"
    }
   },
   "outputs": [
    {
     "name": "stdout",
     "output_type": "stream",
     "text": [
      "          MATURITY       COUPON     PRINC.INV. PRICE\n",
      "       15-AUG-2027      2.25000         9162291.0800\n",
      "       15-MAY-2027      2.37500         9338502.2400\n",
      "       15-FEB-2027      2.25000         9296237.6200\n",
      "       15-NOV-2026      2.00000         9153860.7100\n",
      "       05-AUG-2026      1.50000         8815718.6800\n",
      "       15-MAY-2026      1.62500         9001161.9100\n",
      "       15-FEB-2026      1.62500         9084588.8200\n",
      "       15-NOV-2025      2.25000         9648822.7700\n",
      "       15-AUG-2025      2.00000         9535732.9600\n",
      "       15-MAY-2025      2.12500         9706457.4800\n",
      "       15-FEB-2025      2.00000         9696548.9700\n",
      "       15-NOV-2024      2.25000         9950387.2400\n",
      "       15-AUG-2024      2.37500        10111954.8400\n",
      "       15-AUG-2024      1.87500         9778911.1200\n"
     ]
    }
   ],
   "source": [
    "print(\"%18s %12s %20s\"%(\"MATURITY\", \"COUPON\", \"PRINC.INV. PRICE\"))\n",
    "\n",
    "for bond in bonds:\n",
    "    pip = bondFutureContract.principal_invoice_price(bond, futures_price)\n",
    "    print(\"%18s %12.5f %20.4f\"% (str(bond.maturity_dt), bond.cpn*100, pip))"
   ]
  },
  {
   "cell_type": "code",
   "execution_count": 12,
   "metadata": {
    "execution": {
     "iopub.execute_input": "2024-04-30T19:43:23.567194Z",
     "iopub.status.busy": "2024-04-30T19:43:23.567194Z",
     "iopub.status.idle": "2024-04-30T19:43:23.581280Z",
     "shell.execute_reply": "2024-04-30T19:43:23.581280Z"
    }
   },
   "outputs": [
    {
     "name": "stdout",
     "output_type": "stream",
     "text": [
      "          MATURITY       COUPON   DELIVERY GAIN/LOSS\n",
      "       15-AUG-2027      2.25000         9063259.8300\n",
      "       15-MAY-2027      2.37500         9238330.3650\n",
      "       15-FEB-2027      2.25000         9197065.7450\n",
      "       15-NOV-2026      2.00000         9056626.3350\n",
      "       05-AUG-2026      1.50000         8722281.1800\n",
      "       15-MAY-2026      1.62500         8906490.0350\n",
      "       15-FEB-2026      1.62500         8989682.5700\n",
      "       15-NOV-2025      2.25000         9549041.5200\n",
      "       15-AUG-2025      2.00000         9437639.2100\n",
      "       15-MAY-2025      2.12500         9607285.6050\n",
      "       15-FEB-2025      2.00000         9598095.8450\n",
      "       15-NOV-2024      2.25000         9850090.3650\n",
      "       15-AUG-2024      2.37500        10010720.4650\n",
      "       15-AUG-2024      1.87500         9680879.8700\n"
     ]
    }
   ],
   "source": [
    "print(\"%18s %12s %20s\" %(\"MATURITY\", \"COUPON\", \"DELIVERY GAIN/LOSS\"))\n",
    "\n",
    "for bond, clean_price in zip(bonds, prices):\n",
    "    gainloss, payForBond, receiveOnFuture = bondFutureContract.delivery_gain_loss(bond, clean_price, futures_price)\n",
    "    print(\"%18s %12.5f %20.4f\"% (str(bond.maturity_dt), bond.cpn*100, gainloss))"
   ]
  },
  {
   "cell_type": "code",
   "execution_count": 13,
   "metadata": {
    "execution": {
     "iopub.execute_input": "2024-04-30T19:43:23.583845Z",
     "iopub.status.busy": "2024-04-30T19:43:23.583845Z",
     "iopub.status.idle": "2024-04-30T19:43:23.597379Z",
     "shell.execute_reply": "2024-04-30T19:43:23.597138Z"
    }
   },
   "outputs": [
    {
     "name": "stdout",
     "output_type": "stream",
     "text": [
      "CTD MATURITY CTD COUPON\n",
      "15-AUG-2024 2.375\n"
     ]
    }
   ],
   "source": [
    "ctd = bondFutureContract.cheapest_to_deliver(bonds, prices, futures_price)\n",
    "print(\"CTD MATURITY\", \"CTD COUPON\")\n",
    "print(str(ctd.maturity_dt), ctd.cpn*100)"
   ]
  },
  {
   "cell_type": "markdown",
   "metadata": {},
   "source": [
    "Copyright (c) 2019, Dominic O'Kane "
   ]
  }
 ],
 "metadata": {
  "kernelspec": {
   "display_name": "Python 3",
   "language": "python",
   "name": "python3"
  },
  "language_info": {
   "codemirror_mode": {
    "name": "ipython",
    "version": 3
   },
   "file_extension": ".py",
   "mimetype": "text/x-python",
   "name": "python",
   "nbconvert_exporter": "python",
   "pygments_lexer": "ipython3",
   "version": "3.11.5"
  }
 },
 "nbformat": 4,
 "nbformat_minor": 2
}
