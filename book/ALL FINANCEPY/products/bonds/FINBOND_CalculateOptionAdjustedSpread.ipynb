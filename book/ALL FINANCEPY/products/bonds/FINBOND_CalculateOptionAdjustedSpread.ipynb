{
 "cells": [
  {
   "cell_type": "markdown",
   "metadata": {},
   "source": [
    "# Calculating Bond Option Adjusted Spread (OAS)"
   ]
  },
  {
   "cell_type": "markdown",
   "metadata": {},
   "source": [
    "The asset swap spread and the option adjusted spread are widely used as measures of pure credit risk. In this notebook I calculate these quantities. This bond does not have embedded optionality. Hence OAS performs a role of a credit spread."
   ]
  },
  {
   "cell_type": "code",
   "execution_count": 1,
   "metadata": {
    "execution": {
     "iopub.execute_input": "2024-04-30T19:50:06.194200Z",
     "iopub.status.busy": "2024-04-30T19:50:06.194200Z",
     "iopub.status.idle": "2024-04-30T19:50:06.843455Z",
     "shell.execute_reply": "2024-04-30T19:50:06.843455Z"
    }
   },
   "outputs": [],
   "source": [
    "import numpy as np\n",
    "import matplotlib.pyplot as plt"
   ]
  },
  {
   "cell_type": "code",
   "execution_count": 2,
   "metadata": {
    "execution": {
     "iopub.execute_input": "2024-04-30T19:50:06.846504Z",
     "iopub.status.busy": "2024-04-30T19:50:06.845502Z",
     "iopub.status.idle": "2024-04-30T19:50:07.944996Z",
     "shell.execute_reply": "2024-04-30T19:50:07.944996Z"
    },
    "tags": []
   },
   "outputs": [
    {
     "name": "stdout",
     "output_type": "stream",
     "text": [
      "####################################################################\n",
      "#  FINANCEPY BETA Version 0.350 - This build: 30 Apr 2024 at 21:20 #\n",
      "#     This software is distributed FREE AND WITHOUT ANY WARRANTY   #\n",
      "#  Report bugs as issues at https://github.com/domokane/FinancePy  #\n",
      "####################################################################\n",
      "\n"
     ]
    }
   ],
   "source": [
    "from financepy.utils import *\n",
    "from financepy.products.bonds.bond import *"
   ]
  },
  {
   "cell_type": "code",
   "execution_count": 3,
   "metadata": {
    "execution": {
     "iopub.execute_input": "2024-04-30T19:50:07.947565Z",
     "iopub.status.busy": "2024-04-30T19:50:07.947565Z",
     "iopub.status.idle": "2024-04-30T19:50:07.967805Z",
     "shell.execute_reply": "2024-04-30T19:50:07.967279Z"
    }
   },
   "outputs": [],
   "source": [
    "issue_dt = Date(15, 5, 2010)\n",
    "maturity_dt = Date(15, 5, 2027)\n",
    "coupon = 0.02375\n",
    "freq_type = FrequencyTypes.SEMI_ANNUAL\n",
    "dc_type = DayCountTypes.ACT_ACT_ICMA\n",
    "face = 100.0 # By setting the face to 100 we expect a price of par to be 100.0"
   ]
  },
  {
   "cell_type": "code",
   "execution_count": 4,
   "metadata": {
    "execution": {
     "iopub.execute_input": "2024-04-30T19:50:07.969881Z",
     "iopub.status.busy": "2024-04-30T19:50:07.969881Z",
     "iopub.status.idle": "2024-04-30T19:50:07.972984Z",
     "shell.execute_reply": "2024-04-30T19:50:07.972984Z"
    }
   },
   "outputs": [],
   "source": [
    "bond = Bond(issue_dt, maturity_dt, coupon, freq_type, dc_type)"
   ]
  },
  {
   "cell_type": "code",
   "execution_count": 5,
   "metadata": {
    "execution": {
     "iopub.execute_input": "2024-04-30T19:50:07.975056Z",
     "iopub.status.busy": "2024-04-30T19:50:07.975056Z",
     "iopub.status.idle": "2024-04-30T19:50:07.978047Z",
     "shell.execute_reply": "2024-04-30T19:50:07.978047Z"
    },
    "tags": []
   },
   "outputs": [
    {
     "name": "stdout",
     "output_type": "stream",
     "text": [
      "OBJECT TYPE: Bond\n",
      "ISSUE DATE: 15-MAY-2010\n",
      "MATURITY DATE: 15-MAY-2027\n",
      "COUPON (%): 2.375\n",
      "FREQUENCY: FrequencyTypes.SEMI_ANNUAL\n",
      "DAY COUNT TYPE: DayCountTypes.ACT_ACT_ICMA\n",
      "EX_DIV DAYS: 0\n"
     ]
    }
   ],
   "source": [
    "print(bond)"
   ]
  },
  {
   "cell_type": "markdown",
   "metadata": {},
   "source": [
    "## Option Adjusted Spread"
   ]
  },
  {
   "cell_type": "code",
   "execution_count": 6,
   "metadata": {
    "execution": {
     "iopub.execute_input": "2024-04-30T19:50:07.980531Z",
     "iopub.status.busy": "2024-04-30T19:50:07.980531Z",
     "iopub.status.idle": "2024-04-30T19:50:07.982806Z",
     "shell.execute_reply": "2024-04-30T19:50:07.982806Z"
    }
   },
   "outputs": [],
   "source": [
    "from financepy.market.curves.discount_curve_flat import DiscountCurveFlat"
   ]
  },
  {
   "cell_type": "code",
   "execution_count": 7,
   "metadata": {
    "execution": {
     "iopub.execute_input": "2024-04-30T19:50:07.984836Z",
     "iopub.status.busy": "2024-04-30T19:50:07.984836Z",
     "iopub.status.idle": "2024-04-30T19:50:07.987313Z",
     "shell.execute_reply": "2024-04-30T19:50:07.987313Z"
    }
   },
   "outputs": [],
   "source": [
    "liborFlatRate = 0.0275"
   ]
  },
  {
   "cell_type": "code",
   "execution_count": 8,
   "metadata": {
    "execution": {
     "iopub.execute_input": "2024-04-30T19:50:07.989460Z",
     "iopub.status.busy": "2024-04-30T19:50:07.989460Z",
     "iopub.status.idle": "2024-04-30T19:50:07.992467Z",
     "shell.execute_reply": "2024-04-30T19:50:07.992237Z"
    }
   },
   "outputs": [],
   "source": [
    "settle_dt = Date(21, 7, 2017)"
   ]
  },
  {
   "cell_type": "code",
   "execution_count": 9,
   "metadata": {
    "execution": {
     "iopub.execute_input": "2024-04-30T19:50:07.994466Z",
     "iopub.status.busy": "2024-04-30T19:50:07.994466Z",
     "iopub.status.idle": "2024-04-30T19:50:08.002769Z",
     "shell.execute_reply": "2024-04-30T19:50:08.002769Z"
    }
   },
   "outputs": [],
   "source": [
    "liborFlatCurve = DiscountCurveFlat(settle_dt, liborFlatRate, FrequencyTypes.SEMI_ANNUAL)"
   ]
  },
  {
   "cell_type": "markdown",
   "metadata": {},
   "source": [
    "To get the OAS I need to know the bond price"
   ]
  },
  {
   "cell_type": "code",
   "execution_count": 10,
   "metadata": {
    "execution": {
     "iopub.execute_input": "2024-04-30T19:50:08.005773Z",
     "iopub.status.busy": "2024-04-30T19:50:08.005773Z",
     "iopub.status.idle": "2024-04-30T19:50:08.008795Z",
     "shell.execute_reply": "2024-04-30T19:50:08.008795Z"
    }
   },
   "outputs": [],
   "source": [
    "clean_price = 99.780842  # I specified face to be 100 - if face is 1 then this must be 0.99780842"
   ]
  },
  {
   "cell_type": "markdown",
   "metadata": {},
   "source": [
    "OAS is similar to ASW but actually subtly different measure of credit spread with a different definition and compounding annual_frequency. "
   ]
  },
  {
   "cell_type": "code",
   "execution_count": 11,
   "metadata": {
    "execution": {
     "iopub.execute_input": "2024-04-30T19:50:08.011071Z",
     "iopub.status.busy": "2024-04-30T19:50:08.011071Z",
     "iopub.status.idle": "2024-04-30T19:50:08.020071Z",
     "shell.execute_reply": "2024-04-30T19:50:08.020071Z"
    }
   },
   "outputs": [
    {
     "data": {
      "text/plain": [
       "-34.95229384400636"
      ]
     },
     "execution_count": 11,
     "metadata": {},
     "output_type": "execute_result"
    }
   ],
   "source": [
    "bond.option_adjusted_spread(settle_dt, clean_price, liborFlatCurve) * 10000"
   ]
  },
  {
   "cell_type": "markdown",
   "metadata": {},
   "source": [
    "## Vectorisations"
   ]
  },
  {
   "cell_type": "markdown",
   "metadata": {},
   "source": [
    "We plot them both as a function of the Bond clean price."
   ]
  },
  {
   "cell_type": "code",
   "execution_count": 12,
   "metadata": {
    "execution": {
     "iopub.execute_input": "2024-04-30T19:50:08.023071Z",
     "iopub.status.busy": "2024-04-30T19:50:08.023071Z",
     "iopub.status.idle": "2024-04-30T19:50:08.026025Z",
     "shell.execute_reply": "2024-04-30T19:50:08.025623Z"
    }
   },
   "outputs": [],
   "source": [
    "clean_prices = np.linspace(70,130,10)"
   ]
  },
  {
   "cell_type": "code",
   "execution_count": 13,
   "metadata": {
    "execution": {
     "iopub.execute_input": "2024-04-30T19:50:08.028051Z",
     "iopub.status.busy": "2024-04-30T19:50:08.028051Z",
     "iopub.status.idle": "2024-04-30T19:50:08.064516Z",
     "shell.execute_reply": "2024-04-30T19:50:08.064516Z"
    }
   },
   "outputs": [],
   "source": [
    "oass = bond.option_adjusted_spread(settle_dt, clean_prices, liborFlatCurve)"
   ]
  },
  {
   "cell_type": "code",
   "execution_count": 14,
   "metadata": {
    "execution": {
     "iopub.execute_input": "2024-04-30T19:50:08.067518Z",
     "iopub.status.busy": "2024-04-30T19:50:08.067518Z",
     "iopub.status.idle": "2024-04-30T19:50:08.244063Z",
     "shell.execute_reply": "2024-04-30T19:50:08.244063Z"
    }
   },
   "outputs": [
    {
     "data": {
      "image/png": "[encoded data removed]",
      "text/plain": [
       "<Figure size 640x480 with 1 Axes>"
      ]
     },
     "metadata": {},
     "output_type": "display_data"
    }
   ],
   "source": [
    "plt.plot(clean_prices,oass*10000)\n",
    "plt.xlabel(\"Bond Clean Price\")\n",
    "plt.ylabel(\"OAS (bp)\")\n",
    "plt.grid()"
   ]
  },
  {
   "cell_type": "markdown",
   "metadata": {},
   "source": [
    "Copyright (c) 2020 Dominic O'Kane"
   ]
  },
  {
   "cell_type": "markdown",
   "metadata": {},
   "source": []
  }
 ],
 "metadata": {
  "kernelspec": {
   "display_name": "Python 3 (ipykernel)",
   "language": "python",
   "name": "python3"
  },
  "language_info": {
   "codemirror_mode": {
    "name": "ipython",
    "version": 3
   },
   "file_extension": ".py",
   "mimetype": "text/x-python",
   "name": "python",
   "nbconvert_exporter": "python",
   "pygments_lexer": "ipython3",
   "version": "3.11.5"
  }
 },
 "nbformat": 4,
 "nbformat_minor": 2
}
