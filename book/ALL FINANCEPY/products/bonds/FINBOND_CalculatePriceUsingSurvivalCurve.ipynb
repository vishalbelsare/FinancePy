{
 "cells": [
  {
   "cell_type": "markdown",
   "metadata": {},
   "source": [
    "# Calculating Bond Price using Survival Curve"
   ]
  },
  {
   "cell_type": "markdown",
   "metadata": {},
   "source": [
    "Calculate the bond price using a survival curve."
   ]
  },
  {
   "cell_type": "code",
   "execution_count": 1,
   "metadata": {
    "execution": {
     "iopub.execute_input": "2024-04-30T19:50:10.518277Z",
     "iopub.status.busy": "2024-04-30T19:50:10.517323Z",
     "iopub.status.idle": "2024-04-30T19:50:11.148782Z",
     "shell.execute_reply": "2024-04-30T19:50:11.148782Z"
    }
   },
   "outputs": [],
   "source": [
    "import numpy as np\n",
    "import matplotlib.pyplot as plt"
   ]
  },
  {
   "cell_type": "code",
   "execution_count": 2,
   "metadata": {
    "execution": {
     "iopub.execute_input": "2024-04-30T19:50:11.151818Z",
     "iopub.status.busy": "2024-04-30T19:50:11.150814Z",
     "iopub.status.idle": "2024-04-30T19:50:12.309488Z",
     "shell.execute_reply": "2024-04-30T19:50:12.309488Z"
    },
    "tags": []
   },
   "outputs": [
    {
     "name": "stdout",
     "output_type": "stream",
     "text": [
      "####################################################################\n",
      "#  FINANCEPY BETA Version 0.350 - This build: 30 Apr 2024 at 21:20 #\n",
      "#     This software is distributed FREE AND WITHOUT ANY WARRANTY   #\n",
      "#  Report bugs as issues at https://github.com/domokane/FinancePy  #\n",
      "####################################################################\n",
      "\n"
     ]
    }
   ],
   "source": [
    "from financepy.utils import *\n",
    "from financepy.market.curves import *\n",
    "from financepy.products.bonds.bond import *"
   ]
  },
  {
   "cell_type": "markdown",
   "metadata": {},
   "source": [
    "## Creating the Bond"
   ]
  },
  {
   "cell_type": "code",
   "execution_count": 3,
   "metadata": {
    "execution": {
     "iopub.execute_input": "2024-04-30T19:50:12.312507Z",
     "iopub.status.busy": "2024-04-30T19:50:12.312507Z",
     "iopub.status.idle": "2024-04-30T19:50:12.331878Z",
     "shell.execute_reply": "2024-04-30T19:50:12.331878Z"
    }
   },
   "outputs": [],
   "source": [
    "issue_dt = Date(15, 5, 2010)\n",
    "maturity_dt = Date(15, 5, 2027)\n",
    "coupon = 0.05\n",
    "freq_type = FrequencyTypes.SEMI_ANNUAL\n",
    "dc_type = DayCountTypes.ACT_ACT_ICMA\n",
    "face = 100.0 # By setting the face to 100 we expect a price of par to be 100.0"
   ]
  },
  {
   "cell_type": "code",
   "execution_count": 4,
   "metadata": {
    "execution": {
     "iopub.execute_input": "2024-04-30T19:50:12.333926Z",
     "iopub.status.busy": "2024-04-30T19:50:12.333926Z",
     "iopub.status.idle": "2024-04-30T19:50:12.337696Z",
     "shell.execute_reply": "2024-04-30T19:50:12.337696Z"
    }
   },
   "outputs": [],
   "source": [
    "bond = Bond(issue_dt, maturity_dt, coupon, freq_type, dc_type)"
   ]
  },
  {
   "cell_type": "code",
   "execution_count": 5,
   "metadata": {
    "execution": {
     "iopub.execute_input": "2024-04-30T19:50:12.339749Z",
     "iopub.status.busy": "2024-04-30T19:50:12.339749Z",
     "iopub.status.idle": "2024-04-30T19:50:12.343222Z",
     "shell.execute_reply": "2024-04-30T19:50:12.342959Z"
    },
    "tags": []
   },
   "outputs": [
    {
     "name": "stdout",
     "output_type": "stream",
     "text": [
      "OBJECT TYPE: Bond\n",
      "ISSUE DATE: 15-MAY-2010\n",
      "MATURITY DATE: 15-MAY-2027\n",
      "COUPON (%): 5.0\n",
      "FREQUENCY: FrequencyTypes.SEMI_ANNUAL\n",
      "DAY COUNT TYPE: DayCountTypes.ACT_ACT_ICMA\n",
      "EX_DIV DAYS: 0\n"
     ]
    }
   ],
   "source": [
    "print(bond)"
   ]
  },
  {
   "cell_type": "code",
   "execution_count": 6,
   "metadata": {
    "execution": {
     "iopub.execute_input": "2024-04-30T19:50:12.344224Z",
     "iopub.status.busy": "2024-04-30T19:50:12.344224Z",
     "iopub.status.idle": "2024-04-30T19:50:12.348073Z",
     "shell.execute_reply": "2024-04-30T19:50:12.347843Z"
    }
   },
   "outputs": [],
   "source": [
    "value_dt = Date(15, 5, 2020)"
   ]
  },
  {
   "cell_type": "code",
   "execution_count": 7,
   "metadata": {
    "execution": {
     "iopub.execute_input": "2024-04-30T19:50:12.350072Z",
     "iopub.status.busy": "2024-04-30T19:50:12.350072Z",
     "iopub.status.idle": "2024-04-30T19:50:12.352758Z",
     "shell.execute_reply": "2024-04-30T19:50:12.352758Z"
    }
   },
   "outputs": [
    {
     "name": "stdout",
     "output_type": "stream",
     "text": [
      " 15-NOV-2020      2.50000 \n",
      " 15-MAY-2021      2.50000 \n",
      " 15-NOV-2021      2.50000 \n",
      " 15-MAY-2022      2.50000 \n",
      " 15-NOV-2022      2.50000 \n",
      " 15-MAY-2023      2.50000 \n",
      " 15-NOV-2023      2.50000 \n",
      " 15-MAY-2024      2.50000 \n",
      " 15-NOV-2024      2.50000 \n",
      " 15-MAY-2025      2.50000 \n",
      " 15-NOV-2025      2.50000 \n",
      " 15-MAY-2026      2.50000 \n",
      " 15-NOV-2026      2.50000 \n",
      " 15-MAY-2027    102.50000 \n",
      "\n"
     ]
    }
   ],
   "source": [
    "bond.print_payments(value_dt)"
   ]
  },
  {
   "cell_type": "markdown",
   "metadata": {},
   "source": [
    "## Create a Discount Curve"
   ]
  },
  {
   "cell_type": "markdown",
   "metadata": {},
   "source": [
    "I create a discount curve with a 5% discount rate."
   ]
  },
  {
   "cell_type": "code",
   "execution_count": 8,
   "metadata": {
    "execution": {
     "iopub.execute_input": "2024-04-30T19:50:12.354790Z",
     "iopub.status.busy": "2024-04-30T19:50:12.354790Z",
     "iopub.status.idle": "2024-04-30T19:50:12.363765Z",
     "shell.execute_reply": "2024-04-30T19:50:12.363163Z"
    }
   },
   "outputs": [],
   "source": [
    "disc_curve = DiscountCurveFlat(value_dt, 0.05, FrequencyTypes.SEMI_ANNUAL, DayCountTypes.THIRTY_360_BOND)"
   ]
  },
  {
   "cell_type": "markdown",
   "metadata": {},
   "source": [
    "## Create Survival Curve"
   ]
  },
  {
   "cell_type": "markdown",
   "metadata": {},
   "source": [
    "I create a curve with a 0% hazard rate, i.e. it is risk free."
   ]
  },
  {
   "cell_type": "code",
   "execution_count": 9,
   "metadata": {
    "execution": {
     "iopub.execute_input": "2024-04-30T19:50:12.366333Z",
     "iopub.status.busy": "2024-04-30T19:50:12.366333Z",
     "iopub.status.idle": "2024-04-30T19:50:12.369593Z",
     "shell.execute_reply": "2024-04-30T19:50:12.368984Z"
    }
   },
   "outputs": [],
   "source": [
    "h = 0.0"
   ]
  },
  {
   "cell_type": "code",
   "execution_count": 10,
   "metadata": {
    "execution": {
     "iopub.execute_input": "2024-04-30T19:50:12.371620Z",
     "iopub.status.busy": "2024-04-30T19:50:12.371620Z",
     "iopub.status.idle": "2024-04-30T19:50:12.375400Z",
     "shell.execute_reply": "2024-04-30T19:50:12.375400Z"
    }
   },
   "outputs": [],
   "source": [
    "survCurve = DiscountCurveFlat(value_dt, h)"
   ]
  },
  {
   "cell_type": "code",
   "execution_count": 11,
   "metadata": {
    "execution": {
     "iopub.execute_input": "2024-04-30T19:50:12.378591Z",
     "iopub.status.busy": "2024-04-30T19:50:12.378591Z",
     "iopub.status.idle": "2024-04-30T19:50:12.381130Z",
     "shell.execute_reply": "2024-04-30T19:50:12.381130Z"
    }
   },
   "outputs": [],
   "source": [
    "recovery_rate = 0.0"
   ]
  },
  {
   "cell_type": "code",
   "execution_count": 12,
   "metadata": {
    "execution": {
     "iopub.execute_input": "2024-04-30T19:50:12.384126Z",
     "iopub.status.busy": "2024-04-30T19:50:12.384126Z",
     "iopub.status.idle": "2024-04-30T19:50:12.387302Z",
     "shell.execute_reply": "2024-04-30T19:50:12.387302Z"
    }
   },
   "outputs": [],
   "source": [
    "dirty_price = bond.dirty_price_from_survival_curve(value_dt, disc_curve, survCurve, recovery_rate)"
   ]
  },
  {
   "cell_type": "code",
   "execution_count": 13,
   "metadata": {
    "execution": {
     "iopub.execute_input": "2024-04-30T19:50:12.389332Z",
     "iopub.status.busy": "2024-04-30T19:50:12.389332Z",
     "iopub.status.idle": "2024-04-30T19:50:12.393020Z",
     "shell.execute_reply": "2024-04-30T19:50:12.392506Z"
    }
   },
   "outputs": [
    {
     "name": "stdout",
     "output_type": "stream",
     "text": [
      "DIRTY PRICE: 100.000000\n"
     ]
    }
   ],
   "source": [
    "print(\"DIRTY PRICE: %9.6f\" %dirty_price)"
   ]
  },
  {
   "cell_type": "code",
   "execution_count": 14,
   "metadata": {
    "execution": {
     "iopub.execute_input": "2024-04-30T19:50:12.395047Z",
     "iopub.status.busy": "2024-04-30T19:50:12.395047Z",
     "iopub.status.idle": "2024-04-30T19:50:12.398489Z",
     "shell.execute_reply": "2024-04-30T19:50:12.398079Z"
    }
   },
   "outputs": [],
   "source": [
    "clean_price = bond.clean_price_from_survival_curve(value_dt, disc_curve, survCurve, recovery_rate)"
   ]
  },
  {
   "cell_type": "code",
   "execution_count": 15,
   "metadata": {
    "execution": {
     "iopub.execute_input": "2024-04-30T19:50:12.401513Z",
     "iopub.status.busy": "2024-04-30T19:50:12.400516Z",
     "iopub.status.idle": "2024-04-30T19:50:12.404158Z",
     "shell.execute_reply": "2024-04-30T19:50:12.404158Z"
    }
   },
   "outputs": [
    {
     "name": "stdout",
     "output_type": "stream",
     "text": [
      "CLEAN PRICE: 100.000000\n"
     ]
    }
   ],
   "source": [
    "print(\"CLEAN PRICE: %9.6f\" %clean_price)"
   ]
  },
  {
   "cell_type": "markdown",
   "metadata": {},
   "source": [
    "The bond prices at par as expected."
   ]
  },
  {
   "cell_type": "markdown",
   "metadata": {},
   "source": [
    "## Non-Zero Default Risk"
   ]
  },
  {
   "cell_type": "markdown",
   "metadata": {},
   "source": [
    "Now I change the hazard rate."
   ]
  },
  {
   "cell_type": "code",
   "execution_count": 16,
   "metadata": {
    "execution": {
     "iopub.execute_input": "2024-04-30T19:50:12.407186Z",
     "iopub.status.busy": "2024-04-30T19:50:12.406188Z",
     "iopub.status.idle": "2024-04-30T19:50:12.409206Z",
     "shell.execute_reply": "2024-04-30T19:50:12.409206Z"
    }
   },
   "outputs": [],
   "source": [
    "h = 0.02"
   ]
  },
  {
   "cell_type": "code",
   "execution_count": 17,
   "metadata": {
    "execution": {
     "iopub.execute_input": "2024-04-30T19:50:12.411237Z",
     "iopub.status.busy": "2024-04-30T19:50:12.411237Z",
     "iopub.status.idle": "2024-04-30T19:50:12.415626Z",
     "shell.execute_reply": "2024-04-30T19:50:12.415035Z"
    }
   },
   "outputs": [],
   "source": [
    "survCurve = DiscountCurveFlat(value_dt, h)"
   ]
  },
  {
   "cell_type": "code",
   "execution_count": 18,
   "metadata": {
    "execution": {
     "iopub.execute_input": "2024-04-30T19:50:12.418189Z",
     "iopub.status.busy": "2024-04-30T19:50:12.418189Z",
     "iopub.status.idle": "2024-04-30T19:50:12.421047Z",
     "shell.execute_reply": "2024-04-30T19:50:12.421047Z"
    }
   },
   "outputs": [],
   "source": [
    "clean_price = bond.clean_price_from_survival_curve(value_dt, disc_curve, survCurve, recovery_rate)"
   ]
  },
  {
   "cell_type": "code",
   "execution_count": 19,
   "metadata": {
    "execution": {
     "iopub.execute_input": "2024-04-30T19:50:12.423051Z",
     "iopub.status.busy": "2024-04-30T19:50:12.423051Z",
     "iopub.status.idle": "2024-04-30T19:50:12.426169Z",
     "shell.execute_reply": "2024-04-30T19:50:12.426169Z"
    }
   },
   "outputs": [
    {
     "name": "stdout",
     "output_type": "stream",
     "text": [
      "CLEAN PRICE: 88.774861\n"
     ]
    }
   ],
   "source": [
    "print(\"CLEAN PRICE: %9.6f\" %clean_price)"
   ]
  },
  {
   "cell_type": "markdown",
   "metadata": {},
   "source": [
    "The bond price falls as it should. Nopw let's make the recovery rate 40%"
   ]
  },
  {
   "cell_type": "code",
   "execution_count": 20,
   "metadata": {
    "execution": {
     "iopub.execute_input": "2024-04-30T19:50:12.428732Z",
     "iopub.status.busy": "2024-04-30T19:50:12.428732Z",
     "iopub.status.idle": "2024-04-30T19:50:12.431100Z",
     "shell.execute_reply": "2024-04-30T19:50:12.431100Z"
    }
   },
   "outputs": [],
   "source": [
    "recovery_rate = 0.40"
   ]
  },
  {
   "cell_type": "code",
   "execution_count": 21,
   "metadata": {
    "execution": {
     "iopub.execute_input": "2024-04-30T19:50:12.433130Z",
     "iopub.status.busy": "2024-04-30T19:50:12.433130Z",
     "iopub.status.idle": "2024-04-30T19:50:12.436503Z",
     "shell.execute_reply": "2024-04-30T19:50:12.436503Z"
    }
   },
   "outputs": [],
   "source": [
    "clean_price = bond.clean_price_from_survival_curve(value_dt, disc_curve, survCurve, recovery_rate)"
   ]
  },
  {
   "cell_type": "code",
   "execution_count": 22,
   "metadata": {
    "execution": {
     "iopub.execute_input": "2024-04-30T19:50:12.439011Z",
     "iopub.status.busy": "2024-04-30T19:50:12.439011Z",
     "iopub.status.idle": "2024-04-30T19:50:12.442155Z",
     "shell.execute_reply": "2024-04-30T19:50:12.442155Z"
    }
   },
   "outputs": [
    {
     "name": "stdout",
     "output_type": "stream",
     "text": [
      "CLEAN PRICE: 93.210160\n"
     ]
    }
   ],
   "source": [
    "print(\"CLEAN PRICE: %9.6f\" %clean_price)"
   ]
  },
  {
   "cell_type": "markdown",
   "metadata": {},
   "source": [
    "The price increases as more is recovered in default. What if we make the recovery rate 100% ?"
   ]
  },
  {
   "cell_type": "code",
   "execution_count": 23,
   "metadata": {
    "execution": {
     "iopub.execute_input": "2024-04-30T19:50:12.445177Z",
     "iopub.status.busy": "2024-04-30T19:50:12.444166Z",
     "iopub.status.idle": "2024-04-30T19:50:12.447160Z",
     "shell.execute_reply": "2024-04-30T19:50:12.447160Z"
    }
   },
   "outputs": [],
   "source": [
    "recovery_rate = 1.0"
   ]
  },
  {
   "cell_type": "code",
   "execution_count": 24,
   "metadata": {
    "execution": {
     "iopub.execute_input": "2024-04-30T19:50:12.449766Z",
     "iopub.status.busy": "2024-04-30T19:50:12.449766Z",
     "iopub.status.idle": "2024-04-30T19:50:12.452708Z",
     "shell.execute_reply": "2024-04-30T19:50:12.452708Z"
    }
   },
   "outputs": [],
   "source": [
    "clean_price = bond.clean_price_from_survival_curve(value_dt, disc_curve, survCurve, recovery_rate)"
   ]
  },
  {
   "cell_type": "code",
   "execution_count": 25,
   "metadata": {
    "execution": {
     "iopub.execute_input": "2024-04-30T19:50:12.454740Z",
     "iopub.status.busy": "2024-04-30T19:50:12.454740Z",
     "iopub.status.idle": "2024-04-30T19:50:12.457956Z",
     "shell.execute_reply": "2024-04-30T19:50:12.457956Z"
    }
   },
   "outputs": [
    {
     "name": "stdout",
     "output_type": "stream",
     "text": [
      "CLEAN PRICE: 99.863108\n"
     ]
    }
   ],
   "source": [
    "print(\"CLEAN PRICE: %9.6f\" %clean_price)"
   ]
  },
  {
   "cell_type": "markdown",
   "metadata": {},
   "source": [
    "The price goes up but not to par. This is because a default will still cause coupons to be lost as they are zero recovery."
   ]
  },
  {
   "cell_type": "markdown",
   "metadata": {},
   "source": [
    "## Option Adjusted Spread vs Credit Triangle"
   ]
  },
  {
   "cell_type": "markdown",
   "metadata": {},
   "source": [
    "One measure of credit spread is the OAS. We calculate it."
   ]
  },
  {
   "cell_type": "code",
   "execution_count": 26,
   "metadata": {
    "execution": {
     "iopub.execute_input": "2024-04-30T19:50:12.460517Z",
     "iopub.status.busy": "2024-04-30T19:50:12.460517Z",
     "iopub.status.idle": "2024-04-30T19:50:12.469026Z",
     "shell.execute_reply": "2024-04-30T19:50:12.469026Z"
    }
   },
   "outputs": [
    {
     "data": {
      "text/plain": [
       "2.342586226695878"
      ]
     },
     "execution_count": 26,
     "metadata": {},
     "output_type": "execute_result"
    }
   ],
   "source": [
    "bond.option_adjusted_spread(value_dt, clean_price, disc_curve) * 10000"
   ]
  },
  {
   "cell_type": "markdown",
   "metadata": {},
   "source": [
    "This is small as the recovery rate is 100%."
   ]
  },
  {
   "cell_type": "markdown",
   "metadata": {},
   "source": [
    "Note the credit triangle $S \\simeq h (1-R)$ which gives"
   ]
  },
  {
   "cell_type": "code",
   "execution_count": 27,
   "metadata": {
    "execution": {
     "iopub.execute_input": "2024-04-30T19:50:12.471323Z",
     "iopub.status.busy": "2024-04-30T19:50:12.471323Z",
     "iopub.status.idle": "2024-04-30T19:50:12.475370Z",
     "shell.execute_reply": "2024-04-30T19:50:12.475145Z"
    }
   },
   "outputs": [
    {
     "data": {
      "text/plain": [
       "0.0"
      ]
     },
     "execution_count": 27,
     "metadata": {},
     "output_type": "execute_result"
    }
   ],
   "source": [
    "h * (1.0 - recovery_rate) * 10000"
   ]
  },
  {
   "cell_type": "markdown",
   "metadata": {},
   "source": [
    "This is zero as the credit triangle ignores coupons."
   ]
  },
  {
   "cell_type": "markdown",
   "metadata": {},
   "source": [
    "Let's check the recovery dependence"
   ]
  },
  {
   "cell_type": "code",
   "execution_count": 28,
   "metadata": {
    "execution": {
     "iopub.execute_input": "2024-04-30T19:50:12.477398Z",
     "iopub.status.busy": "2024-04-30T19:50:12.477398Z",
     "iopub.status.idle": "2024-04-30T19:50:12.480931Z",
     "shell.execute_reply": "2024-04-30T19:50:12.480304Z"
    }
   },
   "outputs": [],
   "source": [
    "recovery_rates = np.linspace(0.0, 1.0, 10)"
   ]
  },
  {
   "cell_type": "code",
   "execution_count": 29,
   "metadata": {
    "execution": {
     "iopub.execute_input": "2024-04-30T19:50:12.482928Z",
     "iopub.status.busy": "2024-04-30T19:50:12.482928Z",
     "iopub.status.idle": "2024-04-30T19:50:12.486439Z",
     "shell.execute_reply": "2024-04-30T19:50:12.485954Z"
    }
   },
   "outputs": [],
   "source": [
    "clean_prices = bond.clean_price_from_survival_curve(value_dt, disc_curve, survCurve, recovery_rates)"
   ]
  },
  {
   "cell_type": "code",
   "execution_count": 30,
   "metadata": {
    "execution": {
     "iopub.execute_input": "2024-04-30T19:50:12.488466Z",
     "iopub.status.busy": "2024-04-30T19:50:12.488466Z",
     "iopub.status.idle": "2024-04-30T19:50:12.507704Z",
     "shell.execute_reply": "2024-04-30T19:50:12.506808Z"
    }
   },
   "outputs": [],
   "source": [
    "optAdjSpds = bond.option_adjusted_spread(value_dt, clean_prices, disc_curve) * 10000"
   ]
  },
  {
   "cell_type": "code",
   "execution_count": 31,
   "metadata": {
    "execution": {
     "iopub.execute_input": "2024-04-30T19:50:12.510317Z",
     "iopub.status.busy": "2024-04-30T19:50:12.508741Z",
     "iopub.status.idle": "2024-04-30T19:50:12.513040Z",
     "shell.execute_reply": "2024-04-30T19:50:12.513040Z"
    }
   },
   "outputs": [],
   "source": [
    "triangleSpds = h * (1-recovery_rates) * 10000"
   ]
  },
  {
   "cell_type": "code",
   "execution_count": 32,
   "metadata": {
    "execution": {
     "iopub.execute_input": "2024-04-30T19:50:12.516036Z",
     "iopub.status.busy": "2024-04-30T19:50:12.516036Z",
     "iopub.status.idle": "2024-04-30T19:50:12.706234Z",
     "shell.execute_reply": "2024-04-30T19:50:12.706234Z"
    }
   },
   "outputs": [
    {
     "data": {
      "text/plain": [
       "<matplotlib.legend.Legend at 0x17c70ad1f50>"
      ]
     },
     "execution_count": 32,
     "metadata": {},
     "output_type": "execute_result"
    },
    {
     "data": {
      "image/png": "[encoded data removed]",
      "text/plain": [
       "<Figure size 800x600 with 1 Axes>"
      ]
     },
     "metadata": {},
     "output_type": "display_data"
    }
   ],
   "source": [
    "plt.figure(figsize=(8,6))\n",
    "plt.plot(recovery_rates, optAdjSpds, label=\"OAS\")\n",
    "plt.plot(recovery_rates, triangleSpds, label=\"Credit Triangle\")\n",
    "plt.xlabel(\"Recovery Rates\")\n",
    "plt.ylabel(\"Spreads (bp)\")\n",
    "plt.grid()\n",
    "plt.legend()"
   ]
  },
  {
   "cell_type": "markdown",
   "metadata": {},
   "source": [
    "The credit triangle works well !"
   ]
  },
  {
   "cell_type": "markdown",
   "metadata": {},
   "source": [
    "Copyright (c) 2020 Dominic O'Kane"
   ]
  }
 ],
 "metadata": {
  "kernelspec": {
   "display_name": "Python 3 (ipykernel)",
   "language": "python",
   "name": "python3"
  },
  "language_info": {
   "codemirror_mode": {
    "name": "ipython",
    "version": 3
   },
   "file_extension": ".py",
   "mimetype": "text/x-python",
   "name": "python",
   "nbconvert_exporter": "python",
   "pygments_lexer": "ipython3",
   "version": "3.11.5"
  }
 },
 "nbformat": 4,
 "nbformat_minor": 2
}
