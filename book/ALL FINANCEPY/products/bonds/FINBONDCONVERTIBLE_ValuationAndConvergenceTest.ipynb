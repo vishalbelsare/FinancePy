{
 "cells": [
  {
   "cell_type": "markdown",
   "metadata": {},
   "source": [
    "# Convertible Bond Valuation - Convergence Analysis"
   ]
  },
  {
   "cell_type": "markdown",
   "metadata": {},
   "source": [
    "Value a Convertible Bond using a Tree-Based model that incorporates the conversion option as well as the call and puts."
   ]
  },
  {
   "cell_type": "code",
   "execution_count": 1,
   "metadata": {
    "execution": {
     "iopub.execute_input": "2024-04-30T19:43:01.291067Z",
     "iopub.status.busy": "2024-04-30T19:43:01.290028Z",
     "iopub.status.idle": "2024-04-30T19:43:01.929836Z",
     "shell.execute_reply": "2024-04-30T19:43:01.929836Z"
    }
   },
   "outputs": [],
   "source": [
    "import numpy as np\n",
    "import matplotlib.pyplot as plt"
   ]
  },
  {
   "cell_type": "code",
   "execution_count": 2,
   "metadata": {
    "execution": {
     "iopub.execute_input": "2024-04-30T19:43:01.932864Z",
     "iopub.status.busy": "2024-04-30T19:43:01.931866Z",
     "iopub.status.idle": "2024-04-30T19:43:03.025229Z",
     "shell.execute_reply": "2024-04-30T19:43:03.025229Z"
    }
   },
   "outputs": [
    {
     "name": "stdout",
     "output_type": "stream",
     "text": [
      "####################################################################\n",
      "#  FINANCEPY BETA Version 0.350 - This build: 30 Apr 2024 at 21:20 #\n",
      "#     This software is distributed FREE AND WITHOUT ANY WARRANTY   #\n",
      "#  Report bugs as issues at https://github.com/domokane/FinancePy  #\n",
      "####################################################################\n",
      "\n"
     ]
    }
   ],
   "source": [
    "from financepy.utils import *\n",
    "from financepy.products.bonds import *\n",
    "from financepy.market.curves import *"
   ]
  },
  {
   "cell_type": "markdown",
   "metadata": {},
   "source": [
    "## Creating the Convertible Bond"
   ]
  },
  {
   "cell_type": "markdown",
   "metadata": {},
   "source": [
    "We set the maturity date, annualised coupon, coupon annual_frequency and convention for calculating accrued interest"
   ]
  },
  {
   "cell_type": "code",
   "execution_count": 3,
   "metadata": {
    "execution": {
     "iopub.execute_input": "2024-04-30T19:43:03.028259Z",
     "iopub.status.busy": "2024-04-30T19:43:03.028259Z",
     "iopub.status.idle": "2024-04-30T19:43:03.047425Z",
     "shell.execute_reply": "2024-04-30T19:43:03.047425Z"
    }
   },
   "outputs": [],
   "source": [
    "maturity_dt = Date(20, 3, 2023)\n",
    "coupon = 0.0\n",
    "freq_type = FrequencyTypes.SEMI_ANNUAL\n",
    "accrualBasis = DayCountTypes.ACT_365F"
   ]
  },
  {
   "cell_type": "markdown",
   "metadata": {},
   "source": [
    "We need to set the face amount and the conversion ratio. This is the number of shares you can convert to for that face amount."
   ]
  },
  {
   "cell_type": "code",
   "execution_count": 4,
   "metadata": {
    "execution": {
     "iopub.execute_input": "2024-04-30T19:43:03.050012Z",
     "iopub.status.busy": "2024-04-30T19:43:03.050012Z",
     "iopub.status.idle": "2024-04-30T19:43:03.052825Z",
     "shell.execute_reply": "2024-04-30T19:43:03.052586Z"
    }
   },
   "outputs": [],
   "source": [
    "face = 100.0 \n",
    "conversion_ratio = 5.0  # Number of shares for face amount"
   ]
  },
  {
   "cell_type": "markdown",
   "metadata": {},
   "source": [
    "We can also delay the start of the conversion feature using the start convert date"
   ]
  },
  {
   "cell_type": "code",
   "execution_count": 5,
   "metadata": {
    "execution": {
     "iopub.execute_input": "2024-04-30T19:43:03.055356Z",
     "iopub.status.busy": "2024-04-30T19:43:03.054359Z",
     "iopub.status.idle": "2024-04-30T19:43:03.057563Z",
     "shell.execute_reply": "2024-04-30T19:43:03.057563Z"
    }
   },
   "outputs": [],
   "source": [
    "start_convert_dt = Date(20, 12, 2019)"
   ]
  },
  {
   "cell_type": "markdown",
   "metadata": {},
   "source": [
    "We can also set the call schedule - the price and date on which the issuer can call back the bond. This is given with reference to a price of 100. Making the call price very high means it will never be called. So the call has no impact."
   ]
  },
  {
   "cell_type": "code",
   "execution_count": 6,
   "metadata": {
    "execution": {
     "iopub.execute_input": "2024-04-30T19:43:03.060099Z",
     "iopub.status.busy": "2024-04-30T19:43:03.060099Z",
     "iopub.status.idle": "2024-04-30T19:43:03.063256Z",
     "shell.execute_reply": "2024-04-30T19:43:03.063025Z"
    }
   },
   "outputs": [],
   "source": [
    "call_price = 120 # Make call uneconomic so it does not impact pricing\n",
    "call_dts = [Date(20, 3, 2020), Date(20, 3, 2021), Date(20, 3, 2022)]\n",
    "call_prices = [call_price, call_price, call_price]"
   ]
  },
  {
   "cell_type": "markdown",
   "metadata": {},
   "source": [
    "We can also set the put schedule - the price and date on which the owner can put back the bond to the issuer. This is given with reference to a price of 100. Making the put price very low means it will never be put."
   ]
  },
  {
   "cell_type": "code",
   "execution_count": 7,
   "metadata": {
    "execution": {
     "iopub.execute_input": "2024-04-30T19:43:03.065255Z",
     "iopub.status.busy": "2024-04-30T19:43:03.065255Z",
     "iopub.status.idle": "2024-04-30T19:43:03.068354Z",
     "shell.execute_reply": "2024-04-30T19:43:03.068354Z"
    }
   },
   "outputs": [],
   "source": [
    "putPrice = 0.0 # Make call uneconomic so it does not impact pricing\n",
    "put_dts = [Date(20, 3, 2020), Date(20, 3, 2021), Date(20, 3, 2022)]\n",
    "put_prices = [putPrice, putPrice, putPrice]"
   ]
  },
  {
   "cell_type": "markdown",
   "metadata": {},
   "source": [
    "At this point we can create our bond."
   ]
  },
  {
   "cell_type": "code",
   "execution_count": 8,
   "metadata": {
    "execution": {
     "iopub.execute_input": "2024-04-30T19:43:03.070935Z",
     "iopub.status.busy": "2024-04-30T19:43:03.070935Z",
     "iopub.status.idle": "2024-04-30T19:43:03.073786Z",
     "shell.execute_reply": "2024-04-30T19:43:03.073786Z"
    }
   },
   "outputs": [],
   "source": [
    "bond = BondConvertible(maturity_dt, coupon, freq_type, start_convert_dt, conversion_ratio, call_dts, call_prices, put_dts, put_prices, accrualBasis)"
   ]
  },
  {
   "cell_type": "markdown",
   "metadata": {},
   "source": [
    "# Valuation"
   ]
  },
  {
   "cell_type": "markdown",
   "metadata": {},
   "source": [
    "### No Calls and Puts"
   ]
  },
  {
   "cell_type": "markdown",
   "metadata": {},
   "source": [
    "We need to specify the valuation date"
   ]
  },
  {
   "cell_type": "code",
   "execution_count": 9,
   "metadata": {
    "execution": {
     "iopub.execute_input": "2024-04-30T19:43:03.076813Z",
     "iopub.status.busy": "2024-04-30T19:43:03.075815Z",
     "iopub.status.idle": "2024-04-30T19:43:03.078825Z",
     "shell.execute_reply": "2024-04-30T19:43:03.078825Z"
    }
   },
   "outputs": [],
   "source": [
    "settle_dt = Date(31, 12, 2019)"
   ]
  },
  {
   "cell_type": "markdown",
   "metadata": {},
   "source": [
    "The model allows a discrete dividend schedule. We can use the FinSchedule class to do this."
   ]
  },
  {
   "cell_type": "code",
   "execution_count": 10,
   "metadata": {
    "execution": {
     "iopub.execute_input": "2024-04-30T19:43:03.081471Z",
     "iopub.status.busy": "2024-04-30T19:43:03.080444Z",
     "iopub.status.idle": "2024-04-30T19:43:03.088733Z",
     "shell.execute_reply": "2024-04-30T19:43:03.088733Z"
    }
   },
   "outputs": [],
   "source": [
    "dividendSchedule = Schedule(settle_dt, maturity_dt).schedule_dts()[1:]\n",
    "dividend_yields = [0.01] * len(dividendSchedule)"
   ]
  },
  {
   "cell_type": "markdown",
   "metadata": {},
   "source": [
    "We then need to set up the market inputs. "
   ]
  },
  {
   "cell_type": "code",
   "execution_count": 11,
   "metadata": {
    "execution": {
     "iopub.execute_input": "2024-04-30T19:43:03.090760Z",
     "iopub.status.busy": "2024-04-30T19:43:03.090760Z",
     "iopub.status.idle": "2024-04-30T19:43:03.094944Z",
     "shell.execute_reply": "2024-04-30T19:43:03.094944Z"
    }
   },
   "outputs": [],
   "source": [
    "stock_price = 20\n",
    "stock_volatility = 0.30 # 30 percent\n",
    "rate = 0.05\n",
    "discount_curve = DiscountCurveFlat(settle_dt, rate, FrequencyTypes.ANNUAL)\n",
    "credit_spread = 0.00\n",
    "recovery_rate = 0.40 # 40 percent"
   ]
  },
  {
   "cell_type": "markdown",
   "metadata": {},
   "source": [
    "The model is a binomial tree but you don't need to enter any tree details unless you want to as it defaults to 100 steps per year"
   ]
  },
  {
   "cell_type": "markdown",
   "metadata": {},
   "source": [
    "We can now peform the valuation"
   ]
  },
  {
   "cell_type": "code",
   "execution_count": 12,
   "metadata": {
    "execution": {
     "iopub.execute_input": "2024-04-30T19:43:03.096975Z",
     "iopub.status.busy": "2024-04-30T19:43:03.096975Z",
     "iopub.status.idle": "2024-04-30T19:43:03.127002Z",
     "shell.execute_reply": "2024-04-30T19:43:03.127002Z"
    }
   },
   "outputs": [
    {
     "data": {
      "text/plain": [
       "{'cbprice': 109.73448110070586,\n",
       " 'bond': 85.46491653997575,\n",
       " 'delta': 2.9878835339742738,\n",
       " 'gamma': 1.001353265428514,\n",
       " 'theta': 109.31345846037485}"
      ]
     },
     "execution_count": 12,
     "metadata": {},
     "output_type": "execute_result"
    }
   ],
   "source": [
    "bond.value(settle_dt, stock_price, stock_volatility, dividendSchedule, dividend_yields,\n",
    "           discount_curve, credit_spread, recovery_rate)"
   ]
  },
  {
   "cell_type": "markdown",
   "metadata": {},
   "source": [
    "'cbrice' is the bond price. 'bond' is the price of the bond alone without any conversion and without any puts or calls option"
   ]
  },
  {
   "cell_type": "markdown",
   "metadata": {},
   "source": [
    "## Impact of Calls"
   ]
  },
  {
   "cell_type": "code",
   "execution_count": 13,
   "metadata": {
    "execution": {
     "iopub.execute_input": "2024-04-30T19:43:03.130037Z",
     "iopub.status.busy": "2024-04-30T19:43:03.129034Z",
     "iopub.status.idle": "2024-04-30T19:43:03.132626Z",
     "shell.execute_reply": "2024-04-30T19:43:03.132534Z"
    }
   },
   "outputs": [],
   "source": [
    "call_price = 100000.0\n",
    "call_prices = [call_price, call_price, call_price]"
   ]
  },
  {
   "cell_type": "markdown",
   "metadata": {},
   "source": [
    "Need to recreate the convertible bond."
   ]
  },
  {
   "cell_type": "code",
   "execution_count": 14,
   "metadata": {
    "execution": {
     "iopub.execute_input": "2024-04-30T19:43:03.134663Z",
     "iopub.status.busy": "2024-04-30T19:43:03.134663Z",
     "iopub.status.idle": "2024-04-30T19:43:03.137758Z",
     "shell.execute_reply": "2024-04-30T19:43:03.137758Z"
    }
   },
   "outputs": [],
   "source": [
    "bond = BondConvertible(maturity_dt, coupon, freq_type, start_convert_dt, conversion_ratio, call_dts, call_prices, put_dts, put_prices, accrualBasis)"
   ]
  },
  {
   "cell_type": "code",
   "execution_count": 15,
   "metadata": {
    "execution": {
     "iopub.execute_input": "2024-04-30T19:43:03.139789Z",
     "iopub.status.busy": "2024-04-30T19:43:03.139789Z",
     "iopub.status.idle": "2024-04-30T19:43:03.166406Z",
     "shell.execute_reply": "2024-04-30T19:43:03.166406Z"
    }
   },
   "outputs": [
    {
     "data": {
      "text/plain": [
       "{'cbprice': 111.4282617425936,\n",
       " 'bond': 85.46491653997575,\n",
       " 'delta': 3.4297479279504275,\n",
       " 'gamma': 0.817378351037334,\n",
       " 'theta': 125.92922284966545}"
      ]
     },
     "execution_count": 15,
     "metadata": {},
     "output_type": "execute_result"
    }
   ],
   "source": [
    "bond.value(settle_dt, stock_price, stock_volatility, dividendSchedule, dividend_yields,\n",
    "           discount_curve, credit_spread, recovery_rate)"
   ]
  },
  {
   "cell_type": "markdown",
   "metadata": {},
   "source": [
    "## Stock Price Sensitivity"
   ]
  },
  {
   "cell_type": "markdown",
   "metadata": {},
   "source": [
    "As the stock price goes up, the conversion options becomes more valuable"
   ]
  },
  {
   "cell_type": "code",
   "execution_count": 16,
   "metadata": {
    "execution": {
     "iopub.execute_input": "2024-04-30T19:43:03.169436Z",
     "iopub.status.busy": "2024-04-30T19:43:03.168408Z",
     "iopub.status.idle": "2024-04-30T19:43:03.191467Z",
     "shell.execute_reply": "2024-04-30T19:43:03.191467Z"
    }
   },
   "outputs": [
    {
     "name": "stdout",
     "output_type": "stream",
     "text": [
      "  StockPx     CB Price   Bond Price        Delta\n",
      "     0.00      85.4649      85.4649       0.0000\n",
      "     4.00      85.4819      85.4649       0.0282\n",
      "     8.00      86.4021      85.4649       0.5501\n",
      "    12.00      90.6543      85.4649       1.5947\n",
      "    16.00      99.1995      85.4649       2.6294\n",
      "    20.00     111.4283      85.4649       3.4297\n",
      "    24.00     126.3526      85.4649       3.9905\n",
      "    28.00     143.1370      85.4649       4.3776\n",
      "    32.00     161.2960      85.4649       4.6745\n",
      "    36.00     180.4177      85.4649       4.8710\n",
      "    40.00     200.0973      85.4649       4.9645\n"
     ]
    }
   ],
   "source": [
    "stock_prices = np.linspace(0,40,11)\n",
    "print(\"%9s %12s %12s %12s\"% (\"StockPx\", \"CB Price\", \"Bond Price\", \"Delta\"))\n",
    "\n",
    "for stock_price in stock_prices:\n",
    "    res = bond.value(settle_dt, stock_price, stock_volatility, dividendSchedule, dividend_yields,\n",
    "                     discount_curve, credit_spread, recovery_rate)\n",
    "    print(\"%9.2f %12.4f %12.4f %12.4f\"% (stock_price, res['cbprice'], res['bond'], res['delta']))"
   ]
  },
  {
   "cell_type": "markdown",
   "metadata": {},
   "source": [
    "As expected the price rises with increasing stock price as the conversion option is more valuable"
   ]
  },
  {
   "cell_type": "markdown",
   "metadata": {},
   "source": [
    "## Convergence Testing"
   ]
  },
  {
   "cell_type": "markdown",
   "metadata": {},
   "source": [
    "Set up the bond description"
   ]
  },
  {
   "cell_type": "code",
   "execution_count": 17,
   "metadata": {
    "execution": {
     "iopub.execute_input": "2024-04-30T19:43:03.194466Z",
     "iopub.status.busy": "2024-04-30T19:43:03.194466Z",
     "iopub.status.idle": "2024-04-30T19:43:03.197073Z",
     "shell.execute_reply": "2024-04-30T19:43:03.197073Z"
    }
   },
   "outputs": [],
   "source": [
    "settle_dt = Date(31, 12, 2019)"
   ]
  },
  {
   "cell_type": "code",
   "execution_count": 18,
   "metadata": {
    "execution": {
     "iopub.execute_input": "2024-04-30T19:43:03.200070Z",
     "iopub.status.busy": "2024-04-30T19:43:03.200070Z",
     "iopub.status.idle": "2024-04-30T19:43:03.203760Z",
     "shell.execute_reply": "2024-04-30T19:43:03.203760Z"
    }
   },
   "outputs": [],
   "source": [
    "maturity_dt = Date(20, 3, 2023)\n",
    "coupon = 0.0\n",
    "freq_type = FrequencyTypes.SEMI_ANNUAL\n",
    "accrualBasis = DayCountTypes.ACT_365F\n",
    "\n",
    "call_price = 100000.0 # Make call uneconomic so it does not impact pricing\n",
    "call_dts = [] # [Date(20, 3, 2020)]\n",
    "call_prices = [] # [call_price]\n",
    "\n",
    "putPrice = 0.0 # Make call uneconomic so it does not impact pricing\n",
    "put_dts = [] # Date(20, 3, 2020)]\n",
    "put_prices = [] # [putPrice]\n",
    "\n",
    "face = 100.0 \n",
    "start_convert_dt = settle_dt\n",
    "conversion_ratio = 5.0  # Number of shares for face amount"
   ]
  },
  {
   "cell_type": "code",
   "execution_count": 19,
   "metadata": {
    "execution": {
     "iopub.execute_input": "2024-04-30T19:43:03.206268Z",
     "iopub.status.busy": "2024-04-30T19:43:03.206268Z",
     "iopub.status.idle": "2024-04-30T19:43:03.209081Z",
     "shell.execute_reply": "2024-04-30T19:43:03.209081Z"
    }
   },
   "outputs": [],
   "source": [
    "bond = BondConvertible(maturity_dt, coupon, freq_type, start_convert_dt, conversion_ratio, call_dts, call_prices, put_dts, put_prices, accrualBasis)"
   ]
  },
  {
   "cell_type": "markdown",
   "metadata": {},
   "source": [
    "Set up market"
   ]
  },
  {
   "cell_type": "code",
   "execution_count": 20,
   "metadata": {
    "execution": {
     "iopub.execute_input": "2024-04-30T19:43:03.211107Z",
     "iopub.status.busy": "2024-04-30T19:43:03.211107Z",
     "iopub.status.idle": "2024-04-30T19:43:03.215932Z",
     "shell.execute_reply": "2024-04-30T19:43:03.215932Z"
    }
   },
   "outputs": [],
   "source": [
    "stock_price = 20.0\n",
    "stock_volatility = 0.10\n",
    "rate = 0.05\n",
    "discount_curve = DiscountCurveFlat(settle_dt, rate, FrequencyTypes.ANNUAL)\n",
    "credit_spread = 0.0\n",
    "recovery_rate = 0.0\n",
    "dividendSchedule = [] # FinSchedule(settle_dt, maturity_dt).flows()[1:]\n",
    "dividend_yields = [] # [0.0] * len(dividendSchedule)"
   ]
  },
  {
   "cell_type": "markdown",
   "metadata": {},
   "source": [
    "How many tree steps per year do we need to give an accurate price ? Let us check."
   ]
  },
  {
   "cell_type": "code",
   "execution_count": 21,
   "metadata": {
    "execution": {
     "iopub.execute_input": "2024-04-30T19:43:03.218931Z",
     "iopub.status.busy": "2024-04-30T19:43:03.217960Z",
     "iopub.status.idle": "2024-04-30T19:43:03.523587Z",
     "shell.execute_reply": "2024-04-30T19:43:03.523587Z"
    }
   },
   "outputs": [
    {
     "name": "stdout",
     "output_type": "stream",
     "text": [
      " Steps/Yr     CB Price   Bond Price        Delta        Gamma\n",
      "   100.00     132.7113      85.4649       4.1755       0.3364\n",
      "   200.00     132.7074      85.4649       4.1761       0.5085\n",
      "   400.00     132.7077      85.4649       4.1764       0.7534\n",
      "  1000.00     132.7047      85.4649       4.1766       1.2406\n",
      "  2000.00     132.7051      85.4649       4.1766       1.7907\n"
     ]
    },
    {
     "name": "stdout",
     "output_type": "stream",
     "text": [
      "  4000.00     132.7045      85.4649       4.1767       2.5689\n"
     ]
    }
   ],
   "source": [
    "stock_price = 25.0\n",
    "stock_volatility = 0.30\n",
    "stepsPerYearList = [100, 200, 400, 1000, 2000, 4000]\n",
    "cbPrices = []\n",
    "\n",
    "print(\"%9s %12s %12s %12s %12s\"% (\"Steps/Yr\", \"CB Price\", \"Bond Price\", \"Delta\",\"Gamma\"))\n",
    "for num_steps_per_year in stepsPerYearList:\n",
    "    res = bond.value(settle_dt, stock_price, stock_volatility, dividendSchedule, dividend_yields,\n",
    "                     discount_curve, credit_spread, recovery_rate, num_steps_per_year)\n",
    "    print(\"%9.2f %12.4f %12.4f %12.4f %12.4f\"% (num_steps_per_year, res['cbprice'], res['bond'], res['delta'], res['gamma']))\n",
    "    cbPrices.append(res['cbprice'])"
   ]
  },
  {
   "cell_type": "code",
   "execution_count": 22,
   "metadata": {
    "execution": {
     "iopub.execute_input": "2024-04-30T19:43:03.526595Z",
     "iopub.status.busy": "2024-04-30T19:43:03.526595Z",
     "iopub.status.idle": "2024-04-30T19:43:03.709761Z",
     "shell.execute_reply": "2024-04-30T19:43:03.709761Z"
    }
   },
   "outputs": [
    {
     "data": {
      "image/png": "[encoded data removed]",
      "text/plain": [
       "<Figure size 640x480 with 1 Axes>"
      ]
     },
     "metadata": {},
     "output_type": "display_data"
    }
   ],
   "source": [
    "plt.plot(stepsPerYearList,cbPrices);"
   ]
  },
  {
   "cell_type": "markdown",
   "metadata": {},
   "source": [
    "Copyright (c) 2020 Dominic O'Kane"
   ]
  }
 ],
 "metadata": {
  "kernelspec": {
   "display_name": "Python 3",
   "language": "python",
   "name": "python3"
  },
  "language_info": {
   "codemirror_mode": {
    "name": "ipython",
    "version": 3
   },
   "file_extension": ".py",
   "mimetype": "text/x-python",
   "name": "python",
   "nbconvert_exporter": "python",
   "pygments_lexer": "ipython3",
   "version": "3.11.5"
  }
 },
 "nbformat": 4,
 "nbformat_minor": 2
}
