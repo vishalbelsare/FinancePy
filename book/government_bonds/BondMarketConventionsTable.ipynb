{
 "cells": [
  {
   "cell_type": "markdown",
   "metadata": {},
   "source": [
    "# BOND MARKET CONVENTIONS"
   ]
  },
  {
   "cell_type": "markdown",
   "metadata": {},
   "source": [
    "You can get Government Bond Market conventions for various countries from FinancePy. They are not guaranteed accurate as they can change so please see them as advisory. Contact me if you see any errors."
   ]
  },
  {
   "cell_type": "code",
   "execution_count": 1,
   "metadata": {
    "scrolled": true
   },
   "outputs": [
    {
     "name": "stdout",
     "output_type": "stream",
     "text": [
      "####################################################################\n",
      "# FINANCEPY BETA Version 0.220 - This build:  21 Dec 2021 at 23:51 #\n",
      "#      This software is distributed FREE & WITHOUT ANY WARRANTY    #\n",
      "#  Report bugs as issues at https://github.com/domokane/FinancePy  #\n",
      "####################################################################\n",
      "\n"
     ]
    }
   ],
   "source": [
    "from financepy.utils.day_count import DayCountTypes\n",
    "from financepy.utils.date import Date\n",
    "from financepy.products.bonds.bond_market import get_bond_market_conventions, BondMarkets"
   ]
  },
  {
   "cell_type": "code",
   "execution_count": 2,
   "metadata": {},
   "outputs": [
    {
     "name": "stdout",
     "output_type": "stream",
     "text": [
      "Requirement already satisfied: latextable in c:\\users\\dominic\\anaconda3\\lib\\site-packages (0.2.1)\n",
      "Requirement already satisfied: texttable in c:\\users\\dominic\\anaconda3\\lib\\site-packages (from latextable) (1.6.4)\n"
     ]
    }
   ],
   "source": [
    "!pip install latextable"
   ]
  },
  {
   "cell_type": "markdown",
   "metadata": {},
   "source": [
    "First we get a list of the markets available. The order is EU and then non-EU"
   ]
  },
  {
   "cell_type": "code",
   "execution_count": 3,
   "metadata": {
    "scrolled": false
   },
   "outputs": [
    {
     "name": "stdout",
     "output_type": "stream",
     "text": [
      "AUSTRIA\n",
      "BELGIUM\n",
      "CYPRUS\n",
      "ESTONIA\n",
      "FINLAND\n",
      "FRANCE\n",
      "GERMANY\n",
      "GREECE\n",
      "IRELAND\n",
      "ITALY\n",
      "LATVIA\n",
      "LITHUANIA\n",
      "LUXEMBOURG\n",
      "MALTA\n",
      "NETHERLANDS\n",
      "PORTUGAL\n",
      "SLOVAKIA\n",
      "SLOVENIA\n",
      "SPAIN\n",
      "ESM\n",
      "EFSF\n",
      "BULGARIA\n",
      "CROATIA\n",
      "CZECH_REPUBLIC\n",
      "DENMARK\n",
      "HUNGARY\n",
      "POLAND\n",
      "ROMANIA\n",
      "SWEDEN\n",
      "JAPAN\n",
      "SWITZERLAND\n",
      "UNITED_KINGDOM\n",
      "UNITED_STATES\n",
      "AUSTRALIA\n",
      "NEW_ZEALAND\n",
      "NORWAY\n",
      "SOUTH_AFRICA\n"
     ]
    }
   ],
   "source": [
    "for country in BondMarkets:\n",
    "    print(country.name)"
   ]
  },
  {
   "cell_type": "markdown",
   "metadata": {},
   "source": [
    "There is a function to get the accrual convention, the annual_frequency and the settlement period for each"
   ]
  },
  {
   "cell_type": "code",
   "execution_count": 4,
   "metadata": {},
   "outputs": [],
   "source": [
    "from tabulate import tabulate\n",
    "from texttable import Texttable"
   ]
  },
  {
   "cell_type": "code",
   "execution_count": 5,
   "metadata": {
    "scrolled": false
   },
   "outputs": [
    {
     "name": "stdout",
     "output_type": "stream",
     "text": [
      "Unknown Country: BondMarkets.NEW_ZEALAND\n",
      "Unknown Country: BondMarkets.NORWAY\n"
     ]
    }
   ],
   "source": [
    "rows = []\n",
    "row = [\"COUNTRY\",\"ACCRUAL BASIS\",\"FREQ\",\"SETTLE DAYS\",\"EX DIV DAYS\"]\n",
    "rows.append(row)\n",
    "    \n",
    "for country in BondMarkets:\n",
    "\n",
    "    (accrual_type, frequencyType, settlementDays, exDiv, cal) = get_bond_market_conventions(country)\n",
    "    \n",
    "    if accrual_type is not None:\n",
    "        row = \"%20s,%17s,%15s,%11d,%10d\" %(country.name, accrual_type.name, frequencyType.name, \n",
    "                                           settlementDays, exDiv)\n",
    "    rows.append(row.split(\",\"))"
   ]
  },
  {
   "cell_type": "code",
   "execution_count": 6,
   "metadata": {},
   "outputs": [
    {
     "data": {
      "text/plain": [
       "list"
      ]
     },
     "execution_count": 6,
     "metadata": {},
     "output_type": "execute_result"
    }
   ],
   "source": [
    "type(rows)"
   ]
  },
  {
   "cell_type": "markdown",
   "metadata": {},
   "source": [
    "Copyright (c) 2019, Dominic O'Kane "
   ]
  },
  {
   "cell_type": "code",
   "execution_count": 7,
   "metadata": {},
   "outputs": [
    {
     "data": {
      "text/plain": [
       "<texttable.Texttable at 0x211d1f192b0>"
      ]
     },
     "execution_count": 7,
     "metadata": {},
     "output_type": "execute_result"
    }
   ],
   "source": [
    "table = Texttable()\n",
    "table.set_cols_align([\"c\"] * 5)\n",
    "table.set_deco(Texttable.HEADER | Texttable.VLINES)\n",
    "table.add_rows(rows)"
   ]
  },
  {
   "cell_type": "code",
   "execution_count": 8,
   "metadata": {},
   "outputs": [
    {
     "name": "stdout",
     "output_type": "stream",
     "text": [
      "Tabulate Table:\n",
      "--------------  ------------  -----------  -----------  -----------\n",
      "COUNTRY         ACCRUED       FREQ         SETTLE DAYS  EX DIV DAYS\n",
      "AUSTRIA         ACT_ACT_ICMA  ANNUAL       2            0\n",
      "BELGIUM         ACT_ACT_ICMA  ANNUAL       2            0\n",
      "CYPRUS          ACT_ACT_ICMA  SEMI_ANNUAL  2            0\n",
      "ESTONIA         ACT_ACT_ICMA  ANNUAL       2            0\n",
      "FINLAND         ACT_ACT_ICMA  ANNUAL       2            0\n",
      "FRANCE          ACT_ACT_ICMA  ANNUAL       2            0\n",
      "GERMANY         ACT_ACT_ICMA  ANNUAL       2            0\n",
      "GREECE          ACT_ACT_ICMA  ANNUAL       3            0\n",
      "IRELAND         ACT_ACT_ICMA  ANNUAL       2            0\n",
      "ITALY           ACT_ACT_ICMA  SEMI_ANNUAL  2            0\n",
      "LATVIA          ACT_ACT_ICMA  ANNUAL       2            0\n",
      "LITHUANIA       ACT_ACT_ICMA  ANNUAL       1            0\n",
      "LUXEMBOURG      ACT_ACT_ICMA  ANNUAL       2            0\n",
      "MALTA           ACT_ACT_ICMA  SEMI_ANNUAL  2            0\n",
      "NETHERLANDS     ACT_ACT_ICMA  ANNUAL       2            0\n",
      "PORTUGAL        ACT_ACT_ICMA  ANNUAL       2            0\n",
      "SLOVAKIA        ACT_ACT_ICMA  ANNUAL       2            0\n",
      "SLOVENIA        ACT_ACT_ICMA  ANNUAL       2            0\n",
      "SPAIN           ACT_ACT_ICMA  ANNUAL       2            0\n",
      "ESM             ACT_ACT_ICMA  ANNUAL       2            0\n",
      "EFSF            ACT_ACT_ICMA  ANNUAL       2            0\n",
      "BULGARIA        ACT_ACT_ICMA  SEMI_ANNUAL  0            0\n",
      "CROATIA         ACT_ACT_ICMA  SEMI_ANNUAL  3            0\n",
      "CZECH_REPUBLIC  ACT_ACT_ICMA  SEMI_ANNUAL  2            0\n",
      "DENMARK         ACT_ACT_ICMA  ANNUAL       2            0\n",
      "HUNGARY         ACT_ACT_ICMA  ANNUAL       2            0\n",
      "POLAND          ACT_ACT_ICMA  SEMI_ANNUAL  2            0\n",
      "ROMANIA         ACT_ACT_ICMA  SEMI_ANNUAL  2            0\n",
      "SWEDEN          THIRTY_E_360  ANNUAL       2            0\n",
      "JAPAN           ACT_ACT_ICMA  ANNUAL       2            0\n",
      "SWITZERLAND     ACT_ACT_ICMA  ANNUAL       2            0\n",
      "UNITED_KINGDOM  ACT_ACT_ICMA  SEMI_ANNUAL  1            6\n",
      "UNITED_STATES   ACT_ACT_ICMA  SEMI_ANNUAL  2            0\n",
      "AUSTRALIA       ACT_ACT_ICMA  ANNUAL       2            7\n",
      "AUSTRALIA       ACT_ACT_ICMA  ANNUAL       2            7\n",
      "AUSTRALIA       ACT_ACT_ICMA  ANNUAL       2            7\n",
      "SOUTH_AFRICA    ACT_ACT_ICMA  ANNUAL       2            10\n",
      "--------------  ------------  -----------  -----------  -----------\n"
     ]
    }
   ],
   "source": [
    "print('Tabulate Table:')\n",
    "print(tabulate(rows))"
   ]
  },
  {
   "cell_type": "code",
   "execution_count": 9,
   "metadata": {},
   "outputs": [],
   "source": [
    "import latextable\n",
    "\n",
    "tbl = latextable.draw_latex(table, caption=\"Bond Market Conventions by Country.\")"
   ]
  },
  {
   "cell_type": "code",
   "execution_count": 10,
   "metadata": {},
   "outputs": [
    {
     "data": {
      "text/plain": [
       "'\\\\begin{table}\\n\\t\\\\begin{center}\\n\\t\\t\\\\begin{tabular}{c|c|c|c|c}\\n\\t\\t\\tCOUNTRY & ACCRUED & FREQ & SETTLE DAYS & EX DIV DAYS \\\\\\\\\\n\\t\\t\\t\\\\hline\\n\\t\\t\\t             AUSTRIA &      ACT_ACT_ICMA &          ANNUAL & 2 & 0 \\\\\\\\\\n\\t\\t\\t             BELGIUM &      ACT_ACT_ICMA &          ANNUAL & 2 & 0 \\\\\\\\\\n\\t\\t\\t              CYPRUS &      ACT_ACT_ICMA &     SEMI_ANNUAL & 2 & 0 \\\\\\\\\\n\\t\\t\\t             ESTONIA &      ACT_ACT_ICMA &          ANNUAL & 2 & 0 \\\\\\\\\\n\\t\\t\\t             FINLAND &      ACT_ACT_ICMA &          ANNUAL & 2 & 0 \\\\\\\\\\n\\t\\t\\t              FRANCE &      ACT_ACT_ICMA &          ANNUAL & 2 & 0 \\\\\\\\\\n\\t\\t\\t             GERMANY &      ACT_ACT_ICMA &          ANNUAL & 2 & 0 \\\\\\\\\\n\\t\\t\\t              GREECE &      ACT_ACT_ICMA &          ANNUAL & 3 & 0 \\\\\\\\\\n\\t\\t\\t             IRELAND &      ACT_ACT_ICMA &          ANNUAL & 2 & 0 \\\\\\\\\\n\\t\\t\\t               ITALY &      ACT_ACT_ICMA &     SEMI_ANNUAL & 2 & 0 \\\\\\\\\\n\\t\\t\\t              LATVIA &      ACT_ACT_ICMA &          ANNUAL & 2 & 0 \\\\\\\\\\n\\t\\t\\t           LITHUANIA &      ACT_ACT_ICMA &          ANNUAL & 1 & 0 \\\\\\\\\\n\\t\\t\\t          LUXEMBOURG &      ACT_ACT_ICMA &          ANNUAL & 2 & 0 \\\\\\\\\\n\\t\\t\\t               MALTA &      ACT_ACT_ICMA &     SEMI_ANNUAL & 2 & 0 \\\\\\\\\\n\\t\\t\\t         NETHERLANDS &      ACT_ACT_ICMA &          ANNUAL & 2 & 0 \\\\\\\\\\n\\t\\t\\t            PORTUGAL &      ACT_ACT_ICMA &          ANNUAL & 2 & 0 \\\\\\\\\\n\\t\\t\\t            SLOVAKIA &      ACT_ACT_ICMA &          ANNUAL & 2 & 0 \\\\\\\\\\n\\t\\t\\t            SLOVENIA &      ACT_ACT_ICMA &          ANNUAL & 2 & 0 \\\\\\\\\\n\\t\\t\\t               SPAIN &      ACT_ACT_ICMA &          ANNUAL & 2 & 0 \\\\\\\\\\n\\t\\t\\t                 ESM &      ACT_ACT_ICMA &          ANNUAL & 2 & 0 \\\\\\\\\\n\\t\\t\\t                EFSF &      ACT_ACT_ICMA &          ANNUAL & 2 & 0 \\\\\\\\\\n\\t\\t\\t            BULGARIA &      ACT_ACT_ICMA &     SEMI_ANNUAL & 0 & 0 \\\\\\\\\\n\\t\\t\\t             CROATIA &      ACT_ACT_ICMA &     SEMI_ANNUAL & 3 & 0 \\\\\\\\\\n\\t\\t\\t      CZECH_REPUBLIC &      ACT_ACT_ICMA &     SEMI_ANNUAL & 2 & 0 \\\\\\\\\\n\\t\\t\\t             DENMARK &      ACT_ACT_ICMA &          ANNUAL & 2 & 0 \\\\\\\\\\n\\t\\t\\t             HUNGARY &      ACT_ACT_ICMA &          ANNUAL & 2 & 0 \\\\\\\\\\n\\t\\t\\t              POLAND &      ACT_ACT_ICMA &     SEMI_ANNUAL & 2 & 0 \\\\\\\\\\n\\t\\t\\t             ROMANIA &      ACT_ACT_ICMA &     SEMI_ANNUAL & 2 & 0 \\\\\\\\\\n\\t\\t\\t              SWEDEN &      THIRTY_E_360 &          ANNUAL & 2 & 0 \\\\\\\\\\n\\t\\t\\t               JAPAN &      ACT_ACT_ICMA &          ANNUAL & 2 & 0 \\\\\\\\\\n\\t\\t\\t         SWITZERLAND &      ACT_ACT_ICMA &          ANNUAL & 2 & 0 \\\\\\\\\\n\\t\\t\\t      UNITED_KINGDOM &      ACT_ACT_ICMA &     SEMI_ANNUAL & 1 & 6 \\\\\\\\\\n\\t\\t\\t       UNITED_STATES &      ACT_ACT_ICMA &     SEMI_ANNUAL & 2 & 0 \\\\\\\\\\n\\t\\t\\t           AUSTRALIA &      ACT_ACT_ICMA &          ANNUAL & 2 & 7 \\\\\\\\\\n\\t\\t\\t           AUSTRALIA &      ACT_ACT_ICMA &          ANNUAL & 2 & 7 \\\\\\\\\\n\\t\\t\\t           AUSTRALIA &      ACT_ACT_ICMA &          ANNUAL & 2 & 7 \\\\\\\\\\n\\t\\t\\t        SOUTH_AFRICA &      ACT_ACT_ICMA &          ANNUAL & 2 & 10 \\\\\\\\\\n\\t\\t\\\\end{tabular}\\n\\t\\\\end{center}\\n\\t\\\\caption{Bond Market Conventions by Country.}\\n\\\\end{table}'"
      ]
     },
     "execution_count": 10,
     "metadata": {},
     "output_type": "execute_result"
    }
   ],
   "source": [
    "tbl"
   ]
  },
  {
   "cell_type": "code",
   "execution_count": 11,
   "metadata": {},
   "outputs": [],
   "source": [
    "tbl = tbl.replace(\"ACT_ACT_ICMA\", \"ACT/ACT\")\n",
    "tbl = tbl.replace(\"SEMI_ANNUAL\", \"2\")\n",
    "tbl = tbl.replace(\"ANNUAL\", \"1\")\n",
    "tbl = tbl.replace(\"_\", \"\\_\")"
   ]
  },
  {
   "cell_type": "code",
   "execution_count": 12,
   "metadata": {},
   "outputs": [],
   "source": [
    "f = open(\"../../Latex/government_bond_mkt_conventions.tex\", \"w\")\n",
    "f.write(tbl)\n",
    "f.close()"
   ]
  },
  {
   "cell_type": "code",
   "execution_count": 13,
   "metadata": {},
   "outputs": [
    {
     "data": {
      "text/plain": [
       "'\\\\begin{table}\\n\\t\\\\begin{center}\\n\\t\\t\\\\begin{tabular}{c|c|c|c|c}\\n\\t\\t\\tCOUNTRY & ACCRUED & FREQ & SETTLE DAYS & EX DIV DAYS \\\\\\\\\\n\\t\\t\\t\\\\hline\\n\\t\\t\\t             AUSTRIA &      ACT/ACT &          1 & 2 & 0 \\\\\\\\\\n\\t\\t\\t             BELGIUM &      ACT/ACT &          1 & 2 & 0 \\\\\\\\\\n\\t\\t\\t              CYPRUS &      ACT/ACT &     2 & 2 & 0 \\\\\\\\\\n\\t\\t\\t             ESTONIA &      ACT/ACT &          1 & 2 & 0 \\\\\\\\\\n\\t\\t\\t             FINLAND &      ACT/ACT &          1 & 2 & 0 \\\\\\\\\\n\\t\\t\\t              FRANCE &      ACT/ACT &          1 & 2 & 0 \\\\\\\\\\n\\t\\t\\t             GERMANY &      ACT/ACT &          1 & 2 & 0 \\\\\\\\\\n\\t\\t\\t              GREECE &      ACT/ACT &          1 & 3 & 0 \\\\\\\\\\n\\t\\t\\t             IRELAND &      ACT/ACT &          1 & 2 & 0 \\\\\\\\\\n\\t\\t\\t               ITALY &      ACT/ACT &     2 & 2 & 0 \\\\\\\\\\n\\t\\t\\t              LATVIA &      ACT/ACT &          1 & 2 & 0 \\\\\\\\\\n\\t\\t\\t           LITHUANIA &      ACT/ACT &          1 & 1 & 0 \\\\\\\\\\n\\t\\t\\t          LUXEMBOURG &      ACT/ACT &          1 & 2 & 0 \\\\\\\\\\n\\t\\t\\t               MALTA &      ACT/ACT &     2 & 2 & 0 \\\\\\\\\\n\\t\\t\\t         NETHERLANDS &      ACT/ACT &          1 & 2 & 0 \\\\\\\\\\n\\t\\t\\t            PORTUGAL &      ACT/ACT &          1 & 2 & 0 \\\\\\\\\\n\\t\\t\\t            SLOVAKIA &      ACT/ACT &          1 & 2 & 0 \\\\\\\\\\n\\t\\t\\t            SLOVENIA &      ACT/ACT &          1 & 2 & 0 \\\\\\\\\\n\\t\\t\\t               SPAIN &      ACT/ACT &          1 & 2 & 0 \\\\\\\\\\n\\t\\t\\t                 ESM &      ACT/ACT &          1 & 2 & 0 \\\\\\\\\\n\\t\\t\\t                EFSF &      ACT/ACT &          1 & 2 & 0 \\\\\\\\\\n\\t\\t\\t            BULGARIA &      ACT/ACT &     2 & 0 & 0 \\\\\\\\\\n\\t\\t\\t             CROATIA &      ACT/ACT &     2 & 3 & 0 \\\\\\\\\\n\\t\\t\\t      CZECH\\\\_REPUBLIC &      ACT/ACT &     2 & 2 & 0 \\\\\\\\\\n\\t\\t\\t             DENMARK &      ACT/ACT &          1 & 2 & 0 \\\\\\\\\\n\\t\\t\\t             HUNGARY &      ACT/ACT &          1 & 2 & 0 \\\\\\\\\\n\\t\\t\\t              POLAND &      ACT/ACT &     2 & 2 & 0 \\\\\\\\\\n\\t\\t\\t             ROMANIA &      ACT/ACT &     2 & 2 & 0 \\\\\\\\\\n\\t\\t\\t              SWEDEN &      THIRTY\\\\_E\\\\_360 &          1 & 2 & 0 \\\\\\\\\\n\\t\\t\\t               JAPAN &      ACT/ACT &          1 & 2 & 0 \\\\\\\\\\n\\t\\t\\t         SWITZERLAND &      ACT/ACT &          1 & 2 & 0 \\\\\\\\\\n\\t\\t\\t      UNITED\\\\_KINGDOM &      ACT/ACT &     2 & 1 & 6 \\\\\\\\\\n\\t\\t\\t       UNITED\\\\_STATES &      ACT/ACT &     2 & 2 & 0 \\\\\\\\\\n\\t\\t\\t           AUSTRALIA &      ACT/ACT &          1 & 2 & 7 \\\\\\\\\\n\\t\\t\\t           AUSTRALIA &      ACT/ACT &          1 & 2 & 7 \\\\\\\\\\n\\t\\t\\t           AUSTRALIA &      ACT/ACT &          1 & 2 & 7 \\\\\\\\\\n\\t\\t\\t        SOUTH\\\\_AFRICA &      ACT/ACT &          1 & 2 & 10 \\\\\\\\\\n\\t\\t\\\\end{tabular}\\n\\t\\\\end{center}\\n\\t\\\\caption{Bond Market Conventions by Country.}\\n\\\\end{table}'"
      ]
     },
     "execution_count": 13,
     "metadata": {},
     "output_type": "execute_result"
    }
   ],
   "source": [
    "tbl"
   ]
  },
  {
   "cell_type": "code",
   "execution_count": null,
   "metadata": {},
   "outputs": [],
   "source": []
  },
  {
   "cell_type": "code",
   "execution_count": null,
   "metadata": {},
   "outputs": [],
   "source": []
  }
 ],
 "metadata": {
  "kernelspec": {
   "display_name": "Python 3 (ipykernel)",
   "language": "python",
   "name": "python3"
  },
  "language_info": {
   "codemirror_mode": {
    "name": "ipython",
    "version": 3
   },
   "file_extension": ".py",
   "mimetype": "text/x-python",
   "name": "python",
   "nbconvert_exporter": "python",
   "pygments_lexer": "ipython3",
   "version": "3.9.7"
  }
 },
 "nbformat": 4,
 "nbformat_minor": 2
}
