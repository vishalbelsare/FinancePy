{
 "cells": [
  {
   "cell_type": "markdown",
   "metadata": {},
   "source": [
    "# FIXED COUPON BOND EXAMPLE TREASURY CUSIP 91282CFX4"
   ]
  },
  {
   "cell_type": "markdown",
   "metadata": {},
   "source": [
    "This is based on a Bloomberg example"
   ]
  },
  {
   "cell_type": "code",
   "execution_count": 6,
   "metadata": {},
   "outputs": [
    {
     "name": "stdout",
     "output_type": "stream",
     "text": [
      "Requirement already satisfied: financepy in c:\\users\\dominic\\anaconda3\\lib\\site-packages (0.300)\n",
      "Requirement already satisfied: prettytable in c:\\users\\dominic\\anaconda3\\lib\\site-packages (from financepy) (3.7.0)\n",
      "Requirement already satisfied: numba in c:\\users\\dominic\\anaconda3\\lib\\site-packages (from financepy) (0.56.4)\n",
      "Requirement already satisfied: pandas in c:\\users\\dominic\\anaconda3\\lib\\site-packages (from financepy) (1.5.3)\n",
      "Requirement already satisfied: ipython in c:\\users\\dominic\\anaconda3\\lib\\site-packages (from financepy) (8.10.0)\n",
      "Requirement already satisfied: matplotlib in c:\\users\\dominic\\anaconda3\\lib\\site-packages (from financepy) (3.7.0)\n",
      "Requirement already satisfied: scipy in c:\\users\\dominic\\anaconda3\\lib\\site-packages (from financepy) (1.10.0)\n",
      "Requirement already satisfied: numpy in c:\\users\\dominic\\anaconda3\\lib\\site-packages (from financepy) (1.23.5)\n",
      "Requirement already satisfied: llvmlite in c:\\users\\dominic\\anaconda3\\lib\\site-packages (from financepy) (0.39.1)\n",
      "Requirement already satisfied: colorama in c:\\users\\dominic\\anaconda3\\lib\\site-packages (from ipython->financepy) (0.4.6)\n",
      "Requirement already satisfied: jedi>=0.16 in c:\\users\\dominic\\anaconda3\\lib\\site-packages (from ipython->financepy) (0.18.1)\n",
      "Requirement already satisfied: stack-data in c:\\users\\dominic\\anaconda3\\lib\\site-packages (from ipython->financepy) (0.2.0)\n",
      "Requirement already satisfied: pygments>=2.4.0 in c:\\users\\dominic\\anaconda3\\lib\\site-packages (from ipython->financepy) (2.15.1)\n",
      "Requirement already satisfied: decorator in c:\\users\\dominic\\anaconda3\\lib\\site-packages (from ipython->financepy) (5.1.1)\n",
      "Requirement already satisfied: matplotlib-inline in c:\\users\\dominic\\anaconda3\\lib\\site-packages (from ipython->financepy) (0.1.6)\n",
      "Requirement already satisfied: backcall in c:\\users\\dominic\\anaconda3\\lib\\site-packages (from ipython->financepy) (0.2.0)\n",
      "Requirement already satisfied: pickleshare in c:\\users\\dominic\\anaconda3\\lib\\site-packages (from ipython->financepy) (0.7.5)\n",
      "Requirement already satisfied: prompt-toolkit<3.1.0,>=3.0.30 in c:\\users\\dominic\\anaconda3\\lib\\site-packages (from ipython->financepy) (3.0.36)\n",
      "Requirement already satisfied: traitlets>=5 in c:\\users\\dominic\\anaconda3\\lib\\site-packages (from ipython->financepy) (5.7.1)\n",
      "Requirement already satisfied: python-dateutil>=2.7 in c:\\users\\dominic\\anaconda3\\lib\\site-packages (from matplotlib->financepy) (2.8.2)\n",
      "Requirement already satisfied: cycler>=0.10 in c:\\users\\dominic\\anaconda3\\lib\\site-packages (from matplotlib->financepy) (0.11.0)\n",
      "Requirement already satisfied: fonttools>=4.22.0 in c:\\users\\dominic\\anaconda3\\lib\\site-packages (from matplotlib->financepy) (4.25.0)\n",
      "Requirement already satisfied: pillow>=6.2.0 in c:\\users\\dominic\\anaconda3\\lib\\site-packages (from matplotlib->financepy) (9.4.0)\n",
      "Requirement already satisfied: contourpy>=1.0.1 in c:\\users\\dominic\\anaconda3\\lib\\site-packages (from matplotlib->financepy) (1.0.5)\n",
      "Requirement already satisfied: pyparsing>=2.3.1 in c:\\users\\dominic\\anaconda3\\lib\\site-packages (from matplotlib->financepy) (3.0.9)\n",
      "Requirement already satisfied: kiwisolver>=1.0.1 in c:\\users\\dominic\\anaconda3\\lib\\site-packages (from matplotlib->financepy) (1.4.4)\n",
      "Requirement already satisfied: packaging>=20.0 in c:\\users\\dominic\\anaconda3\\lib\\site-packages (from matplotlib->financepy) (22.0)\n",
      "Requirement already satisfied: setuptools in c:\\users\\dominic\\anaconda3\\lib\\site-packages (from numba->financepy) (65.6.3)\n",
      "Requirement already satisfied: pytz>=2020.1 in c:\\users\\dominic\\anaconda3\\lib\\site-packages (from pandas->financepy) (2022.7)\n",
      "Requirement already satisfied: wcwidth in c:\\users\\dominic\\anaconda3\\lib\\site-packages (from prettytable->financepy) (0.2.5)\n",
      "Requirement already satisfied: parso<0.9.0,>=0.8.0 in c:\\users\\dominic\\anaconda3\\lib\\site-packages (from jedi>=0.16->ipython->financepy) (0.8.3)\n",
      "Requirement already satisfied: six>=1.5 in c:\\users\\dominic\\anaconda3\\lib\\site-packages (from python-dateutil>=2.7->matplotlib->financepy) (1.16.0)\n",
      "Requirement already satisfied: executing in c:\\users\\dominic\\anaconda3\\lib\\site-packages (from stack-data->ipython->financepy) (0.8.3)\n",
      "Requirement already satisfied: pure-eval in c:\\users\\dominic\\anaconda3\\lib\\site-packages (from stack-data->ipython->financepy) (0.2.2)\n",
      "Requirement already satisfied: asttokens in c:\\users\\dominic\\anaconda3\\lib\\site-packages (from stack-data->ipython->financepy) (2.0.5)\n",
      "Note: you may need to restart the kernel to use updated packages.\n"
     ]
    }
   ],
   "source": [
    "%pip install financepy"
   ]
  },
  {
   "cell_type": "code",
   "execution_count": 7,
   "metadata": {},
   "outputs": [],
   "source": [
    "import numpy as np\n",
    "import matplotlib.pyplot as plt"
   ]
  },
  {
   "cell_type": "code",
   "execution_count": 8,
   "metadata": {},
   "outputs": [],
   "source": [
    "import financepy"
   ]
  },
  {
   "cell_type": "code",
   "execution_count": 9,
   "metadata": {},
   "outputs": [],
   "source": [
    "from financepy.utils import *\n",
    "from financepy.products.bonds import *"
   ]
  },
  {
   "cell_type": "markdown",
   "metadata": {},
   "source": [
    "# Define the Bond"
   ]
  },
  {
   "cell_type": "code",
   "execution_count": 10,
   "metadata": {},
   "outputs": [],
   "source": [
    "issue_date = Date(30, 11, 2022)\n",
    "maturity_date = Date(30, 11, 2024)\n",
    "coupon = 0.045\n",
    "freq_type = FrequencyTypes.SEMI_ANNUAL\n",
    "accrual_type = DayCountTypes.ACT_ACT_ICMA\n",
    "face = ONE_MILLION"
   ]
  },
  {
   "cell_type": "code",
   "execution_count": 11,
   "metadata": {},
   "outputs": [],
   "source": [
    "bond = Bond(issue_date, maturity_date, coupon, freq_type, accrual_type, face)"
   ]
  },
  {
   "cell_type": "code",
   "execution_count": 12,
   "metadata": {},
   "outputs": [],
   "source": [
    "clean_price = 100+4/32+1/64  # price was quoted as 100-04+"
   ]
  },
  {
   "cell_type": "code",
   "execution_count": 13,
   "metadata": {},
   "outputs": [
    {
     "data": {
      "text/plain": [
       "100.140625"
      ]
     },
     "execution_count": 13,
     "metadata": {},
     "output_type": "execute_result"
    }
   ],
   "source": [
    "clean_price"
   ]
  },
  {
   "cell_type": "markdown",
   "metadata": {},
   "source": [
    "You can get information about the bond using the print method."
   ]
  },
  {
   "cell_type": "code",
   "execution_count": 14,
   "metadata": {},
   "outputs": [
    {
     "name": "stdout",
     "output_type": "stream",
     "text": [
      "OBJECT TYPE: Bond\n",
      "ISSUE DATE: 30-NOV-2022\n",
      "MATURITY DATE: 30-NOV-2024\n",
      "COUPON (%): 4.5\n",
      "FREQUENCY: FrequencyTypes.SEMI_ANNUAL\n",
      "ACCRUAL TYPE: DayCountTypes.ACT_ACT_ICMA\n",
      "FACE AMOUNT: 1000000\n"
     ]
    }
   ],
   "source": [
    "print(bond)"
   ]
  },
  {
   "cell_type": "markdown",
   "metadata": {},
   "source": [
    "## Bond Cash Flows"
   ]
  },
  {
   "cell_type": "markdown",
   "metadata": {},
   "source": [
    "We first need to set the settlement date of the bond. "
   ]
  },
  {
   "cell_type": "code",
   "execution_count": 39,
   "metadata": {},
   "outputs": [
    {
     "name": "stdout",
     "output_type": "stream",
     "text": [
      " 31-MAY-2023     22500.00 \n",
      " 30-NOV-2023     22500.00 \n",
      " 31-MAY-2024     22500.00 \n",
      " 30-NOV-2024   1022500.00 \n",
      "\n"
     ]
    }
   ],
   "source": [
    "settlement_date = Date(6, 2, 2023)\n",
    "\n",
    "print(bond.coupon_dates(settlement_date))"
   ]
  },
  {
   "cell_type": "code",
   "execution_count": 40,
   "metadata": {},
   "outputs": [
    {
     "name": "stdout",
     "output_type": "stream",
     "text": [
      "8406.593406593407\n"
     ]
    }
   ],
   "source": [
    "# Accrued Interest\n",
    "ai = bond.calc_accrued_interest(settlement_date)\n",
    "print(ai)"
   ]
  },
  {
   "cell_type": "markdown",
   "metadata": {},
   "source": [
    "The convention is to use these dates for yield calculations even if some fall on weekends."
   ]
  },
  {
   "cell_type": "markdown",
   "metadata": {},
   "source": [
    "## Bond Yield Measures"
   ]
  },
  {
   "cell_type": "markdown",
   "metadata": {},
   "source": [
    "Current yield is the coupon over the price"
   ]
  },
  {
   "cell_type": "code",
   "execution_count": 45,
   "metadata": {},
   "outputs": [
    {
     "name": "stdout",
     "output_type": "stream",
     "text": [
      "Current Yield     4.493681 %\n"
     ]
    }
   ],
   "source": [
    "print(\"Current Yield %12.6f %%\" % (bond.current_yield(clean_price)*100))"
   ]
  },
  {
   "cell_type": "code",
   "execution_count": 46,
   "metadata": {},
   "outputs": [],
   "source": [
    "calcTypes = [YTMCalcType.UK_DMO, YTMCalcType.US_STREET, YTMCalcType.US_TREASURY]"
   ]
  },
  {
   "cell_type": "markdown",
   "metadata": {},
   "source": [
    "Yield to maturity using different conventions"
   ]
  },
  {
   "cell_type": "code",
   "execution_count": 47,
   "metadata": {},
   "outputs": [
    {
     "name": "stdout",
     "output_type": "stream",
     "text": [
      "            YTMCalcType.UK_DMO     4.415114\n",
      "         YTMCalcType.US_STREET     4.415114\n",
      "       YTMCalcType.US_TREASURY     4.411863\n"
     ]
    }
   ],
   "source": [
    "for ytmCalcType in calcTypes:\n",
    "    y = bond.yield_to_maturity(settlement_date, clean_price, ytmCalcType)\n",
    "    print(\"%30s %12.6f\" % (ytmCalcType, y*100))"
   ]
  },
  {
   "cell_type": "code",
   "execution_count": 62,
   "metadata": {},
   "outputs": [],
   "source": [
    "yieldConvention = YTMCalcType.US_STREET"
   ]
  },
  {
   "cell_type": "code",
   "execution_count": 63,
   "metadata": {},
   "outputs": [],
   "source": [
    "ytm = bond.yield_to_maturity(settlement_date, clean_price, yieldConvention)"
   ]
  },
  {
   "cell_type": "code",
   "execution_count": 64,
   "metadata": {},
   "outputs": [
    {
     "data": {
      "text/plain": [
       "4.415113932558936"
      ]
     },
     "execution_count": 64,
     "metadata": {},
     "output_type": "execute_result"
    }
   ],
   "source": [
    "ytm*100"
   ]
  },
  {
   "cell_type": "markdown",
   "metadata": {},
   "source": [
    "Full price is the clean price plus accrued interest"
   ]
  },
  {
   "cell_type": "code",
   "execution_count": 65,
   "metadata": {},
   "outputs": [
    {
     "name": "stdout",
     "output_type": "stream",
     "text": [
      "Full Price =  100.9812843\n"
     ]
    }
   ],
   "source": [
    "print(\"Full Price = %12.7f\" % bond.full_price_from_ytm(settlement_date, ytm, yieldConvention))"
   ]
  },
  {
   "cell_type": "code",
   "execution_count": 66,
   "metadata": {},
   "outputs": [
    {
     "name": "stdout",
     "output_type": "stream",
     "text": [
      "Clean Price =  100.1406250\n"
     ]
    }
   ],
   "source": [
    "print(\"Clean Price = %12.7f\" % bond.clean_price_from_ytm(settlement_date, ytm, yieldConvention))"
   ]
  },
  {
   "cell_type": "markdown",
   "metadata": {},
   "source": [
    "Accrued interest is accrued from previous coupon date to settlement date"
   ]
  },
  {
   "cell_type": "code",
   "execution_count": 67,
   "metadata": {},
   "outputs": [
    {
     "name": "stdout",
     "output_type": "stream",
     "text": [
      "Previous coupon date is  30-NOV-2022\n"
     ]
    }
   ],
   "source": [
    "print(\"Previous coupon date is \", bond._pcd)"
   ]
  },
  {
   "cell_type": "code",
   "execution_count": 68,
   "metadata": {},
   "outputs": [
    {
     "name": "stdout",
     "output_type": "stream",
     "text": [
      "Settlement date is  06-FEB-2023\n"
     ]
    }
   ],
   "source": [
    "print(\"Settlement date is \", settlement_date)"
   ]
  },
  {
   "cell_type": "markdown",
   "metadata": {},
   "source": [
    "The amount of accrued interest is "
   ]
  },
  {
   "cell_type": "code",
   "execution_count": 69,
   "metadata": {},
   "outputs": [
    {
     "name": "stdout",
     "output_type": "stream",
     "text": [
      "Accrued =      8406.59\n"
     ]
    }
   ],
   "source": [
    "print(\"Accrued = %12.2f\" % bond._accrued_interest)"
   ]
  },
  {
   "cell_type": "markdown",
   "metadata": {},
   "source": [
    "This is based on the following number of days of accrual"
   ]
  },
  {
   "cell_type": "code",
   "execution_count": 70,
   "metadata": {},
   "outputs": [
    {
     "name": "stdout",
     "output_type": "stream",
     "text": [
      "Accrued Days = 68\n"
     ]
    }
   ],
   "source": [
    "print(\"Accrued Days = %d\" % bond._accrued_days)"
   ]
  },
  {
   "cell_type": "code",
   "execution_count": 71,
   "metadata": {},
   "outputs": [
    {
     "name": "stdout",
     "output_type": "stream",
     "text": [
      "Principal =   1001406.25\n"
     ]
    }
   ],
   "source": [
    "print(\"Principal = %12.2f\" % bond.principal(settlement_date, ytm, yieldConvention))"
   ]
  },
  {
   "cell_type": "markdown",
   "metadata": {},
   "source": [
    "## Bond Risk Measures"
   ]
  },
  {
   "cell_type": "markdown",
   "metadata": {},
   "source": [
    "The bond dollar duration is the actual derivative with respect to the yield. It is the bond price change for a 1bp drop in the yield-to-maturity divided by 1bp."
   ]
  },
  {
   "cell_type": "code",
   "execution_count": 72,
   "metadata": {},
   "outputs": [
    {
     "name": "stdout",
     "output_type": "stream",
     "text": [
      "Dollar Duration =  172.72204606037178\n"
     ]
    }
   ],
   "source": [
    "duration = bond.dollar_duration(settlement_date, ytm, yieldConvention)\n",
    "print(\"Dollar Duration = \", duration)"
   ]
  },
  {
   "cell_type": "markdown",
   "metadata": {},
   "source": [
    "Modified Duration divides the dollar duration by the full price of the bond"
   ]
  },
  {
   "cell_type": "code",
   "execution_count": 73,
   "metadata": {},
   "outputs": [
    {
     "name": "stdout",
     "output_type": "stream",
     "text": [
      "Modified Duration =  1.7104362178410772\n"
     ]
    }
   ],
   "source": [
    "modified_duration = bond.modified_duration(settlement_date, ytm, yieldConvention)\n",
    "print(\"Modified Duration = \", modified_duration)"
   ]
  },
  {
   "cell_type": "markdown",
   "metadata": {},
   "source": [
    "Macauley Duration multiplies the dollar duration by (1+y/f) and divides by the full price"
   ]
  },
  {
   "cell_type": "code",
   "execution_count": 74,
   "metadata": {},
   "outputs": [
    {
     "name": "stdout",
     "output_type": "stream",
     "text": [
      "Macauley Duration =  1.748195071721795\n"
     ]
    }
   ],
   "source": [
    "macauley_duration = bond.macauley_duration(settlement_date, ytm, yieldConvention)\n",
    "print(\"Macauley Duration = \", macauley_duration)"
   ]
  },
  {
   "cell_type": "markdown",
   "metadata": {},
   "source": [
    "Convexity is the second derivative of the bond price with respect to the yield-to-maturity"
   ]
  },
  {
   "cell_type": "code",
   "execution_count": 75,
   "metadata": {},
   "outputs": [
    {
     "name": "stdout",
     "output_type": "stream",
     "text": [
      "Convexity =  0.0383125416304074\n"
     ]
    }
   ],
   "source": [
    "conv = bond.convexity_from_ytm(settlement_date, ytm, yieldConvention)\n",
    "print(\"Convexity = \", conv)"
   ]
  },
  {
   "cell_type": "markdown",
   "metadata": {},
   "source": [
    "Copyright (c) 2022 Dominic O'Kane"
   ]
  }
 ],
 "metadata": {
  "interpreter": {
   "hash": "3c3c8dc9fd3bee1ab6ae956667954d61cc562603f3dc9655506a7eb1e203dbb6"
  },
  "kernelspec": {
   "display_name": "Python 3 (ipykernel)",
   "language": "python",
   "name": "python3"
  },
  "language_info": {
   "codemirror_mode": {
    "name": "ipython",
    "version": 3
   },
   "file_extension": ".py",
   "mimetype": "text/x-python",
   "name": "python",
   "nbconvert_exporter": "python",
   "pygments_lexer": "ipython3",
   "version": "3.10.9"
  }
 },
 "nbformat": 4,
 "nbformat_minor": 2
}
